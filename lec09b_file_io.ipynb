{
 "cells": [
  {
   "cell_type": "markdown",
   "metadata": {},
   "source": [
    "This notebook covers how to write to and read from local files in Python.\n",
    "You will learn about file modes, reading and writing techniques, and working with common formats like CSV and JSON.\n",
    "\n",
    "---\n",
    "\n",
    "# File Input and Output\n",
    "\n",
    "1.  [File Modes](#modes)\n",
    "1.  [File Attributes](#attributes)\n",
    "1.  [Basic File Writing](#writing)\n",
    "    -   Writing a single line.\n",
    "    -   Writing multiple lines.\n",
    "1.  [Basic File Reading](#reading)\n",
    "    -   Reading the entire file at once.\n",
    "    -   Reading line by line.\n",
    "    -   Reading all lines into a list.\n",
    "1.  [Working with Binary Files](#)\n",
    "    -   Writing and reading binary files.\n",
    "1.  Character Encodings.\n",
    "1.  Working with CSV Files.\n",
    "1.  Working with JSON Files.\n",
    "1.  Best Practices.\n",
    "1.  [Summary](#summary)"
   ]
  },
  {
   "cell_type": "markdown",
   "metadata": {},
   "source": [
    "When a file is open, Python returns a **file object** that allows you to read or write to the file on disk."
   ]
  },
  {
   "cell_type": "markdown",
   "metadata": {},
   "source": [
    "### <a id=\"modes\"></a>File Modes \n",
    "File mode determines what operations can be done on the file object\n",
    "\n",
    "Character\tMeaning\n",
    "-   `r`\topen for reading (default)\n",
    "-   `t`\ttext mode (default)\n",
    "-   `w`\topen for writing, truncating the file first\n",
    "-   `x`\tcreate a new file and open it for writing (fails if the file exist).\n",
    "-   `a`\topen for writing, appending to the end of the file if it exists\n",
    "-   `b`\tbinary mode\n",
    "-   `+`\topen a disk file for updating (reading and writing)\n",
    "\n",
    "Default mode: `'rt'` (reading text files with **UTF-8** encoding)."
   ]
  },
  {
   "cell_type": "markdown",
   "metadata": {},
   "source": [
    "### <a id=\"attributes\"></a>File Object Attribute"
   ]
  },
  {
   "cell_type": "code",
   "execution_count": null,
   "metadata": {},
   "outputs": [],
   "source": [
    "f = open('Data/person.txt', 'wt')\n",
    "print(f'    name: {f.name}')        # pathname\n",
    "print(f'    mode: {f.mode}')        # opening mode\n",
    "print(f'encoding: {f.encoding}')    # encoding\n",
    "print(f'  closed: {f.closed}')      # is file closed\n",
    "print(f'  fileno: {f.fileno()}')    # file descriptor number\n",
    "print(f'    tell: {f.tell()}')      # current position in file\n",
    "\n",
    "f.close()\n",
    "print(f'  closed: {f.closed}')"
   ]
  },
  {
   "cell_type": "markdown",
   "metadata": {},
   "source": [
    "### <a id='writing'></a> Basic file writing  \n",
    "\n",
    "Writing data or information to a file is the only way to save information permanently information."
   ]
  },
  {
   "cell_type": "markdown",
   "metadata": {},
   "source": [
    "#### Writing a single string to a file\n",
    "\n",
    "The `write()` method of the file class is used to write a string to the associated file."
   ]
  },
  {
   "cell_type": "code",
   "execution_count": null,
   "metadata": {},
   "outputs": [],
   "source": [
    "# Create and write to a new file (overwrites if exists)\n",
    "with open('Data/person.txt', 'wt') as f:\n",
    "    f.write('Created on jan-18-2025 by Narendra\\n')\n",
    "    f.write('12 times table\\n')\n",
    "    f.write('--------------\\n')\n",
    "    for x in range(1, 13):\n",
    "        f.write(f'{x} x 12 = {x * 12}\\n')"
   ]
  },
  {
   "cell_type": "markdown",
   "metadata": {},
   "source": [
    "Note: Using the `with` statement ensure the files is automatically closed, even if an error occurs."
   ]
  },
  {
   "cell_type": "markdown",
   "metadata": {},
   "source": [
    "#### Appending to an Existing File\n",
    "If the file is open in append mode, then write puts text at the end of the existing file"
   ]
  },
  {
   "cell_type": "code",
   "execution_count": null,
   "metadata": {},
   "outputs": [],
   "source": [
    "with open('Data/person.txt', 'at') as f:\n",
    "    f.write('this should be at the bottom of the file')"
   ]
  },
  {
   "cell_type": "markdown",
   "metadata": {},
   "source": [
    "#### Writing Multiple Lines\n",
    "The `writelines()` method writes a sequence of strings to the file"
   ]
  },
  {
   "cell_type": "code",
   "execution_count": null,
   "metadata": {},
   "outputs": [],
   "source": [
    "data = ['Created on jan-18-2025 by Narendra\\n',\n",
    "        '12 times table\\n', \n",
    "        '--------------\\n']\n",
    "\n",
    "table = [f'{x:>3} x {12} = {x * 12} \\n' for x in range(1, 13) ]\n",
    "\n",
    "data.extend(table) \n",
    "# notice that all the items in the list are string that ends with '\\n'\n",
    "# so we can use writelines() to write all the lines at once\n",
    "f = open('Data/table.txt', 'wt')\n",
    "f.writelines(data)\n",
    "f.close()\n"
   ]
  },
  {
   "cell_type": "code",
   "execution_count": null,
   "metadata": {},
   "outputs": [],
   "source": [
    "# f = open('person.dat', 'wb')\n",
    "# f.write(b'Created on jan-18-2025 by Narendra\\n')\n",
    "# f.write(b'12 times table\\n')\n",
    "# f.write(b'--------------\\n')\n",
    "# for x in range(1, 13):\n",
    "#     line = f'{x} x 12 = {x * 12}'\n",
    "#     f.write(bytearray(line, encoding ='utf-8'))\n",
    "#     f.write(b'\\n')\n",
    "# f.close()"
   ]
  },
  {
   "cell_type": "markdown",
   "metadata": {},
   "source": [
    "### <a id='writing'></a>Reading Methods\n",
    "\n",
    "|  Method              | Description |\n",
    "|----------------------|-------------|\n",
    "| `read(size=-1)`      | Reads the entire file or specified number of characters|\n",
    "| `readline(size=-1)`  | Reads one line, or the specified number of lines       |\n",
    "| `readlines(hint=-1)` | Reads all lines into a list                 |   \n",
    "| `tell()`             | Returns the current stream position in file |\n",
    "| `seek(position)`     | Move to specified position in file          |"
   ]
  },
  {
   "cell_type": "markdown",
   "metadata": {},
   "source": [
    "#### Reading the Entire File"
   ]
  },
  {
   "cell_type": "code",
   "execution_count": null,
   "metadata": {},
   "outputs": [],
   "source": [
    "with open('Data/person.txt') as f:\n",
    "    print(f'      first read: {f.read(10)}')            # read first 10 characters\n",
    "    print(f'current position: {f.tell()}')              # current position in the file\n",
    "    print(f'     the balance: {f.read()}')\n",
    "    print('\\n\\nresetting to the start of the file')\n",
    "    f.seek(0)                                           # move back to the start of the file\n",
    "    print(f.read())                                       # read the entire file"
   ]
  },
  {
   "cell_type": "markdown",
   "metadata": {},
   "source": [
    "#### Reading Line by Line"
   ]
  },
  {
   "cell_type": "code",
   "execution_count": null,
   "metadata": {},
   "outputs": [],
   "source": [
    "with open('Data/person.txt') as f:\n",
    "    print(f'First line: {f.readline()}')"
   ]
  },
  {
   "cell_type": "markdown",
   "metadata": {},
   "source": [
    "#### Reading All Lines into a List"
   ]
  },
  {
   "cell_type": "code",
   "execution_count": null,
   "metadata": {},
   "outputs": [],
   "source": [
    "with open('Data/person.txt') as f:\n",
    "    all_lines = f.readlines()\n",
    "    print(f'All lines: {f.readlines()}')"
   ]
  },
  {
   "cell_type": "markdown",
   "metadata": {},
   "source": [
    "#### **Recommended**: Iterating Over File Lines\n",
    "The most efficient and Pythonic way to read a file line by line:"
   ]
  },
  {
   "cell_type": "code",
   "execution_count": null,
   "metadata": {},
   "outputs": [],
   "source": [
    "with open('Data/person.txt') as f:\n",
    "    for line in f:\n",
    "        print(line.strip())  # strip() removes the trailing newline character\n",
    "\n",
    "# with this technique, you don't need to explicitly close the file\n",
    "# it will be closed automatically when you exit the with block  "
   ]
  },
  {
   "cell_type": "markdown",
   "metadata": {},
   "source": [
    "##### Benefits:  \n",
    "-   Memory efficient (doesn't load entire file)\n",
    "-   Automatic file closure\n",
    "-   Clean, readable code"
   ]
  },
  {
   "cell_type": "markdown",
   "metadata": {},
   "source": [
    "### Working with Binary Files\n",
    "Binary files are more compact and can be a slight deterrent to prying eyes.   \n",
    "Only binary data can be written to a file.   \n",
    "Reading will give binary data.   \n",
    "\n"
   ]
  },
  {
   "cell_type": "markdown",
   "metadata": {},
   "source": [
    "#### Writing binary data"
   ]
  },
  {
   "cell_type": "code",
   "execution_count": null,
   "metadata": {},
   "outputs": [],
   "source": [
    "data = bytes([0, 1, 2, 3, 4, 5])\n",
    "\n",
    "with open('Data/binary.bin', 'wb') as file:\n",
    "    # file.write('this is some plain text\\n')           #this does not write correctly\n",
    "    file.write(b'this is some binary text\\n')\n",
    "\n",
    "    # Encode string to bytes\n",
    "    file.write('this is some more binary text!\\n'.encode('utf-8'))\n",
    "\n",
    "    # Write bytes array\n",
    "    file.write(data)"
   ]
  },
  {
   "cell_type": "markdown",
   "metadata": {},
   "source": [
    "#### Reading binary data"
   ]
  },
  {
   "cell_type": "code",
   "execution_count": null,
   "metadata": {},
   "outputs": [],
   "source": [
    "with open('Data/binary.bin', 'rb') as file:\n",
    "    binary_data = file.read()\n",
    "    print(binary_data)"
   ]
  },
  {
   "cell_type": "code",
   "execution_count": null,
   "metadata": {},
   "outputs": [],
   "source": [
    "with open('person.txt') as f:\n",
    "    print('file contents:')\n",
    "    print(f'{f.readline()}')\n",
    "    print(f'{f.read()}')"
   ]
  },
  {
   "cell_type": "markdown",
   "metadata": {},
   "source": [
    "### Using Different Encodings\n",
    "In Python, encoding in file writing refers to the way text characters are converted into bytes before being stored in a file.\n",
    "\n",
    "When you write to a file in text mode, Python takes your string (which internally uses Unicode) and encodes it into a sequence of bytes according to the specified character encoding scheme — like UTF-8, UTF-16, ASCII, etc.\n",
    "\n",
    "#### Why encoding matters\n",
    "Computers store files as bytes, but human-readable text is made of characters.    \n",
    "Different encodings map characters to bytes differently.    \n",
    "If you choose the wrong encoding when writing, the file might not display correctly when read later.\n",
    "\n",
    "#### Common Encodings\n",
    "| Encoding  | Description   | Use Case |\n",
    "|-----------|--------------------------------------------|---------------------|\n",
    "| UTF-8     | Universal, supports all Unicode characters | Recommended default |\n",
    "| ASCII     | Limited basic English chracters            | Legacy systems      |    \n",
    "| UTF-16/32 | Wider byte representation                  | Specific compatibility needs | \n",
    "| Latin-1   | Western European characters                | Legacy European systems |\n",
    "\n",
    "#### Suggestion:\n",
    "When you write a file with a specific encoding, read it later with the same encoding.   \n",
    "UTF-8 is almost always the safest choice."
   ]
  },
  {
   "cell_type": "markdown",
   "metadata": {},
   "source": [
    "#### Writing and Reading with specific encoding"
   ]
  },
  {
   "cell_type": "code",
   "execution_count": null,
   "metadata": {},
   "outputs": [],
   "source": [
    "\n",
    "with open('Data/utf8_example.txt', 'w', encoding='utf-8') as file:\n",
    "    file.write(\"Some text with special characters: ñ, é, ü\\n\")\n",
    "\n",
    "# Reading with specific encoding\n",
    "with open('Data/utf8_example.txt', 'r', encoding='utf-8') as file:\n",
    "    print(file.read())"
   ]
  },
  {
   "cell_type": "code",
   "execution_count": null,
   "metadata": {},
   "outputs": [],
   "source": [
    "#another example\n",
    "with open('Data/utf8_example.txt', 'w', encoding='utf-8') as file:\n",
    "    file.write(\"Hello, world! — こんにちは — Привет\")\n",
    "\n",
    "# Reading with specific encoding\n",
    "with open('Data/utf8_example.txt', 'r', encoding='utf-8') as file:\n",
    "    print(file.read())"
   ]
  },
  {
   "cell_type": "markdown",
   "metadata": {},
   "source": [
    "### 1. working with CSV Files\n",
    "CSV files, short for Comma-Separated Values files, are a simple and widely-used format for storing tabular data—like what you’d see in a spreadsheet.   \n",
    "What is a CSV file?   \n",
    "A CSV file is a plain text file where:  \n",
    "-   Each line represents a row of data.\n",
    "-   Each value in the row is separated by a comma (or sometimes another delimiter like a semicolon or tab).\n",
    "\n",
    "#### Why are CSV files important?\n",
    "Here are some key reasons:\n",
    "\n",
    "1.  Simplicity & Universality   \n",
    "CSV files are easy to create, read and edit. Almost every programming language and data tool (like Excel, Google Sheets, databases and programming languages like Python, R, etc.) supports them.\n",
    "\n",
    "1.  Lightweight Format    \n",
    "Since they’re plain text, CSV files are small in size and quick to load, process or transfer.\n",
    "\n",
    "1.  Easy Data Exchange   \n",
    "They’re ideal for sharing data between different systems or platforms—especially when exporting or importing data from databases, spreadsheets, or web applications.\n",
    "\n",
    "1.  Human-Readable    \n",
    "You can open a CSV file in any text editor and understand the data without needing special software.\n",
    "\n",
    "1.  Automation-Friendly    \n",
    "CSVs are often used in data pipelines, machine learning workflows, and automated reporting systems because they’re easy to parse and manipulate programmatically.\n",
    "\n",
    "1.  Integration with analytics tools   \n",
    "Many data analysis tools (Pandas, R, Tableau, Power BI) directly read CSVs.\n",
    "\n",
    "#### Limitations of CSV Files\n",
    "-   No support for formatting (colors, formulas, multiple sheets like Excel)\n",
    "-   Can’t handle complex data relationships (like a database)\n",
    "-   Risk of errors if data contains commas or line breaks"
   ]
  },
  {
   "cell_type": "markdown",
   "metadata": {},
   "source": [
    "#### Writing to a CSV File"
   ]
  },
  {
   "cell_type": "code",
   "execution_count": null,
   "metadata": {},
   "outputs": [],
   "source": [
    "import csv\n",
    "\n",
    "data = [\n",
    "    ['Name', 'Age', 'City'],\n",
    "    ['Alice', 30, 'Toronto'],\n",
    "    ['Bob', 25, 'Vancouver']\n",
    "]\n",
    "\n",
    "with open('Data/people.csv', 'w', newline='') as file:\n",
    "    writer = csv.writer(file)\n",
    "    writer.writerows(data)\n"
   ]
  },
  {
   "cell_type": "markdown",
   "metadata": {},
   "source": [
    "#### Reading from a CSV File"
   ]
  },
  {
   "cell_type": "code",
   "execution_count": null,
   "metadata": {},
   "outputs": [],
   "source": [
    "with open('Data/people.csv', 'r', newline='') as file:\n",
    "    reader = csv.reader(file)\n",
    "    for row in reader:\n",
    "        print(row)"
   ]
  },
  {
   "cell_type": "markdown",
   "metadata": {},
   "source": [
    "#### Working with Dictionaries"
   ]
  },
  {
   "cell_type": "code",
   "execution_count": null,
   "metadata": {},
   "outputs": [],
   "source": [
    "# Writing dictionaries\n",
    "data = [\n",
    "    {'name': 'Alice', 'age': 30, 'city': 'Toronto'},\n",
    "    {'name': 'Bob', 'age': 25, 'city': 'Vancouver'}\n",
    "]\n",
    "\n",
    "with open('Data/people_dict.csv', 'w', newline='') as file:\n",
    "    fieldnames = ['name', 'age', 'city']\n",
    "    writer = csv.DictWriter(file, fieldnames=fieldnames)\n",
    "    writer.writeheader()  # Write column headers\n",
    "    writer.writerows(data)\n",
    "\n",
    "# Reading as dictionaries\n",
    "with open('Data/people_dict.csv', 'r', newline='') as file:\n",
    "    reader = csv.DictReader(file)\n",
    "    for row in reader:\n",
    "        print(row)  # Each row is a dictionary"
   ]
  },
  {
   "cell_type": "markdown",
   "metadata": {},
   "source": [
    "#### Working with json files\n",
    "JSON (JavaScript Object Notation) is a lightweight format for storing structured data, widely used for configuration files and data exchange.  \n",
    "##### Why Use JSON?\n",
    "-   **Structured data**: Supports nested objects and arrays\n",
    "-   **Data types**: Preserves strings, numbers, booleans, null\n",
    "-   **Human-readable**: Easy to read and edit\n",
    "-   **Web standard**: Native format for web APIs\n",
    "-   **Language-independent**: Supported by virtually all programming languages"
   ]
  },
  {
   "cell_type": "markdown",
   "metadata": {},
   "source": [
    "Writing to a JSON File"
   ]
  },
  {
   "cell_type": "code",
   "execution_count": null,
   "metadata": {},
   "outputs": [],
   "source": [
    "import json\n",
    "\n",
    "data = {\n",
    "    'name': 'Ilia Nika',\n",
    "    'age': 30,\n",
    "    'city': 'Toronto',\n",
    "    'skills': ['Python', 'JavaScript', 'SQL'],\n",
    "    'active': True\n",
    "}\n",
    "\n",
    "with open('Data/data.json', 'w') as file:\n",
    "    json.dump(data, file, indent=4)\n"
   ]
  },
  {
   "cell_type": "markdown",
   "metadata": {},
   "source": [
    "Reading a JSON files"
   ]
  },
  {
   "cell_type": "code",
   "execution_count": null,
   "metadata": {},
   "outputs": [],
   "source": [
    "with open('Data/data.json', 'r') as file:\n",
    "    data = json.load(file)\n",
    "    print(data)\n"
   ]
  },
  {
   "cell_type": "markdown",
   "metadata": {},
   "source": [
    "### Other file I/O \n",
    "1. Processing excel, xml and sqlite files\n",
    "2. Reading and writing parqet files"
   ]
  },
  {
   "cell_type": "markdown",
   "metadata": {},
   "source": [
    "### <a id='summary'></a>Summary\n",
    "File I/O is fundamental to programming, enabling data persistence and exchange between applications. Mastering these techniques is essential for building robust Python applications.   \n",
    "-   Use Context Managers: Always use `with` statements for automatic file closure\n",
    "-   Choose Correct Modes: Select appropriate file modes (`r`, `w`, `a`, `rb`, etc.)\n",
    "-   Text files use encoding to convert between strings and bytes\n",
    "-   Specify Encodings: Always specify encoding (UTF-8 recommended) for consistency\n",
    "-   Handle Exceptions: Implement proper error handling for file operations\n",
    "-   Process Efficiently: For large files, read line by line instead of loading entire file\n",
    "-   Binary files work directly with bytes for efficiency    \n",
    "-   Use Standard Libraries: Leverage csv and json modules for structured data   \n",
    "-   CSV files provide a universal format for tabular data\n",
    "-   JSON files handle structured data with data type preservation\n",
    "\n",
    "CSV files are essential because they provide a universal, lightweight, and easy way to store and exchange structured data across different platforms. Whether you're a programmer, data analyst, or business user, CSVs make data handling simple and efficient."
   ]
  },
  {
   "cell_type": "markdown",
   "metadata": {},
   "source": [
    "#### Key Takeaway\n",
    "Choose the right file format and operations for your use case:  \n",
    "-   Plain text: Simple data, logs\n",
    "-   CSV: Tabular data, spreadsheets\n",
    "-   JSON: Structured data, configurations\n",
    "-   Binary: Performance-critical or non-text data\n"
   ]
  }
 ],
 "metadata": {
  "kernelspec": {
   "display_name": "Python 3",
   "language": "python",
   "name": "python3"
  },
  "language_info": {
   "codemirror_mode": {
    "name": "ipython",
    "version": 3
   },
   "file_extension": ".py",
   "mimetype": "text/x-python",
   "name": "python",
   "nbconvert_exporter": "python",
   "pygments_lexer": "ipython3",
   "version": "3.13.2"
  }
 },
 "nbformat": 4,
 "nbformat_minor": 2
}
