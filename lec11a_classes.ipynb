{
 "cells": [
  {
   "cell_type": "markdown",
   "metadata": {},
   "source": [
    "Object-Oriented Programming (OOP) is a paradigm that organises code arround object and classes\n",
    "rather that functions and procedures. \n",
    "\n",
    "Some key concepts of OOP\n",
    "1. Classes and Objects - Classes are blueprints that define attributes and methods. Objects are instances created from classes. Each object has its own state while sharing the same structure.\n",
    "1. Encapsulation - This involves bundling data and methods together while controlling access. Python uses naming conventions (single underscore for protected, double underscore for private) to indicate access levels.\n",
    "1. Inheritance - Child classes inherit attributes and methods from parent classes, promoting code reuse. You can override parent methods or add new functionality specific to the child class.\n",
    "1. Polymorphism - Different classes can implement the same method in their own way. This allows you to treat objects of different types uniformly through a common interface.\n",
    "1. Abstraction - Abstract classes define interfaces that subclasses must implement. This hides implementation details and ensures consistent interfaces across related classes.\n",
    "1. Composition - Instead of inheritance (\"is-a\" relationship), composition creates \"has-a\" relationships where objects contain other objects as components.\n",
    "1. Method Overloading - Python handles this through default parameters or variable arguments (*args, **kwargs) since it doesn't support true method overloading like some other languages.\n",
    "1. Class and Static Methods - Class methods work with the class itself rather than instances, while static methods are utility functions that belong to the class logically but don't need class or instance data.\n",
    "\n",
    "These concepts work together to create maintainable, reusable, and organized code that models real-world relationships and behaviors effectively."
   ]
  },
  {
   "cell_type": "markdown",
   "metadata": {},
   "source": [
    "## Classes and Objects\n",
    "1. A class is a software unit that describe the properties/states and behavior/actions of an entity\n",
    "1. It is a template or blueprint for creating an object.\n",
    "1. You may create multiple objects based on a single class definition\n",
    "1. Each object will have its own distinct states"
   ]
  },
  {
   "cell_type": "code",
   "execution_count": 2,
   "metadata": {},
   "outputs": [],
   "source": [
    "#the following code is a very simple class definition\n",
    "# it does not contain any methods or attributes\n",
    "# it is used to demonstrate the basic structure of a class in Python\n",
    "#the class is named Account and it is defined using the 'class' keyword\n",
    "#the class does not inherit from any other class\n",
    "\n",
    "#it is not a useful class\n",
    "class Account:\n",
    "    pass"
   ]
  },
  {
   "cell_type": "code",
   "execution_count": null,
   "metadata": {},
   "outputs": [
    {
     "name": "stdout",
     "output_type": "stream",
     "text": [
      "<__main__.Account object at 0x00000204D2210830>\n",
      "<class '__main__.Account'>\n"
     ]
    }
   ],
   "source": [
    "#test harness to exercise the above code\n",
    "#the following code creates an instance of the Account class\n",
    "#and assigns the reference to the variable obj\n",
    "obj = Account()\n",
    "\n",
    "print(obj)              # This will print the object representation of the instance (not useful)\n",
    "print(type(obj))        # This will print <class '__main__.Account'> indicating the type of the object\n"
   ]
  },
  {
   "cell_type": "code",
   "execution_count": 4,
   "metadata": {},
   "outputs": [
    {
     "name": "stdout",
     "output_type": "stream",
     "text": [
      "balance: 100\n",
      "holder: narendra\n",
      "number: 1234\n"
     ]
    }
   ],
   "source": [
    "obj.balance = 100\n",
    "obj.holder = 'narendra'\n",
    "obj.number = '1234'\n",
    "\n",
    "print(f'balance: {obj.balance}')\n",
    "print(f'holder: {obj.holder}')\n",
    "print(f'number: {obj.number}')"
   ]
  },
  {
   "cell_type": "code",
   "execution_count": null,
   "metadata": {},
   "outputs": [
    {
     "name": "stdout",
     "output_type": "stream",
     "text": [
      "balance: 200\n",
      "holder: 1234\n",
      "number: narendra\n",
      "balance: 5000\n",
      "holder: 1235\n",
      "number: ilia\n"
     ]
    }
   ],
   "source": [
    "# a more useful class\n",
    "class Account:\n",
    "    '''A simple class to represent a bank account with a holder name, account number, and balance.\n",
    "    This class allows you to create an account with a holder's name, account number, and an optional balance.\n",
    "    \n",
    "    Attributes: \n",
    "    holder (str): The name of the account holder.\n",
    "    number (str): The account number.\n",
    "    balance (float): The current balance of the account, defaulting to 0 if not specified.\n",
    "\n",
    "    Methods:\n",
    "    __init__(name, number, balance=0): Initializes the account with a holder name, account number, and an optional balance.\n",
    "    '''\n",
    "\n",
    "    def __init__(self, name, number, balance = 0) -> None:\n",
    "        '''Initialize the account with a holder name, account number, and an optional balance.\n",
    "        If no balance is provided, it defaults to 0.'''\n",
    "        self.holder = name\n",
    "        self.number = number\n",
    "        self.balance = balance\n",
    "\n",
    "# test harness\n",
    "acct = Account('1234', 'narendra', 200)\n",
    "print(f'balance: {acct.balance}')\n",
    "print(f'holder: {acct.holder}')\n",
    "print(f'number: {acct.number}')\n",
    "\n",
    "acct = Account('1235', 'ilia', 5_000)\n",
    "print(f'balance: {acct.balance}')\n",
    "print(f'holder: {acct.holder}')\n",
    "print(f'number: {acct.number}')"
   ]
  },
  {
   "cell_type": "code",
   "execution_count": null,
   "metadata": {},
   "outputs": [
    {
     "name": "stdout",
     "output_type": "stream",
     "text": [
      "narendra 1234 $200.00\n",
      "Deposit $500.00\n",
      "Withdraw $150.00\n",
      "narendra 1234 $550.00\n"
     ]
    }
   ],
   "source": [
    "# an even more useful class\n",
    "class Account:\n",
    "    def __init__(self, name, number, balance = 0) -> None:\n",
    "        self.holder = name\n",
    "        self.number = number\n",
    "        self.balance = balance\n",
    "\n",
    "    def deposit(self, amount) -> None:\n",
    "\n",
    "        self.balance += amount\n",
    "\n",
    "    def withdraw(self, amount) -> None:\n",
    "\n",
    "        self.balance -= amount\n",
    "\n",
    "    def __str__(self) -> str:\n",
    "        return f'{self.number} {self.holder} ${self.balance:,.2f}'\n",
    "\n",
    "# test harness\n",
    "acct = Account('1234', 'narendra', 200.)\n",
    "print(acct)\n",
    "\n",
    "amt = 500.0\n",
    "print(f'Deposit ${amt:,.2f}')\n",
    "acct.deposit(amt)\n",
    "\n",
    "amt = 150.0\n",
    "print(f'Withdraw ${amt:,.2f}')\n",
    "acct.withdraw(amt)\n",
    "print(acct)"
   ]
  },
  {
   "cell_type": "code",
   "execution_count": 7,
   "metadata": {},
   "outputs": [
    {
     "name": "stdout",
     "output_type": "stream",
     "text": [
      "narendra 1234 $1,000,000.00\n"
     ]
    }
   ],
   "source": [
    "#problems with the above class\n",
    "\n",
    "acct.balance = 1_000_000\n",
    "print(acct)"
   ]
  },
  {
   "cell_type": "code",
   "execution_count": null,
   "metadata": {},
   "outputs": [
    {
     "name": "stdout",
     "output_type": "stream",
     "text": [
      "narendra 1234 $200.00\n",
      "Deposit $500.00\n",
      "Withdraw $150.00\n",
      "narendra 1234 $550.00\n",
      "narendra 1234 $550.00\n",
      "1000000\n"
     ]
    }
   ],
   "source": [
    "# a better class\n",
    "# an even more useful class\n",
    "class Account:\n",
    "    def __init__(self, name, number, balance = 0) -> None:\n",
    "        self.__holder = name\n",
    "        self.__number = number\n",
    "        self.__balance = balance\n",
    "\n",
    "    def deposit(self, amount) -> None:\n",
    "\n",
    "        self.__balance += amount\n",
    "\n",
    "    def withdraw(self, amount) -> None:\n",
    "\n",
    "        self.__balance -= amount\n",
    "\n",
    "    def __str__(self) -> str:\n",
    "        return f'{self.__number} {self.__holder} ${self.__balance:,.2f}'\n",
    "    \n",
    "    @property\n",
    "    def balance(self):\n",
    "        return self.__balance\n",
    "\n",
    "# test harness\n",
    "acct = Account('1234', 'narendra', 200.)\n",
    "print(acct)\n",
    "\n",
    "amt = 500.0\n",
    "print(f'Deposit ${amt:,.2f}')\n",
    "acct.deposit(amt)\n",
    "\n",
    "amt = 150.0\n",
    "print(f'Withdraw ${amt:,.2f}')\n",
    "acct.withdraw(amt)\n",
    "print(acct)\n",
    "\n",
    "\n",
    "# acct.balance = 1_000_000\n",
    "acct.__balance = 1_000_000\n",
    "print(acct)\n",
    "print(acct.__balance)"
   ]
  },
  {
   "cell_type": "code",
   "execution_count": null,
   "metadata": {},
   "outputs": [
    {
     "name": "stdout",
     "output_type": "stream",
     "text": [
      "narendra 1234 $550.00\n",
      "Deposit $500.00\n",
      "Error: Cannot withdraw a negative amount\n",
      "Withdraw $150.00\n",
      "[AC-1234] narendra $550.00\n",
      "Error: You cannot withdraw more than the balance\n",
      "[AC-1234] narendra $550.00\n",
      "1000000\n",
      "[AC-1235] hao $5,000.00\n",
      "Help on Account in module __main__ object:\n",
      "\n",
      "class Account(builtins.object)\n",
      " |  Account(name, balance=0) -> None\n",
      " |\n",
      " |  A simple class to represent a bank account with a holder name, account number, and balance.\n",
      " |  This class allows you to create an account with a holder's name, an automatically generated account number, and an optional balance.\n",
      " |\n",
      " |  Attributes:\n",
      " |  __last_number (int): A class variable to keep track of the last assigned account number.\n",
      " |  __holder (str): The name of the account holder.\n",
      " |  __number (str): The account number, automatically generated.\n",
      " |  __balance (float): The current balance of the account, defaulting to 0 if not specified.\n",
      " |\n",
      " |  Methods:\n",
      " |  __init__(name, balance=0): Initializes the account with a holder name, an\n",
      " |                             automatically generated account number, and an optional balance.\n",
      " |  deposit(amount): Deposits a specified amount into the account.\n",
      " |  withdraw(amount): Withdraws a specified amount from the account.\n",
      " |  __str__(): Returns a string representation of the account, including the account number, holder\n",
      " |             name, and balance.\n",
      " |\n",
      " |  Methods defined here:\n",
      " |\n",
      " |  __init__(self, name, balance=0) -> None\n",
      " |      Initialize the account with a holder name, an automatically generated account number, and an optional balance.\n",
      " |      Args:\n",
      " |          name (str): The name of the account holder.\n",
      " |          balance (float, optional): The initial balance of the account. Defaults to 0.\n",
      " |\n",
      " |  __str__(self) -> str\n",
      " |      Return a string representation of this object.\n",
      " |      Returns:\n",
      " |          str: A formatted string containing the account number, holder name, and balance.\n",
      " |\n",
      " |  deposit(self, amount) -> None\n",
      " |      Deposit a specified amount into the account.\n",
      " |      Args:\n",
      " |          amount (float): The amount to deposit into the account.\n",
      " |\n",
      " |      Raises:\n",
      " |          ValueError: If the amount is negative.\n",
      " |\n",
      " |  withdraw(self, amount) -> None\n",
      " |      Deposit a specified amount into the account.\n",
      " |      Args:\n",
      " |          amount (float): The amount to deposit into the account.\n",
      " |\n",
      " |      Raises:\n",
      " |          ValueError: If the amount is greater then the balance.\n",
      " |\n",
      " |  ----------------------------------------------------------------------\n",
      " |  Readonly properties defined here:\n",
      " |\n",
      " |  balance\n",
      " |      Get the current balance of the account.\n",
      " |      Returns:\n",
      " |          float: The current balance of the account.\n",
      " |\n",
      " |  ----------------------------------------------------------------------\n",
      " |  Data descriptors defined here:\n",
      " |\n",
      " |  __dict__\n",
      " |      dictionary for instance variables\n",
      " |\n",
      " |  __weakref__\n",
      " |      list of weak references to the object\n",
      "\n",
      "None\n"
     ]
    }
   ],
   "source": [
    "# The best one so far\n",
    "# an even more useful class\n",
    "class Account:\n",
    "    '''A simple class to represent a bank account with a holder name, account number, and balance.\n",
    "    This class allows you to create an account with a holder's name, an automatically generated account number, and an optional balance.\n",
    "    \n",
    "    Attributes:\n",
    "    __last_number (int): A class variable to keep track of the last assigned account number.\n",
    "    __holder (str): The name of the account holder.\n",
    "    __number (str): The account number, automatically generated.\n",
    "    __balance (float): The current balance of the account, defaulting to 0 if not specified.\n",
    "    \n",
    "    Methods:\n",
    "    __init__(name, balance=0): Initializes the account with a holder name, an\n",
    "                               automatically generated account number, and an optional balance.\n",
    "    deposit(amount): Deposits a specified amount into the account.\n",
    "    withdraw(amount): Withdraws a specified amount from the account.\n",
    "    __str__(): Returns a string representation of the account, including the account number, holder\n",
    "               name, and balance.\n",
    "    '''\n",
    "\n",
    "    __last_number = 1234 # class variable to keep track of the last assigned account number\n",
    "\n",
    "    def __init__(self, name, balance = 0) -> None:\n",
    "        '''Initialize the account with a holder name, an automatically generated account number, and an optional balance.\n",
    "        Args:   \n",
    "            name (str): The name of the account holder.\n",
    "            balance (float, optional): The initial balance of the account. Defaults to 0.\n",
    "\n",
    "            The double underscore triggers name mangling: Python internally renames the variable to _Account__name.\n",
    "            \n",
    "            This makes it harder (but not impossible) to access from outside the class.\n",
    "        '''\n",
    "        self.__holder = name\n",
    "        self.__balance = balance\n",
    "        self.__number = f'AC-{Account.__last_number}'\n",
    "        Account.__last_number += 1\n",
    "\n",
    "    def deposit(self, amount) -> None:\n",
    "        '''Deposit a specified amount into the account.\n",
    "        Args:\n",
    "            amount (float): The amount to deposit into the account.\n",
    "        \n",
    "        Raises:\n",
    "            ValueError: If the amount is negative.\n",
    "        '''\n",
    "        if amount < 0:\n",
    "            raise ValueError('Cannot withdraw a negative amount')    \n",
    "        self.__balance += amount\n",
    "\n",
    "    def withdraw(self, amount) -> None:\n",
    "        '''Deposit a specified amount into the account.\n",
    "        Args:\n",
    "            amount (float): The amount to deposit into the account.\n",
    "        \n",
    "        Raises:\n",
    "            ValueError: If the amount is greater then the balance.\n",
    "        '''\n",
    "        if amount > self.balance:\n",
    "            raise ValueError('You cannot withdraw more than the balance')        \n",
    "        self.__balance -= amount\n",
    "\n",
    "    def __str__(self) -> str:\n",
    "        '''Return a string representation of this object.\n",
    "        Returns:\n",
    "            str: A formatted string containing the account number, holder name, and balance.\n",
    "        '''\n",
    "        return f'[{self.__number}] {self.__holder} ${self.__balance:,.2f}'\n",
    "    \n",
    "    @property\n",
    "    def balance(self):\n",
    "        '''Get the current balance of the account.\n",
    "        Returns:\n",
    "            float: The current balance of the account.\n",
    "        '''\n",
    "        return self.__balance\n",
    "\n",
    "# test harness\n",
    "narendra = Account('narendra', 200)\n",
    "print(acct)\n",
    "\n",
    "amt = 500\n",
    "print(f'Deposit ${amt:,.2f}')\n",
    "narendra.deposit(amt)\n",
    "amt = -50\n",
    "try:\n",
    "    narendra.deposit(amt)\n",
    "except ValueError as e:\n",
    "    print(f'Error: {e}')\n",
    "\n",
    "amt = 150\n",
    "print(f'Withdraw ${amt:,.2f}')\n",
    "narendra.withdraw(amt)\n",
    "print(narendra)\n",
    "\n",
    "amt = 1000\n",
    "try:\n",
    "    narendra.withdraw(amt)\n",
    "except ValueError as e:\n",
    "    print(f'Error: {e}')    \n",
    "\n",
    "# acct.balance = 1_000_000\n",
    "narendra.__balance = 1_000_000\n",
    "print(narendra)\n",
    "print(narendra.__balance)\n",
    "\n",
    "hao = Account('hao', 5_000)\n",
    "print(hao)\n",
    "# print(type(narendra))\n",
    "# print(dir(narendra))\n",
    "print(help(narendra))"
   ]
  },
  {
   "cell_type": "code",
   "execution_count": null,
   "metadata": {},
   "outputs": [
    {
     "data": {
      "text/plain": [
       "__main__.Person"
      ]
     },
     "execution_count": 2,
     "metadata": {},
     "output_type": "execute_result"
    }
   ],
   "source": [
    "#the following code creates an instance of the Account class\n",
    "#it assigns the instance to the variable 'obj'\n",
    "obj = Account()\n",
    "type(arben)"
   ]
  },
  {
   "cell_type": "markdown",
   "metadata": {},
   "source": [
    "### Class variables"
   ]
  },
  {
   "cell_type": "code",
   "execution_count": null,
   "metadata": {},
   "outputs": [],
   "source": [
    "#the following code defines a class named Instructor\n",
    "#it has a class attribute 'name' set to 'Ilia'\n",
    "class Instructor:\n",
    "    name = 'Ilia'"
   ]
  },
  {
   "cell_type": "code",
   "execution_count": null,
   "metadata": {},
   "outputs": [
    {
     "name": "stdout",
     "output_type": "stream",
     "text": [
      "Ilia\n",
      "Ilia\n",
      "Ilia\n",
      "Hao Lac\n",
      "Ilia\n",
      "Hao Lac\n",
      "Arben Tapia\n"
     ]
    }
   ],
   "source": [
    "print(Instructor.name)  #the dot notation is used to access class attributes\n",
    "\n",
    "ilia = Instructor()     #creates a instance of Instructor\n",
    "print(ilia.name)        #print 'Ilia'\n",
    "\n",
    "hao = Instructor()      #creates a new instance of Instructor\n",
    "print(hao.name)         #print 'Ilia'\n",
    "\n",
    "hao.name = 'Hao Lac'    #sets the name attribute to 'Hao Lac'\n",
    "print(hao.name)         # prints 'Hao Lac'  \n",
    "\n",
    "print(ilia.name)\n",
    "\n",
    "Instructor.name = 'Arben Tapia'\n",
    "print(hao.name)\n",
    "\n",
    "print(ilia.name)"
   ]
  },
  {
   "cell_type": "code",
   "execution_count": 20,
   "metadata": {},
   "outputs": [
    {
     "data": {
      "text/plain": [
       "['__class__',\n",
       " '__delattr__',\n",
       " '__dict__',\n",
       " '__dir__',\n",
       " '__doc__',\n",
       " '__eq__',\n",
       " '__format__',\n",
       " '__ge__',\n",
       " '__getattribute__',\n",
       " '__getstate__',\n",
       " '__gt__',\n",
       " '__hash__',\n",
       " '__init__',\n",
       " '__init_subclass__',\n",
       " '__le__',\n",
       " '__lt__',\n",
       " '__module__',\n",
       " '__ne__',\n",
       " '__new__',\n",
       " '__reduce__',\n",
       " '__reduce_ex__',\n",
       " '__repr__',\n",
       " '__setattr__',\n",
       " '__sizeof__',\n",
       " '__str__',\n",
       " '__subclasshook__',\n",
       " '__weakref__',\n",
       " 'name']"
      ]
     },
     "execution_count": 20,
     "metadata": {},
     "output_type": "execute_result"
    }
   ],
   "source": [
    "dir(ilia)"
   ]
  },
  {
   "cell_type": "code",
   "execution_count": 9,
   "metadata": {},
   "outputs": [],
   "source": [
    "class Professor:\n",
    "    def __init__(self, name):\n",
    "        self.name = name\n",
    "    "
   ]
  },
  {
   "cell_type": "code",
   "execution_count": 11,
   "metadata": {},
   "outputs": [
    {
     "name": "stdout",
     "output_type": "stream",
     "text": [
      "Arben\n",
      "Jake\n"
     ]
    }
   ],
   "source": [
    "arben = Professor('Arben')\n",
    "print(arben.name)\n",
    "\n",
    "faculty = Professor('Jake')\n",
    "print(faculty.name)\n"
   ]
  },
  {
   "cell_type": "code",
   "execution_count": 12,
   "metadata": {},
   "outputs": [],
   "source": [
    "class Car:\n",
    "    def __init__(self, range):\n",
    "        self.range = range\n",
    "\n",
    "    def drive(self):\n",
    "        return f'I can drive {self.range}km'"
   ]
  },
  {
   "cell_type": "code",
   "execution_count": 13,
   "metadata": {},
   "outputs": [
    {
     "data": {
      "text/plain": [
       "'I can drive 450km'"
      ]
     },
     "execution_count": 13,
     "metadata": {},
     "output_type": "execute_result"
    }
   ],
   "source": [
    "honda = Car(450)\n",
    "honda.drive()"
   ]
  },
  {
   "cell_type": "code",
   "execution_count": null,
   "metadata": {},
   "outputs": [
    {
     "name": "stdout",
     "output_type": "stream",
     "text": [
      "Owner: John Doe, Balance: 1000\n",
      "Depositing 500...\n",
      "1500\n",
      "Withdrawing 200...\n",
      "1300\n",
      "Owner: John Doe, Balance: 1300\n"
     ]
    }
   ],
   "source": [
    "#encapsulation example\n",
    "#this code defines a class Account with private attributes and methods\n",
    "class Account:\n",
    "    def __init__(self, owner, balance):\n",
    "        self.__balance = balance    # private attribute\n",
    "        self.owner = owner\n",
    "\n",
    "    def deposit(self, amount):\n",
    "        self.__balance += amount\n",
    "\n",
    "    def withdraw(self, amount):\n",
    "        if amount > self.__balance:\n",
    "            ValueError('Insufficient funds')\n",
    "        self.__balance -= amount\n",
    "    \n",
    "    @property\n",
    "    def balance(self):\n",
    "        return self.__balance\n",
    "    \n",
    "    def __str__(self):\n",
    "        return f'Owner: {self.owner}, Balance: {self.__balance}'\n",
    "    \n",
    "# Example usage\n",
    "john = Account('Ilia Nika', 1000)\n",
    "print(john)                         # prints account details\n",
    "\n",
    "amount = 500\n",
    "print(f'Depositing {amount}...')    \n",
    "john.deposit(500)                   # deposits 500\n",
    "print(john.balance)                 # prints current balance   \n",
    "\n",
    "amount = 200\n",
    "print(f'Withdrawing {amount}...') \n",
    "john.withdraw(200)                  # withdraws 200\n",
    "print(john.balance)                 # prints current balance   \n",
    "\n",
    "print(john)                         # prints account details\n",
    "\n"
   ]
  },
  {
   "cell_type": "code",
   "execution_count": 21,
   "metadata": {},
   "outputs": [
    {
     "name": "stdout",
     "output_type": "stream",
     "text": [
      "The animal moves\n",
      "The dog barks\n"
     ]
    }
   ],
   "source": [
    "#inheritance example\n",
    "\n",
    "\n",
    "# Parent class\n",
    "class Animal:\n",
    "    def move(self):\n",
    "        print(\"The animal moves\")\n",
    "\n",
    "# Child class\n",
    "class Dog(Animal):\n",
    "    def bark(self):\n",
    "        print(\"The dog barks\")\n",
    "\n",
    "# Create a Dog object\n",
    "my_dog = Dog()\n",
    "\n",
    "# Call methods\n",
    "my_dog.move()  # Inherited from Animal\n",
    "my_dog.bark()  # Defined in Dog\n",
    "\n"
   ]
  },
  {
   "cell_type": "code",
   "execution_count": null,
   "metadata": {},
   "outputs": [
    {
     "name": "stdout",
     "output_type": "stream",
     "text": [
      "Dog woof!\n",
      "Cat meow!\n",
      "Cow moos!\n"
     ]
    }
   ],
   "source": [
    "#polymorphism example\n",
    "class Dog:\n",
    "    def speak(self):\n",
    "        return \"Dog woof!\"\n",
    "    \n",
    "class Cat:\n",
    "    def speak(self):\n",
    "        return \"Cat meow!\"\n",
    "    \n",
    "class Cow:\n",
    "    def speak(self):\n",
    "        return \"Cow moos!\"\n",
    "\n",
    "# Example of polymorphism\n",
    "def animal_sound(animal):   \n",
    "    return animal.speak()   \n",
    "\n",
    "dog = Dog()\n",
    "cat = Cat()\n",
    "cow = Cow()\n",
    "print(animal_sound(dog))  # Output: Woof!\n",
    "print(animal_sound(cat))  # Output: Meow!   \n",
    "print(animal_sound(cow))  # Output: Moo!"
   ]
  },
  {
   "cell_type": "code",
   "execution_count": 19,
   "metadata": {},
   "outputs": [
    {
     "name": "stdout",
     "output_type": "stream",
     "text": [
      "Car engine started\n"
     ]
    }
   ],
   "source": [
    "#abstraction example\n",
    "\n",
    "from abc import ABC, abstractmethod\n",
    "\n",
    "class Vehicle(ABC):\n",
    "    @abstractmethod\n",
    "    def start_engine(self):\n",
    "        pass\n",
    "\n",
    "class Car(Vehicle):\n",
    "    def start_engine(self):\n",
    "        print(\"Car engine started\")\n",
    "\n",
    "car = Car()\n",
    "car.start_engine()  # Output: Car engine started\n"
   ]
  }
 ],
 "metadata": {
  "kernelspec": {
   "display_name": "Python 3",
   "language": "python",
   "name": "python3"
  },
  "language_info": {
   "codemirror_mode": {
    "name": "ipython",
    "version": 3
   },
   "file_extension": ".py",
   "mimetype": "text/x-python",
   "name": "python",
   "nbconvert_exporter": "python",
   "pygments_lexer": "ipython3",
   "version": "3.13.2"
  }
 },
 "nbformat": 4,
 "nbformat_minor": 2
}
