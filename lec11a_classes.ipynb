{
 "cells": [
  {
   "cell_type": "markdown",
   "metadata": {},
   "source": [
    "# **Object Oriented Programming**\n",
    "\n",
    "## Contents\n",
    "Some key concepts of OOP\n",
    "1.  Classes and Objects\n",
    "    -   Class definition\n",
    "    -   Class instantiation\n",
    "    -   Test harness\n",
    "    -   More operations on an object\n",
    "    -   A more complete class with constructor and methods\n"
   ]
  },
  {
   "cell_type": "markdown",
   "metadata": {},
   "source": [
    "Object-Oriented Programming (OOP) is a paradigm that organises code arround object and classes\n",
    "rather that functions and procedures. \n",
    "\n",
    "Some key concepts of OOP\n",
    "1. Classes and Objects \n",
    "    -   Classes are blueprints that define attributes and methods. \n",
    "    -   Objects are instances created from class definition. \n",
    "    -   Each object has its own state while sharing the same structure.\n",
    "1. Encapsulation \n",
    "    -   This involves bundling data and methods together while controlling access.\n",
    "    -   It focus on how you protect and organize data. \n",
    "    -   It protects data and organize integrity\n",
    "    -   The purpose is to restrict direct access to an object’s data to maintain integrity.\n",
    "    -   Python uses naming conventions (single underscore for protected, double underscore for private) to indicate access levels.\n",
    "1. Inheritance \n",
    "    -   Child classes inherit attributes and methods from parent classes, promoting code reuse. \n",
    "    -   You can override parent methods or add new functionality specific to the child class.\n",
    "1. Polymorphism \n",
    "    -   Different classes can implement the same method in their own way. \n",
    "    -   This allows you to treat objects of different types uniformly through a common interface.\n",
    "1. Abstraction \n",
    "    -   Hiding implementation details and exposing only essential features to the outside world.\n",
    "    -   Abstraction decides what the outside world needs to know.\n",
    "    -   Hiding internal details and exposing only what necessary.\n",
    "    -   Abstract classes define interfaces that subclasses must implement. \n",
    "    -   This hides implementation details and ensures consistent interfaces across related classes.\n",
    "1. Composition \n",
    "    -   Instead of inheritance (\"is-a\" relationship), composition creates \"has-a\" relationships where objects contain other objects as components.\n",
    "1. Method Overloading \n",
    "    - Python handles this through default parameters or variable arguments (*args, **kwargs) since it doesn't support true method overloading like some other languages.\n",
    "1. Class and Static Methods \n",
    "    -   Class methods work with the class itself rather than instances\n",
    "    -   while static methods are utility functions that belong to the class logically but don't need class or instance data.\n",
    "\n",
    "These concepts work together to create maintainable, reusable, and organized code that models real-world relationships and behaviors effectively."
   ]
  },
  {
   "cell_type": "markdown",
   "metadata": {},
   "source": [
    "## Classes and Objects\n",
    "1. A class is a software unit that describe the properties/states and behavior/actions of an entity\n",
    "1. It is a template or blueprint for creating an object.\n",
    "1. You may create multiple objects based on a single class definition\n",
    "1. Each object will have its own distinct states"
   ]
  },
  {
   "cell_type": "markdown",
   "metadata": {},
   "source": [
    "### Class definition\n",
    "\n",
    "-   The following code defines a basic Account class\n",
    "-   It does not contain any methods or attributes\n",
    "-   It is used to demonstrate the basic format of a class in Python\n",
    "-   The class does not explicitly inherit from any other class"
   ]
  },
  {
   "cell_type": "code",
   "execution_count": null,
   "metadata": {},
   "outputs": [],
   "source": [
    "# it is used to demonstrate the fundamental structure of a class in Python\n",
    "#the class is named Account and it is defined using the 'class' keyword\n",
    "#the class does not explicitly inherit from any other class\n",
    "\n",
    "#it is not a useful class\n",
    "class Account:\n",
    "    pass"
   ]
  },
  {
   "cell_type": "markdown",
   "metadata": {},
   "source": [
    "### Testing the class\n",
    "-   The fundamentals test that a class must pass is\n",
    "    -   Instantiating the class i.e. to create an object based on the class\n",
    "    -   Invoking the methods and examining the object afterwards\n",
    "\n",
    "The code to test the class is normally referred to as the `Test Harness`"
   ]
  },
  {
   "cell_type": "code",
   "execution_count": null,
   "metadata": {},
   "outputs": [],
   "source": [
    "#test harness to exercise the above code\n",
    "#the following code creates an instance of the Account class\n",
    "#and assigns the reference to the variable obj\n",
    "obj = Account()\n",
    "\n",
    "print(obj)              # This will print the object representation of the instance (not useful)\n",
    "                        # at this point the output will not be very informative\n",
    "                        # later we will see how to make it more informative\n",
    "print(type(obj))        # This will print <class '__main__.Account'> indicating the type of the object\n"
   ]
  },
  {
   "cell_type": "markdown",
   "metadata": {},
   "source": [
    "### More operations on the object\n",
    "The following demonstrate the dynamic nature of the python language"
   ]
  },
  {
   "cell_type": "code",
   "execution_count": null,
   "metadata": {},
   "outputs": [],
   "source": [
    "#the following code dynamically adds three attributes to the obj instance\n",
    "#the attributes are balance, holder, and number and are assigned values of 100, 'narendra', and '1234'\n",
    "#this is possible in Python because it is a dynamic language\n",
    "#the attributes can be accessed using the dot notation\n",
    "obj.balance = 100\n",
    "obj.holder = 'narendra'\n",
    "obj.number = '1234'\n",
    "\n",
    "#the following code prints the values of the attributes \n",
    "print(f'balance: {obj.balance}')\n",
    "print(f' holder: {obj.holder}')\n",
    "print(f' number: {obj.number}')"
   ]
  },
  {
   "cell_type": "markdown",
   "metadata": {},
   "source": [
    "### A more useful class\n",
    "The following illustrates a better class definition. Note the following:\n",
    "1.  A docstring: This is a string that briefly describes the class. It is used in python internal documentation system\n",
    "1.  A constructor: This is a special method that is invoke immediately after the an object is created.\n",
    "1.  Missing is a method to print itself"
   ]
  },
  {
   "cell_type": "code",
   "execution_count": null,
   "metadata": {},
   "outputs": [],
   "source": [
    "# a basic Account class\n",
    "class Account:\n",
    "    '''A simple class to represent a bank account with a holder name, account number, and balance.\n",
    "    This class allows you to create an account with a holder's name, account number, and an optional balance.\n",
    "    \n",
    "    Attributes: \n",
    "    holder (str): The name of the account holder.\n",
    "    number (str): The account number.\n",
    "    balance (float): The current balance of the account, defaulting to 0 if not specified.\n",
    "\n",
    "    Methods:\n",
    "    __init__(name, number, balance=0): Initializes the account with a holder name, account number, and an optional balance.\n",
    "    '''\n",
    "\n",
    "    def __init__(self, name, number, balance = 0) -> None:\n",
    "        '''This constructor initialize an Account object with a holder name, account number, and an optional balance.\n",
    "        If no balance is provided, it defaults to 0.'''\n",
    "        self.holder = name\n",
    "        self.number = number\n",
    "        self.balance = balance"
   ]
  },
  {
   "cell_type": "code",
   "execution_count": null,
   "metadata": {},
   "outputs": [],
   "source": [
    "# test harness\n",
    "acct = Account('1234', 'narendra', 200)\n",
    "print(f'balance: {acct.balance}')\n",
    "print(f'holder: {acct.holder}')\n",
    "print(f'number: {acct.number}')\n",
    "\n",
    "acct = Account('1235', 'ilia', 5_000)\n",
    "print(f'balance: {acct.balance}')\n",
    "print(f'holder: {acct.holder}')\n",
    "print(f'number: {acct.number}')"
   ]
  },
  {
   "cell_type": "code",
   "execution_count": null,
   "metadata": {},
   "outputs": [],
   "source": [
    "# an even more useful class\n",
    "class Account:\n",
    "    def __init__(self, name, number, balance = 0) -> None:\n",
    "        self.holder = name\n",
    "        self.number = number\n",
    "        self.balance = balance\n",
    "\n",
    "    def deposit(self, amount) -> None:\n",
    "\n",
    "        self.balance += amount\n",
    "\n",
    "    def withdraw(self, amount) -> None:\n",
    "\n",
    "        self.balance -= amount\n",
    "\n",
    "    def __str__(self) -> str:\n",
    "        return f'{self.number} {self.holder} ${self.balance:,.2f}'\n",
    "\n",
    "# test harness\n",
    "acct = Account('1234', 'narendra', 200.)\n",
    "print(acct)\n",
    "\n",
    "amt = 500.0\n",
    "print(f'Deposit ${amt:,.2f}')\n",
    "acct.deposit(amt)\n",
    "\n",
    "amt = 150.0\n",
    "print(f'Withdraw ${amt:,.2f}')\n",
    "acct.withdraw(amt)\n",
    "print(acct)"
   ]
  },
  {
   "cell_type": "code",
   "execution_count": null,
   "metadata": {},
   "outputs": [],
   "source": [
    "#problems with the above class\n",
    "\n",
    "acct.balance = 1_000_000\n",
    "print(acct)"
   ]
  },
  {
   "cell_type": "code",
   "execution_count": null,
   "metadata": {},
   "outputs": [],
   "source": [
    "# a better class\n",
    "# an even more useful class\n",
    "class Account:\n",
    "    def __init__(self, name, number, balance = 0) -> None:\n",
    "        self.__holder = name\n",
    "        self.__number = number\n",
    "        self.__balance = balance\n",
    "\n",
    "    def deposit(self, amount) -> None:\n",
    "\n",
    "        self.__balance += amount\n",
    "\n",
    "    def withdraw(self, amount) -> None:\n",
    "\n",
    "        self.__balance -= amount\n",
    "\n",
    "    def __str__(self) -> str:\n",
    "        return f'{self.__number} {self.__holder} ${self.__balance:,.2f}'\n",
    "    \n",
    "    @property\n",
    "    def balance(self):\n",
    "        return self.__balance\n",
    "\n",
    "# test harness\n",
    "acct = Account('1234', 'narendra', 200.)\n",
    "print(acct)\n",
    "\n",
    "amt = 500.0\n",
    "print(f'Deposit ${amt:,.2f}')\n",
    "acct.deposit(amt)\n",
    "\n",
    "amt = 150.0\n",
    "print(f'Withdraw ${amt:,.2f}')\n",
    "acct.withdraw(amt)\n",
    "print(acct)\n",
    "\n",
    "\n",
    "# acct.balance = 1_000_000\n",
    "acct.__balance = 1_000_000\n",
    "print(acct)\n",
    "print(acct.__balance)"
   ]
  },
  {
   "cell_type": "code",
   "execution_count": null,
   "metadata": {},
   "outputs": [],
   "source": [
    "# The best one so far\n",
    "# an even more useful class\n",
    "class Account:\n",
    "    '''A simple class to represent a bank account with a holder name, account number, and balance.\n",
    "    This class allows you to create an account with a holder's name, an automatically generated account number, and an optional balance.\n",
    "    \n",
    "    Attributes:\n",
    "    __last_number (int): A class variable to keep track of the last assigned account number.\n",
    "    __holder (str): The name of the account holder.\n",
    "    __number (str): The account number, automatically generated.\n",
    "    __balance (float): The current balance of the account, defaulting to 0 if not specified.\n",
    "    \n",
    "    Methods:\n",
    "    __init__(name, balance=0): Initializes the account with a holder name, an\n",
    "                               automatically generated account number, and an optional balance.\n",
    "    deposit(amount): Deposits a specified amount into the account.\n",
    "    withdraw(amount): Withdraws a specified amount from the account.\n",
    "    __str__(): Returns a string representation of the account, including the account number, holder\n",
    "               name, and balance.\n",
    "    '''\n",
    "\n",
    "    __last_number = 1234 # class variable to keep track of the last assigned account number\n",
    "\n",
    "    def __init__(self, name, balance = 0) -> None:\n",
    "        '''Initialize the account with a holder name, an automatically generated account number, and an optional balance.\n",
    "        Args:   \n",
    "            name (str): The name of the account holder.\n",
    "            balance (float, optional): The initial balance of the account. Defaults to 0.\n",
    "\n",
    "            The double underscore triggers name mangling: Python internally renames the variable to _Account__name.\n",
    "            \n",
    "            This makes it harder (but not impossible) to access from outside the class.\n",
    "        '''\n",
    "        self.__holder = name\n",
    "        self.__balance = balance\n",
    "        self.__number = f'AC-{Account.__last_number}'\n",
    "        Account.__last_number += 1\n",
    "\n",
    "    def deposit(self, amount) -> None:\n",
    "        '''Deposit a specified amount into the account.\n",
    "        Args:\n",
    "            amount (float): The amount to deposit into the account.\n",
    "        \n",
    "        Raises:\n",
    "            ValueError: If the amount is negative.\n",
    "        '''\n",
    "        if amount < 0:\n",
    "            raise ValueError('Cannot withdraw a negative amount')    \n",
    "        self.__balance += amount\n",
    "\n",
    "    def withdraw(self, amount) -> None:\n",
    "        '''Deposit a specified amount into the account.\n",
    "        Args:\n",
    "            amount (float): The amount to deposit into the account.\n",
    "        \n",
    "        Raises:\n",
    "            ValueError: If the amount is greater then the balance.\n",
    "        '''\n",
    "        if amount > self.balance:\n",
    "            raise ValueError('You cannot withdraw more than the balance')        \n",
    "        self.__balance -= amount\n",
    "\n",
    "    def __str__(self) -> str:\n",
    "        '''Return a string representation of this object.\n",
    "        Returns:\n",
    "            str: A formatted string containing the account number, holder name, and balance.\n",
    "        '''\n",
    "        return f'[{self.__number}] {self.__holder} ${self.__balance:,.2f}'\n",
    "    \n",
    "    @property\n",
    "    def balance(self):\n",
    "        '''Get the current balance of the account.\n",
    "        Returns:\n",
    "            float: The current balance of the account.\n",
    "        '''\n",
    "        return self.__balance\n"
   ]
  },
  {
   "cell_type": "code",
   "execution_count": null,
   "metadata": {},
   "outputs": [],
   "source": [
    "# test harness\n",
    "narendra = Account('narendra', 200)\n",
    "print(acct)\n",
    "\n",
    "amt = 500\n",
    "print(f'Deposit ${amt:,.2f}')\n",
    "narendra.deposit(amt)\n",
    "amt = -50\n",
    "try:\n",
    "    narendra.deposit(amt)\n",
    "except ValueError as e:\n",
    "    print(f'Error: {e}')\n",
    "\n",
    "amt = 150\n",
    "print(f'Withdraw ${amt:,.2f}')\n",
    "narendra.withdraw(amt)\n",
    "print(narendra)\n",
    "\n",
    "amt = 1000\n",
    "try:\n",
    "    narendra.withdraw(amt)\n",
    "except ValueError as e:\n",
    "    print(f'Error: {e}')    \n",
    "\n",
    "# acct.balance = 1_000_000\n",
    "narendra.__balance = 1_000_000\n",
    "print(narendra)\n",
    "print(narendra.__balance)\n",
    "\n",
    "hao = Account('hao', 5_000)\n",
    "print(hao)\n",
    "# print(type(narendra))\n",
    "# print(dir(narendra))\n",
    "# print(help(narendra))"
   ]
  },
  {
   "cell_type": "markdown",
   "metadata": {},
   "source": [
    "### Class variables"
   ]
  },
  {
   "cell_type": "code",
   "execution_count": null,
   "metadata": {},
   "outputs": [],
   "source": [
    "#the following code defines a class named Instructor\n",
    "#it has a class attribute 'name' set to 'Ilia'\n",
    "class Instructor:\n",
    "    name = 'Ilia'"
   ]
  },
  {
   "cell_type": "code",
   "execution_count": null,
   "metadata": {},
   "outputs": [],
   "source": [
    "print(Instructor.name)  #the dot notation is used to access class attributes\n",
    "\n",
    "ilia = Instructor()     #creates a instance of Instructor\n",
    "print(ilia.name)        #print 'Ilia'\n",
    "\n",
    "hao = Instructor()      #creates a new instance of Instructor\n",
    "print(hao.name)         #print 'Ilia'\n",
    "\n",
    "hao.name = 'Hao Lac'    #sets the name attribute to 'Hao Lac'\n",
    "print(hao.name)         # prints 'Hao Lac'  \n",
    "\n",
    "print(ilia.name)\n",
    "\n",
    "Instructor.name = 'Arben Tapia'\n",
    "print(hao.name)\n",
    "\n",
    "print(ilia.name)"
   ]
  },
  {
   "cell_type": "code",
   "execution_count": null,
   "metadata": {},
   "outputs": [],
   "source": [
    "dir(ilia)"
   ]
  },
  {
   "cell_type": "code",
   "execution_count": null,
   "metadata": {},
   "outputs": [],
   "source": [
    "class Professor:\n",
    "    def __init__(self, name):\n",
    "        self.name = name\n",
    "    "
   ]
  },
  {
   "cell_type": "code",
   "execution_count": null,
   "metadata": {},
   "outputs": [],
   "source": [
    "arben = Professor('Arben')\n",
    "print(arben.name)\n",
    "\n",
    "faculty = Professor('Jake')\n",
    "print(faculty.name)\n"
   ]
  },
  {
   "cell_type": "code",
   "execution_count": null,
   "metadata": {},
   "outputs": [],
   "source": [
    "class Car:\n",
    "    def __init__(self, range):\n",
    "        self.range = range\n",
    "\n",
    "    def drive(self):\n",
    "        return f'I can drive {self.range}km'"
   ]
  },
  {
   "cell_type": "code",
   "execution_count": null,
   "metadata": {},
   "outputs": [],
   "source": [
    "honda = Car(450)\n",
    "honda.drive()"
   ]
  }
 ],
 "metadata": {
  "kernelspec": {
   "display_name": "Python 3",
   "language": "python",
   "name": "python3"
  },
  "language_info": {
   "codemirror_mode": {
    "name": "ipython",
    "version": 3
   },
   "file_extension": ".py",
   "mimetype": "text/x-python",
   "name": "python",
   "nbconvert_exporter": "python",
   "pygments_lexer": "ipython3",
   "version": "3.13.2"
  }
 },
 "nbformat": 4,
 "nbformat_minor": 2
}
