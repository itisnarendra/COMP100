{
 "cells": [
  {
   "cell_type": "markdown",
   "metadata": {},
   "source": [
    "# Strings\n",
    "This is an immutable sequence of characters that is delimited either with a pair\n",
    "of single `'`, double `\"` or triple single `'''` or triple double `\"\"\"` quotes.\n",
    "\n",
    "This notebook will cover the following:\n",
    "1. Obtaining a string via:\n",
    "    - Assignment\n",
    "    - Constructor\n",
    "    - Functions\n",
    "1. Printing a string\n",
    "2. String methods\n",
    "3. Formating\n"
   ]
  },
  {
   "cell_type": "code",
   "execution_count": null,
   "metadata": {},
   "outputs": [
    {
     "name": "stdout",
     "output_type": "stream",
     "text": [
      "😈Narendra is \n",
      "Evil!!!\n"
     ]
    }
   ],
   "source": [
    "# creating a string by assigning a value to a variable\n",
    "\n",
    "\n",
    "# strings can be created using single quotes, double quotes, or triple quotes\n",
    "# single and double quotes can be used interchangeably, but they must match\n",
    "# the string must be enclosed in the same type of quotes at both ends\n",
    "# single quotes can contain double quotes inside, and vice versa\n",
    "# triple quotes can be used for multi-line strings\n",
    "# triple quotes can contain both single and double quotes inside without escaping\n",
    "# triple quotes can also span multiple lines without needing to escape newlines\n",
    "\n",
    "a = 'hello world'               # single quotes\n",
    "\n",
    "b = \"hello world\"               # double quotes  \n",
    "\n",
    "c = '''hello world'''           # triple single quotes\n",
    "\n",
    "d = \"\"\"hello world\"\"\"           # triple double quotes\n",
    "\n",
    "e = 'hello \"world\"'             # single quotes with double quotes inside\n",
    "\n",
    "f = \"hello 'world'\"             # double quotes with single quotes inside\n",
    "\n",
    "g = '''this string \n",
    "spans multiple\n",
    "lines '''                       # triple single quotes with multiple lines\n",
    "\n",
    "h = '😈Narendra is \\nEvil!!!'   # embedded a unicode and a meta (newline) character\n",
    "print(h)"
   ]
  },
  {
   "cell_type": "code",
   "execution_count": null,
   "metadata": {},
   "outputs": [
    {
     "name": "stdout",
     "output_type": "stream",
     "text": [
      "<class 'str'>\n",
      "\n",
      "Hello World\n",
      "123456789\n",
      "3.14\n",
      "['Hello World', 'Python', 'Programming']\n",
      "{1: 'Hello', 2: 'World'}\n",
      "{'World', 'Hello'}\n",
      "('Hello World',)\n"
     ]
    }
   ],
   "source": [
    "# creating a string using the str() constructor\n",
    "# the str() constructor can convert various data types to a string\n",
    "# it can convert integers, floats, lists, dictionaries, tuples, and sets to strings\n",
    "# an empty string can be created by assigning an empty value to a variable\n",
    "\n",
    "\n",
    "s = str()\n",
    "print(type(s))                      # Output: <class 'str'>\n",
    "print(s)                            # empty string\n",
    "\n",
    "\n",
    "def create_str(val):\n",
    "    return str(val)\n",
    "\n",
    "a = 'Hello World'\n",
    "print(f'{create_str(a)}')           # string from string\n",
    "\n",
    "a = 123_456_789\n",
    "print(f'{create_str(a)}')           # string from integer\n",
    "\n",
    "a = 3.14\n",
    "print(f'{create_str(a)}')           # string from float\n",
    "\n",
    "\n",
    "a = ['Hello World', 'Python', 'Programming']\n",
    "print(f'{create_str(a)}')           # string from list\n",
    "\n",
    "a = {1: 'Hello', 2: 'World'}\n",
    "print(f'{create_str(a)}')           # string from dictionary\n",
    "\n",
    "a = {'Hello', 'World'}\n",
    "print(f'{create_str(a)}')           # string from tuple\n",
    "\n",
    "a = ('Hello World',)\n",
    "print(f'{create_str(a)}')           # string from set\n"
   ]
  },
  {
   "cell_type": "code",
   "execution_count": 20,
   "metadata": {},
   "outputs": [
    {
     "name": "stdout",
     "output_type": "stream",
     "text": [
      "  narendra pershad  \n",
      "       len: 20.\n",
      "capitalize:   narendra pershad  .\n",
      "     title:   Narendra Pershad  .\n",
      "  swapcase:   nARENDRA pERSHAD  .\n",
      "     upper:   NARENDRA PERSHAD  .\n",
      "     lower:   narendra pershad  .\n",
      "    lstrip: narendra pershad  .\n",
      "    rstrip:   narendra pershad.\n",
      "     split: ['narendra', 'pershad'].\n",
      "replace e with a:   narandra parshad  .\n",
      "d occurs at position: 7.\n",
      "z occurs at position: -1.\n"
     ]
    }
   ],
   "source": [
    "a = '  narendra pershad  '              #notice the two leading and two trailing spaces\n",
    "print(a)\n",
    "\n",
    "print(f'       len: {len(a)}.')         #does not seems to work (why?)\n",
    "print(f'capitalize: {a.capitalize()}.') #does not seems to work (why?)\n",
    "print(f'     title: {a.title()}.')\n",
    "print(f'  swapcase: {a.title().swapcase()}.')\n",
    "print(f'     upper: {a.upper()}.')\n",
    "print(f'     lower: {a.lower()}.')\n",
    "print(f'    lstrip: {a.lstrip()}.')\n",
    "print(f'    rstrip: {a.rstrip()}.')\n",
    "print(f'     split: {a.split()}.')\n",
    "print(f'replace e with a: {a.replace('e', 'a')}.')\n",
    "tofind = 'd'\n",
    "print(f'{tofind} occurs at position: {a.find(tofind)}.')\n",
    "tofind = 'z'\n",
    "print(f'{tofind} occurs at position: {a.find(tofind)}.')\n",
    "\n"
   ]
  },
  {
   "cell_type": "code",
   "execution_count": 15,
   "metadata": {},
   "outputs": [
    {
     "name": "stdout",
     "output_type": "stream",
     "text": [
      "2 isdigit: True\n",
      "2 isspace: False\n",
      "2 islower: False\n",
      "2 isupper: False\n",
      "2 isalpha: False\n",
      "2 isalnum: True\n"
     ]
    }
   ],
   "source": [
    "b = '2'\n",
    "print(f'{b} isdigit: {b.isdigit()}')\n",
    "print(f'{b} isspace: {b.isspace()}')\n",
    "print(f'{b} islower: {b.islower()}')\n",
    "print(f'{b} isupper: {b.isupper()}')\n",
    "print(f'{b} isalpha: {b.isalpha()}')\n",
    "print(f'{b} isalnum: {b.isalnum()}')\n",
    "\n",
    "\n"
   ]
  },
  {
   "cell_type": "code",
   "execution_count": 16,
   "metadata": {},
   "outputs": [
    {
     "name": "stdout",
     "output_type": "stream",
     "text": [
      "A isdigit: False\n",
      "A isspace: False\n",
      "A islower: False\n",
      "A isupper: True\n",
      "A isalpha: True\n",
      "A isalnum: True\n"
     ]
    }
   ],
   "source": [
    "b = 'A'\n",
    "print(f'{b} isdigit: {b.isdigit()}')\n",
    "print(f'{b} isspace: {b.isspace()}')\n",
    "print(f'{b} islower: {b.islower()}')\n",
    "print(f'{b} isupper: {b.isupper()}')\n",
    "print(f'{b} isalpha: {b.isalpha()}')\n",
    "print(f'{b} isalnum: {b.isalnum()}')\n",
    "\n"
   ]
  },
  {
   "cell_type": "code",
   "execution_count": 17,
   "metadata": {},
   "outputs": [
    {
     "name": "stdout",
     "output_type": "stream",
     "text": [
      "a isdigit: False\n",
      "a isspace: False\n",
      "a islower: True\n",
      "a isupper: False\n",
      "a isalpha: True\n",
      "a isalnum: True\n"
     ]
    }
   ],
   "source": [
    "b = 'a'\n",
    "print(f'{b} isdigit: {b.isdigit()}')\n",
    "print(f'{b} isspace: {b.isspace()}')\n",
    "print(f'{b} islower: {b.islower()}')\n",
    "print(f'{b} isupper: {b.isupper()}')\n",
    "print(f'{b} isalpha: {b.isalpha()}')\n",
    "print(f'{b} isalnum: {b.isalnum()}')"
   ]
  },
  {
   "cell_type": "code",
   "execution_count": 18,
   "metadata": {},
   "outputs": [
    {
     "name": "stdout",
     "output_type": "stream",
     "text": [
      "Address of the string object\n",
      "memory address: 2,003,240,411,296\n",
      "memory address: 2,003,245,473,072\n",
      "memory address: 140,714,566,454,528\n",
      "\n",
      "Address of the list object\n",
      "memory address: 2,003,245,387,968\n",
      "memory address: 2,003,245,387,968\n",
      "memory address: 2,003,245,387,968\n"
     ]
    }
   ],
   "source": [
    "#demonstrating that str are immutable types\n",
    "print('Address of the string object')\n",
    "a = 'hello '\n",
    "print(f'memory address: {id(a):,}')\n",
    "a += 'world'\n",
    "print(f'memory address: {id(a):,}')\n",
    "a = ''\n",
    "print(f'memory address: {id(a):,}')\n",
    "\n",
    "print('\\nAddress of the list object')\n",
    "b = ['hello']\n",
    "print(f'memory address: {id(b):,}')\n",
    "b += 'world'\n",
    "print(f'memory address: {id(b):,}')\n",
    "b.clear()\n",
    "print(f'memory address: {id(b):,}')\n"
   ]
  },
  {
   "cell_type": "code",
   "execution_count": null,
   "metadata": {},
   "outputs": [],
   "source": [
    "#see https://www.w3schools.com/python/python_string_formatting.asp"
   ]
  },
  {
   "cell_type": "markdown",
   "metadata": {},
   "source": [
    "### Formatted output"
   ]
  },
  {
   "cell_type": "code",
   "execution_count": 13,
   "metadata": {},
   "outputs": [
    {
     "name": "stdout",
     "output_type": "stream",
     "text": [
      "Gallon   Liters\n",
      "   0.5 = 2.273\n",
      "     1 = 4.546\n",
      "    10 = 45.461\n",
      "   100 = 454.609\n"
     ]
    }
   ],
   "source": [
    "imperial_gallon_to_liter = 4.54609\n",
    "print(f'Gallon   Liters')\n",
    "gal = 0.5\n",
    "print(f'{gal:>6} = {gal * imperial_gallon_to_liter:.3f}')\n",
    "gal = 1\n",
    "print(f'{gal:>6} = {gal * imperial_gallon_to_liter:.3f}')\n",
    "gal = 10\n",
    "print(f'{gal:>6} = {gal * imperial_gallon_to_liter:.3f}')\n",
    "gal = 100\n",
    "print(f'{gal:>6} = {gal * imperial_gallon_to_liter:.3f}')\n"
   ]
  },
  {
   "cell_type": "markdown",
   "metadata": {},
   "source": [
    "### Formatting Types\n",
    ":<\t\tLeft aligns the result (within the available space)\n",
    "\n",
    ":>\t\tRight aligns the result (within the available space)\n",
    "\n",
    ":^\t\tCenter aligns the result (within the available space)\n",
    "\n",
    ":=\t\tPlaces the sign to the left most position\n",
    "\n",
    ":+\t\tUse a plus sign to indicate if the result is positive or negative\n",
    "\n",
    ":-\t\tUse a minus sign for negative values only\n",
    "\n",
    ": \t\tUse a space to insert an extra space before positive numbers (and a minus sign before negative numbers)\n",
    "\n",
    ":,\t\tUse a comma as a thousand separator\n",
    "\n",
    ":_\t\tUse a underscore as a thousand separator\n",
    "\n",
    ":b\t\tBinary format\n",
    "\n",
    ":c\t\tConverts the value into the corresponding Unicode character\n",
    "\n",
    ":d\t\tDecimal format\n",
    "\n",
    ":e\t\tScientific format, with a lower case e\n",
    "\n",
    ":E\t\tScientific format, with an upper case E\n",
    "\n",
    ":f\t\tFix point number format\n",
    "\n",
    ":F\t\tFix point number format, in uppercase format (show inf and nan as INF and NAN)\n",
    "\n",
    ":g\t\tGeneral format\n",
    "\n",
    ":G\t\tGeneral format (using a upper case E for scientific notations)\n",
    "\n",
    ":o\t\tOctal format\n",
    "\n",
    ":x\t\tHex format, lower case\n",
    "\n",
    ":X\t\tHex format, upper case\n",
    "\n",
    ":n\t\tNumber format\n",
    "\n",
    ":%\t\tPercentage format"
   ]
  },
  {
   "cell_type": "code",
   "execution_count": 19,
   "metadata": {},
   "outputs": [
    {
     "name": "stdout",
     "output_type": "stream",
     "text": [
      "3.141592653\n",
      "3.141592653\n",
      "3.14159\n",
      "3.141593e+00\n",
      "3.14159\n",
      "3.14159\n",
      "0.007297\n",
      "0.007\n",
      "0.729735%\n",
      "1024\n",
      "400\n",
      "2000\n",
      "10000000000\n",
      "1_024\n",
      "1,024\n",
      " 1024\n",
      "1024\n",
      "+1024\n",
      "1024\n"
     ]
    }
   ],
   "source": [
    "a = 3.141_592_653\n",
    "print(f'{a}')\n",
    "print(f'{a:_}')\n",
    "print(f'{a:g}')\n",
    "print(f'{a:e}')\n",
    "print(f'{a:n}')\n",
    "print(f'{a:g}')\n",
    "a = 0.007_297_352_564_3\n",
    "print(f'{a:f}')\n",
    "print(f'{a:.3f}')\n",
    "print(f'{a:%}')\n",
    "a = 1_024\n",
    "#following only works with integer\n",
    "print(f'{a:d}')\n",
    "print(f'{a:x}')\n",
    "print(f'{a:o}')\n",
    "print(f'{a:b}')\n",
    "print(f'{a:_}')\n",
    "print(f'{a:,}')\n",
    "print(f'{a: }')\n",
    "print(f'{a:=}')\n",
    "print(f'{a:+}')\n",
    "print(f'{a:-}')\n"
   ]
  }
 ],
 "metadata": {
  "kernelspec": {
   "display_name": "Python 3",
   "language": "python",
   "name": "python3"
  },
  "language_info": {
   "codemirror_mode": {
    "name": "ipython",
    "version": 3
   },
   "file_extension": ".py",
   "mimetype": "text/x-python",
   "name": "python",
   "nbconvert_exporter": "python",
   "pygments_lexer": "ipython3",
   "version": "3.13.2"
  }
 },
 "nbformat": 4,
 "nbformat_minor": 2
}
