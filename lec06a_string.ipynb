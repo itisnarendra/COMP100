{
 "cells": [
  {
   "cell_type": "markdown",
   "metadata": {},
   "source": [
    "This is th first of a series of 4 notebooks on sequences.   \n",
    "We willbe examining the string datatype here.\n",
    "---\n",
    "\n",
    "# Strings\n",
    "This is an immutable sequence of characters that is delimited either with a pair\n",
    "of single `'`, double `\"` or triple single `'''` or triple double `\"\"\"` quotes.\n",
    "\n",
    "The string type is the easiest and probably the most intuitive datatype to work with.\n",
    "\n",
    "There is possibily a conversion to and from string to almost any other datatype.\n",
    "\n",
    "\n",
    "Contents:\n",
    "1.  Obtaining a string via:\n",
    "    -   [Direct Assignment](#assignment)\n",
    "        -   [Escape Sequence](#escape_sequence)\n",
    "        -   [Raw Strings](#raw_string)\n",
    "        -   [Binary String](#binary_strings)\n",
    "    -   Constructor\n",
    "    -   Via a function call\n",
    "1.  Printing a string\n",
    "    -   Formatting Types\n",
    "    -   Alignment\n",
    "1.  String methods\n",
    "    -   Methods that return a string\n",
    "    -   Methods that return a bool\n",
    "    -   Methods that return other type\n",
    "1.  Formating\n",
    "1.  [Summary](#summary)"
   ]
  },
  {
   "cell_type": "markdown",
   "metadata": {},
   "source": [
    "### <a id='assignment'></a>Creating a string by assigning a string literal to a variable"
   ]
  },
  {
   "cell_type": "code",
   "execution_count": null,
   "metadata": {},
   "outputs": [],
   "source": [
    "# creating a string by assigning a value to a variable\n",
    "\n",
    "\n",
    "# strings can be created using single quotes, double quotes, or triple quotes\n",
    "# single and double quotes can be used interchangeably, but they must match\n",
    "# the string must be enclosed in the same type of quotes at both ends\n",
    "# single quotes can contain double quotes inside, and vice versa\n",
    "# triple quotes can be used for multi-line strings\n",
    "# triple quotes can contain both single and double quotes inside without escaping\n",
    "# triple quotes can also span multiple lines without needing to escape newlines\n",
    "\n",
    "a = 'hello world'               # single quotes\n",
    "\n",
    "b = \"hello world\"               # double quotes  \n",
    "\n",
    "c = '''hello world'''           # triple single quotes\n",
    "\n",
    "d = \"\"\"hello world\"\"\"           # triple double quotes\n",
    "\n",
    "e = 'hello \"world\"'             # single quotes with double quotes inside\n",
    "\n",
    "f = \"hello 'world'\"             # double quotes with single quotes inside\n",
    "\n",
    "g = '''this string \n",
    "spans multiple\n",
    "lines '''                       # triple single quotes with multiple lines\n",
    "\n",
    "h = '😈Narendra is \\nEvil!!!'   # embedded a unicode and a meta (newline) character\n",
    "print(h)"
   ]
  },
  {
   "cell_type": "markdown",
   "metadata": {},
   "source": [
    "### <a id='escape_sequence'></a>Escape Sequence\n",
    "Before printing all string are checked for escaoe sequences.  \n",
    "An escape sequence is a combination of a backslash \\ followed by a character, used to represent something special in a string."
   ]
  },
  {
   "cell_type": "code",
   "execution_count": null,
   "metadata": {},
   "outputs": [],
   "source": [
    "print('It\\'s fine')             # single quotes with an apostrophe inside\n",
    "print('He said \\\"Hello\\\"')      # single quotes with double quotes inside\n",
    "print('C:\\\\progs\\\\COMP100\\\\')   # single quotes with a backslash inside\n",
    "print('Hello\\nWorld')           # single quotes with a newline character\n",
    "print(\"Hello\\tWorld\")           # double quotes with a tab character\n",
    "print('Hello\\rWorld')           # single quotes with a carriage return character\n",
    "print('Hello\\bWorld')           # single quotes with a backspace character\n",
    "print('Hello\\vWorld')           # single quotes with a vertical tab character\n",
    "print('Hello\\fWorld')           # single quotes with a form feed character"
   ]
  },
  {
   "cell_type": "code",
   "execution_count": null,
   "metadata": {},
   "outputs": [],
   "source": [
    "# Unicode and Byte Escape Sequences\n",
    "# Unicode characters can be represented using escape sequences like \\uXXXX or \\UXXXXXXXX\n",
    "# where XXXX or XXXXXXXX is the hexadecimal code for the character.\n",
    "# For example, \\u03A9 represents the Greek letter Omega (Ω).\n",
    "# Byte escape sequences can be used to represent characters in a specific encoding, such as UTF-8.\n",
    "# For example, b'\\xE2\\x82\\xA1' represents the character '₡' in UTF-8 encoding.\n",
    "print('\\101')                               # octal escape sequence for 'A'\n",
    "print('\\x41')                               # hexadecimal escape sequence for 'A'\n",
    "print('\\u03A9')                             # Unicode escape sequence for Omega (Ω)\n",
    "print('\\U0001F600')                         # Unicode escape sequence for grinning face emoji (😀)\n",
    "print('\\N{GREEK CAPITAL LETTER OMEGA}')     # Unicode character name for Omega (Ω)\n",
    "print('')"
   ]
  },
  {
   "cell_type": "markdown",
   "metadata": {},
   "source": [
    "### <a id='raw_string'></a>Raw Strings\n",
    "If you don't want python to check for escape sequences i.e. treat the string as a raw string, you must prefix it with an `r`"
   ]
  },
  {
   "cell_type": "code",
   "execution_count": null,
   "metadata": {},
   "outputs": [
    {
     "name": "stdout",
     "output_type": "stream",
     "text": [
      "It\\'s fine\n",
      "He said \\\"Hello\\\"\n",
      "C:\\\\progs\\\\COMP100\\\\\n"
     ]
    }
   ],
   "source": [
    "print(r'It\\'s fine')             \n",
    "print(r'He said \\\"Hello\\\"')      \n",
    "print(r'C:\\\\progs\\\\COMP100\\\\')   "
   ]
  },
  {
   "cell_type": "markdown",
   "metadata": {},
   "source": [
    "### <a id='binary_strings'></a>Binary Strings\n",
    "Binary strings is represented by bytes.   \n",
    "This is needed when you are dealing wth binary file, networking encryption or any raw binary format such as image files\n",
    "\n",
    "Binary string vs Normal string\n",
    "\n",
    "Normal string in Python is a sequence of Unicode characters.    \n",
    "Binary string is a sequence of raw 8-bit values"
   ]
  },
  {
   "cell_type": "code",
   "execution_count": null,
   "metadata": {},
   "outputs": [
    {
     "name": "stdout",
     "output_type": "stream",
     "text": [
      "b'hello world'\n"
     ]
    }
   ],
   "source": [
    "# working with binary strings\n",
    "# Binary strings are created by prefixing the string with a 'b' or 'B'\n",
    "binary_string = b'hello world'  # binary string with single quotes\n",
    "print(binary_string)            # prints: b'hello world'"
   ]
  },
  {
   "cell_type": "code",
   "execution_count": null,
   "metadata": {},
   "outputs": [
    {
     "name": "stdout",
     "output_type": "stream",
     "text": [
      "b'hello world'\n",
      "hello world\n"
     ]
    }
   ],
   "source": [
    "# encoding and decoding between strings and bytes\n",
    "# Strings can be encoded to bytes using the encode() method, and bytes can be decoded to strings using the decode() method.\n",
    "\n",
    "# encoding\n",
    "s = 'hello world'\n",
    "b = s.encode('utf-8')       # encode string to bytes using UTF-8\n",
    "print(b)                    # prints: b'hello world'\n",
    "\n",
    "# decoding\n",
    "s2 = b.decode('utf-8')      # decode bytes back to string using UTF-8\n",
    "print(s2)                   # prints: hello world  "
   ]
  },
  {
   "cell_type": "markdown",
   "metadata": {},
   "source": [
    "### Creating a string by the str() Constructor"
   ]
  },
  {
   "cell_type": "code",
   "execution_count": null,
   "metadata": {},
   "outputs": [],
   "source": [
    "# creating a string using the str() constructor\n",
    "# the str() constructor can convert various data types to a string\n",
    "# it can convert integers, floats, lists, dictionaries, tuples, and sets to strings\n",
    "# an empty string can be created by assigning an empty value to a variable\n",
    "\n",
    "\n",
    "s = str()\n",
    "print(type(s))                      # Output: <class 'str'>\n",
    "print(s)                            # empty string\n",
    "\n",
    "\n",
    "def create_and_print_str(val):\n",
    "    print(str(val))\n",
    "\n",
    "a = 'Hello World'\n",
    "create_and_print_str(a)             # string from string\n",
    "\n",
    "a = 123_456_789\n",
    "create_and_print_str(a)             # string from integer\n",
    "\n",
    "a = 3.14\n",
    "create_and_print_str(a)             # string from float\n",
    "\n",
    "\n",
    "a = ['Hello World', 'Python', 'Programming']\n",
    "create_and_print_str(a)             # string from list\n",
    "\n",
    "a = {1: 'Hello', 2: 'World'}\n",
    "create_and_print_str(a)             # string from dictionary\n",
    "\n",
    "a = {'Hello', 'World'}\n",
    "create_and_print_str(a)             # string from tuple\n",
    "\n",
    "a = ('Hello World',)\n",
    "create_and_print_str(a)             # string from set\n"
   ]
  },
  {
   "cell_type": "markdown",
   "metadata": {},
   "source": [
    "## String Methods"
   ]
  },
  {
   "cell_type": "markdown",
   "metadata": {},
   "source": [
    "### String methods that returns a new string"
   ]
  },
  {
   "cell_type": "code",
   "execution_count": null,
   "metadata": {},
   "outputs": [],
   "source": [
    "a = '  narendra pershad  '              #notice the two leading and two trailing spaces\n",
    "print(a)\n",
    "\n",
    "print(f'       len: {len(a)}.')        \n",
    "print(f'capitalize: {a.capitalize()}.') #does not seems to work (why?)\n",
    "print(f'     title: {a.title()}.')\n",
    "print(f'  swapcase: {a.title().swapcase()}.')\n",
    "print(f'     upper: {a.upper()}.')\n",
    "print(f'     lower: {a.lower()}.')\n",
    "print(f'    lstrip: {a.lstrip()}.')\n",
    "print(f'    rstrip: {a.rstrip()}.')\n",
    "print(f'     split: {a.split()}.')\n",
    "print(f'replace e with a: {a.replace('e', 'a')}.')\n",
    "tofind = 'd'\n",
    "print(f'{tofind} occurs at position: {a.find(tofind)}.')\n",
    "tofind = 'z'\n",
    "print(f'{tofind} occurs at position: {a.find(tofind)}.')\n",
    "\n"
   ]
  },
  {
   "cell_type": "markdown",
   "metadata": {},
   "source": [
    "### String methods that returns a bool"
   ]
  },
  {
   "cell_type": "code",
   "execution_count": null,
   "metadata": {},
   "outputs": [],
   "source": [
    "val = ['2', 'A', 'a', ' ']\n",
    "func = 'isdigit isspace islower isupper isalpha isalnum'.split()\n",
    "\n",
    "for v in val:\n",
    "    for f in func:\n",
    "        print(f\"'{v}' {f}: {eval(f\"'{v}'.{f}()\")}\")\n",
    "    print()"
   ]
  },
  {
   "cell_type": "markdown",
   "metadata": {},
   "source": [
    "### Non-string methods that returns a new string"
   ]
  },
  {
   "cell_type": "code",
   "execution_count": null,
   "metadata": {},
   "outputs": [],
   "source": [
    "a = 'chr(65)'               # converts the argument to the ASCII equivalent -> 'A'    \n",
    "print(f'{a} -> {eval(a)}')\n",
    "\n",
    "a = 'bin(65)'               # converts the argument to the binary number representation -> 1000001    \n",
    "print(f'{a} -> {eval(a)}')\n",
    "\n",
    "a = 'oct(65)'               # converts the argument to the octal equivalent -> 101    \n",
    "print(f'{a} -> {eval(a)}')\n",
    "\n",
    "a = 'hex(65)'               # converts the argument to the hex equivalent -> 41    \n",
    "print(f'{a} -> {eval(a)}')\n",
    "\n",
    "a = 'ascii(\"café\")'         # converts the argument to the ascii equivalent -> 'caf\\xe9'    \n",
    "print(f'{a} -> {eval(a)}')"
   ]
  },
  {
   "cell_type": "markdown",
   "metadata": {},
   "source": []
  },
  {
   "cell_type": "code",
   "execution_count": null,
   "metadata": {},
   "outputs": [],
   "source": [
    "#demonstrating that str are immutable types\n",
    "print('Address of the string object')\n",
    "a = 'hello '\n",
    "print(f'memory address: {id(a):,}')\n",
    "a += 'world'\n",
    "print(f'memory address: {id(a):,}')\n",
    "a = ''\n",
    "print(f'memory address: {id(a):,}')\n",
    "\n",
    "print('\\nAddress of the list object')\n",
    "b = ['hello']\n",
    "print(f'memory address: {id(b):,}')\n",
    "b += 'world'\n",
    "print(f'memory address: {id(b):,}')\n",
    "b.clear()\n",
    "print(f'memory address: {id(b):,}')\n"
   ]
  },
  {
   "cell_type": "code",
   "execution_count": null,
   "metadata": {},
   "outputs": [],
   "source": [
    "#see https://www.w3schools.com/python/python_string_formatting.asp"
   ]
  },
  {
   "cell_type": "markdown",
   "metadata": {},
   "source": [
    "### Formatted output"
   ]
  },
  {
   "cell_type": "code",
   "execution_count": null,
   "metadata": {},
   "outputs": [],
   "source": [
    "imperial_gallon_to_liter = 4.54609\n",
    "print(f'Gallon   Liters')\n",
    "gal = 0.5\n",
    "print(f'{gal:>6} = {gal * imperial_gallon_to_liter:.3f}')\n",
    "gal = 1\n",
    "print(f'{gal:>6} = {gal * imperial_gallon_to_liter:.3f}')\n",
    "gal = 10\n",
    "print(f'{gal:>6} = {gal * imperial_gallon_to_liter:.3f}')\n",
    "gal = 100\n",
    "print(f'{gal:>6} = {gal * imperial_gallon_to_liter:.3f}')\n"
   ]
  },
  {
   "cell_type": "markdown",
   "metadata": {},
   "source": [
    "### Formatting Types\n",
    ":<\t\tLeft aligns the result (within the available space)\n",
    "\n",
    ":>\t\tRight aligns the result (within the available space)\n",
    "\n",
    ":^\t\tCenter aligns the result (within the available space)\n",
    "\n",
    ":=\t\tPlaces the sign to the left most position\n",
    "\n",
    ":+\t\tUse a plus sign to indicate if the result is positive or negative\n",
    "\n",
    ":-\t\tUse a minus sign for negative values only\n",
    "\n",
    ": \t\tUse a space to insert an extra space before positive numbers (and a minus sign before negative numbers)\n",
    "\n",
    ":,\t\tUse a comma as a thousand separator\n",
    "\n",
    ":_\t\tUse a underscore as a thousand separator\n",
    "\n",
    ":b\t\tBinary format\n",
    "\n",
    ":c\t\tConverts the value into the corresponding Unicode character\n",
    "\n",
    ":d\t\tDecimal format\n",
    "\n",
    ":e\t\tScientific format, with a lower case e\n",
    "\n",
    ":E\t\tScientific format, with an upper case E\n",
    "\n",
    ":f\t\tFix point number format\n",
    "\n",
    ":F\t\tFix point number format, in uppercase format (show inf and nan as INF and NAN)\n",
    "\n",
    ":g\t\tGeneral format\n",
    "\n",
    ":G\t\tGeneral format (using a upper case E for scientific notations)\n",
    "\n",
    ":o\t\tOctal format\n",
    "\n",
    ":x\t\tHex format, lower case\n",
    "\n",
    ":X\t\tHex format, upper case\n",
    "\n",
    ":n\t\tNumber format\n",
    "\n",
    ":%\t\tPercentage format"
   ]
  },
  {
   "cell_type": "code",
   "execution_count": null,
   "metadata": {},
   "outputs": [],
   "source": [
    "a = 3.141_592_653\n",
    "print(f'{a}')\n",
    "print(f'{a:_}')\n",
    "print(f'{a:g}')\n",
    "print(f'{a:e}')\n",
    "print(f'{a:n}')\n",
    "print(f'{a:g}')\n",
    "a = 0.007_297_352_564_3\n",
    "print(f'{a:f}')\n",
    "print(f'{a:.3f}')\n",
    "print(f'{a:%}')\n",
    "a = 1_024\n",
    "#following only works with integer\n",
    "print(f'{a:d}')\n",
    "print(f'{a:x}')\n",
    "print(f'{a:o}')\n",
    "print(f'{a:b}')\n",
    "print(f'{a:_}')\n",
    "print(f'{a:,}')\n",
    "print(f'{a: }')\n",
    "print(f'{a:=}')\n",
    "print(f'{a:+}')\n",
    "print(f'{a:-}')\n"
   ]
  },
  {
   "cell_type": "markdown",
   "metadata": {},
   "source": [
    "### <a id='summary'></a>Summary"
   ]
  },
  {
   "cell_type": "markdown",
   "metadata": {},
   "source": []
  },
  {
   "cell_type": "markdown",
   "metadata": {},
   "source": [
    "### <a id='summary'></a>"
   ]
  }
 ],
 "metadata": {
  "kernelspec": {
   "display_name": "Python 3",
   "language": "python",
   "name": "python3"
  },
  "language_info": {
   "codemirror_mode": {
    "name": "ipython",
    "version": 3
   },
   "file_extension": ".py",
   "mimetype": "text/x-python",
   "name": "python",
   "nbconvert_exporter": "python",
   "pygments_lexer": "ipython3",
   "version": "3.13.2"
  }
 },
 "nbformat": 4,
 "nbformat_minor": 2
}
