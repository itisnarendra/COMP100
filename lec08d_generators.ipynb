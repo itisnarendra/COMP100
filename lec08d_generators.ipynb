{
 "cells": [
  {
   "cell_type": "markdown",
   "id": "f237f4bc",
   "metadata": {},
   "source": [
    "# Comprehension vs. Generators\n",
    "\n",
    "In Python, generators and comprehensions are powerful tools for creating and managing sequences of data efficiently and concisely. \n",
    "\n",
    "Contents:\n",
    "1.  [Comprehension](#comprehension)\n",
    "    - For set\n",
    "    - For list\n",
    "    - For dictionary\n",
    "1.  [Generator](#generator)\n",
    "    - functions\n",
    "    - expression\n",
    "1.  [Summary](#summary)"
   ]
  },
  {
   "cell_type": "markdown",
   "id": "8ab9df93",
   "metadata": {},
   "source": [
    "### <a id='comprehension'></a>Comprehension\n",
    "Comprehensions are concise ways to create collections like lists, sets, or dictionaries.\n",
    "\n",
    "\n",
    "\n",
    "Benefits:\n",
    "-   Concise and readable\n",
    "-   Often faster than loops\n",
    "-   Can include conditions"
   ]
  },
  {
   "cell_type": "markdown",
   "id": "b37ad32c",
   "metadata": {},
   "source": [
    "#### Set comprehension\n"
   ]
  },
  {
   "cell_type": "code",
   "execution_count": null,
   "id": "9ac62daa",
   "metadata": {},
   "outputs": [],
   "source": [
    "# example of a set comprehension\n",
    "unique_lengths = {len(word) for word in [\"apple\", \"banana\", \"cherry\"]}\n",
    "print(unique_lengths)\n",
    "\n",
    "# another example\n",
    "names = [\"Alice\", \"Bob\", \"Charlie\", \"David\"]\n",
    "first_letters = {name[0] for name in names}\n",
    "print(first_letters)\n",
    "\n",
    "# example with a condition\n",
    "even_numbers = {num for num in range(10) if num % 2 == 0}\n",
    "\n",
    "# example of a set comprehension with a function\n",
    "def square(x):\n",
    "    return x * x    \n",
    "squared_set = {square(x) for x in range(5)}\n",
    "print(squared_set)\n",
    "\n"
   ]
  },
  {
   "cell_type": "code",
   "execution_count": null,
   "id": "6e651a8a",
   "metadata": {},
   "outputs": [],
   "source": [
    "# a more complex example\n",
    "# using multiple iterables\n",
    "\n",
    "complex_set = {f'{x * y}' for x in range(1, 4) for y in range(1, 4)}\n",
    "print(complex_set)"
   ]
  },
  {
   "cell_type": "markdown",
   "id": "2ffa6c37",
   "metadata": {},
   "source": [
    "#### List comprehension\n",
    "Allow you to create new lists by applying an expression to each item in an iterable, optionally filtering items.\n",
    "\n",
    "The Basic Form  \n",
    "`[expression for item in iterable if condition]`   \n",
    "where\n",
    "-   expression: what you want in the list\n",
    "-   item: each element from the iterable\n",
    "-   condition: optional filter\n"
   ]
  },
  {
   "cell_type": "code",
   "execution_count": null,
   "id": "409f8146",
   "metadata": {},
   "outputs": [],
   "source": [
    "# example of a list comprehension\n",
    "evens = [x for x in range(21) if x % 2 == 0]\n",
    "print(evens)\n",
    "\n",
    "\n",
    "# another example \n",
    "colors = [\"red\", \"blue\"]\n",
    "objects = [\"car\", \"bike\"]\n",
    "combinations = [f\"{color} {obj}\" for color in colors for obj in objects]\n",
    "print(combinations)"
   ]
  },
  {
   "cell_type": "code",
   "execution_count": null,
   "id": "196c0f70",
   "metadata": {},
   "outputs": [],
   "source": [
    "# Apply function to elements\n",
    "def is_prime(n):\n",
    "    if n < 2:\n",
    "        return False\n",
    "    for i in range(2, int(n**0.5) + 1):\n",
    "        if n % i == 0:\n",
    "            return False\n",
    "    return True\n",
    "\n",
    "prime_squares = [x**2 for x in range(20) if is_prime(x)]\n",
    "print(prime_squares)"
   ]
  },
  {
   "cell_type": "code",
   "execution_count": null,
   "id": "8a18883b",
   "metadata": {},
   "outputs": [],
   "source": [
    "# flattening a 2-D list (a list of lists)\n",
    "nested_list = [[1, 2, 3], [4, 5, 6, 7], [8, 9]] \n",
    "flattened_list = [item for sublist in nested_list for item in sublist]\n",
    "print(flattened_list)"
   ]
  },
  {
   "cell_type": "code",
   "execution_count": null,
   "id": "2b2d794a",
   "metadata": {},
   "outputs": [],
   "source": []
  },
  {
   "cell_type": "markdown",
   "id": "675aef18",
   "metadata": {},
   "source": [
    "#### Dictionary comprehension\n",
    "\n",
    "The Basic Form  \n",
    "`{key_expr: value_expr for item in iterable if condition}`   \n",
    "where\n",
    "-   key_expr: Expression for the key\n",
    "-   value_expr: Expression for the value\n",
    "-   iterable: Any iterable (like a list, tuple, or range)\n",
    "-   condition: Optional filter"
   ]
  },
  {
   "cell_type": "code",
   "execution_count": null,
   "id": "cb86b3d6",
   "metadata": {},
   "outputs": [],
   "source": [
    "# example of a set comprehension\n",
    "words = [\"apple\", \"banana\", \"cherry\"]\n",
    "word_lengths = {word: len(word) for word in words}\n",
    "print(word_lengths)\n",
    "\n",
    "# another example\n",
    "num_to_str = {x: f\"Number {x}\" for x in range(5)}\n",
    "print(num_to_str)\n",
    "\n",
    "# another example\n",
    "original = {'a': 1, 'b': 2, 'c': 3}\n",
    "reversed_dict = {value: key for key, value in original.items()}\n",
    "print(reversed_dict)\n"
   ]
  },
  {
   "cell_type": "markdown",
   "id": "b6595389",
   "metadata": {},
   "source": [
    "### <a id='generator'></a>Generators\n",
    "A generator is a special type of iterator that yields items one at a time using the yield keyword. It doesn’t store the entire sequence in memory, making it ideal for large datasets or infinite sequences.\n",
    "\n",
    "Benefits:\n",
    "-   Memory-efficient: Generates items on-the-fly.\n",
    "-   Lazy evaluation: Only computes values when needed.\n",
    "-   Useful for pipelines: Can be chained together.\n",
    "\n",
    "Cons:\n",
    "-   Can’t index or re-iterate without re-creating it.\n",
    "-   Once exhausted, it’s gone.\n",
    "-   Can only be used once"
   ]
  },
  {
   "cell_type": "markdown",
   "id": "eba9df98",
   "metadata": {},
   "source": [
    "### Generator Function\n",
    "\n",
    "A generator in Python is a special kind of function that returns an iterator, allowing you to generate a sequence of values one at a time, on demand, without storing them all in memory.\n",
    "\n",
    "Generator functions are defined like regular functions but use the yield statement instead of return. Every time the generator's next value is requested (using next() or a for loop), execution resumes right where it left off after the last yield, maintaining the function’s local state.\n"
   ]
  },
  {
   "cell_type": "code",
   "execution_count": null,
   "id": "ba207fbd",
   "metadata": {},
   "outputs": [],
   "source": [
    "def count_up_to(n):\n",
    "    count = 1\n",
    "    while count <= n:\n",
    "        yield count\n",
    "        count += 1\n",
    "\n",
    "for number in count_up_to(5):\n",
    "    print(number, end=' ')\n"
   ]
  },
  {
   "cell_type": "markdown",
   "id": "9cd0d38e",
   "metadata": {},
   "source": [
    "### Generator Expression\n",
    "Generator expressions, are similar to list comprehensions, but use parentheses `()` instead of brackets `[]` and create generator objects rather than lists."
   ]
  },
  {
   "cell_type": "code",
   "execution_count": null,
   "id": "6ca043c4",
   "metadata": {},
   "outputs": [],
   "source": [
    "# defining a generator expression\n",
    "squares = (x*x for x in range(10))"
   ]
  },
  {
   "cell_type": "code",
   "execution_count": null,
   "id": "fe1939e2",
   "metadata": {},
   "outputs": [],
   "source": [
    "# consuming the generator\n",
    "for square in squares:\n",
    "    print(square, end=' ')\n",
    "\n",
    "# running the generator expression again will not yield any results\n",
    "for square in squares:\n",
    "    print(square, end=' ')"
   ]
  },
  {
   "cell_type": "markdown",
   "id": "5ca26bfe",
   "metadata": {},
   "source": [
    "### <a id='summary'></a>Summary:\n",
    "\n",
    "1.  Generators and generator expressions efficiently produce items one at a time, saving memory.\n",
    "\n",
    "1.  Comprehensions (list, set, dict, generator) provide a clean, concise way to build new sequences from existing ones with transformation and filtering.\n",
    "\n",
    "1.  Use comprehensions when:\n",
    "    -   You need to access the data multiple times\n",
    "    -   You need list/dict/set methods\n",
    "    -   The dataset is small\n",
    "\n",
    "1.  Use generators when:\n",
    "    -   Working with large datasets\n",
    "    -   You only need to iterate once\n",
    "    -   Memory efficiency is important\n",
    "    -   Processing data in pipelines"
   ]
  }
 ],
 "metadata": {
  "kernelspec": {
   "display_name": "Python 3",
   "language": "python",
   "name": "python3"
  },
  "language_info": {
   "codemirror_mode": {
    "name": "ipython",
    "version": 3
   },
   "file_extension": ".py",
   "mimetype": "text/x-python",
   "name": "python",
   "nbconvert_exporter": "python",
   "pygments_lexer": "ipython3",
   "version": "3.13.2"
  }
 },
 "nbformat": 4,
 "nbformat_minor": 5
}
