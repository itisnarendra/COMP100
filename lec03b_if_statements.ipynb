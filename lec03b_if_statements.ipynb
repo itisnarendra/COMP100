{
 "cells": [
  {
   "cell_type": "markdown",
   "metadata": {},
   "source": [
    "In this notebook and the next one, we will be examining the second control structure - Conditional/Selection/Branching\n",
    "\n",
    "---\n",
    "\n",
    "\n",
    "# Making Decision - if statement\n",
    "\n",
    "Contents:\n",
    "1.  [Boolean expressions](#boolean_expression)\n",
    "    -   Comparision operators\n",
    "1.  [If statement](#if_statement)\n",
    "    -   Simple if statement without the else block\n",
    "    -   If statement with else block\n",
    "    -   Nested form\n",
    "1.  [Creating more complex logic](#and_or) with `and` and `or`\n",
    "1.  [Summary](#summary)\n"
   ]
  },
  {
   "cell_type": "markdown",
   "metadata": {},
   "source": [
    "### <a id='boolean_expression'></a>Boolean expression\n",
    "A boolean expresion is a statement that will be evaluated to `True` or `False`.  \n",
    "A very common way to obtaining a boolean expression is by using comparison (relational) operators.\n",
    "\n",
    "#### Comparison Operators\n",
    "These operators takes two operands that are often of the same data types and returns a boolean value.\n",
    "\n",
    "They are:\n",
    "-   `<` - evaluates to `True` only if the left side value is strickly less that the right side.\n",
    "-   `>` - evaluates to `True` only if the left side value is strickly greater that the right side.\n",
    "-   `==` - evaluates to `True` only if the left side value is the same as the right side.\n",
    "-   `!=` - evaluates to `True` only if the left side value is not the same as the right side.\n",
    "-   `<=` - evaluates to `True` only if the left side value is less or equal to the right side.\n",
    "-   `>=` - evaluates to `True` only if the left side value is more than or equal to the right side.\n"
   ]
  },
  {
   "cell_type": "code",
   "execution_count": null,
   "metadata": {},
   "outputs": [],
   "source": [
    "# we are defining two lists that will contain different types of elements\n",
    "# and then we will write code to show the results of the comparison between them\n",
    "a = [-2, 1, 3, 1.2, 3.1, 9.8, False, True, True, \"'apple'\", \"'zebra'\", \"'baby'\", [4, 9], [2, 3], [5]]\n",
    "b = [ 3, 1, 2, 1.4, 3.1, 7.2, True, True, False, \"'zebra'\", \"'apple'\", \"'baby'\", [5, 0], [2, 3], [4]] "
   ]
  },
  {
   "cell_type": "code",
   "execution_count": null,
   "metadata": {},
   "outputs": [],
   "source": [
    "# ignore the logic of the code and just focus on the output\n",
    "# you will be able to understand the code after we cover \n",
    "# looping and iterables in future exercises\n",
    "for i in range(len(a)):\n",
    "    e = f'{a[i]} < {b[i]}'\n",
    "    print(f'{e} -> {eval(e)}')"
   ]
  },
  {
   "cell_type": "code",
   "execution_count": null,
   "metadata": {},
   "outputs": [],
   "source": [
    "#again ignore the logic of the code and just focus on the output\n",
    "for i in range(len(a)):\n",
    "    e = f'{a[i]} == {b[i]}'\n",
    "    print(f'{e} -> {eval(e)}')"
   ]
  },
  {
   "cell_type": "code",
   "execution_count": null,
   "metadata": {},
   "outputs": [],
   "source": [
    "#again ignore the logic of the code and just focus on the output\n",
    "\n",
    "for i in range(len(a)):\n",
    "    e = f'{a[i]} >= {b[i]}'\n",
    "    print(f'{e} -> {eval(e)}')"
   ]
  },
  {
   "cell_type": "code",
   "execution_count": null,
   "metadata": {},
   "outputs": [],
   "source": [
    "#again ignore the logic of the code and just focus on the output\n",
    "for i in range(len(a)):\n",
    "    e = f'{a[i]} <= {b[i]}'\n",
    "    print(f'{e} -> {eval(e)}')"
   ]
  },
  {
   "cell_type": "code",
   "execution_count": null,
   "metadata": {},
   "outputs": [],
   "source": [
    "#again ignore the logic of the code and just focus on the output\n",
    "for i in range(len(a)):\n",
    "    e = f'{a[i]} != {b[i]}'\n",
    "    print(f'{e} -> {eval(e)}')"
   ]
  },
  {
   "cell_type": "markdown",
   "metadata": {},
   "source": [
    "### <a id='if_statement'></a>If statement\n",
    "\n",
    "This is the simplest form of the if-statement.  \n",
    "\n",
    "The purpose is to process or ignore a block of code statements.   \n",
    "\n",
    "This structure comprises of the `if` keyword followed by an assertion statement (an expresssion that evaluates to either True or False) then teminated by a colon (`:`) followed by a block of code. \n",
    "\n",
    "To seperate this block from the rest of the code, all the statements of the block are indented.\n",
    "\n",
    "If the assertion evaluate to True, then the block is processed. \n",
    "\n",
    "If the assertion evaluate to False, then the block is ignored.   \n",
    "\n",
    "Other languages uses a system of curly braces to delineate blocks of code\n",
    "\n",
    "#### Syntax\n",
    "Just a True block\n",
    "```python \n",
    "if boolean expression:                               \n",
    "    statement1      # statement1 is ONLY processed       \n",
    "                    # if the expression evaluates to True\n",
    "```"
   ]
  },
  {
   "cell_type": "code",
   "execution_count": null,
   "metadata": {},
   "outputs": [],
   "source": [
    "#notice that the true block contains two statements and there are both indented\n",
    "score = 92\n",
    "if score >= 90:\n",
    "    print('Good job!')\n",
    "    print(f'A score of {score} will get you an A+ grade')\n"
   ]
  },
  {
   "cell_type": "code",
   "execution_count": null,
   "metadata": {},
   "outputs": [],
   "source": [
    "# what does the following code output?\n",
    "score = 80\n",
    "if score >= 90:\n",
    "    print(f'A score of {score} will get you an A+ grade')"
   ]
  },
  {
   "cell_type": "code",
   "execution_count": null,
   "metadata": {},
   "outputs": [],
   "source": [
    "# in this example the last statement is not part of the if-statement\n",
    "# so regardless of the results of the condition expression\n",
    "# it will be processed\n",
    "score = 90\n",
    "if score >= 90:\n",
    "    print(f'A score of {score} will get you an A+ grade')\n",
    "print('This statement is not part of the if-statement')\n",
    "\n",
    "\n",
    "# change the value of score to 95\n",
    "# and run the code again"
   ]
  },
  {
   "cell_type": "markdown",
   "metadata": {},
   "source": [
    "### If-Else statement\n",
    "\n",
    "The purpose is to process either of two block of code i.e. code is able to complete either of two tasks.  \n",
    "\n",
    "This structure comprises of four parts:\n",
    "-   the `if` keyword followed by an assertion terminated by a colon\n",
    "-   a block of code statements (True block)\n",
    "-   the keyword `else` followed by a colon\n",
    "-   a block of code statements (False block)\n",
    "\n",
    "If the assertion evaluates to True, the the first block (True block) is processed\n",
    "\n",
    "However, if the assertion is False, then the second block (False block) is processed.\n",
    "\n",
    "Both blocks are never processed nor are they both ignored. i.e. either the True block is processed or the False block is processed.\n",
    "\n",
    "Again to identify the blocks to the interpreter, we indent all the statements in the blocks.\n",
    "\n",
    "#### Syntax\n",
    "```python\n",
    "if boolean expression:                              \n",
    "    statements      # is processed if assertion is True \n",
    "else:                                                   \n",
    "    statements      # is processed if assertion is False\n",
    "```"
   ]
  },
  {
   "cell_type": "code",
   "execution_count": null,
   "metadata": {},
   "outputs": [],
   "source": [
    "# if statement with both True and False blocks\n",
    "sales = 900\n",
    "if sales > 1000:\n",
    "    print(f'For sales of ${sales:,.2f} commission will be ${(sales - 1000) * 0.1:,.2f}')\n",
    "else:\n",
    "    print(f'For sales of ${sales:,.2f} commission will be $0.00')\n",
    "\n",
    "#ignore the strange formatting code after the numbers, we will cover that when we do loops"
   ]
  },
  {
   "cell_type": "code",
   "execution_count": null,
   "metadata": {},
   "outputs": [],
   "source": [
    "# same example as above but the new value for sales will force the execution of the else block\n",
    "sales = 1500\n",
    "if sales > 1000:\n",
    "    print(f'For sales of ${sales:,.2f} commission will be ${(sales - 1000) * 0.1:,.2f}')\n",
    "else:\n",
    "    print(f'For sales of ${sales:,.2f} commission will be $0.00')"
   ]
  },
  {
   "cell_type": "markdown",
   "metadata": {},
   "source": [
    "### Nested If Statement\n",
    "\n",
    "In this form there are multiple assertions and blocks. These assetions may occur within the True block or the False block or both. \n",
    "\n",
    "These forms are more difficult to master so you should spend extra time on these.\n",
    "\n",
    "#### if statement containing another if statements\n",
    "```python\n",
    "if expr1:                                                      \n",
    "    statements1      # processed if expr1 is True                   \n",
    "else                                                               \n",
    "    if expr2:                                                  \n",
    "        statements2  # processed if expr1 is False and expr2 is True\n",
    "    else                                                           \n",
    "        statements3  # processed if expr1 and expr2 are False       \n",
    "```\n",
    "\n",
    "##### this form is identical to the above form but simpler to understand (atleast in my opinion)\n",
    "```python\n",
    "if expr1:\n",
    "    statements1\n",
    "elif expr2:\n",
    "    statements2\n",
    "else\n",
    "    statements3\n",
    "```\n",
    "\n",
    "#### Another nested if statement\n",
    "```python\n",
    "if expr1:\n",
    "    statements      # processed if expr1 is True                   \n",
    "    if expr2:                                                  \n",
    "        statements  # processed if both expr1 and expr2 are True   \n",
    "    else                                                           \n",
    "        statements  # processed if expr1 is True and expr2 is False\n",
    "else                                                               \n",
    "    statements      # processed if expr1 is False                  \n",
    "```"
   ]
  },
  {
   "cell_type": "code",
   "execution_count": null,
   "metadata": {},
   "outputs": [],
   "source": [
    "# nested if statement\n",
    "temperature = 14               #change the value to 15, 20, 25 and 30 and execute the code\n",
    "if temperature < 15:\n",
    "    print(f'Cold')\n",
    "elif temperature > 25:\n",
    "    print(f'Hot')\n",
    "else:\n",
    "    print(f'Comfortable')"
   ]
  },
  {
   "cell_type": "code",
   "execution_count": null,
   "metadata": {},
   "outputs": [],
   "source": [
    "#More complex nested if statement\n",
    "score = 81                      #change the score and see if you can deduce the grade\n",
    "if score < 50:\n",
    "    print(f'A score of {score} will get you an F grade')\n",
    "elif score < 60:\n",
    "    print(f'A score of {score} will get you an D grade')\n",
    "elif score < 70:\n",
    "    print(f'A score of {score} will get you an C grade')\n",
    "elif score < 80:\n",
    "    print(f'A score of {score} will get you an B grade')\n",
    "else:\n",
    "    print(f'A score of {score} will get you an A grade')"
   ]
  },
  {
   "cell_type": "markdown",
   "metadata": {},
   "source": [
    "Comparisons with non-numbers"
   ]
  },
  {
   "cell_type": "code",
   "execution_count": null,
   "metadata": {},
   "outputs": [],
   "source": [
    "# Lexicographical comparison ( string )\n",
    "print(\"alice < bob -> \", end='')\n",
    "print(\"alice\" < \"bob\")\n",
    "\n",
    "print(\"alice > bob -> \", end='')\n",
    "print(\"alice\" > \"bob\")\n",
    "\n",
    "# Lists/Tuples (element-wise comparison, stops at first difference):\n",
    "a = [0, 1, 2]\n",
    "b = [0, 1, 2]\n",
    "e = f'{a} == {b}'\n",
    "print(f'{e} -> {eval(e)}')\n",
    "\n",
    "b = [1, 2]\n",
    "e = f'{a} == {b}'\n",
    "print(f'{e} -> {eval(e)}')\n",
    "\n",
    "e = f'{a} >= {b}'\n",
    "print(f'{e} -> {eval(e)}')\n",
    "\n",
    "e = f'{a} <= {b}'\n",
    "print(f'{e} -> {eval(e)}')\n",
    "\n",
    "e = f'{a} != {b}'\n",
    "print(f'{e} -> {eval(e)}')"
   ]
  },
  {
   "cell_type": "markdown",
   "metadata": {},
   "source": [
    "You may also chain these comparison operators"
   ]
  },
  {
   "cell_type": "code",
   "execution_count": null,
   "metadata": {},
   "outputs": [],
   "source": [
    "x = 10\n",
    "print(f'{ 1 < x < 10}')"
   ]
  },
  {
   "cell_type": "markdown",
   "metadata": {},
   "source": [
    "### <a id='and_or'></a>Creating more complex boolean expressions\n",
    "Boolean expressions may be combined using the boolean operators `and` and `or`\n",
    "\n",
    "```\n",
    "<<boolean expression 1>> and <<boolean expression 2>> #return True only if both are True\n",
    "\n",
    "<<boolean expression 1>> or <<boolean expression 2>>  #return False only if both are False\n",
    "```"
   ]
  },
  {
   "cell_type": "code",
   "execution_count": null,
   "metadata": {},
   "outputs": [],
   "source": [
    "age = 50\n",
    "service = 6\n",
    "\n",
    "if (age > 65) or (service > 10):            # the parenthesis are just for clarity, it is not necessary\n",
    "                                            # and is not normally present in code\n",
    "    print(\"You are eligible for the pension plan\")\n",
    "else:\n",
    "    print(\"You are not eligible for the pension plan\")"
   ]
  },
  {
   "cell_type": "code",
   "execution_count": null,
   "metadata": {},
   "outputs": [],
   "source": [
    "age = 20\n",
    "province = \"QC\"\n",
    "\n",
    "if age >= 18 and province == \"ON\":\n",
    "    print(\"You are eligible to vote in Ontario\")\n",
    "else:\n",
    "    print(\"You are not eligible to vote in Ontario\")"
   ]
  },
  {
   "cell_type": "code",
   "execution_count": null,
   "metadata": {},
   "outputs": [],
   "source": [
    "age < 65 and service < 10\n"
   ]
  },
  {
   "cell_type": "markdown",
   "metadata": {},
   "source": [
    "### Truthy and Falsy Values\n",
    "\n",
    "Python treats common values as True and False e.g.\n",
    "\n",
    "```\n",
    "True -> non zero number, non-empty sequence or mapping\n",
    "False => zero, empty sequence or mapping\n",
    "```"
   ]
  },
  {
   "cell_type": "code",
   "execution_count": null,
   "metadata": {},
   "outputs": [],
   "source": [
    "# do not try to understand the code, just focus on making sense of the output\n",
    "for ex in [0, 1, 0.0, 1.3, '', 'Hello', set(), {1, 2}, (), (1, 4), [], [4], {}, {80: 'http'}, True, False, None]:\n",
    "    print(f'{str(ex):<15} -> {str(type(ex)):<20} {bool(ex)}')"
   ]
  },
  {
   "cell_type": "markdown",
   "metadata": {},
   "source": [
    "### <a id='summary'></a>Summary\n",
    "-   If-statements control the flow of execution based on conditions.\n",
    "\n",
    "-   Variants: simple if, if-else, if-elif-else, nested if.\n",
    "\n",
    "-   Conditions built from boolean expressions, comparison operators, and logical operators.\n",
    "\n",
    "-   Python uses indentation instead of braces for code blocks.\n",
    "\n",
    "-   Many values have inherent truthiness or falsiness."
   ]
  }
 ],
 "metadata": {
  "kernelspec": {
   "display_name": "Python 3",
   "language": "python",
   "name": "python3"
  },
  "language_info": {
   "codemirror_mode": {
    "name": "ipython",
    "version": 3
   },
   "file_extension": ".py",
   "mimetype": "text/x-python",
   "name": "python",
   "nbconvert_exporter": "python",
   "pygments_lexer": "ipython3",
   "version": "3.13.2"
  }
 },
 "nbformat": 4,
 "nbformat_minor": 2
}
