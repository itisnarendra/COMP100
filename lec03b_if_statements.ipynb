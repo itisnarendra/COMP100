{
 "cells": [
  {
   "cell_type": "markdown",
   "metadata": {},
   "source": [
    "In this notebook and the next one, we will be examining the second control structure - Conditional/Selection/Branching\n",
    "# Making Decision - if statement\n",
    "\n",
    "Contents:\n",
    "1.  [Boolean expressions](#boolean_expression)\n",
    "    -   Comparision operators\n",
    "1.  [If statement](#if_statement)\n",
    "    -   Simple if statement without the else block\n",
    "    -   If statement with else block\n",
    "    -   Nested form\n",
    "1.  [Creating more complex logic with `and` and `or`](#and_or)\n",
    "1.  [Summary](#summary)\n"
   ]
  },
  {
   "cell_type": "markdown",
   "metadata": {},
   "source": [
    "### <a id='boolean_expression'></a>Boolean expression\n",
    "A boolean expresion is a statement that will be evaluated to `True` or `False`.  \n",
    "A very common way to obtaining a boolean expression is by using comparison (relational) operators.\n",
    "\n",
    "#### Comparison Operators\n",
    "These operators takes two operands often of the same data types and returns a boolean value\n",
    "\n",
    "They are:\n",
    "-   `<` - evaluates to `True` only if the left side value is strickly less that the right side.\n",
    "-   `>` - evaluates to `True` only if the left side value is strickly greater that the right side.\n",
    "-   `==` - evaluates to `True` only if the left side value is the same as the right side.\n",
    "-   `!-` - evaluates to `True` only if the left side value is not the same as the right side.\n",
    "-   `<=` - evaluates to `True` only if the left side value is less or equal to the right side.\n",
    "-   `>=` - evaluates to `True` only if the left side value is more than or equal to the right side.\n"
   ]
  },
  {
   "cell_type": "code",
   "execution_count": null,
   "metadata": {},
   "outputs": [],
   "source": [
    "a = [-2, 1, 3, 1.2, 3.1, 9.8, False, True, True, \"'apple'\", \"'zebra'\", \"'baby'\", [4, 9], [2, 3], [5]]\n",
    "b = [ 3, 1, 2, 1.4, 3.1, 7.2, True, True, False, \"'zebra'\", \"'apple'\", \"'baby'\", [5, 0], [2, 3], [4]] "
   ]
  },
  {
   "cell_type": "code",
   "execution_count": null,
   "metadata": {},
   "outputs": [],
   "source": [
    "#ignore the logic of the code and just focus on the output\n",
    "# you will be able to understand the code after we cover looping\n",
    "for i in range(len(a)):\n",
    "    e = f'{a[i]} < {b[i]}'\n",
    "    print(f'{e} -> {eval(e)}')"
   ]
  },
  {
   "cell_type": "code",
   "execution_count": null,
   "metadata": {},
   "outputs": [],
   "source": [
    "#again ignore the logic of the code and just focus on the output\n",
    "for i in range(len(a)):\n",
    "    e = f'{a[i]} > {b[i]}'\n",
    "    print(f'{e} -> {eval(e)}')"
   ]
  },
  {
   "cell_type": "code",
   "execution_count": null,
   "metadata": {},
   "outputs": [],
   "source": [
    "#again ignore the logic of the code and just focus on the output\n",
    "for i in range(len(a)):\n",
    "    e = f'{a[i]} == {b[i]}'\n",
    "    print(f'{e} -> {eval(e)}')"
   ]
  },
  {
   "cell_type": "code",
   "execution_count": null,
   "metadata": {},
   "outputs": [],
   "source": [
    "#again ignore the logic of the code and just focus on the output\n",
    "\n",
    "for i in range(len(a)):\n",
    "    e = f'{a[i]} >= {b[i]}'\n",
    "    print(f'{e} -> {eval(e)}')"
   ]
  },
  {
   "cell_type": "code",
   "execution_count": null,
   "metadata": {},
   "outputs": [],
   "source": [
    "#again ignore the logic of the code and just focus on the output\n",
    "for i in range(len(a)):\n",
    "    e = f'{a[i]} <= {b[i]}'\n",
    "    print(f'{e} -> {eval(e)}')"
   ]
  },
  {
   "cell_type": "code",
   "execution_count": null,
   "metadata": {},
   "outputs": [],
   "source": [
    "#again ignore the logic of the code and just focus on the output\n",
    "for i in range(len(a)):\n",
    "    e = f'{a[i]} != {b[i]}'\n",
    "    print(f'{e} -> {eval(e)}')"
   ]
  },
  {
   "cell_type": "markdown",
   "metadata": {},
   "source": [
    "### <a id='if_statement'></a>If statement\n",
    "\n",
    "We will first look at the simplest form.  \n",
    "There is an assertion statement (one that evaluates to either True of False) that is terminated by a colon (`:`) followed by a block of executable statement (it can also be a single statement)   \n",
    "To identify this block to the interpreter, we indent all the statements in the block\n",
    "\n",
    "Other languages uses a system of curly braces to delineate blocks of code\n",
    "\n",
    "#### Syntax\n",
    "Just a True block\n",
    "``` \n",
    "if <<boolean expression>>:\n",
    "    statements\n",
    "```"
   ]
  },
  {
   "cell_type": "code",
   "execution_count": null,
   "metadata": {},
   "outputs": [],
   "source": [
    "#notice that the true block contains two statements and there are both indented\n",
    "score = 92\n",
    "if score >= 90:\n",
    "    print('Good job!')\n",
    "    print(f'A score of {score} will get you an A+ grade')\n"
   ]
  },
  {
   "cell_type": "code",
   "execution_count": null,
   "metadata": {},
   "outputs": [],
   "source": [
    "# what does the following code output?\n",
    "score = 80\n",
    "if score >= 90:\n",
    "    print(f'A score of {score} will get you an A+ grade')"
   ]
  },
  {
   "cell_type": "markdown",
   "metadata": {},
   "source": [
    "### If-Else statement\n",
    "\n",
    "In this form there are two blocks (we can call them the True block and the else block). Depending on the assertion, either block will be processed but not both blocks.\n",
    "\n",
    "As in the first example, we will have to indent both blocks.\n",
    "first look at the simplest form.  \n",
    "There is an assertion statement that is terminated by a colon followed by a block of executable statement, then the `else` keyword terminated by a colon followed by a block of executable statements.   \n",
    "\n",
    "Again to identify the blocks to the interpreter, we indent all the statements in the blocks.\n",
    "\n",
    "#### Syntax\n",
    "```\n",
    "if <<boolean expression>>:\n",
    "    statements            \n",
    "else:                     \n",
    "    statements            \n",
    "```"
   ]
  },
  {
   "cell_type": "code",
   "execution_count": null,
   "metadata": {},
   "outputs": [],
   "source": [
    "# if statement with both true and elso block\n",
    "sales = 900\n",
    "if sales > 1000:\n",
    "    print(f'For sales of ${sales:,.2f} commission will be ${(sales - 1000) * 0.1:,.2f}')\n",
    "else:\n",
    "    print(f'For sales of ${sales:,.2f} commission will be $0.00')\n",
    "\n",
    "#ignore the strange formatting code after the numbers, we will cover that when we do loops"
   ]
  },
  {
   "cell_type": "code",
   "execution_count": null,
   "metadata": {},
   "outputs": [],
   "source": [
    "# same example as above but the new value for sales will force execute of the else block\n",
    "sales = 1500\n",
    "if sales > 1000:\n",
    "    print(f'For sales of ${sales:,.2f} commission will be ${(sales - 1000) * 0.1:,.2f}')\n",
    "else:\n",
    "    print(f'For sales of ${sales:,.2f} commission will be $0.00')"
   ]
  },
  {
   "cell_type": "markdown",
   "metadata": {},
   "source": [
    "### If-Elif-Else statement\n",
    "\n",
    "In this form there are two blocks (we can call them the True block and the else block). Depending on the assertion, either block will be processed but no both blocks.\n",
    "\n",
    "There is an assertion statement that is terminated by a colon followed by a block of executable statement, then the `else` keyword terminated by a colon followed by a block of executable statements.   \n",
    "\n",
    "Again to identify the blocks to the interpreter, we indent all the statements in the blocks.\n",
    "\n",
    "#### Syntax (if statement containing if statements)\n",
    "```\n",
    "if <<boolean expression>>:\n",
    "    statements\n",
    "elif <<boolean expression>>:\n",
    "    statements\n",
    "else\n",
    "    statements\n",
    "```\n",
    "\n",
    "#### Syntax (nested if statement)\n",
    "```\n",
    "if <<boolean expression>>:\n",
    "    statements\n",
    "    if <<boolean expression>>:\n",
    "        statements\n",
    "    else\n",
    "        statements\n",
    "else\n",
    "    statements\n",
    "```\n",
    "\n",
    "or\n",
    "\n",
    "```\n",
    "if <<boolean expression>>:\n",
    "    statements\n",
    "else\n",
    "    if <<boolean expression>>:\n",
    "        statements\n",
    "    else\n",
    "        statements\n",
    "    statements\n",
    "```"
   ]
  },
  {
   "cell_type": "code",
   "execution_count": null,
   "metadata": {},
   "outputs": [],
   "source": [
    "# nested if statement\n",
    "temperature = 14               #change the value to 15, 20, 25 and 30 and execute the code\n",
    "if temperature < 15:\n",
    "    print(f'Cold')\n",
    "elif temperature > 25:\n",
    "    print(f'Hot')\n",
    "else:\n",
    "    print(f'Confortable')"
   ]
  },
  {
   "cell_type": "code",
   "execution_count": null,
   "metadata": {},
   "outputs": [],
   "source": [
    "#More complex nested if statement\n",
    "score = 81                      #change the score and see if you can deduce the grade\n",
    "if score < 50:\n",
    "    print(f'A score of {score} will get you an F grade')\n",
    "elif score < 60:\n",
    "    print(f'A score of {score} will get you an D grade')\n",
    "elif score < 70:\n",
    "    print(f'A score of {score} will get you an C grade')\n",
    "elif score < 80:\n",
    "    print(f'A score of {score} will get you an B grade')\n",
    "else:\n",
    "    print(f'A score of {score} will get you an A grade')"
   ]
  },
  {
   "cell_type": "markdown",
   "metadata": {},
   "source": [
    "Comparisons with non-numbers"
   ]
  },
  {
   "cell_type": "code",
   "execution_count": null,
   "metadata": {},
   "outputs": [],
   "source": [
    "# Lexicographical comparison ( string )\n",
    "print(\"alice < bob -> \", end='')\n",
    "print(\"alice\" < \"bob\")\n",
    "\n",
    "print(\"alice > bob -> \", end='')\n",
    "print(\"alice\" > \"bob\")\n",
    "\n",
    "# Lists/Tuples (element-wise comparison, stops at first difference):\n",
    "a = [0, 1, 2]\n",
    "b = [0, 1, 2]\n",
    "e = f'{a} == {b}'\n",
    "print(f'{e} -> {eval(e)}')\n",
    "\n",
    "b = [1, 2]\n",
    "e = f'{a} == {b}'\n",
    "print(f'{e} -> {eval(e)}')\n",
    "\n",
    "e = f'{a} >= {b}'\n",
    "print(f'{e} -> {eval(e)}')\n",
    "\n",
    "e = f'{a} <= {b}'\n",
    "print(f'{e} -> {eval(e)}')\n",
    "\n",
    "e = f'{a} != {b}'\n",
    "print(f'{e} -> {eval(e)}')"
   ]
  },
  {
   "cell_type": "markdown",
   "metadata": {},
   "source": [
    "You may also chain these comparison operators"
   ]
  },
  {
   "cell_type": "code",
   "execution_count": null,
   "metadata": {},
   "outputs": [],
   "source": [
    "x = 10\n",
    "print(f'{ 1 < x < 10}')"
   ]
  },
  {
   "cell_type": "markdown",
   "metadata": {},
   "source": [
    "### <a id='and_or'></a>Creating more complex boolean expressions\n",
    "Boolean expressions may be combined using the boolean operators and and or\n",
    "\n",
    "```\n",
    "<<boolean expression 1>> and <<boolean expression 2>> #return True only if both are True\n",
    "\n",
    "<<boolean expression 1>> or <<boolean expression 2>>  #return False only if both are False\n",
    "```"
   ]
  },
  {
   "cell_type": "code",
   "execution_count": null,
   "metadata": {},
   "outputs": [],
   "source": [
    "age = 50\n",
    "service = 6\n",
    "\n",
    "if age > 65 or service > 10:\n",
    "    print(\"You are eligible for the pension plan\")\n",
    "else:\n",
    "    print(\"You are not eligible for the pension plan\")"
   ]
  },
  {
   "cell_type": "code",
   "execution_count": null,
   "metadata": {},
   "outputs": [],
   "source": [
    "age = 20\n",
    "province = \"QC\"\n",
    "\n",
    "if age >= 18 and province == \"ON\":\n",
    "    print(\"You are eligible to vote in Ontario\")\n",
    "else:\n",
    "    print(\"You are not eligible to vote in Ontario\")"
   ]
  },
  {
   "cell_type": "code",
   "execution_count": null,
   "metadata": {},
   "outputs": [],
   "source": [
    "age < 65 and service < 10\n"
   ]
  },
  {
   "cell_type": "markdown",
   "metadata": {},
   "source": [
    "# Python treats common values as True and False e.g.\n",
    "```\n",
    "True -> non zero number, non-empty sequence or mapping\n",
    "False => zero, empty sequence or mapping\n",
    "```"
   ]
  },
  {
   "cell_type": "code",
   "execution_count": null,
   "metadata": {},
   "outputs": [],
   "source": [
    "# do not try to understand the code, just focus on making sense of the output\n",
    "for ex in [0, 1, 0.0, 1.3, '', 'Hello', set(), {1, 2}, (), (1, 4), [], [4], {}, {80: 'http'}, True, False, None]:\n",
    "    print(f'{str(ex):<15} -> {str(type(ex)):<20} {bool(ex)}')"
   ]
  }
 ],
 "metadata": {
  "kernelspec": {
   "display_name": "Python 3",
   "language": "python",
   "name": "python3"
  },
  "language_info": {
   "codemirror_mode": {
    "name": "ipython",
    "version": 3
   },
   "file_extension": ".py",
   "mimetype": "text/x-python",
   "name": "python",
   "nbconvert_exporter": "python",
   "pygments_lexer": "ipython3",
   "version": "3.13.2"
  }
 },
 "nbformat": 4,
 "nbformat_minor": 2
}
