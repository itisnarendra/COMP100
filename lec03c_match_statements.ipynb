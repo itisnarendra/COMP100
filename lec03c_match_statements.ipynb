{
 "cells": [
  {
   "cell_type": "markdown",
   "metadata": {},
   "source": [
    "# Making Decision\n",
    "\n",
    "## match statement\n",
    "The match statement is similar to the switch statement in \n",
    "most other languages. The main advantage is that it more\n",
    "readable than the corresponding if statement.\n",
    "\n",
    "### Syntax\n",
    "Simple match\n",
    "```\n",
    "match <<some_value>>:\n",
    "    case 'a':\n",
    "        answer = first + second\n",
    "    case 's':\n",
    "        answer = first - second\n",
    "    case 'm':\n",
    "        answer = first * second\n",
    "    case _:\n",
    "        answer = first / second\n",
    "```"
   ]
  },
  {
   "cell_type": "code",
   "execution_count": 1,
   "metadata": {},
   "outputs": [
    {
     "name": "stdout",
     "output_type": "stream",
     "text": [
      "SAt is a family day\n"
     ]
    }
   ],
   "source": [
    "day = 'SAt'\n",
    "second = 7\n",
    "operator = '-'\n",
    "\n",
    "match(day.lower()):                 #the lower() function returns all the characters in the lowercase\n",
    "    case 'sat' | 'sun':             #two cases combined using the | operator\n",
    "        print(f'{day} is a family day')\n",
    "    case _:\n",
    "        print(f'{day} is a work day')"
   ]
  },
  {
   "cell_type": "code",
   "execution_count": 4,
   "metadata": {},
   "outputs": [
    {
     "name": "stdout",
     "output_type": "stream",
     "text": [
      "greater than 16\n"
     ]
    }
   ],
   "source": [
    "x = int(input('Enter a number between 1 and 20: '))\n",
    "\n",
    "match x:\n",
    "    case 1:\n",
    "        print('one')\n",
    "    case 2 | 3:\n",
    "        print('two or three')\n",
    "    case x if x % 5 == 0:\n",
    "        print('multiple of 5')\n",
    "    case x if x > 16:\n",
    "        print('greater than 16')\n",
    "    case _:\n",
    "        print('Value not in range')\n",
    "    "
   ]
  },
  {
   "cell_type": "code",
   "execution_count": 12,
   "metadata": {},
   "outputs": [
    {
     "name": "stdout",
     "output_type": "stream",
     "text": [
      "more than three items narendra Kowshal Drupatti Pershad\n"
     ]
    }
   ],
   "source": [
    "x = 'narendra Kowshal Drupatti Pershad'.split()\n",
    "match x:\n",
    "    case [x, y]:\n",
    "        print(f'two items {x} {y}')\n",
    "    case [x, y, z]:\n",
    "        print(f'three items {x} {y} {z}')\n",
    "    case [x, *y , z]:\n",
    "        print(f'more than three items {x} {' '.join(y)} {z}')\n",
    "    case _:\n",
    "        print('onkown error')"
   ]
  }
 ],
 "metadata": {
  "kernelspec": {
   "display_name": "Python 3",
   "language": "python",
   "name": "python3"
  },
  "language_info": {
   "codemirror_mode": {
    "name": "ipython",
    "version": 3
   },
   "file_extension": ".py",
   "mimetype": "text/x-python",
   "name": "python",
   "nbconvert_exporter": "python",
   "pygments_lexer": "ipython3",
   "version": "3.13.2"
  }
 },
 "nbformat": 4,
 "nbformat_minor": 2
}
