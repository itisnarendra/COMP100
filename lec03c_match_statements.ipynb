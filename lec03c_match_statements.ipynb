{
 "cells": [
  {
   "cell_type": "markdown",
   "metadata": {},
   "source": [
    "In this notebook, we will explore the match statement. Here there is multi-way branching instead of the two-way branching as with the if statement.\n",
    "\n",
    "# Making Decision - match statement\n",
    "In its basic form the match statement is similar to the switch statement in \n",
    "most other languages. However, it is much more powerful that the version in C or Java because it does pattern matchingThe main advantage is that it more\n",
    "readable than the corresponding if statement.\n",
    "\n",
    "### Syntax\n",
    "Simple match\n",
    "```\n",
    "switch «variable/expression»:\n",
    "    case «pattern1»:\n",
    "        statement1\n",
    "    case «pattern2»:\n",
    "        statement2\n",
    "    case _:\n",
    "        statement3        \n",
    "```"
   ]
  },
  {
   "cell_type": "code",
   "execution_count": null,
   "metadata": {},
   "outputs": [],
   "source": [
    "# a simple example of matching literals\n",
    "command = \"start\"\n",
    "\n",
    "match command:\n",
    "    case \"start\":\n",
    "        print(\"Starting...\")\n",
    "    case \"stop\":\n",
    "        print(\"Stopping...\")\n",
    "    case _:\n",
    "        print(\"Unknown command\")\n",
    "\n",
    "# change the value of command to test different cases"
   ]
  },
  {
   "cell_type": "code",
   "execution_count": null,
   "metadata": {},
   "outputs": [],
   "source": [
    "# an example\n",
    "# matching multiple values\n",
    "day = 'SAt'                         # notice thh choice of casing for day\n",
    "second = 7\n",
    "operator = '-'\n",
    "\n",
    "match(day.lower()):                 #the lower() function returns all the characters in the lowercase\n",
    "    case 'sat' | 'sun':             #two cases combined using the | operator\n",
    "        print(f'{day} is a family day')\n",
    "    case _:\n",
    "        print(f'{day} is a work day')"
   ]
  },
  {
   "cell_type": "code",
   "execution_count": null,
   "metadata": {},
   "outputs": [],
   "source": [
    "# this example illultrates variable binding\n",
    "point = (3, 4)\n",
    "\n",
    "match point:\n",
    "    case (0, 0):\n",
    "        print(\"Origin\")\n",
    "    case (x, 0):\n",
    "        print(f\"On the X-axis at {x}\")\n",
    "    case (0, y):\n",
    "        print(f\"On the Y-axis at {y}\")\n",
    "    case (x, y):\n",
    "        print(f\"Point at x={x}, y={y}\")\n"
   ]
  },
  {
   "cell_type": "code",
   "execution_count": null,
   "metadata": {},
   "outputs": [],
   "source": [
    "# this example illustrates guards conditions\n",
    "num = 15\n",
    "\n",
    "match num:\n",
    "    case x if x < 0:\n",
    "        print(\"Negative\")\n",
    "    case x if x % 2 == 0:\n",
    "        print(\"Even\")\n",
    "    case x:\n",
    "        print(\"Odd\")\n"
   ]
  },
  {
   "cell_type": "code",
   "execution_count": null,
   "metadata": {},
   "outputs": [],
   "source": [
    "# a slightly more complex example\n",
    "x = int(input('Enter a number between 1 and 20: '))\n",
    "\n",
    "match x:\n",
    "    case 1:\n",
    "        print('one')\n",
    "    case 2 | 3:\n",
    "        print('two or three')\n",
    "    case x if x % 5 == 0:\n",
    "        print('multiple of 5')\n",
    "    case x if x > 16:\n",
    "        print('greater than 16')\n",
    "    case _:\n",
    "        print('Value not in range')\n",
    "    "
   ]
  },
  {
   "cell_type": "code",
   "execution_count": null,
   "metadata": {},
   "outputs": [],
   "source": [
    "# a more complex example\n",
    "# matching sequences\n",
    "x = 'narendra Kowshal Drupatti Pershad'.split()\n",
    "match x:\n",
    "    case [x, y]:\n",
    "        print(f'two items {x} {y}')\n",
    "    case [x, y, z]:\n",
    "        print(f'three items {x} {y} {z}')\n",
    "    case [x, *y , z]:\n",
    "        print(f'more than three items {x} {' '.join(y)} {z}')\n",
    "    case _:\n",
    "        print('unkown error')"
   ]
  },
  {
   "cell_type": "code",
   "execution_count": null,
   "metadata": {},
   "outputs": [],
   "source": [
    "# matching dictionaries\n",
    "person = {'name': 'Narendra', 'age': 30, 'city': 'Delhi'}\n",
    "match person:\n",
    "    case {'name': name, 'age': age}:\n",
    "        print(f'Name: {name}, Age: {age}')\n",
    "    case {'name': name, 'city': city}:\n",
    "        print(f'Name: {name}, City: {city}')\n",
    "    case _:\n",
    "        print('Unknown person data')"
   ]
  },
  {
   "cell_type": "code",
   "execution_count": null,
   "metadata": {},
   "outputs": [],
   "source": [
    "# matching classes\n",
    "class Point:\n",
    "    def __init__(self, x, y): \n",
    "        self.x = x\n",
    "        self.y = y\n",
    "\n",
    "p = Point(1, 2)\n",
    "\n",
    "match p:\n",
    "    case Point(x=0, y=0):\n",
    "        print('Origin')\n",
    "    case Point(x, y):\n",
    "        print(f'Point at {x}, {y}')\n"
   ]
  },
  {
   "cell_type": "markdown",
   "metadata": {},
   "source": [
    "### <a id='summary'></a>Summary\n",
    "-   match is like switch, but much more powerful.\n",
    "-   Can match constants, variables, sequences, dicts, classes.\n",
    "-   Use | for multiple options.\n",
    "-   Supports guards (if) for extra conditions.\n",
    "-   Introduced in Python 3.10 so it won’t work in earlier versions.\n",
    "-   The match statement checks patterns in order - first match wins\n",
    "-   Unlike C-style switch statements, Python's match doesn't have fall-through\n",
    "-   Use case _ as default.\n",
    "-   The _ pattern must come last if used\n",
    "-   The statement is exhaustive - your patterns should cover all possibilities or include a wildcard\n",
    "\n",
    "Patterns can capture variables, but be careful about name conflicts\n"
   ]
  }
 ],
 "metadata": {
  "kernelspec": {
   "display_name": "Python 3",
   "language": "python",
   "name": "python3"
  },
  "language_info": {
   "codemirror_mode": {
    "name": "ipython",
    "version": 3
   },
   "file_extension": ".py",
   "mimetype": "text/x-python",
   "name": "python",
   "nbconvert_exporter": "python",
   "pygments_lexer": "ipython3",
   "version": "3.13.2"
  }
 },
 "nbformat": 4,
 "nbformat_minor": 2
}
