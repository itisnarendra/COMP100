{
 "cells": [
  {
   "cell_type": "code",
   "execution_count": 9,
   "metadata": {},
   "outputs": [
    {
     "name": "stdout",
     "output_type": "stream",
     "text": [
      "set()\n",
      "{1, 2}\n",
      "set()\n"
     ]
    }
   ],
   "source": [
    "a = set()\n",
    "print(a)\n",
    "a = {1, 2}\n",
    "print(a)\n",
    "a.clear()\n",
    "print(a)"
   ]
  },
  {
   "cell_type": "code",
   "execution_count": 10,
   "metadata": {},
   "outputs": [
    {
     "name": "stdout",
     "output_type": "stream",
     "text": [
      "{2, 3, 4}\n"
     ]
    }
   ],
   "source": [
    "a.update({2, 3, 4})\n",
    "print(a)"
   ]
  },
  {
   "cell_type": "markdown",
   "metadata": {},
   "source": [
    "### set specific methods\n",
    "`difference()`, `intersection()`, `union()`, `issubset()`, `issuperset()`"
   ]
  },
  {
   "cell_type": "code",
   "execution_count": 8,
   "metadata": {},
   "outputs": [
    {
     "name": "stdout",
     "output_type": "stream",
     "text": [
      "  a difference c: {8, 6}\n",
      "a intersection c: {2, 4}\n",
      "       a union c: {1, 2, 3, 4, 6, 8}\n",
      "  a isdisjoint b: True\n",
      "  a isdisjoint c: False\n",
      "    a issubset d: True\n",
      "    a issubset b: False\n",
      "  d issuperset c: True\n",
      "  b issuperset c: False\n"
     ]
    }
   ],
   "source": [
    "a = {2, 4, 6, 8}\n",
    "b = {1, 3, 5, 7, 9}\n",
    "c = {1, 2, 3, 4}\n",
    "d = {1, 2, 3, 4, 5, 6, 7, 8, 9}\n",
    "print(f'  a difference c: {a.difference(c)}')\n",
    "print(f'a intersection c: {a.intersection(c)}')\n",
    "print(f'       a union c: {a.union(c)}')\n",
    "print(f'  a isdisjoint b: {a.isdisjoint(b)}')\n",
    "print(f'  a isdisjoint c: {a.isdisjoint(c)}')\n",
    "print(f'    a issubset d: {a.issubset(d)}')\n",
    "print(f'    a issubset b: {a.issubset(b)}')\n",
    "print(f'  d issuperset c: {d.issuperset(c)}')\n",
    "print(f'  b issuperset c: {b.issuperset(c)}')"
   ]
  },
  {
   "cell_type": "code",
   "execution_count": null,
   "metadata": {},
   "outputs": [],
   "source": []
  }
 ],
 "metadata": {
  "kernelspec": {
   "display_name": "Python 3",
   "language": "python",
   "name": "python3"
  },
  "language_info": {
   "codemirror_mode": {
    "name": "ipython",
    "version": 3
   },
   "file_extension": ".py",
   "mimetype": "text/x-python",
   "name": "python",
   "nbconvert_exporter": "python",
   "pygments_lexer": "ipython3",
   "version": "3.12.1"
  }
 },
 "nbformat": 4,
 "nbformat_minor": 2
}
