{
 "cells": [
  {
   "cell_type": "markdown",
   "metadata": {},
   "source": [
    "### Modes for opening a file\n",
    "Character\tMeaning\n",
    "\n",
    "'r'\topen for reading (default)\n",
    "\n",
    "'w'\topen for writing, truncating the file first\n",
    "\n",
    "'x'\tcreate a new file and open it for writing\n",
    "\n",
    "'a'\topen for writing, appending to the end of the file if it exists\n",
    "\n",
    "'b'\tbinary mode\n",
    "\n",
    "'t'\ttext mode (default)\n",
    "\n",
    "'+'\topen a disk file for updating (reading and writing)\n",
    "\n",
    "Default mode it read text"
   ]
  },
  {
   "cell_type": "code",
   "execution_count": 5,
   "metadata": {},
   "outputs": [
    {
     "name": "stdout",
     "output_type": "stream",
     "text": [
      "    name: Data/person.txt\n",
      "    mode: wt\n",
      "encoding: cp1252\n",
      "  closed: False\n",
      "  fileno: 3\n",
      "    tell: 0\n",
      "  closed: True\n"
     ]
    }
   ],
   "source": [
    "f = open('Data/person.txt', 'wt')\n",
    "print(f'    name: {f.name}')\n",
    "print(f'    mode: {f.mode}')\n",
    "print(f'encoding: {f.encoding}')\n",
    "print(f'  closed: {f.closed}')\n",
    "print(f'  fileno: {f.fileno()}')\n",
    "print(f'    tell: {f.tell()}')\n",
    "\n",
    "f.close()\n",
    "print(f'  closed: {f.closed}')"
   ]
  },
  {
   "cell_type": "code",
   "execution_count": 6,
   "metadata": {},
   "outputs": [],
   "source": [
    "f = open('person.txt', 'wt')\n",
    "f.write('Created on jan-18-2025 by Narendra\\n')\n",
    "f.write('12 times table\\n')\n",
    "f.write('--------------\\n')\n",
    "for x in range(1, 13):\n",
    "    f.write(f'{x} x 12 = {x * 12}\\n')\n",
    "f.close()"
   ]
  },
  {
   "cell_type": "markdown",
   "metadata": {},
   "source": [
    "If the file is open in append mode, then write puts text at the end of the existing file"
   ]
  },
  {
   "cell_type": "code",
   "execution_count": 7,
   "metadata": {},
   "outputs": [],
   "source": [
    "f = open('person.txt', 'at')\n",
    "f.write('this should be at the bottom of the file')\n",
    "f.close()"
   ]
  },
  {
   "cell_type": "code",
   "execution_count": null,
   "metadata": {},
   "outputs": [],
   "source": [
    "# f = open('person.dat', 'wb')\n",
    "# f.write(b'Created on jan-18-2025 by Narendra\\n')\n",
    "# f.write(b'12 times table\\n')\n",
    "# f.write(b'--------------\\n')\n",
    "# for x in range(1, 13):\n",
    "#     line = f'{x} x 12 = {x * 12}'\n",
    "#     f.write(bytearray(line, encoding ='utf-8'))\n",
    "#     f.write(b'\\n')\n",
    "# f.close()"
   ]
  },
  {
   "cell_type": "markdown",
   "metadata": {},
   "source": [
    "### Reading a file\n",
    "    - `read()` reads the entire file and returns it as a single string\n",
    "    - `readline()` reads one line\n",
    "    - `readlines()` reads the entire file and returns it as a list of strings"
   ]
  },
  {
   "cell_type": "code",
   "execution_count": 34,
   "metadata": {},
   "outputs": [
    {
     "name": "stdout",
     "output_type": "stream",
     "text": [
      "first read: Created on jan-18-20\n",
      "the balance: 25 by Narendra\n",
      "12 times table\n",
      "--------------\n",
      "1 x 12 = 12\n",
      "2 x 12 = 24\n",
      "3 x 12 = 36\n",
      "4 x 12 = 48\n",
      "5 x 12 = 60\n",
      "6 x 12 = 72\n",
      "7 x 12 = 84\n",
      "8 x 12 = 96\n",
      "9 x 12 = 108\n",
      "10 x 12 = 120\n",
      "11 x 12 = 132\n",
      "12 x 12 = 144\n",
      "this should be at the bottom of the file\n"
     ]
    }
   ],
   "source": [
    "f = open('person.txt')\n",
    "print(f'first read: {f.read(20)}')\n",
    "print(f'the balance: {f.read()}')\n",
    "f.close()"
   ]
  },
  {
   "cell_type": "code",
   "execution_count": 36,
   "metadata": {},
   "outputs": [
    {
     "name": "stdout",
     "output_type": "stream",
     "text": [
      "Created on jan-18-20\n"
     ]
    }
   ],
   "source": [
    "f = open('person.txt')\n",
    "print(f'{f.readline(20)}')\n",
    "f.close()"
   ]
  },
  {
   "cell_type": "code",
   "execution_count": 33,
   "metadata": {},
   "outputs": [
    {
     "name": "stdout",
     "output_type": "stream",
     "text": [
      "['Created on jan-18-2025 by Narendra\\n', '12 times table\\n', '--------------\\n', '1 x 12 = 12\\n', '2 x 12 = 24\\n', '3 x 12 = 36\\n', '4 x 12 = 48\\n', '5 x 12 = 60\\n', '6 x 12 = 72\\n', '7 x 12 = 84\\n', '8 x 12 = 96\\n', '9 x 12 = 108\\n', '10 x 12 = 120\\n', '11 x 12 = 132\\n', '12 x 12 = 144\\n', 'this should be at the bottom of the file']\n"
     ]
    }
   ],
   "source": [
    "f = open('person.txt')\n",
    "print(f'{f.readlines()}')\n",
    "f.close()"
   ]
  },
  {
   "cell_type": "markdown",
   "metadata": {},
   "source": [
    "Below the the perferred way of reading a file"
   ]
  },
  {
   "cell_type": "code",
   "execution_count": null,
   "metadata": {},
   "outputs": [],
   "source": [
    "f = open('person.txt')\n",
    "for line in f:\n",
    "    print(line)\n",
    "f.close()"
   ]
  },
  {
   "cell_type": "code",
   "execution_count": 24,
   "metadata": {},
   "outputs": [
    {
     "name": "stdout",
     "output_type": "stream",
     "text": [
      "b'hello world'\n"
     ]
    }
   ],
   "source": [
    "print(b'hello world')"
   ]
  },
  {
   "cell_type": "code",
   "execution_count": 8,
   "metadata": {},
   "outputs": [
    {
     "name": "stdout",
     "output_type": "stream",
     "text": [
      "file contents:\n",
      "Created on jan-18-2025 by Narendra\n",
      "\n",
      "12 times table\n",
      "--------------\n",
      "1 x 12 = 12\n",
      "2 x 12 = 24\n",
      "3 x 12 = 36\n",
      "4 x 12 = 48\n",
      "5 x 12 = 60\n",
      "6 x 12 = 72\n",
      "7 x 12 = 84\n",
      "8 x 12 = 96\n",
      "9 x 12 = 108\n",
      "10 x 12 = 120\n",
      "11 x 12 = 132\n",
      "12 x 12 = 144\n",
      "this should be at the bottom of the file\n"
     ]
    }
   ],
   "source": [
    "with open('person.txt') as f:\n",
    "    print('file contents:')\n",
    "    print(f'{f.readline()}')\n",
    "    print(f'{f.read()}')"
   ]
  }
 ],
 "metadata": {
  "kernelspec": {
   "display_name": "Python 3",
   "language": "python",
   "name": "python3"
  },
  "language_info": {
   "codemirror_mode": {
    "name": "ipython",
    "version": 3
   },
   "file_extension": ".py",
   "mimetype": "text/x-python",
   "name": "python",
   "nbconvert_exporter": "python",
   "pygments_lexer": "ipython3",
   "version": "3.13.2"
  }
 },
 "nbformat": 4,
 "nbformat_minor": 2
}
