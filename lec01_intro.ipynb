{
 "cells": [
  {
   "cell_type": "markdown",
   "id": "aaac3828",
   "metadata": {},
   "source": [
    "**These notebooks were composed for COMP100 by  $\\color{red}{\\text{Narendra Pershad}}$&copy;**\n",
    "\n",
    "---  \n",
    "\n",
    "# **How to use these notebooks.**\n",
    "-   Before coming to these notebooks, you should study the notes provided by your instructor.\n",
    "-   Read the explanations above each cell once or twice.\n",
    "-   Make sure you understand the statements in each cell as well as the resulting output.\n",
    "-   Try to predict the output before you run the cell. If your predictions do not match the expected output then, figure out why this is so.\n",
    "-   See if your predictions matches the actual output.  \n",
    "-   To execute the statements, click the run icon or press Ctrl-Enter\n",
    "-   If you are not running the cells sequentially, then it is possible that executing a particular cell might fail because that cell depends on the successful execution of a prior cell.\n",
    "-   You may make changes to this notebook to clarify concepts or to explore further\n",
    "\n",
    "Alternate ways of interacting with python:   \n",
    "-   using jupyter notebooks\n",
    "-   using google colab\n",
    "-   using python REPL\n",
    "\n",
    "This notebook is a work in progress, so if you find inaccuracies or omissions, \n",
    "make the necessary corrections and enjoy.  \n",
    "Consider sending any feedback on errors or any improvements to [npershad@my.centennialcollege.ca](mailto@npershad@my.centennialcollege.ca)\n",
    "\n",
    "Happy learning!"
   ]
  },
  {
   "cell_type": "markdown",
   "id": "78021b6a",
   "metadata": {},
   "source": [
    "## What are Notebooks?\n",
    "A notebook is an interactive document format that integrates executable code, rich output, and descriptive text (Markdown) into a single cohesive file. It provided an environment for inteative development, data analysis and documentation. These notebooks are supported by VSCode, Jupyter Notebooks, Google Colab.\n",
    "\n",
    "These notebooks are structured as a sequence of cells, which can be:\n",
    "1.  Code Cells: These contains executable code that can be run independently or in sequence\n",
    "1.  Markdown Cells: These contains formatted text using Markdown syntax, allowing for explanations, comments and narratibve alongside the code.\n",
    "1.  Rich Output: When code cells are executed, their output are displayed directly below the cells, giving the user a dynamic and interactive experience.\n",
    "\n",
    "### Interacting with the Notebook\n",
    "1.  To execute a code cell, click the icon at the top-left of the cell\n",
    "1.  Add a new cell, hover the mouse at the bottom of a cell and a pop-up window will all the option of adding a Code cell or a Markdown cell.\n",
    "\n",
    "#### They are particularly useful for:\n",
    "-   Data science and machine learning workflows.\n",
    "-   Prototyping and experimenting with code.\n",
    "-   Creating interactive tutorials and educational materials.\n",
    "-   Sharing and collaborating on code and analysis with others"
   ]
  },
  {
   "cell_type": "markdown",
   "id": "00ba4035",
   "metadata": {},
   "source": [
    "### Contents\n",
    "1.  [Variables](variables)\n",
    "    -   Rules for choosing variables\n",
    "        -   Naming conventions\n",
    "    -   Creating variables\n",
    "    -   Deleting variables\n",
    "    -   Checking the types of variables\n",
    "    -   Reading variables\n",
    "    -   Printing variables\n",
    "1.  Some useful functions\n",
    "    -   [dir()](#dir)\n",
    "    -   [help()](#help)\n",
    "    -   [type()](#type)\n",
    "    -   [id()](#id)\n",
    "    -   [print()](#print)\n",
    "    -   [input()](#input)\n",
    "    -   [eval](#eval)\n",
    "1.  [Summary](#summary)"
   ]
  },
  {
   "cell_type": "markdown",
   "id": "7223ec6e",
   "metadata": {},
   "source": [
    "### <a id='variables'></a>Variables\n",
    "\n",
    "A very long time ago, programmers had to remember (addresses) where values are stored in memory in order to access them in code. Now programmers use names (of variables) to access values. These variables can be considered as containers in which values are stored. This is a huge improvement because for humans, a numeric address for a variable is much more difficult to work with than a descriptive identifier.\n",
    "\n",
    "A variable is a named reference to a value stored in memory. It is like a container that holds data. The data can be (and is often) changed multiple times during program execution. The name of a variable should be descriptive, avoid single letter variables except when used as a iterator variable. Follow the coding standards of your organization.\n",
    "\n",
    "Variables are locations in memory that can access via a name.\n",
    "\n",
    "We will talk about scope (where they are accessible) of variables in week 5 when we talk about `functions` and mutability in week 6 when we cover `str`.\n",
    "\n",
    "Unlike most other languages (JavaScript is a notable exception), python variables does not require explicit type declaration. Their type is inferred from the value assigned to them."
   ]
  },
  {
   "cell_type": "markdown",
   "id": "c1234bc4",
   "metadata": {},
   "source": [
    "#### Rules for naming variables and or identifiers\n",
    "\n",
    "An identifier is just a name for refers to something in your program, it could be the name of a variable, a function, a class or a module.  \n",
    "- Can contain letters, digits, and underscores\n",
    "- May not start with a digit or contain a space or any python operator (e.g. `+`, `-`, `*`, `/`, `%`, `=`, `**`, `//` )\n",
    "- May not contain a python symbol (e.g. `,`, `:`, `.` , `->`, `(`, `)`, `[`, `]`, `{`, `}`, `@`, `...` )\n",
    "- Cannot be a Python keyword (e.g. `if`, `else`, `elif`, `for`, `def`, `class`, `lambda`, `while`, `for`)"
   ]
  },
  {
   "cell_type": "code",
   "execution_count": null,
   "id": "6209b435",
   "metadata": {},
   "outputs": [],
   "source": [
    "#valid names for variables\n",
    "variable_1 = 10\n",
    "_name = 'Narendra'\n",
    "last_name = 'Pershad'\n",
    "pi = 3.14\n",
    "\n",
    "\n",
    "#invalid names for variables\n",
    "# first name = 'Narendra'\n",
    "# last-name = 'Pershad'\n",
    "# 1st_name = 'Narendra'\n",
    "\n",
    "# can you explain why the above variable names are invalid?"
   ]
  },
  {
   "cell_type": "markdown",
   "id": "2a5257d3",
   "metadata": {},
   "source": [
    "#### Styles (conventions) for naming variables in this course\n",
    "\n",
    "We will cover general coding styles later in the course, but for now we will \n",
    "provide some guidelines on choosing names for variables.\n",
    "\n",
    "- Use names that are descriptive\n",
    "- Multiple word should be joined with an underscore `_`\n",
    "- Avoid double underscores at the start of an identifier `__` except when working with class members. The double underscores are used internally by python for its own identifiers.\n",
    "- Avoid `l` (lowercased el) and `O` (uppercase oh), because on some OS's a user can be easily be confused with the digits 1 and 0.\n",
    "- It is okay to use single letter variable for simple iterations\n"
   ]
  },
  {
   "cell_type": "code",
   "execution_count": null,
   "id": "7488db36",
   "metadata": {},
   "outputs": [],
   "source": [
    "#prefer the following names\n",
    "prof_name = 'Narendra Pershad'\n",
    "source_file = 'variable_names.py'\n",
    "\n",
    "#avoid the following names"
   ]
  },
  {
   "cell_type": "markdown",
   "id": "4dc803a8",
   "metadata": {},
   "source": [
    "### Variables are created when you first assigned a value to it.\n",
    "\n",
    "All variables must be initialized at declaration  \n",
    "Values are assign using the assignment (`=`) operator  \n",
    "e.g. `count = 5` # creates a variable called '**count**' and assigns the value 5 to it."
   ]
  },
  {
   "cell_type": "code",
   "execution_count": null,
   "id": "21349ee6",
   "metadata": {},
   "outputs": [],
   "source": [
    "# Assigning values to variables\n",
    "age = 25             # int\n",
    "price = 19.99        # float\n",
    "message = 'Hello!'   # str\n",
    "is_active = True     # bool\n",
    "\n",
    "# Reassigning a variable/changed the value of a variable\n",
    "price = 29.99        # Updated value\n"
   ]
  },
  {
   "cell_type": "markdown",
   "id": "f2ededb2",
   "metadata": {},
   "source": [
    "#### Variables are case-sensitive\n",
    "\n",
    "`age`, `Age`, `AGE` are treated as different variables"
   ]
  },
  {
   "cell_type": "code",
   "execution_count": null,
   "id": "0b617cbc",
   "metadata": {},
   "outputs": [],
   "source": [
    "print(age)          # works, because age does exist\n",
    "print(Age)          # error, because Age does not exist\n",
    "print(AGE)          # error, because AGE does not exist"
   ]
  },
  {
   "cell_type": "markdown",
   "id": "8b002607",
   "metadata": {},
   "source": [
    "#### Checking the type of a variables\n",
    "\n",
    "Use the `type()` function to check the type of a variable"
   ]
  },
  {
   "cell_type": "code",
   "execution_count": null,
   "id": "a931b71c",
   "metadata": {},
   "outputs": [],
   "source": [
    "# Checking the type of a variable\n",
    "print(type(age))      # Output: <class 'int'>\n",
    "print(type(price))    # Output: <class 'float'>\n",
    "print(type(message))  # Output: <class 'str'>\n",
    "print(type(is_active))# Output: <class 'bool'>"
   ]
  },
  {
   "cell_type": "markdown",
   "id": "51d16d0a",
   "metadata": {},
   "source": [
    "#### Reading variables\n",
    "You can read the value of a variable by its name.   \n",
    "The python interpreter will go to the variable location, read the value and decode it properly."
   ]
  },
  {
   "cell_type": "markdown",
   "id": "61766365",
   "metadata": {},
   "source": [
    "#### Printing the value of a variable\n",
    "\n",
    "Use the `print()` function to display the value of a variable\n",
    "\n",
    "We will cover this function in more detail later"
   ]
  },
  {
   "cell_type": "code",
   "execution_count": null,
   "id": "1d8cf00e",
   "metadata": {},
   "outputs": [],
   "source": [
    "# Using variables in operations\n",
    "discount = 0.1\n",
    "cost = price * (1 - discount)\n",
    "print(cost)              # Output: 26.991\n",
    "print(price * (1 - discount))   # also produces the same output\n",
    "\n",
    "print('You can suppress the automatic line feed', end='')   #the next output continues on this this line\n",
    "print(', by utilizing the second argument of the print function.')\n",
    "\n",
    "\n",
    "print(cost, age, message, is_active)  # you may display multiple variable with a single print call"
   ]
  },
  {
   "cell_type": "markdown",
   "id": "010f26ca",
   "metadata": {},
   "source": [
    "#### Delete or undeclare a variables\n",
    "\n",
    "Use the `del` operator to remove a variable from the current environment"
   ]
  },
  {
   "cell_type": "code",
   "execution_count": null,
   "id": "2d7025c8",
   "metadata": {},
   "outputs": [],
   "source": [
    "del cost  # Deleting a variable\n",
    "# Attempting to print a deleted variable will raise an error    \n",
    "# print(cost)  # Uncommenting this line will raise a NameError"
   ]
  },
  {
   "cell_type": "code",
   "execution_count": null,
   "id": "9d942e08",
   "metadata": {},
   "outputs": [],
   "source": [
    "# variables are references to objects in memory\n",
    "a = [10]\n",
    "b = a\n",
    "print(b)            # Output: 10\n",
    "# Changing the value of 'a' does not affect 'b'\n",
    "a = a.append(20)\n",
    "print(b)            # Output: 10"
   ]
  },
  {
   "cell_type": "markdown",
   "id": "bc5ac795",
   "metadata": {},
   "source": [
    "### Some useful Functions\n",
    "We will study functions later in this course, but for now you may think of it as something that can accomplish a specific task and a way to simplify coding tasks.\n",
    "\n",
    "We will look at some function, that will be used frequently in this course.  \n",
    "These functions are built-in function in python i.e. they are available without doing any explicit imports.\n",
    "### <a id=\"dir\"></a>dir()\n",
    "\n",
    "The `dir()` function is used to list the names of attributes and methods of an object. It is extremely useful for introspection. It helps you to explore what an object can do, especially in interactive environments like the Python REPL or Jupyter Notebook.  \n",
    "When called without argument it returns a list of names in the current local scope."
   ]
  },
  {
   "cell_type": "code",
   "execution_count": null,
   "id": "76270d3c",
   "metadata": {},
   "outputs": [],
   "source": [
    "dir()"
   ]
  },
  {
   "cell_type": "code",
   "execution_count": null,
   "id": "f66b3047",
   "metadata": {},
   "outputs": [],
   "source": [
    "# returns a list of names associated with the argument\n",
    "dir(str)    # Output: List of attributes and methods of the str class"
   ]
  },
  {
   "cell_type": "markdown",
   "id": "a64e5592",
   "metadata": {},
   "source": [
    "### <a id=\"help\"></a>help()\n",
    "\n",
    "The help() function provides interactive access to Python’s documentation (docstrings). It is extremely useful for getting quick information about modules, classes, functions, keywords, and other Python objects.  \n",
    "When called without arguments it enters the interactive help module"
   ]
  },
  {
   "cell_type": "code",
   "execution_count": null,
   "id": "3c7a6e44",
   "metadata": {},
   "outputs": [],
   "source": [
    "help()"
   ]
  },
  {
   "cell_type": "code",
   "execution_count": null,
   "id": "3450e603",
   "metadata": {},
   "outputs": [],
   "source": [
    "# displays the documentation for the str class\n",
    "help(str)"
   ]
  },
  {
   "cell_type": "markdown",
   "id": "815bf70c",
   "metadata": {},
   "source": [
    "A super useful way to browse all of the installed python libraries, is to use the following command:   \n",
    "`python -m pydoc -b`   \n",
    "This will create a virtual local web site that will allow you to browse the various attribute and methods from your web browser.\n",
    "\n",
    "If you want to just browse a particular topic, then the following command will suffice   \n",
    "`python -m pydoc str|int|dict`\n",
    "\n",
    "`python -m pydoc -n <hostname>` will start the server listening at the given hostname\n",
    "\n",
    "`python -m pydoc -p 1234` will start the server lintening at the given port"
   ]
  },
  {
   "cell_type": "markdown",
   "id": "f91aee48",
   "metadata": {},
   "source": [
    "### <a id=\"type\"></a>type()\n",
    "\n",
    "`type()` returns the datatype (class) of the argument\n",
    "\n",
    "This function can also be used to dynamically create a class. (Advanced usage)"
   ]
  },
  {
   "cell_type": "code",
   "execution_count": null,
   "id": "b6973785",
   "metadata": {},
   "outputs": [],
   "source": [
    "# Checking the type of a variable\n",
    "print(type(age))      # Output: <class 'int'>\n",
    "print(type(price))    # Output: <class 'float'>\n",
    "print(type(message))  # Output: <class 'str'>\n",
    "print(type(is_active))# Output: <class 'bool'>\n",
    "print(type(None))  # Output: <class 'NoneType'>\n",
    "\n",
    "print(type([1, 2, 3]))  # Output: <class 'list'>\n",
    "print(type((1, 2, 3)))  # Output: <class 'tuple'>    \n",
    "print(type({1: 'one'}))  # Output: <class 'dict'>\n",
    "print(type({1, 2, 3}))  # Output: <class 'set\n",
    "\n",
    "print(type(type(1)))"
   ]
  },
  {
   "cell_type": "markdown",
   "id": "e315c89e",
   "metadata": {},
   "source": [
    "The `issubclass()` and `isinstance()` are also useful to check the type of an object."
   ]
  },
  {
   "cell_type": "markdown",
   "id": "793a369b",
   "metadata": {},
   "source": [
    "### <a id=\"id\"></a>id()\n",
    "\n",
    "In our implementation of python, id() corresponds to the memory address of the object\n",
    "\n",
    "No two objects will have the same id(), at the same time (unless they are the same object)\n",
    "\n",
    "If two variables reference the same object, their id() will be the same\n"
   ]
  },
  {
   "cell_type": "code",
   "execution_count": null,
   "id": "d5d2f058",
   "metadata": {},
   "outputs": [],
   "source": [
    "a = 10\n",
    "b = a\n",
    "\n",
    "print(id(a))\n",
    "\n",
    "print(id(b))  # Should be the same as id(a) since b references the same object"
   ]
  },
  {
   "cell_type": "code",
   "execution_count": null,
   "id": "add37231",
   "metadata": {},
   "outputs": [],
   "source": [
    "# the is operator checks if two variables point to the same object\n",
    "print(a is b)  # Output: True"
   ]
  },
  {
   "cell_type": "code",
   "execution_count": null,
   "id": "f3ce0be4",
   "metadata": {},
   "outputs": [],
   "source": [
    "c = 11\n",
    "c = 10\n",
    "print(a is c)  # Output: True, because c was reassigned to the same value as a"
   ]
  },
  {
   "cell_type": "markdown",
   "id": "ec718746",
   "metadata": {},
   "source": [
    "### <a id=\"input\"></a>input()\n",
    "\n",
    "The `input()` function is used to take user input while the program in running. \n",
    "-   It always returns a string even if the user types a number!  \n",
    "-   If you want an int or float, thne you will have to do the necessary conversion.   \n",
    "-   It takes an optional message that is displayed before the input is taken.\n",
    "-   When called, it pauses program execution and waits for the user to type something.\n"
   ]
  },
  {
   "cell_type": "code",
   "execution_count": null,
   "id": "6af308e6",
   "metadata": {},
   "outputs": [],
   "source": [
    "name = input('Enter your name: ')\n",
    "print(name)  # Output: whatever the user inputs\n",
    "\n",
    "age = int(input('Enter your age: '))\n",
    "print(age)  # Output: whatever the user inputs, converted to an integer\n",
    "# Note: If the user inputs a non-integer value, this will raise a ValueError"
   ]
  },
  {
   "cell_type": "markdown",
   "id": "30a6438f",
   "metadata": {},
   "source": [
    "### <a id=\"eval\"></a>eval()\n",
    "\n",
    "`eval()` is a powerful but dangerous function - use with utmost caution.\n",
    "\n",
    "It evaluates strings as python code and returns the result.\n",
    "\n",
    "It should be avoided at all cost in production code.\n",
    "\n",
    "However, we will use this function quite frequently in our notebooks because it demonstrates some features of code exquisitely. \n"
   ]
  },
  {
   "cell_type": "code",
   "execution_count": null,
   "id": "aad52f3d",
   "metadata": {},
   "outputs": [],
   "source": [
    "print(eval('2 + 3'))  # Output: 5, evaluates the expression as Python code"
   ]
  },
  {
   "cell_type": "code",
   "execution_count": null,
   "id": "c0268348",
   "metadata": {},
   "outputs": [],
   "source": [
    "user_input = '{\"name\": \"Alice\", \"age\": 30}'\n",
    "data = eval(user_input)  # Converts to dict (but prefer `json.loads()`)\n",
    "print(data)  # Output: '{'name': 'Alice', 'age': 30}'"
   ]
  },
  {
   "cell_type": "markdown",
   "id": "fa707687",
   "metadata": {},
   "source": [
    "### <a id='summary'></a>Summary\n",
    "-   Variables: Variables are named references to values stored in memory, acting like containers that hold data which can change during program execution.\n",
    "\n",
    "    -   Rules: Variable names (identifiers) must start with a letter or underscore, can include letters, digits, and underscores, but cannot contain spaces, operators, symbols, or be Python keywords.\n",
    "\n",
    "    -   Conventions: Use descriptive names, separate words with underscores, avoid confusing characters like l and O, and reserve double underscores for special class-related use.\n",
    "\n",
    "    -   Case Sensitivity: Python treats variable names as case-sensitive, so age, Age, and AGE are considered different variables.\n",
    "\n",
    "    -   Initialization: Variables are created and initialized when a value is first assigned using the = operator.\n",
    "\n",
    "-   Dynamic Typing: Python does not require explicit type declarations; the type is inferred from the assigned value.\n",
    "\n",
    "\n",
    "-   Reading and Printing: Use the variable name to read its value and print() to display it. The interpreter fetches and decodes the value from memory.\n",
    "\n",
    "\n",
    "#### Useful Built-in Functions:\n",
    "-   input() gets user input (always returns a string).\n",
    "-   print() sends text to the screen.\n",
    "-   dir() lists attributes/methods of objects.\n",
    "-   help() accesses documentation.\n",
    "-   eval() executes a string as Python code (use cautiously).\n",
    "-   type() to check a variable’s data type. \n",
    "-   id() to get the memory address of an object. \n"
   ]
  }
 ],
 "metadata": {
  "kernelspec": {
   "display_name": "Python 3",
   "language": "python",
   "name": "python3"
  },
  "language_info": {
   "codemirror_mode": {
    "name": "ipython",
    "version": 3
   },
   "file_extension": ".py",
   "mimetype": "text/x-python",
   "name": "python",
   "nbconvert_exporter": "python",
   "pygments_lexer": "ipython3",
   "version": "3.13.2"
  }
 },
 "nbformat": 4,
 "nbformat_minor": 5
}
