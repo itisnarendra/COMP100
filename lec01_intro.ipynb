{
 "cells": [
  {
   "cell_type": "markdown",
   "id": "aaac3828",
   "metadata": {},
   "source": [
    "**These notebooks was composed for COMP100 by &copy;**\n",
    "$\\color{red}{\\text{Narendra Pershad}}$\n",
    "\n",
    "---  \n",
    "\n",
    "## How to use these notebooks.  \n",
    "- Make sure you understand the statements in each cell as well as the resulting output.  \n",
    "- To execute the statements, click the run icon or press Ctrl-Enter\n",
    "- You can make changes to this notebook to clarify concepts or to explore further\n",
    "\n",
    "\n",
    "It is a work in progress, so if you find inaccuracies or ommisions, \n",
    "make the necessary corrections and enjoy.  \n",
    "[Consider sending feedbacks to npershad@my.centennialcollege.ca]\n",
    "\n",
    "Happy learning!"
   ]
  },
  {
   "cell_type": "markdown",
   "id": "00ba4035",
   "metadata": {},
   "source": [
    "## Variables\n",
    "1. Rules for choosing variables\n",
    "1. Setting variables\n",
    "1. Checking the types of variables\n",
    "1. Printing variables\n",
    "## Some important functions\n",
    "1. [help()](#help)\n",
    "1. [dir()](#dir)\n",
    "1. [type()](#type)\n",
    "1. [id()](#id)\n",
    "1. [print()](#print)\n",
    "1. [input()](#input)\n",
    "1. [eval](#eval)"
   ]
  },
  {
   "cell_type": "markdown",
   "id": "7223ec6e",
   "metadata": {},
   "source": [
    "## Variables\n",
    "\n",
    "A variable is a named reference to a value stored in memory. It is like a container that hold data. The data can be (and is often) changed multiple times during program execution. The name of a variable should be descriptive, avoid single letter variables except when used an a iterator variable. Follow the coding standards of your organisation.\n",
    "\n",
    "We will talk about scope of variables in week 5 when we talk about `functions` and mutability in week 6 when we cover `str`.\n",
    "\n",
    "Unlike some other languages, python variables does not require explicit type declaration. Their type is inferred form the value assigned to them.\n",
    "\n",
    "\n",
    "### Rules for naming variables\n",
    "\n",
    "- Can contain letters, digits, and underscores\n",
    "- May not start with a digit or contain a space or any python operator (e.g. `+`, `-`, `*`, `\\`, `%`, `=` )\n",
    "- May not contain a python symbol (e.g. `+`, `-`, `*`, `\\`, `%`, `=`, `(`)\n",
    "- Can not be a Python keyword (e.g. `if`, `else`, `elif`, `for`)\n",
    "\n",
    "\n",
    "### Styles (conventions) for naming variables in this course\n",
    "\n",
    "We will cover general coding styles later in the course, but for now we will \n",
    "provide some guidelines on choosing names for variables.\n",
    "\n",
    "- Use names that are descriptive\n",
    "- Multiple word should ne joined with an underscore `_`\n",
    "- Avoid double underscores `__` except when working with class members.\n",
    "- Avoid `i` (lowercased el) and `O` (uppercase oh), because on some OS's they can be \n",
    "confused with the digits 1 and 0.\n",
    "\n"
   ]
  },
  {
   "cell_type": "markdown",
   "id": "4dc803a8",
   "metadata": {},
   "source": [
    "### Variables are created when first assigned a value\n",
    "\n",
    "All variables must be initialized at declaration  \n",
    "Values are assign using the `=` operator  \n",
    "`count = 5` # creates a variable 'count' and assigns the value 5"
   ]
  },
  {
   "cell_type": "code",
   "execution_count": 1,
   "id": "21349ee6",
   "metadata": {},
   "outputs": [],
   "source": [
    "# Assigning values to variables\n",
    "age = 25             # int\n",
    "price = 19.99        # float\n",
    "message = 'Hello!'   # str\n",
    "is_active = True     # bool\n",
    "\n",
    "# Reassigning a variable\n",
    "price = 29.99        # Updated value\n"
   ]
  },
  {
   "cell_type": "markdown",
   "id": "f2ededb2",
   "metadata": {},
   "source": [
    "\n",
    "### Variables are case-sensitive\n",
    "\n",
    "`age`, `Age`, `AGE` are treated as different variables"
   ]
  },
  {
   "cell_type": "code",
   "execution_count": 2,
   "id": "0b617cbc",
   "metadata": {},
   "outputs": [
    {
     "name": "stdout",
     "output_type": "stream",
     "text": [
      "25\n"
     ]
    },
    {
     "ename": "NameError",
     "evalue": "name 'Age' is not defined",
     "output_type": "error",
     "traceback": [
      "\u001b[31m---------------------------------------------------------------------------\u001b[39m",
      "\u001b[31mNameError\u001b[39m                                 Traceback (most recent call last)",
      "\u001b[36mCell\u001b[39m\u001b[36m \u001b[39m\u001b[32mIn[2]\u001b[39m\u001b[32m, line 2\u001b[39m\n\u001b[32m      1\u001b[39m \u001b[38;5;28mprint\u001b[39m(age)          \u001b[38;5;66;03m# works, because age does exist\u001b[39;00m\n\u001b[32m----> \u001b[39m\u001b[32m2\u001b[39m \u001b[38;5;28mprint\u001b[39m(\u001b[43mAge\u001b[49m)          \u001b[38;5;66;03m# error, because Age does not exist\u001b[39;00m\n\u001b[32m      3\u001b[39m \u001b[38;5;28mprint\u001b[39m(AGE)          \u001b[38;5;66;03m# error, because AGE does not exist\u001b[39;00m\n",
      "\u001b[31mNameError\u001b[39m: name 'Age' is not defined"
     ]
    }
   ],
   "source": [
    "print(age)          # works, because age does exist\n",
    "print(Age)          # error, because Age does not exist\n",
    "print(AGE)          # error, because AGE does not exist"
   ]
  },
  {
   "cell_type": "markdown",
   "id": "8b002607",
   "metadata": {},
   "source": [
    "### Checking the type of a variables\n",
    "\n",
    "Use the `type()` function to check the type of a variable"
   ]
  },
  {
   "cell_type": "code",
   "execution_count": 3,
   "id": "a931b71c",
   "metadata": {},
   "outputs": [
    {
     "name": "stdout",
     "output_type": "stream",
     "text": [
      "<class 'int'>\n",
      "<class 'float'>\n",
      "<class 'str'>\n",
      "<class 'bool'>\n"
     ]
    }
   ],
   "source": [
    "# Checking the type of a variable\n",
    "print(type(age))      # Output: <class 'int'>\n",
    "print(type(price))    # Output: <class 'float'>\n",
    "print(type(message))  # Output: <class 'str'>\n",
    "print(type(is_active))# Output: <class 'bool'>"
   ]
  },
  {
   "cell_type": "markdown",
   "id": "61766365",
   "metadata": {},
   "source": [
    "### Print the value of a variables\n",
    "\n",
    "Use the `print()` function to display the value of a variable\n",
    "\n",
    "We will cover this function in more detail later"
   ]
  },
  {
   "cell_type": "code",
   "execution_count": 4,
   "id": "1d8cf00e",
   "metadata": {},
   "outputs": [
    {
     "name": "stdout",
     "output_type": "stream",
     "text": [
      "26.991\n",
      "26.991\n",
      "You can suppress the automatic line feed, by utilizing the second argument of the print function.\n",
      "26.991 25 Hello! True\n"
     ]
    }
   ],
   "source": [
    "# Using variables in operations\n",
    "discount = 0.1\n",
    "final_price = price * (1 - discount)\n",
    "print(final_price)              # Output: 26.991\n",
    "print(price * (1 - discount))   # also produces the same output\n",
    "\n",
    "print('You can suppress the automatic line feed', end='')   #the next output continues on this this line\n",
    "print(', by utilizing the second argument of the print function.')\n",
    "\n",
    "\n",
    "print(final_price, age, message, is_active)  # you may display multiple variable with a single print call"
   ]
  },
  {
   "cell_type": "markdown",
   "id": "010f26ca",
   "metadata": {},
   "source": [
    "### Delete or undeclare a variables\n",
    "\n",
    "Use the `del` operator to remove a variable from the current environment"
   ]
  },
  {
   "cell_type": "code",
   "execution_count": 5,
   "id": "2d7025c8",
   "metadata": {},
   "outputs": [],
   "source": [
    "del final_price  # Deleting a variable\n",
    "# Attempting to print a deleted variable will raise an error    \n",
    "# print(final_price)  # Uncommenting this line will raise a NameError"
   ]
  },
  {
   "cell_type": "code",
   "execution_count": 6,
   "id": "9d942e08",
   "metadata": {},
   "outputs": [
    {
     "name": "stdout",
     "output_type": "stream",
     "text": [
      "[10]\n",
      "[10, 20]\n"
     ]
    }
   ],
   "source": [
    "# variables are references to objects in memory\n",
    "a = [10]\n",
    "b = a\n",
    "print(b)            # Output: 10\n",
    "# Changing the value of 'a' does not affect 'b'\n",
    "a = a.append(20)\n",
    "print(b)            # Output: 10"
   ]
  },
  {
   "cell_type": "markdown",
   "id": "eee6aab7",
   "metadata": {},
   "source": [
    "\n"
   ]
  },
  {
   "cell_type": "markdown",
   "id": "bc5ac795",
   "metadata": {},
   "source": [
    "## 1. <a id=\"dir\"></a>dir()\n",
    "\n",
    "The `dir()` function in a built-in function used to list the names of attributes and methods of an object. It is extremely useful for introspection. It helps you to explore what an object can do, especially in interactive environments like the Python REPL or Jupyter Notebook.  \n",
    "When called without argument it returns a list of names in the current local scope."
   ]
  },
  {
   "cell_type": "code",
   "execution_count": 7,
   "id": "76270d3c",
   "metadata": {},
   "outputs": [
    {
     "data": {
      "text/plain": [
       "['In',\n",
       " 'Out',\n",
       " '_',\n",
       " '__',\n",
       " '___',\n",
       " '__builtin__',\n",
       " '__builtins__',\n",
       " '__doc__',\n",
       " '__loader__',\n",
       " '__name__',\n",
       " '__package__',\n",
       " '__spec__',\n",
       " '__vsc_ipynb_file__',\n",
       " '_dh',\n",
       " '_i',\n",
       " '_i1',\n",
       " '_i2',\n",
       " '_i3',\n",
       " '_i4',\n",
       " '_i5',\n",
       " '_i6',\n",
       " '_i7',\n",
       " '_ih',\n",
       " '_ii',\n",
       " '_iii',\n",
       " '_oh',\n",
       " 'a',\n",
       " 'age',\n",
       " 'b',\n",
       " 'discount',\n",
       " 'exit',\n",
       " 'get_ipython',\n",
       " 'is_active',\n",
       " 'message',\n",
       " 'open',\n",
       " 'price',\n",
       " 'quit']"
      ]
     },
     "execution_count": 7,
     "metadata": {},
     "output_type": "execute_result"
    }
   ],
   "source": [
    "dir()"
   ]
  },
  {
   "cell_type": "code",
   "execution_count": 8,
   "id": "f66b3047",
   "metadata": {},
   "outputs": [
    {
     "data": {
      "text/plain": [
       "['__add__',\n",
       " '__class__',\n",
       " '__contains__',\n",
       " '__delattr__',\n",
       " '__dir__',\n",
       " '__doc__',\n",
       " '__eq__',\n",
       " '__format__',\n",
       " '__ge__',\n",
       " '__getattribute__',\n",
       " '__getitem__',\n",
       " '__getnewargs__',\n",
       " '__getstate__',\n",
       " '__gt__',\n",
       " '__hash__',\n",
       " '__init__',\n",
       " '__init_subclass__',\n",
       " '__iter__',\n",
       " '__le__',\n",
       " '__len__',\n",
       " '__lt__',\n",
       " '__mod__',\n",
       " '__mul__',\n",
       " '__ne__',\n",
       " '__new__',\n",
       " '__reduce__',\n",
       " '__reduce_ex__',\n",
       " '__repr__',\n",
       " '__rmod__',\n",
       " '__rmul__',\n",
       " '__setattr__',\n",
       " '__sizeof__',\n",
       " '__str__',\n",
       " '__subclasshook__',\n",
       " 'capitalize',\n",
       " 'casefold',\n",
       " 'center',\n",
       " 'count',\n",
       " 'encode',\n",
       " 'endswith',\n",
       " 'expandtabs',\n",
       " 'find',\n",
       " 'format',\n",
       " 'format_map',\n",
       " 'index',\n",
       " 'isalnum',\n",
       " 'isalpha',\n",
       " 'isascii',\n",
       " 'isdecimal',\n",
       " 'isdigit',\n",
       " 'isidentifier',\n",
       " 'islower',\n",
       " 'isnumeric',\n",
       " 'isprintable',\n",
       " 'isspace',\n",
       " 'istitle',\n",
       " 'isupper',\n",
       " 'join',\n",
       " 'ljust',\n",
       " 'lower',\n",
       " 'lstrip',\n",
       " 'maketrans',\n",
       " 'partition',\n",
       " 'removeprefix',\n",
       " 'removesuffix',\n",
       " 'replace',\n",
       " 'rfind',\n",
       " 'rindex',\n",
       " 'rjust',\n",
       " 'rpartition',\n",
       " 'rsplit',\n",
       " 'rstrip',\n",
       " 'split',\n",
       " 'splitlines',\n",
       " 'startswith',\n",
       " 'strip',\n",
       " 'swapcase',\n",
       " 'title',\n",
       " 'translate',\n",
       " 'upper',\n",
       " 'zfill']"
      ]
     },
     "execution_count": 8,
     "metadata": {},
     "output_type": "execute_result"
    }
   ],
   "source": [
    "# returns a list of names associated with the argument\n",
    "dir(str)"
   ]
  },
  {
   "cell_type": "markdown",
   "id": "a64e5592",
   "metadata": {},
   "source": [
    "## 2. <a id=\"help\"></a>help()\n",
    "\n",
    "The help() function is a built-in function that provides interactive access to Python’s documentation (docstrings). It is extremely useful for getting quick information about modules, classes, functions, keywords, and other Python objects.  \n",
    "When called without arguments it enters the interactive help module"
   ]
  },
  {
   "cell_type": "code",
   "execution_count": 9,
   "id": "3c7a6e44",
   "metadata": {},
   "outputs": [
    {
     "name": "stdout",
     "output_type": "stream",
     "text": [
      "Welcome to Python 3.13's help utility! If this is your first time using\n",
      "Python, you should definitely check out the tutorial at\n",
      "https://docs.python.org/3.13/tutorial/.\n",
      "\n",
      "Enter the name of any module, keyword, or topic to get help on writing\n",
      "Python programs and using Python modules.  To get a list of available\n",
      "modules, keywords, symbols, or topics, enter \"modules\", \"keywords\",\n",
      "\"symbols\", or \"topics\".\n",
      "\n",
      "Each module also comes with a one-line summary of what it does; to list\n",
      "the modules whose name or summary contain a given string such as \"spam\",\n",
      "enter \"modules spam\".\n",
      "\n",
      "To quit this help utility and return to the interpreter,\n",
      "enter \"q\", \"quit\" or \"exit\".\n",
      "\n",
      "\n",
      "You are now leaving help and returning to the Python interpreter.\n",
      "If you want to ask for help on a particular object directly from the\n",
      "interpreter, you can type \"help(object)\".  Executing \"help('string')\"\n",
      "has the same effect as typing a particular string at the help> prompt.\n"
     ]
    }
   ],
   "source": [
    "help()"
   ]
  },
  {
   "cell_type": "code",
   "execution_count": 14,
   "id": "3450e603",
   "metadata": {},
   "outputs": [
    {
     "name": "stdout",
     "output_type": "stream",
     "text": [
      "Help on class str in module builtins:\n",
      "\n",
      "class str(object)\n",
      " |  str(object='') -> str\n",
      " |  str(bytes_or_buffer[, encoding[, errors]]) -> str\n",
      " |\n",
      " |  Create a new string object from the given object. If encoding or\n",
      " |  errors is specified, then the object must expose a data buffer\n",
      " |  that will be decoded using the given encoding and error handler.\n",
      " |  Otherwise, returns the result of object.__str__() (if defined)\n",
      " |  or repr(object).\n",
      " |  encoding defaults to 'utf-8'.\n",
      " |  errors defaults to 'strict'.\n",
      " |\n",
      " |  Methods defined here:\n",
      " |\n",
      " |  __add__(self, value, /)\n",
      " |      Return self+value.\n",
      " |\n",
      " |  __contains__(self, key, /)\n",
      " |      Return bool(key in self).\n",
      " |\n",
      " |  __eq__(self, value, /)\n",
      " |      Return self==value.\n",
      " |\n",
      " |  __format__(self, format_spec, /)\n",
      " |      Return a formatted version of the string as described by format_spec.\n",
      " |\n",
      " |  __ge__(self, value, /)\n",
      " |      Return self>=value.\n",
      " |\n",
      " |  __getitem__(self, key, /)\n",
      " |      Return self[key].\n",
      " |\n",
      " |  __getnewargs__(self, /)\n",
      " |\n",
      " |  __gt__(self, value, /)\n",
      " |      Return self>value.\n",
      " |\n",
      " |  __hash__(self, /)\n",
      " |      Return hash(self).\n",
      " |\n",
      " |  __iter__(self, /)\n",
      " |      Implement iter(self).\n",
      " |\n",
      " |  __le__(self, value, /)\n",
      " |      Return self<=value.\n",
      " |\n",
      " |  __len__(self, /)\n",
      " |      Return len(self).\n",
      " |\n",
      " |  __lt__(self, value, /)\n",
      " |      Return self<value.\n",
      " |\n",
      " |  __mod__(self, value, /)\n",
      " |      Return self%value.\n",
      " |\n",
      " |  __mul__(self, value, /)\n",
      " |      Return self*value.\n",
      " |\n",
      " |  __ne__(self, value, /)\n",
      " |      Return self!=value.\n",
      " |\n",
      " |  __repr__(self, /)\n",
      " |      Return repr(self).\n",
      " |\n",
      " |  __rmod__(self, value, /)\n",
      " |      Return value%self.\n",
      " |\n",
      " |  __rmul__(self, value, /)\n",
      " |      Return value*self.\n",
      " |\n",
      " |  __sizeof__(self, /)\n",
      " |      Return the size of the string in memory, in bytes.\n",
      " |\n",
      " |  __str__(self, /)\n",
      " |      Return str(self).\n",
      " |\n",
      " |  capitalize(self, /)\n",
      " |      Return a capitalized version of the string.\n",
      " |\n",
      " |      More specifically, make the first character have upper case and the rest lower\n",
      " |      case.\n",
      " |\n",
      " |  casefold(self, /)\n",
      " |      Return a version of the string suitable for caseless comparisons.\n",
      " |\n",
      " |  center(self, width, fillchar=' ', /)\n",
      " |      Return a centered string of length width.\n",
      " |\n",
      " |      Padding is done using the specified fill character (default is a space).\n",
      " |\n",
      " |  count(self, sub[, start[, end]], /)\n",
      " |      Return the number of non-overlapping occurrences of substring sub in string S[start:end].\n",
      " |\n",
      " |      Optional arguments start and end are interpreted as in slice notation.\n",
      " |\n",
      " |  encode(self, /, encoding='utf-8', errors='strict')\n",
      " |      Encode the string using the codec registered for encoding.\n",
      " |\n",
      " |      encoding\n",
      " |        The encoding in which to encode the string.\n",
      " |      errors\n",
      " |        The error handling scheme to use for encoding errors.\n",
      " |        The default is 'strict' meaning that encoding errors raise a\n",
      " |        UnicodeEncodeError.  Other possible values are 'ignore', 'replace' and\n",
      " |        'xmlcharrefreplace' as well as any other name registered with\n",
      " |        codecs.register_error that can handle UnicodeEncodeErrors.\n",
      " |\n",
      " |  endswith(self, suffix[, start[, end]], /)\n",
      " |      Return True if the string ends with the specified suffix, False otherwise.\n",
      " |\n",
      " |      suffix\n",
      " |        A string or a tuple of strings to try.\n",
      " |      start\n",
      " |        Optional start position. Default: start of the string.\n",
      " |      end\n",
      " |        Optional stop position. Default: end of the string.\n",
      " |\n",
      " |  expandtabs(self, /, tabsize=8)\n",
      " |      Return a copy where all tab characters are expanded using spaces.\n",
      " |\n",
      " |      If tabsize is not given, a tab size of 8 characters is assumed.\n",
      " |\n",
      " |  find(self, sub[, start[, end]], /)\n",
      " |      Return the lowest index in S where substring sub is found, such that sub is contained within S[start:end].\n",
      " |\n",
      " |      Optional arguments start and end are interpreted as in slice notation.\n",
      " |      Return -1 on failure.\n",
      " |\n",
      " |  format(self, /, *args, **kwargs)\n",
      " |      Return a formatted version of the string, using substitutions from args and kwargs.\n",
      " |      The substitutions are identified by braces ('{' and '}').\n",
      " |\n",
      " |  format_map(self, mapping, /)\n",
      " |      Return a formatted version of the string, using substitutions from mapping.\n",
      " |      The substitutions are identified by braces ('{' and '}').\n",
      " |\n",
      " |  index(self, sub[, start[, end]], /)\n",
      " |      Return the lowest index in S where substring sub is found, such that sub is contained within S[start:end].\n",
      " |\n",
      " |      Optional arguments start and end are interpreted as in slice notation.\n",
      " |      Raises ValueError when the substring is not found.\n",
      " |\n",
      " |  isalnum(self, /)\n",
      " |      Return True if the string is an alpha-numeric string, False otherwise.\n",
      " |\n",
      " |      A string is alpha-numeric if all characters in the string are alpha-numeric and\n",
      " |      there is at least one character in the string.\n",
      " |\n",
      " |  isalpha(self, /)\n",
      " |      Return True if the string is an alphabetic string, False otherwise.\n",
      " |\n",
      " |      A string is alphabetic if all characters in the string are alphabetic and there\n",
      " |      is at least one character in the string.\n",
      " |\n",
      " |  isascii(self, /)\n",
      " |      Return True if all characters in the string are ASCII, False otherwise.\n",
      " |\n",
      " |      ASCII characters have code points in the range U+0000-U+007F.\n",
      " |      Empty string is ASCII too.\n",
      " |\n",
      " |  isdecimal(self, /)\n",
      " |      Return True if the string is a decimal string, False otherwise.\n",
      " |\n",
      " |      A string is a decimal string if all characters in the string are decimal and\n",
      " |      there is at least one character in the string.\n",
      " |\n",
      " |  isdigit(self, /)\n",
      " |      Return True if the string is a digit string, False otherwise.\n",
      " |\n",
      " |      A string is a digit string if all characters in the string are digits and there\n",
      " |      is at least one character in the string.\n",
      " |\n",
      " |  isidentifier(self, /)\n",
      " |      Return True if the string is a valid Python identifier, False otherwise.\n",
      " |\n",
      " |      Call keyword.iskeyword(s) to test whether string s is a reserved identifier,\n",
      " |      such as \"def\" or \"class\".\n",
      " |\n",
      " |  islower(self, /)\n",
      " |      Return True if the string is a lowercase string, False otherwise.\n",
      " |\n",
      " |      A string is lowercase if all cased characters in the string are lowercase and\n",
      " |      there is at least one cased character in the string.\n",
      " |\n",
      " |  isnumeric(self, /)\n",
      " |      Return True if the string is a numeric string, False otherwise.\n",
      " |\n",
      " |      A string is numeric if all characters in the string are numeric and there is at\n",
      " |      least one character in the string.\n",
      " |\n",
      " |  isprintable(self, /)\n",
      " |      Return True if the string is printable, False otherwise.\n",
      " |\n",
      " |      A string is printable if all of its characters are considered printable in\n",
      " |      repr() or if it is empty.\n",
      " |\n",
      " |  isspace(self, /)\n",
      " |      Return True if the string is a whitespace string, False otherwise.\n",
      " |\n",
      " |      A string is whitespace if all characters in the string are whitespace and there\n",
      " |      is at least one character in the string.\n",
      " |\n",
      " |  istitle(self, /)\n",
      " |      Return True if the string is a title-cased string, False otherwise.\n",
      " |\n",
      " |      In a title-cased string, upper- and title-case characters may only\n",
      " |      follow uncased characters and lowercase characters only cased ones.\n",
      " |\n",
      " |  isupper(self, /)\n",
      " |      Return True if the string is an uppercase string, False otherwise.\n",
      " |\n",
      " |      A string is uppercase if all cased characters in the string are uppercase and\n",
      " |      there is at least one cased character in the string.\n",
      " |\n",
      " |  join(self, iterable, /)\n",
      " |      Concatenate any number of strings.\n",
      " |\n",
      " |      The string whose method is called is inserted in between each given string.\n",
      " |      The result is returned as a new string.\n",
      " |\n",
      " |      Example: '.'.join(['ab', 'pq', 'rs']) -> 'ab.pq.rs'\n",
      " |\n",
      " |  ljust(self, width, fillchar=' ', /)\n",
      " |      Return a left-justified string of length width.\n",
      " |\n",
      " |      Padding is done using the specified fill character (default is a space).\n",
      " |\n",
      " |  lower(self, /)\n",
      " |      Return a copy of the string converted to lowercase.\n",
      " |\n",
      " |  lstrip(self, chars=None, /)\n",
      " |      Return a copy of the string with leading whitespace removed.\n",
      " |\n",
      " |      If chars is given and not None, remove characters in chars instead.\n",
      " |\n",
      " |  partition(self, sep, /)\n",
      " |      Partition the string into three parts using the given separator.\n",
      " |\n",
      " |      This will search for the separator in the string.  If the separator is found,\n",
      " |      returns a 3-tuple containing the part before the separator, the separator\n",
      " |      itself, and the part after it.\n",
      " |\n",
      " |      If the separator is not found, returns a 3-tuple containing the original string\n",
      " |      and two empty strings.\n",
      " |\n",
      " |  removeprefix(self, prefix, /)\n",
      " |      Return a str with the given prefix string removed if present.\n",
      " |\n",
      " |      If the string starts with the prefix string, return string[len(prefix):].\n",
      " |      Otherwise, return a copy of the original string.\n",
      " |\n",
      " |  removesuffix(self, suffix, /)\n",
      " |      Return a str with the given suffix string removed if present.\n",
      " |\n",
      " |      If the string ends with the suffix string and that suffix is not empty,\n",
      " |      return string[:-len(suffix)]. Otherwise, return a copy of the original\n",
      " |      string.\n",
      " |\n",
      " |  replace(self, old, new, /, count=-1)\n",
      " |      Return a copy with all occurrences of substring old replaced by new.\n",
      " |\n",
      " |        count\n",
      " |          Maximum number of occurrences to replace.\n",
      " |          -1 (the default value) means replace all occurrences.\n",
      " |\n",
      " |      If the optional argument count is given, only the first count occurrences are\n",
      " |      replaced.\n",
      " |\n",
      " |  rfind(self, sub[, start[, end]], /)\n",
      " |      Return the highest index in S where substring sub is found, such that sub is contained within S[start:end].\n",
      " |\n",
      " |      Optional arguments start and end are interpreted as in slice notation.\n",
      " |      Return -1 on failure.\n",
      " |\n",
      " |  rindex(self, sub[, start[, end]], /)\n",
      " |      Return the highest index in S where substring sub is found, such that sub is contained within S[start:end].\n",
      " |\n",
      " |      Optional arguments start and end are interpreted as in slice notation.\n",
      " |      Raises ValueError when the substring is not found.\n",
      " |\n",
      " |  rjust(self, width, fillchar=' ', /)\n",
      " |      Return a right-justified string of length width.\n",
      " |\n",
      " |      Padding is done using the specified fill character (default is a space).\n",
      " |\n",
      " |  rpartition(self, sep, /)\n",
      " |      Partition the string into three parts using the given separator.\n",
      " |\n",
      " |      This will search for the separator in the string, starting at the end. If\n",
      " |      the separator is found, returns a 3-tuple containing the part before the\n",
      " |      separator, the separator itself, and the part after it.\n",
      " |\n",
      " |      If the separator is not found, returns a 3-tuple containing two empty strings\n",
      " |      and the original string.\n",
      " |\n",
      " |  rsplit(self, /, sep=None, maxsplit=-1)\n",
      " |      Return a list of the substrings in the string, using sep as the separator string.\n",
      " |\n",
      " |        sep\n",
      " |          The separator used to split the string.\n",
      " |\n",
      " |          When set to None (the default value), will split on any whitespace\n",
      " |          character (including \\n \\r \\t \\f and spaces) and will discard\n",
      " |          empty strings from the result.\n",
      " |        maxsplit\n",
      " |          Maximum number of splits.\n",
      " |          -1 (the default value) means no limit.\n",
      " |\n",
      " |      Splitting starts at the end of the string and works to the front.\n",
      " |\n",
      " |  rstrip(self, chars=None, /)\n",
      " |      Return a copy of the string with trailing whitespace removed.\n",
      " |\n",
      " |      If chars is given and not None, remove characters in chars instead.\n",
      " |\n",
      " |  split(self, /, sep=None, maxsplit=-1)\n",
      " |      Return a list of the substrings in the string, using sep as the separator string.\n",
      " |\n",
      " |        sep\n",
      " |          The separator used to split the string.\n",
      " |\n",
      " |          When set to None (the default value), will split on any whitespace\n",
      " |          character (including \\n \\r \\t \\f and spaces) and will discard\n",
      " |          empty strings from the result.\n",
      " |        maxsplit\n",
      " |          Maximum number of splits.\n",
      " |          -1 (the default value) means no limit.\n",
      " |\n",
      " |      Splitting starts at the front of the string and works to the end.\n",
      " |\n",
      " |      Note, str.split() is mainly useful for data that has been intentionally\n",
      " |      delimited.  With natural text that includes punctuation, consider using\n",
      " |      the regular expression module.\n",
      " |\n",
      " |  splitlines(self, /, keepends=False)\n",
      " |      Return a list of the lines in the string, breaking at line boundaries.\n",
      " |\n",
      " |      Line breaks are not included in the resulting list unless keepends is given and\n",
      " |      true.\n",
      " |\n",
      " |  startswith(self, prefix[, start[, end]], /)\n",
      " |      Return True if the string starts with the specified prefix, False otherwise.\n",
      " |\n",
      " |      prefix\n",
      " |        A string or a tuple of strings to try.\n",
      " |      start\n",
      " |        Optional start position. Default: start of the string.\n",
      " |      end\n",
      " |        Optional stop position. Default: end of the string.\n",
      " |\n",
      " |  strip(self, chars=None, /)\n",
      " |      Return a copy of the string with leading and trailing whitespace removed.\n",
      " |\n",
      " |      If chars is given and not None, remove characters in chars instead.\n",
      " |\n",
      " |  swapcase(self, /)\n",
      " |      Convert uppercase characters to lowercase and lowercase characters to uppercase.\n",
      " |\n",
      " |  title(self, /)\n",
      " |      Return a version of the string where each word is titlecased.\n",
      " |\n",
      " |      More specifically, words start with uppercased characters and all remaining\n",
      " |      cased characters have lower case.\n",
      " |\n",
      " |  translate(self, table, /)\n",
      " |      Replace each character in the string using the given translation table.\n",
      " |\n",
      " |        table\n",
      " |          Translation table, which must be a mapping of Unicode ordinals to\n",
      " |          Unicode ordinals, strings, or None.\n",
      " |\n",
      " |      The table must implement lookup/indexing via __getitem__, for instance a\n",
      " |      dictionary or list.  If this operation raises LookupError, the character is\n",
      " |      left untouched.  Characters mapped to None are deleted.\n",
      " |\n",
      " |  upper(self, /)\n",
      " |      Return a copy of the string converted to uppercase.\n",
      " |\n",
      " |  zfill(self, width, /)\n",
      " |      Pad a numeric string with zeros on the left, to fill a field of the given width.\n",
      " |\n",
      " |      The string is never truncated.\n",
      " |\n",
      " |  ----------------------------------------------------------------------\n",
      " |  Static methods defined here:\n",
      " |\n",
      " |  __new__(*args, **kwargs)\n",
      " |      Create and return a new object.  See help(type) for accurate signature.\n",
      " |\n",
      " |  maketrans(x, y=<unrepresentable>, z=<unrepresentable>, /)\n",
      " |      Return a translation table usable for str.translate().\n",
      " |\n",
      " |      If there is only one argument, it must be a dictionary mapping Unicode\n",
      " |      ordinals (integers) or characters to Unicode ordinals, strings or None.\n",
      " |      Character keys will be then converted to ordinals.\n",
      " |      If there are two arguments, they must be strings of equal length, and\n",
      " |      in the resulting dictionary, each character in x will be mapped to the\n",
      " |      character at the same position in y. If there is a third argument, it\n",
      " |      must be a string, whose characters will be mapped to None in the result.\n",
      "\n"
     ]
    }
   ],
   "source": [
    "# displays the documentation for the str class\n",
    "help(str)"
   ]
  },
  {
   "cell_type": "markdown",
   "id": "f91aee48",
   "metadata": {},
   "source": [
    "## 3. <a id=\"type\"></a>type()\n",
    "\n",
    "`type()` returns the type of the argument"
   ]
  },
  {
   "cell_type": "code",
   "execution_count": 15,
   "id": "b6973785",
   "metadata": {},
   "outputs": [
    {
     "name": "stdout",
     "output_type": "stream",
     "text": [
      "<class 'int'>\n",
      "<class 'float'>\n",
      "<class 'str'>\n",
      "<class 'bool'>\n",
      "<class 'NoneType'>\n",
      "<class 'list'>\n",
      "<class 'tuple'>\n",
      "<class 'dict'>\n",
      "<class 'set'>\n",
      "<class 'type'>\n"
     ]
    }
   ],
   "source": [
    "# Checking the type of a variable\n",
    "print(type(age))      # Output: <class 'int'>\n",
    "print(type(price))    # Output: <class 'float'>\n",
    "print(type(message))  # Output: <class 'str'>\n",
    "print(type(is_active))# Output: <class 'bool'>\n",
    "print(type(None))  # Output: <class 'NoneType'>\n",
    "\n",
    "print(type([1, 2, 3]))  # Output: <class 'list'>\n",
    "print(type((1, 2, 3)))  # Output: <class 'tuple'>    \n",
    "print(type({1: 'one'}))  # Output: <class 'dict'>\n",
    "print(type({1, 2, 3}))  # Output: <class 'set\n",
    "\n",
    "print(type(type(1)))"
   ]
  },
  {
   "cell_type": "markdown",
   "id": "793a369b",
   "metadata": {},
   "source": [
    "## 4. <a id=\"id\"></a>id()\n",
    "\n",
    "No two objects will have the same id(), at the same time (unless they are the same object)\n",
    "\n",
    "If two variables reference the same object, their id() will be the same\n",
    "\n",
    "In our implementation of python, id() correspoid to the memory address of the object"
   ]
  },
  {
   "cell_type": "code",
   "execution_count": 16,
   "id": "d5d2f058",
   "metadata": {},
   "outputs": [
    {
     "name": "stdout",
     "output_type": "stream",
     "text": [
      "140736302875848\n",
      "140736302875848\n"
     ]
    }
   ],
   "source": [
    "a = 10\n",
    "b = a\n",
    "\n",
    "print(id(a))\n",
    "\n",
    "print(id(b))  # Should be the same as id(a) since b references the same object"
   ]
  },
  {
   "cell_type": "code",
   "execution_count": 17,
   "id": "add37231",
   "metadata": {},
   "outputs": [
    {
     "name": "stdout",
     "output_type": "stream",
     "text": [
      "True\n"
     ]
    }
   ],
   "source": [
    "# the is operator checks if two variables point to the same object\n",
    "print(a is b)  # Output: True"
   ]
  },
  {
   "cell_type": "code",
   "execution_count": 18,
   "id": "f3ce0be4",
   "metadata": {},
   "outputs": [
    {
     "name": "stdout",
     "output_type": "stream",
     "text": [
      "True\n"
     ]
    }
   ],
   "source": [
    "c = 11\n",
    "c = 10\n",
    "print(a is c)  # Output: True, because c was reassigned to the same value as a\n",
    "\n"
   ]
  },
  {
   "cell_type": "markdown",
   "id": "158e9e30",
   "metadata": {},
   "source": [
    "## 5. <a id=\"print\"></a>help()\n"
   ]
  },
  {
   "cell_type": "markdown",
   "id": "ec718746",
   "metadata": {},
   "source": [
    "## 6. <a id=\"input\"></a>input()\n",
    "\n",
    "THe `input()` function is used to take user input. It always returns a string.\n"
   ]
  },
  {
   "cell_type": "code",
   "execution_count": 19,
   "id": "6af308e6",
   "metadata": {},
   "outputs": [
    {
     "name": "stdout",
     "output_type": "stream",
     "text": [
      "Narendra\n"
     ]
    }
   ],
   "source": [
    "name = input('Enter your name: ')\n",
    "print(name)  # Output: whatever the user inputs"
   ]
  },
  {
   "cell_type": "markdown",
   "id": "30a6438f",
   "metadata": {},
   "source": [
    "## 7. <a id=\"eval\"></a>eval()\n",
    "\n",
    "`eval()` is a powerful but dangerous function - use with utmost caution\n",
    "\n",
    "It evaluates strings as python code and returns the result\n"
   ]
  },
  {
   "cell_type": "code",
   "execution_count": null,
   "id": "aad52f3d",
   "metadata": {},
   "outputs": [],
   "source": [
    "print(eval('2 + 3'))  # Output: 5, evaluates the expression as Python code"
   ]
  },
  {
   "cell_type": "code",
   "execution_count": null,
   "id": "c0268348",
   "metadata": {},
   "outputs": [],
   "source": [
    "user_input = '{\"name\": \"Alice\", \"age\": 30}'\n",
    "data = eval(user_input)  # Converts to dict (but prefer `json.loads()`)\n",
    "print(data)  # Output: \"Alice\""
   ]
  }
 ],
 "metadata": {
  "kernelspec": {
   "display_name": "Python 3",
   "language": "python",
   "name": "python3"
  },
  "language_info": {
   "codemirror_mode": {
    "name": "ipython",
    "version": 3
   },
   "file_extension": ".py",
   "mimetype": "text/x-python",
   "name": "python",
   "nbconvert_exporter": "python",
   "pygments_lexer": "ipython3",
   "version": "3.13.2"
  }
 },
 "nbformat": 4,
 "nbformat_minor": 5
}
