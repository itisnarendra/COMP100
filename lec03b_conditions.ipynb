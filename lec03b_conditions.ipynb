{
 "cells": [
  {
   "cell_type": "markdown",
   "metadata": {},
   "source": [
    "# Making Decision\n",
    "\n",
    "## if statement\n",
    "\n",
    "Each control structure brings some advantage, the if statement give the language immense power, pretty much aything that can\n",
    "be programable can be coded with this structure! \n",
    "\n",
    "It allows you to complete multiple tasks by optionally ignoring or processing parts of your code.\n",
    "\n",
    ". You are now able to code multiple t\n",
    "\n",
    "### if statement with just a True block\n",
    "Syntax\n",
    "```\n",
    "if <<boolean expression>>:\n",
    "    statements\n",
    "```\n",
    "\n",
    "### if-else statement with both a True and else block\n",
    "Syntax\n",
    "```\n",
    "if <<boolean expression>>:\n",
    "    statements\n",
    "else\n",
    "    statements\n",
    "```\n",
    "\n",
    "### if-elif-else statement (Nested form)\n",
    "Syntax\n",
    "```\n",
    "if <<boolean expression>>:\n",
    "    statements\n",
    "elif <<boolean expression>>:\n",
    "    statements\n",
    "else\n",
    "    statements\n",
    "```\n",
    "\n",
    "## match statement\n",
    "The match statement is similar to the switch statement in \n",
    "most other languages. The main advantage is that it more\n",
    "readable than the corresponding if statement.\n",
    "\n",
    "### Syntax\n",
    "Simple match\n",
    "```\n",
    "match <<some_value>>:\n",
    "    case 'a':\n",
    "        answer = first + second\n",
    "    case 's':\n",
    "        answer = first - second\n",
    "    case 'm':\n",
    "        answer = first * second\n",
    "    case _:\n",
    "        answer = first / second\n",
    "```"
   ]
  }
 ],
 "metadata": {
  "kernelspec": {
   "display_name": "Python 3",
   "language": "python",
   "name": "python3"
  },
  "language_info": {
   "codemirror_mode": {
    "name": "ipython",
    "version": 3
   },
   "file_extension": ".py",
   "mimetype": "text/x-python",
   "name": "python",
   "nbconvert_exporter": "python",
   "pygments_lexer": "ipython3",
   "version": "3.13.2"
  }
 },
 "nbformat": 4,
 "nbformat_minor": 2
}
