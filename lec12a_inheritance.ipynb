{
 "cells": [
  {
   "cell_type": "markdown",
   "id": "ab55eda6",
   "metadata": {},
   "source": [
    "## Inheritance\n",
    "This is one of the core principles of OOP.\n",
    "You extend the features of existing class instead of building new classes from scratch.  \n",
    "A (child/derived) class inherits, the attributes and behaviors of another (parent/base) class.  \n",
    "The programmer is able to use the features of the parent class without explicitly coding it.  \n",
    "The child class is able to access the attributes of the parent class using the `super` pronoun.  \n",
    "The child class may optionally define its own attributes or overwrite the existing ones in the parent class.  \n",
    "\n",
    "### Benefits\n",
    "1. Promotes code reuse by sharing attributes and methods across classes\n",
    "1. Able to model real-world heirarchies like Animal -> Dog or Person -> Student\n",
    "1. Simplifies maintenance thourhg centralized updates"
   ]
  },
  {
   "cell_type": "code",
   "execution_count": null,
   "id": "7c1dfd36",
   "metadata": {},
   "outputs": [],
   "source": [
    "#inheritance example\n",
    "\n",
    "\n",
    "# Parent class\n",
    "class Animal:\n",
    "    def move(self):\n",
    "        print(\"The animal moves\")\n",
    "\n",
    "# Child class\n",
    "class Dog(Animal):\n",
    "    def bark(self):\n",
    "        print(\"The dog barks\")\n",
    "\n",
    "# Create a Dog object\n",
    "my_dog = Dog()\n",
    "\n",
    "# Call methods\n",
    "my_dog.move()  # Inherited from Animal\n",
    "my_dog.bark()  # Defined in Dog\n",
    "\n"
   ]
  },
  {
   "cell_type": "code",
   "execution_count": null,
   "id": "d5b47d3c",
   "metadata": {},
   "outputs": [],
   "source": [
    "#the following class inherits everything from Person\n",
    "class Student(Person):\n",
    "    pass\n",
    "\n",
    "#test harness\n",
    "ilia = Student('Ilia', 21 )\n",
    "print(ilia)\n",
    "print(type(ilia) is Student)\n",
    "print(issubclass(type(ilia), Person))"
   ]
  },
  {
   "cell_type": "code",
   "execution_count": null,
   "id": "e9fc3174",
   "metadata": {},
   "outputs": [],
   "source": [
    "#the following class inherits everything from Person and adds a student_id attribute\n",
    "class Student(Person):\n",
    "    def __init__(self, name, age, student_id):\n",
    "        super().__init__(name, age)\n",
    "        self.student_id = student_id\n",
    "\n",
    "#test harness\n",
    "ilia = Student('Ilia', 21, 'S12345')\n",
    "print(ilia)"
   ]
  },
  {
   "cell_type": "code",
   "execution_count": null,
   "id": "7ecb2918",
   "metadata": {},
   "outputs": [],
   "source": [
    "#the following class overwite the parent __str__()\n",
    "class Student(Person):\n",
    "    def __init__(self, name, age, student_id):\n",
    "        super().__init__(name, age)\n",
    "        self.student_id = student_id\n",
    "\n",
    "    def __str__(self):\n",
    "        return f'Name: {self.name}, Age: {self.age}, Student ID: {self.student_id}'\n",
    "\n",
    "\n",
    "#test harness\n",
    "ilia = Student('Ilia', 21, 'S12345')\n",
    "print(ilia)"
   ]
  },
  {
   "cell_type": "code",
   "execution_count": null,
   "id": "6c4dc1f5",
   "metadata": {},
   "outputs": [],
   "source": [
    "#polymorphism example\n",
    "class Dog:\n",
    "    def speak(self):\n",
    "        return \"Dog woof!\"\n",
    "    \n",
    "class Cat:\n",
    "    def speak(self):\n",
    "        return \"Cat meow!\"\n",
    "    \n",
    "class Cow:\n",
    "    def speak(self):\n",
    "        return \"Cow moos!\"\n",
    "\n",
    "# Example of polymorphism\n",
    "def animal_sound(animal):   \n",
    "    return animal.speak()   \n",
    "\n",
    "dog = Dog()\n",
    "cat = Cat()\n",
    "cow = Cow()\n",
    "print(animal_sound(dog))  # Output: Woof!\n",
    "print(animal_sound(cat))  # Output: Meow!   \n",
    "print(animal_sound(cow))  # Output: Moo!"
   ]
  },
  {
   "cell_type": "code",
   "execution_count": null,
   "id": "467d380d",
   "metadata": {},
   "outputs": [],
   "source": [
    "#abstraction example\n",
    "\n",
    "from abc import ABC, abstractmethod\n",
    "\n",
    "class Vehicle(ABC):\n",
    "    @abstractmethod\n",
    "    def start_engine(self):\n",
    "        pass\n",
    "\n",
    "class Car(Vehicle):\n",
    "    def start_engine(self):\n",
    "        print(\"Car engine started\")\n",
    "\n",
    "car = Car()\n",
    "car.start_engine()  # Output: Car engine started\n"
   ]
  }
 ],
 "metadata": {
  "kernelspec": {
   "display_name": "Python 3",
   "language": "python",
   "name": "python3"
  },
  "language_info": {
   "codemirror_mode": {
    "name": "ipython",
    "version": 3
   },
   "file_extension": ".py",
   "mimetype": "text/x-python",
   "name": "python",
   "nbconvert_exporter": "python",
   "pygments_lexer": "ipython3",
   "version": "3.13.2"
  }
 },
 "nbformat": 4,
 "nbformat_minor": 5
}
