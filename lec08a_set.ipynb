{
 "cells": [
  {
   "cell_type": "markdown",
   "metadata": {},
   "source": [
    "# Set   \n",
    "A Python set is an unordered collection of unique, immutable items.   \n",
    "-   The **set itself is  mutable** you are able to add and remove items from a set.\n",
    "-   **Elements must be hashable** (e.g., int, float, str or tuple with hashable items).\n",
    "-   **Non-hashable type** (list, dict or set) cannot be stored in a set.\n",
    "-   **No duplicates are allowed**: if you add the same item twice, it is stored only once.\n",
    "-   **Unordered**: items have no fixed position, so you cannot use indexing or slicing.\n",
    "-   An **empty set** is dislayed as `set()`. (not `{}` - that refers to an empty dicttionary!)\n",
    "\n",
    "Contents:\n",
    "1.  [Creating a set](#creation)\n",
    "    - Using the set() constructor\n",
    "    - From other iterables\n",
    "    - Simple assignment\n",
    "    - Using set comprehension\n",
    "1.  [Common Operations](#common_operation)\n",
    "    - `len()`\n",
    "    - Adding and removing an item\n",
    "    - printing all the values\n",
    "1.  [Set methods](#methods)\n",
    "    -   Mathematical operations: union, intersection, difference, symmetric_difference\n",
    "    -   Relational checks: issubset, issuperset, isdisjoint\n",
    "    -   Mutation methods: add, clear, copy, discard, pop, remove, update\n",
    "1.  [Summary](#summary)"
   ]
  },
  {
   "cell_type": "markdown",
   "metadata": {},
   "source": [
    "### <a id='creation'></a>Creating a set"
   ]
  },
  {
   "cell_type": "markdown",
   "metadata": {},
   "source": [
    "#### Using the constructor\n",
    "Calling `set()` with no arguments creates an empty set."
   ]
  },
  {
   "cell_type": "code",
   "execution_count": null,
   "metadata": {},
   "outputs": [],
   "source": [
    "# set creation using constructor\n",
    "a = set()\n",
    "print(a)\n",
    "print(type(a))\n",
    "print(len(a))"
   ]
  },
  {
   "cell_type": "markdown",
   "metadata": {},
   "source": [
    "#### From other iterables\n",
    "Passing an iterable to the set constructor will create a new set with all items of the iterable. Whenever you create or update a set, duplicates are automatically removed. "
   ]
  },
  {
   "cell_type": "code",
   "execution_count": null,
   "metadata": {},
   "outputs": [
    {
     "name": "stdout",
     "output_type": "stream",
     "text": [
      "{'H', 'r', ' ', 'o', 'd', 'l', 'W', 'e'}\n",
      "{0, 1, 2, 3, 4, 5, 6, 7, 8, 9}\n",
      "{1, 2, 3}\n",
      "{0, 1, 2, 3, 4, 5, 6, 7, 8, 9}\n",
      "{'three', 'one', 'zero', 'two'}\n"
     ]
    }
   ],
   "source": [
    "# set creation from an iterable\n",
    "string_data = 'Hello World'\n",
    "list_data = [x for x in range(10)]\n",
    "tuple_data = (1, 2, 3, 2, 1, 3, 2)\n",
    "range_data = range(10)\n",
    "dict_data = {'zero': 0, 'one': 1, 'two': 2, 'three': 3}\n",
    "\n",
    "print(set(string_data))\n",
    "print(set(list_data))\n",
    "print(set(tuple_data))\n",
    "print(set(range_data))\n",
    "print(set(dict_data))\n",
    "# notice that the set does not contain duplicate characters\n",
    "# and the order is not preserved  "
   ]
  },
  {
   "cell_type": "markdown",
   "metadata": {},
   "source": [
    "#### A set may not contain any non-hashable type\n",
    "Non-hashable type like list, dict and set may not be in a set"
   ]
  },
  {
   "cell_type": "code",
   "execution_count": null,
   "metadata": {},
   "outputs": [],
   "source": [
    "# the following will fail because a list in not hashable\n",
    "# a = {[3, 4]}        # may not contain a list\n",
    "# a = {1, 2, {3, 4}}  # may not contain a set\n",
    "# a = {1, 2, {'a':3, 'b':4} } # may not contain a dict\n",
    "\n",
    "# if you uncomment the above lines, you will see a TypeError"
   ]
  },
  {
   "cell_type": "markdown",
   "metadata": {},
   "source": [
    "#### From simple assignment"
   ]
  },
  {
   "cell_type": "code",
   "execution_count": null,
   "metadata": {},
   "outputs": [
    {
     "name": "stdout",
     "output_type": "stream",
     "text": [
      "{1, 2}\n",
      "{1, 2, 4, 'Hello', (3, 1), range(0, 4)}\n",
      "set()\n"
     ]
    }
   ],
   "source": [
    "# simple assignment\n",
    "a = {1, 2}\n",
    "print(a)\n",
    "\n",
    "a = {1, 2, (3, 1), 4, 'Hello'}\n",
    "print(a)\n",
    "a.clear()\n",
    "print(a)"
   ]
  },
  {
   "cell_type": "markdown",
   "metadata": {},
   "source": [
    "#### Set comprehension\n",
    "This is a compact and efficient way of creating a set.\n"
   ]
  },
  {
   "cell_type": "code",
   "execution_count": null,
   "metadata": {},
   "outputs": [],
   "source": [
    "#set comprehension\n",
    "#simple example\n",
    "b = {x for x in range(10)}\n",
    "print(b)\n",
    "\n",
    "# set comprehension with condition\n",
    "b = {x * x for x in range(10) if x % 2 == 0}\n",
    "print(b)\n",
    "\n",
    "# set comprehension with string\n",
    "letters = {char.upper() for char in 'banana'}\n",
    "print(letters)  # {'B', 'A', 'N'}\n",
    "\n",
    "#a more complex example\n",
    "pairs = {(x, y) for x in range(3) for y in range(2)}\n",
    "print(pairs)  "
   ]
  },
  {
   "cell_type": "markdown",
   "metadata": {},
   "source": [
    "### <a id='common_operation'></a>Common Operations"
   ]
  },
  {
   "cell_type": "code",
   "execution_count": null,
   "metadata": {},
   "outputs": [],
   "source": [
    "a.update({2, 3, 4})\n",
    "print(a)"
   ]
  },
  {
   "cell_type": "markdown",
   "metadata": {},
   "source": [
    "#### Set specific methods\n",
    "Returns a new set   \n",
    "-   `difference()` - returns the item of first set AFTER the items of the second set are removed\n",
    "-   `intersection()` - returns the items that are common in both sets\n",
    "-   `union()` - return all the items in both sets    \n",
    "\n",
    "Returns a bool   \n",
    "-   `isdisjoint()` - \n",
    "-   `issubset()` - returns True if all the items in the first set are contained in the second set\n",
    "-   `issuperset()` - returns True if all the items in the second set are contained in the first set"
   ]
  },
  {
   "cell_type": "code",
   "execution_count": 20,
   "metadata": {},
   "outputs": [
    {
     "name": "stdout",
     "output_type": "stream",
     "text": [
      "  a difference c: {8, 6}\n",
      "a intersection c: {2, 4}\n",
      "       a union c: {1, 2, 3, 4, 6, 8}\n",
      "       a union b: {1, 2, 3, 4, 5, 6, 7, 8, 9}\n",
      "  a isdisjoint b: True\n",
      "  a isdisjoint c: False\n",
      "    a issubset d: True\n",
      "    a issubset b: False\n",
      "  d issuperset c: True\n",
      "  b issuperset c: False\n"
     ]
    }
   ],
   "source": [
    "a = {2, 4, 6, 8}\n",
    "b = {1, 3, 5, 7, 9}\n",
    "c = {1, 2, 3, 4}\n",
    "d = {1, 2, 3, 4, 5, 6, 7, 8, 9}\n",
    "print(f'  a difference c: {a.difference(c)}')\n",
    "print(f'a intersection c: {a.intersection(c)}')\n",
    "print(f'       a union c: {a.union(c)}')\n",
    "print(f'       a union b: {a.union(b)}')\n",
    "print(f'  a isdisjoint b: {a.isdisjoint(b)}')\n",
    "print(f'  a isdisjoint c: {a.isdisjoint(c)}')\n",
    "print(f'    a issubset d: {a.issubset(d)}')\n",
    "print(f'    a issubset b: {a.issubset(b)}')\n",
    "print(f'  d issuperset c: {d.issuperset(c)}')\n",
    "print(f'  b issuperset c: {b.issuperset(c)}')"
   ]
  },
  {
   "cell_type": "markdown",
   "metadata": {},
   "source": [
    "#### More set specific methods\n",
    "-   `add(item)` - adds a single item.\n",
    "-   `clear()` - removes all the items.\n",
    "-   `copy()` - returns a shallow copy.\n",
    "-   `discard(item)` - removes an element. No error even if it is not present.\n",
    "-   `pop()` - removes and return an arbitrary element.\n",
    "-   `remove(item)` - removes an element. If not present raises a KeyError.\n",
    "-   `update(iterable)` - add multiple elements from another iterable. "
   ]
  },
  {
   "cell_type": "code",
   "execution_count": null,
   "metadata": {},
   "outputs": [
    {
     "name": "stdout",
     "output_type": "stream",
     "text": [
      "Before {2, 4, 5, 6, 8} after add 5 -> {2, 4, 5, 6, 8}\n"
     ]
    }
   ],
   "source": [
    "#add(item) demo\n",
    "tmp =  {2, 4, 6, 8}\n",
    "item = 5\n",
    "print(f'Before: {tmp}', end=' ')\n",
    "tmp.add(item)\n",
    "print(f'-> after add: {item} -> {tmp}')"
   ]
  },
  {
   "cell_type": "code",
   "execution_count": null,
   "metadata": {},
   "outputs": [
    {
     "name": "stdout",
     "output_type": "stream",
     "text": [
      "Before {2, 4, 5, 6, 8} after clear -> set()\n"
     ]
    }
   ],
   "source": [
    "#clear() demo\n",
    "tmp =  {2, 4, 6, 8}\n",
    "print(f'Before {tmp}', end=' ')\n",
    "tmp.clear()\n",
    "print(f'after clear -> {tmp}')"
   ]
  },
  {
   "cell_type": "code",
   "execution_count": null,
   "metadata": {},
   "outputs": [],
   "source": [
    "#copy() demo\n",
    "tmp =  {2, 4, 6, 8}\n",
    "tmp_copy = tmp.copy()\n",
    "print(f'Before {tmp}', end=' '\n",
    "tmp.clear()\n",
    "print(f'after clear -> {tmp}')"
   ]
  },
  {
   "cell_type": "code",
   "execution_count": null,
   "metadata": {},
   "outputs": [
    {
     "name": "stdout",
     "output_type": "stream",
     "text": [
      "Before {8, 2, 4, 6} after discard 2 -> {8, 4, 6}\n",
      "Before {8, 2, 4, 6} after discard 5 -> {8, 2, 4, 6}\n"
     ]
    }
   ],
   "source": [
    "#discard(item) demo\n",
    "tmp =  {2, 4, 6, 8}\n",
    "item = 2\n",
    "print(f'Before {tmp}', end=' ')\n",
    "tmp.discard(item)\n",
    "print(f'after discard {item} -> {tmp}')\n",
    "\n",
    "# although the item in not in the set, there is no error\n",
    "tmp =  {2, 4, 6, 8}\n",
    "item = 5\n",
    "print(f'Before {tmp}', end=' ')\n",
    "tmp.discard(item)\n",
    "print(f'after discard {item} -> {tmp}')"
   ]
  },
  {
   "cell_type": "code",
   "execution_count": null,
   "metadata": {},
   "outputs": [
    {
     "name": "stdout",
     "output_type": "stream",
     "text": [
      "Before {8, 2, 4, 6} after pop 8 -> {2, 4, 6}  <-> pop item: 8\n"
     ]
    }
   ],
   "source": [
    "#pop() demo\n",
    "tmp =  {2, 4, 6, 8}\n",
    "item = 5\n",
    "print(f'Before {tmp}', end=' ')\n",
    "item = tmp.pop()\n",
    "print(f'after pop {item} -> {tmp}  <-> pop item: {item}')"
   ]
  },
  {
   "cell_type": "code",
   "execution_count": null,
   "metadata": {},
   "outputs": [
    {
     "name": "stdout",
     "output_type": "stream",
     "text": [
      "Before {8, 2, 4, 6} after remove 2 -> {8, 4, 6}\n"
     ]
    }
   ],
   "source": [
    "#remove(item) demo\n",
    "tmp =  {2, 4, 6, 8}\n",
    "item = 2\n",
    "print(f'Before {tmp}', end=' ')\n",
    "tmp.remove(item)\n",
    "print(f'after remove {item} -> {tmp}')\n",
    "\n",
    "# because the item in not in the set, there will be a KeyError\n",
    "# tmp =  {2, 4, 6, 8}\n",
    "# item = 5\n",
    "# print(f'Before {tmp}', end=' ')\n",
    "# tmp.remove(item)\n",
    "# print(f'after remove {item} -> {tmp}')"
   ]
  },
  {
   "cell_type": "code",
   "execution_count": null,
   "metadata": {},
   "outputs": [
    {
     "name": "stdout",
     "output_type": "stream",
     "text": [
      "Before {8, 2, 4, 6} after update [1, 2, 5] -> {1, 2, 4, 5, 6, 8}\n"
     ]
    }
   ],
   "source": [
    "#update(item) demo\n",
    "tmp =  {2, 4, 6, 8}\n",
    "iter = [1, 2, 5]\n",
    "print(f'Before {tmp}', end=' ')\n",
    "tmp.update(iter)\n",
    "print(f'after update {iter} -> {tmp}')"
   ]
  },
  {
   "cell_type": "markdown",
   "metadata": {},
   "source": [
    "### <a id='summary'></a>Summary\n",
    "-   A set is an unordered, mutable collection of unique hashable items\n",
    "-   Allowed element types: (`int`, `float`, `str`, `tuples` (only if all their elements are hashable), `bool`, `frozenset` or `bytes`)\n",
    "-   Not allowed: `list`, `set`, `dict` or `bytearray`\n",
    "-   Operations: union, intersection, difference, symmetric difference.\n",
    "-   Fast membership testing with `in`.\n",
    "-   Useful for\n",
    "    -   Removing duplicates\n",
    "    -   Mathematical set operations\n",
    "    -   Efficient membership checks"
   ]
  }
 ],
 "metadata": {
  "kernelspec": {
   "display_name": "Python 3",
   "language": "python",
   "name": "python3"
  },
  "language_info": {
   "codemirror_mode": {
    "name": "ipython",
    "version": 3
   },
   "file_extension": ".py",
   "mimetype": "text/x-python",
   "name": "python",
   "nbconvert_exporter": "python",
   "pygments_lexer": "ipython3",
   "version": "3.13.2"
  }
 },
 "nbformat": 4,
 "nbformat_minor": 2
}
