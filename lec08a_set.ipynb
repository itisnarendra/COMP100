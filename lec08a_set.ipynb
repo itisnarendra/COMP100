{
 "cells": [
  {
   "cell_type": "markdown",
   "metadata": {},
   "source": [
    "# Set\n",
    "-   A python set is an unordered collection of unique immutalbe items.\n",
    "-   The set iiself is  mutable i.e. you are able to add and remove items from a set.\n",
    "-   Elements inside must be hashable (e.g., int, float, str, tuple if its items are hashable).\n",
    "-   List, dictionary or set cannot exist in a set (because they are not hashable)\n",
    "-   No duplicates allowed → if you add the same item twice, it’s stored only once.\n",
    "-   Unordered → no indexing or slicing like lists.\n",
    "\n",
    "Contents:\n",
    "1.  [Creating a set](#creation)\n",
    "    - Using the set() constructor\n",
    "    - From a string\n",
    "    - Simple assignment\n",
    "    - Using set comprehension\n",
    "1.  [Common Operations](#common_operation)\n",
    "    - using len() to obtain the number of items\n",
    "    - adding an item\n",
    "    - removing an item\n",
    "    - printing all the keys\n",
    "    - printing all the values\n",
    "1.  [More set methods](#methods)\n",
    "1.  [Summary](#summary)"
   ]
  },
  {
   "cell_type": "markdown",
   "metadata": {},
   "source": [
    "### <a id='creation'></a>Creating a set"
   ]
  },
  {
   "cell_type": "code",
   "execution_count": null,
   "metadata": {},
   "outputs": [],
   "source": [
    "# set creation using constructor\n",
    "a = set()\n",
    "print(a)\n",
    "\n",
    "# set creation from a string\n",
    "s = 'Hello World'\n",
    "a = set(s)\n",
    "print(a)\n",
    "# notice that the set does not contain duplicate characters\n",
    "# and the order is not preserved    "
   ]
  },
  {
   "cell_type": "code",
   "execution_count": null,
   "metadata": {},
   "outputs": [],
   "source": [
    "# simple assignment\n",
    "a = {1, 2, 3, 1, 4}\n",
    "print(a)\n",
    "\n",
    "a = {1, 2}\n",
    "print(a)\n",
    "a.clear()\n",
    "print(a)"
   ]
  },
  {
   "cell_type": "code",
   "execution_count": null,
   "metadata": {},
   "outputs": [],
   "source": [
    "# the following will fail because a list in not hashable\n",
    "# a = {1, 2, [3, 4]}  # TypeError\n",
    "\n",
    "# if you uncomment the above line, you will see an error\n",
    "# TypeError: unhashable type: 'list'"
   ]
  },
  {
   "cell_type": "code",
   "execution_count": null,
   "metadata": {},
   "outputs": [],
   "source": [
    "#set comprehension\n",
    "#sinple example\n",
    "b = {x for x in range(10)}\n",
    "print(b)\n",
    "\n",
    "# set comprehension with condition\n",
    "b = {x * x for x in range(10) if x % 2 == 0}\n",
    "print(b)\n",
    "\n",
    "# set comprehension with string\n",
    "letters = {char.upper() for char in 'banana'}\n",
    "print(letters)  # {'B', 'A', 'N'}\n",
    "\n",
    "#a more complex example\n",
    "pairs = {(x, y) for x in range(3) for y in range(2)}\n",
    "print(pairs)  "
   ]
  },
  {
   "cell_type": "markdown",
   "metadata": {},
   "source": [
    "### <a id='common_operation'></a>Common Operations"
   ]
  },
  {
   "cell_type": "code",
   "execution_count": null,
   "metadata": {},
   "outputs": [],
   "source": [
    "a.update({2, 3, 4})\n",
    "print(a)"
   ]
  },
  {
   "cell_type": "markdown",
   "metadata": {},
   "source": [
    "### set specific methods\n",
    "-   `difference()` - returns the first set AFTER the items of the second set are removed\n",
    "-   `intersection()` - returns the items that are common in both sets\n",
    "-   `union()` - return all the items in both sets \n",
    "-   `issubset()` - returns True if all the items in the first set are contained in the second set\n",
    "-   `issuperset()` - returns True if all the items in the second set are contained in the first set"
   ]
  },
  {
   "cell_type": "code",
   "execution_count": null,
   "metadata": {},
   "outputs": [],
   "source": [
    "a = {2, 4, 6, 8}\n",
    "b = {1, 3, 5, 7, 9}\n",
    "c = {1, 2, 3, 4}\n",
    "d = {1, 2, 3, 4, 5, 6, 7, 8, 9}\n",
    "print(f'  a difference c: {a.difference(c)}')\n",
    "print(f'a intersection c: {a.intersection(c)}')\n",
    "print(f'       a union c: {a.union(c)}')\n",
    "print(f'  a isdisjoint b: {a.isdisjoint(b)}')\n",
    "print(f'  a isdisjoint c: {a.isdisjoint(c)}')\n",
    "print(f'    a issubset d: {a.issubset(d)}')\n",
    "print(f'    a issubset b: {a.issubset(b)}')\n",
    "print(f'  d issuperset c: {d.issuperset(c)}')\n",
    "print(f'  b issuperset c: {b.issuperset(c)}')"
   ]
  },
  {
   "cell_type": "code",
   "execution_count": null,
   "metadata": {},
   "outputs": [],
   "source": []
  },
  {
   "cell_type": "markdown",
   "metadata": {},
   "source": [
    "### <a id='summary'></a>Summary\n",
    "-   A set is unordered, unique, mutable collection.\n",
    "-   Operations: union, intersection, difference, symmetric difference.\n",
    "-   Fast lookups with in.\n",
    "-   Use case: removing duplicates, membership testing, math operations on data."
   ]
  }
 ],
 "metadata": {
  "kernelspec": {
   "display_name": "Python 3",
   "language": "python",
   "name": "python3"
  },
  "language_info": {
   "codemirror_mode": {
    "name": "ipython",
    "version": 3
   },
   "file_extension": ".py",
   "mimetype": "text/x-python",
   "name": "python",
   "nbconvert_exporter": "python",
   "pygments_lexer": "ipython3",
   "version": "3.13.2"
  }
 },
 "nbformat": 4,
 "nbformat_minor": 2
}
