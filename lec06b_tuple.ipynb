{
 "cells": [
  {
   "cell_type": "markdown",
   "metadata": {},
   "source": [
    "This is th second of a series of 4 notebooks on sequences.  \n",
    "WE will be looking at tuples in this notebook\n",
    "\n",
    "---\n",
    "\n",
    "# Tuple\n",
    "\n",
    "A tuple in Python is:\n",
    "\n",
    "-   an ordered, immutable, heterogeneous collection of values (objects).\n",
    "-   best used when you want a fixed collection of items that should not change.\n",
    "\n",
    "Examples of common use cases:\n",
    "-   Coordinates (x, y)\n",
    "-   Database records\n",
    "-   Function return values\n",
    "\n",
    "Contents:\n",
    "1.  [Creating a tuple](#creation)\n",
    "    -   By constructor\n",
    "    -   By assignment\n",
    "    -   From other functions\n",
    "    -   From other iterables (range, list, set, dict, etc.)\n",
    "    -   Not so common ways\n",
    "1.  Accessing members\n",
    "1.  Unpacking a tuple\n",
    "1.  Tuple operations\n",
    "1.  Tuple methods\n",
    "1.  Common pitfalls\n",
    "1.  [Summary](#summary)"
   ]
  },
  {
   "cell_type": "markdown",
   "metadata": {},
   "source": [
    "### Creating a tuple by assignment"
   ]
  },
  {
   "cell_type": "code",
   "execution_count": null,
   "metadata": {},
   "outputs": [],
   "source": [
    "#creating tuple by assignment\n",
    "\n",
    "# Empty tuple\n",
    "a = ()\n",
    "print(a)\n",
    "\n",
    "# Tuple with numbers\n",
    "a = (9, 8, 7)\n",
    "print(a)\n",
    "\n",
    "# Tuple with strings\n",
    "a = ('x', 'y', 'z')\n",
    "print(a)\n",
    "\n",
    "# Mixed data types\n",
    "a = (0, 'one', [2], 3.0, True)\n",
    "print(a)\n",
    "\n",
    "# For a single-element tuple, you need a comma\n",
    "a = (1,)  \n",
    "print(a)   # Output: (1,)\n",
    "\n",
    "\n",
    "\n",
    "\n",
    "# for single element tuple, you need to add a comma\n",
    "f = (1,)  # this is a tuple with one element\n",
    "print(f)                              # Output: (1,)\n",
    "# creating tuple from other functions\n",
    "g = tuple(range(5))  # creates a tuple from a range object  \n",
    "print(g)                              # Output: (0, 1, 2, 3, 4)\n",
    "#also\n",
    "f = (b, c, d)\n",
    "print(f)                              # tuple of tuples"
   ]
  },
  {
   "cell_type": "markdown",
   "metadata": {},
   "source": [
    "### <a id='creation'></a>Creating a tuple by using the constructor\n",
    "You can create a tuple from any iterable using `tuple()`."
   ]
  },
  {
   "cell_type": "code",
   "execution_count": 3,
   "metadata": {},
   "outputs": [
    {
     "name": "stdout",
     "output_type": "stream",
     "text": [
      "<class 'tuple'>\n",
      "()\n",
      "('H', 'e', 'l', 'l', 'o', ' ', 'W', 'o', 'r', 'l', 'd')\n",
      "('Hello World', 'Python', 'Programming')\n",
      "('Narendra', 'Pershad')\n",
      "(1, 2)\n",
      "('Hello', 'World')\n",
      "('Hello World',)\n",
      "(0, 1, 2, 3, 4, 5, 6, 7, 8, 9)\n",
      "(2, 3, 4)\n",
      "(0, 1, 2, 3, 4, 5, 6, 7, 8, 9)\n",
      "((0, 4), (1, 5))\n"
     ]
    }
   ],
   "source": [
    "# tuples from constructor\n",
    "# you may pass any sequence to the constructor \n",
    "s = tuple()\n",
    "print(type(s))                      # Output: <class 'tuple'>\n",
    "print(s)                            # empty tuple\n",
    "\n",
    "a = 'Hello World'\n",
    "print(f'{tuple(a)}')                # tuple from string\n",
    "\n",
    "\n",
    "a = ['Hello World', 'Python', 'Programming']\n",
    "print(f'{tuple(a)}')                # tuple from list\n",
    "\n",
    "a = 'Narendra Pershad'.split()      # this method returns a list\n",
    "print(tuple(a))                     # can you predict how many elements will be in the tuple?   \n",
    "\n",
    "a = {1: 'Hello', 2: 'World'}\n",
    "print(f'{tuple(a)}')                # tuple from dictionary - it only takes the keys\n",
    "\n",
    "a = {'Hello', 'World'}\n",
    "print(f'{tuple(a)}')                # tuple from set\n",
    "\n",
    "a = ('Hello World',)\n",
    "print(f'{tuple(a)}')                # tuple from tuple\n",
    "\n",
    "a = tuple(range(10))                #from a range\n",
    "print(a)\n",
    "\n",
    "c = tuple(range(10))[2:5]               #from slicing an existing tuple\n",
    "print(c)\n",
    "d = tuple(x for x in range(10))         #tuple from a iterable expression\n",
    "print(d)\n",
    "\n",
    "# advance???\n",
    "a = tuple(zip(range(2), range(4, 6)))   #from a two or more iterables\n",
    "print(a)\n",
    "\n",
    "# a = 123_456_789\n",
    "# print(f'{tuple(a)}')              # tuple from integer, an integer is not iterable\n",
    "\n",
    "# a = 3.14\n",
    "# print(f'{tuple(a)}')              # tuple from float, a float is not iterable"
   ]
  },
  {
   "cell_type": "markdown",
   "metadata": {},
   "source": [
    "#### Creating tuples in other ways"
   ]
  },
  {
   "cell_type": "code",
   "execution_count": null,
   "metadata": {},
   "outputs": [],
   "source": [
    "#creating more tuples\n",
    "u = (a, b)                  #creates a nested tuples from two existing tuples, similar to append()\n",
    "print(f'u: {u}')\n",
    "v = a + b                   #concatenates the items into a single tuple, similar to extend()\n",
    "print(f'v: {v}')\n",
    "w = a * 3                   #repeat the tuple 3 times\n",
    "print(f'w: {w}')\n",
    "w += a                      #extend w by a\n",
    "print(f'w: {w}')"
   ]
  },
  {
   "cell_type": "markdown",
   "metadata": {},
   "source": [
    "##### Some Common pitfalls:\n",
    "\n",
    "-   Forgetting the comma in a single-element tuple.\n",
    "\n",
    "-   Expecting .append() or .insert() like lists.\n",
    "\n",
    "-   Forgetting tuples are immutable."
   ]
  },
  {
   "cell_type": "markdown",
   "metadata": {},
   "source": [
    "### Summary\n",
    "-   Tuples are ordered, immutable collections.\n",
    "\n",
    "-   Can contain heterogeneous elements.\n",
    "\n",
    "-   Useful for fixed data, unpacking, dict keys.\n",
    "\n",
    "-   Support indexing, slicing, and basic functions (min, max, sum, len)."
   ]
  },
  {
   "cell_type": "code",
   "execution_count": 14,
   "metadata": {},
   "outputs": [
    {
     "name": "stdout",
     "output_type": "stream",
     "text": [
      "count, index \n",
      "\n",
      "count, index, start, step, stop \n",
      "\n",
      "append, clear, copy, count, extend, index, insert, pop, remove, reverse, sort \n",
      "\n",
      "capitalize, casefold, center, count, encode, endswith, expandtabs, find, format, format_map, index, isalnum, isalpha, isascii, isdecimal, isdigit, isidentifier, islower, isnumeric, isprintable, isspace, istitle, isupper, join, ljust, lower, lstrip, maketrans, partition, removeprefix, removesuffix, replace, rfind, rindex, rjust, rpartition, rsplit, rstrip, split, splitlines, startswith, strip, swapcase, title, translate, upper, zfill \n",
      "\n",
      "add, clear, copy, difference, difference_update, discard, intersection, intersection_update, isdisjoint, issubset, issuperset, pop, remove, symmetric_difference, symmetric_difference_update, union, update \n",
      "\n",
      "clear, copy, fromkeys, get, items, keys, pop, popitem, setdefault, update, values \n",
      "\n"
     ]
    }
   ],
   "source": [
    "def remove_dunder(f):\n",
    "    all = dir(f)\n",
    "    result = []\n",
    "    for x in all:\n",
    "        if not x.startswith('__'):\n",
    "            result.append(x)\n",
    "    return ', '.join(result)\n",
    "\n",
    "print(remove_dunder(tuple()), '\\n')\n",
    "print(remove_dunder(range(5)), '\\n')\n",
    "print(remove_dunder(list()), '\\n')\n",
    "print(remove_dunder(str()), '\\n')\n",
    "print(remove_dunder(set()), '\\n')\n",
    "print(remove_dunder(dict()), '\\n')"
   ]
  }
 ],
 "metadata": {
  "kernelspec": {
   "display_name": "Python 3",
   "language": "python",
   "name": "python3"
  },
  "language_info": {
   "codemirror_mode": {
    "name": "ipython",
    "version": 3
   },
   "file_extension": ".py",
   "mimetype": "text/x-python",
   "name": "python",
   "nbconvert_exporter": "python",
   "pygments_lexer": "ipython3",
   "version": "3.13.2"
  }
 },
 "nbformat": 4,
 "nbformat_minor": 2
}
