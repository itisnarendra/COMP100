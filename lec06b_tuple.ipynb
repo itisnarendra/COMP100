{
 "cells": [
  {
   "cell_type": "markdown",
   "metadata": {},
   "source": [
    "## tuple\n",
    "A tuple in python is an immutable heterogenous collection of values (objects). You will use it for a slight performance gain over the list collection.\n",
    "\n",
    "### Creating a tuple\n",
    "    - by constructor\n",
    "    - by assignment\n",
    "    - from other functions\n",
    "    - List comprehension\n"
   ]
  },
  {
   "cell_type": "code",
   "execution_count": null,
   "metadata": {},
   "outputs": [
    {
     "name": "stdout",
     "output_type": "stream",
     "text": [
      "<class 'tuple'>\n",
      "()\n",
      "('H', 'e', 'l', 'l', 'o', ' ', 'W', 'o', 'r', 'l', 'd')\n",
      "('Hello World', 'Python', 'Programming')\n",
      "(1, 2)\n",
      "('World', 'Hello')\n",
      "('Hello World',)\n"
     ]
    }
   ],
   "source": [
    "# tuples from constructor\n",
    "# you may pass any sequence to the constructor \n",
    "s = tuple()\n",
    "print(type(s))                      # Output: <class 'tuple'>\n",
    "print(s)                            # empty string\n",
    "\n",
    "\n",
    "def create_tuple(val):\n",
    "    return tuple(val)\n",
    "\n",
    "a = 'Hello World'\n",
    "print(f'{create_tuple(a)}')           # tuple from string\n",
    "\n",
    "# a = 123_456_789\n",
    "# print(f'{create_tuple(a)}')           # string from integer\n",
    "\n",
    "# a = 3.14\n",
    "# print(f'{create_tuple(a)}')           # string from float\n",
    "\n",
    "\n",
    "a = ['Hello World', 'Python', 'Programming']\n",
    "print(f'{create_tuple(a)}')           # string from list\n",
    "\n",
    "a = {1: 'Hello', 2: 'World'}\n",
    "print(f'{create_tuple(a)}')           # string from dictionary - it only takes the keys\n",
    "\n",
    "a = {'Hello', 'World'}\n",
    "print(f'{create_tuple(a)}')           # string from tuple\n",
    "\n",
    "a = ('Hello World',)\n",
    "print(f'{create_tuple(a)}')           # string from set"
   ]
  },
  {
   "cell_type": "code",
   "execution_count": null,
   "metadata": {},
   "outputs": [
    {
     "name": "stdout",
     "output_type": "stream",
     "text": [
      "()\n",
      "()\n",
      "(9, 8, 7)\n",
      "('x', 'y', 'z')\n",
      "(0, 'one', [2], 3.0, True)\n"
     ]
    }
   ],
   "source": [
    "#creating tuple by assignment\n",
    "a = tuple()\n",
    "print(a)\n",
    "b = ()\n",
    "print(b)\n",
    "c = (9, 8, 7)\n",
    "print(c)\n",
    "d = ('x', 'y', 'z')\n",
    "print(d)\n",
    "e = (0, 'one', [2], 3.0, True)\n",
    "print(e)"
   ]
  },
  {
   "cell_type": "code",
   "execution_count": 3,
   "metadata": {},
   "outputs": [
    {
     "name": "stdout",
     "output_type": "stream",
     "text": [
      "('Narendra', 'Pershad')\n",
      "('N', 'a', 'r', 'e', 'n', 'd', 'r', 'a')\n",
      "(0, 1, 2, 3)\n",
      "(1, 2.2, '3')\n",
      "('z', 'x', 'y')\n",
      "('one', 'two', 'three')\n",
      "(0, 1, 2, 3, 4, 5, 6, 7, 8, 9)\n"
     ]
    }
   ],
   "source": [
    "a = tuple('Narendra Pershad'.split())          #this method returns a list\n",
    "print(a)\n",
    "b = tuple('Narendra')                    #this works with any iterable e.g. string, list, tuple, dict etc\n",
    "print(b)\n",
    "c = tuple((0, 1, 2, 3))                     #from a tuple\n",
    "print(c)\n",
    "d = tuple([1, 2.2, '3'])                     #from a list\n",
    "print(d)\n",
    "e = tuple({'x', 'y', 'z'})                     #from a set\n",
    "print(e)\n",
    "f = tuple({'one': 1, 'two': 2, 'three': 3})  #from a dict -> it takes only the keys of the dict\n",
    "print(f)\n",
    "g = tuple(range(10))                     #from a range\n",
    "print(g)"
   ]
  },
  {
   "cell_type": "code",
   "execution_count": 5,
   "metadata": {},
   "outputs": [
    {
     "name": "stdout",
     "output_type": "stream",
     "text": [
      "u: (('Narendra', 'Pershad'), ('N', 'a', 'r', 'e', 'n', 'd', 'r', 'a'))\n",
      "v: ('Narendra', 'Pershad', 'N', 'a', 'r', 'e', 'n', 'd', 'r', 'a')\n",
      "w: ('Narendra', 'Pershad', 'Narendra', 'Pershad', 'Narendra', 'Pershad')\n",
      "w: ('Narendra', 'Pershad', 'Narendra', 'Pershad', 'Narendra', 'Pershad', 'Narendra', 'Pershad')\n"
     ]
    }
   ],
   "source": [
    "#creating more tuples\n",
    "u = (a, b)                  #from two existing tuples, similar to append()\n",
    "print(f'u: {u}')\n",
    "v = a + b                   #similar to extend()\n",
    "print(f'v: {v}')\n",
    "w = a * 3                   #add a to itself 3 times\n",
    "print(f'w: {w}')\n",
    "w += a\n",
    "print(f'w: {w}')"
   ]
  },
  {
   "cell_type": "code",
   "execution_count": 11,
   "metadata": {},
   "outputs": [
    {
     "name": "stdout",
     "output_type": "stream",
     "text": [
      "((0, 4), (1, 5))\n",
      "(2, 3, 4)\n",
      "(0, 1, 2, 3, 4, 5, 6, 7, 8, 9)\n"
     ]
    }
   ],
   "source": [
    "# advance???\n",
    "a = tuple(zip(range(2), range(4, 6)))   #from a two or more iterables\n",
    "print(a)\n",
    "b = tuple(range(10))[2:5]               #from slicing an existing list\n",
    "print(b)\n",
    "c = tuple(x for x in range(10))         #tuple comprehension\n",
    "print(c)"
   ]
  },
  {
   "cell_type": "code",
   "execution_count": 19,
   "metadata": {},
   "outputs": [
    {
     "name": "stdout",
     "output_type": "stream",
     "text": [
      "('the', 'quick', 'brown', 'jumped')\n",
      "the, quick, brown, jumped\n"
     ]
    }
   ],
   "source": [
    "a = ('the', 'quick', 'brown', 'jumped')\n",
    "print(a)\n",
    "b = ', '.join(a)\n",
    "print(b)\n",
    "# c.extend(['the', 'lazy', 'dog.']) #the items are add to the end\n",
    "# print(c)\n",
    "# c.insert(3, 'fox')       #the item is inserted at the specified position\n",
    "# print(c)"
   ]
  },
  {
   "cell_type": "code",
   "execution_count": 20,
   "metadata": {},
   "outputs": [
    {
     "name": "stdout",
     "output_type": "stream",
     "text": [
      "2\n",
      "13\n",
      "6\n",
      "41\n"
     ]
    }
   ],
   "source": [
    "primes = (2, 3, 5, 7, 11, 13)\n",
    "print(f'{min(primes)}')\n",
    "print(f'{max(primes)}')\n",
    "print(f'{len(primes)}')\n",
    "print(f'{sum(primes)}')"
   ]
  },
  {
   "cell_type": "code",
   "execution_count": 21,
   "metadata": {},
   "outputs": [
    {
     "data": {
      "text/plain": [
       "['__add__',\n",
       " '__class__',\n",
       " '__class_getitem__',\n",
       " '__contains__',\n",
       " '__delattr__',\n",
       " '__dir__',\n",
       " '__doc__',\n",
       " '__eq__',\n",
       " '__format__',\n",
       " '__ge__',\n",
       " '__getattribute__',\n",
       " '__getitem__',\n",
       " '__getnewargs__',\n",
       " '__getstate__',\n",
       " '__gt__',\n",
       " '__hash__',\n",
       " '__init__',\n",
       " '__init_subclass__',\n",
       " '__iter__',\n",
       " '__le__',\n",
       " '__len__',\n",
       " '__lt__',\n",
       " '__mul__',\n",
       " '__ne__',\n",
       " '__new__',\n",
       " '__reduce__',\n",
       " '__reduce_ex__',\n",
       " '__repr__',\n",
       " '__rmul__',\n",
       " '__setattr__',\n",
       " '__sizeof__',\n",
       " '__str__',\n",
       " '__subclasshook__',\n",
       " 'count',\n",
       " 'index']"
      ]
     },
     "execution_count": 21,
     "metadata": {},
     "output_type": "execute_result"
    }
   ],
   "source": [
    "dir(tuple)"
   ]
  }
 ],
 "metadata": {
  "kernelspec": {
   "display_name": "Python 3",
   "language": "python",
   "name": "python3"
  },
  "language_info": {
   "codemirror_mode": {
    "name": "ipython",
    "version": 3
   },
   "file_extension": ".py",
   "mimetype": "text/x-python",
   "name": "python",
   "nbconvert_exporter": "python",
   "pygments_lexer": "ipython3",
   "version": "3.13.2"
  }
 },
 "nbformat": 4,
 "nbformat_minor": 2
}
