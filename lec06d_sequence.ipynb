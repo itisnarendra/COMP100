{
 "cells": [
  {
   "cell_type": "markdown",
   "id": "5e547233",
   "metadata": {},
   "source": [
    "# **Common Sequence Operations**\n",
    "1. [Length](#len)\n",
    "2. [Membership](#in)\n",
    "3. [Aggregate Functions](#aggregation)\n",
    "4. [Concatenation](#concatenate)\n",
    "5. [Repetition](#repetition)\n",
    "6. [Iteration](#iteration)\n",
    "7. [Indexing](#indexing)\n",
    "8. [Slicing](#slicing)\n",
    "8. [zip](#zip)"
   ]
  },
  {
   "cell_type": "markdown",
   "id": "cdfdabbf",
   "metadata": {},
   "source": [
    "## <a id=\"len\"></a>Length\n",
    "This function will return the number of (top-level) items in a sequence."
   ]
  },
  {
   "cell_type": "code",
   "execution_count": 38,
   "id": "18cfa19b",
   "metadata": {},
   "outputs": [
    {
     "name": "stdout",
     "output_type": "stream",
     "text": [
      "12\n",
      "5\n",
      "3\n",
      "3\n"
     ]
    }
   ],
   "source": [
    "a = 'Hello world!'\n",
    "b = [0, 3, 2, 1, 4]\n",
    "c = (0, [1, 2, 3], 4)\n",
    "d = {'a', 'b', 'c'}\n",
    "\n",
    "print(len(a))                # number of character in the string\n",
    "\n",
    "print(len(b))                # number of items in the list\n",
    "\n",
    "print(len(c))                # number of items in the tuple\n",
    "\n",
    "print(len(d))                # number of items in the set"
   ]
  },
  {
   "cell_type": "markdown",
   "id": "981c742c",
   "metadata": {},
   "source": [
    "## <a id=\"in\"></a>Membership\n",
    "The `in` keyword returns true if the a value exist in a sequence."
   ]
  },
  {
   "cell_type": "code",
   "execution_count": 39,
   "id": "8041f27c",
   "metadata": {},
   "outputs": [
    {
     "name": "stdout",
     "output_type": "stream",
     "text": [
      "True\n",
      "False\n",
      "False\n",
      "True\n",
      "True\n"
     ]
    }
   ],
   "source": [
    "print('H' in a)             # check if 'H' is in the string\n",
    "print('H' not in a)         # check if 'H' is not in the string\n",
    "print('h' in a)             # check if 'h' is in the list\n",
    "print(' ' in a)             # check if ' ' is in the list\n",
    "print([1, 2, 3] in c)       # check if ' ' is in the list"
   ]
  },
  {
   "cell_type": "markdown",
   "id": "9401e077",
   "metadata": {},
   "source": [
    "## <a id=\"aggregation\"></a>Aggregation functions\n",
    "The main agregation functions are `min()`, `max()`, and `sum()`.\n",
    "These functions will process all the items in a sequence and return a single value.\n",
    "\n",
    "As expected, the sum() and sorted() function will only work if the items in a sequence are all numbers"
   ]
  },
  {
   "cell_type": "code",
   "execution_count": 3,
   "id": "54f89a10",
   "metadata": {},
   "outputs": [
    {
     "name": "stdout",
     "output_type": "stream",
     "text": [
      "w\n",
      "a\n",
      "10\n",
      "[0, 1, 2, 3, 4]\n"
     ]
    }
   ],
   "source": [
    "print(max(a))               # maximum character in the string\n",
    "\n",
    "print(min(d))               # minimum character in the set\n",
    "\n",
    "print(sum(b))               # sum of the items in the list\n",
    "\n",
    "#print(sum(c)) # This will raise an error because one of the items in c is not number (it is a list!)\n",
    "\n",
    "print(sorted(b))             # sorted list"
   ]
  },
  {
   "cell_type": "markdown",
   "id": "f059f312",
   "metadata": {},
   "source": [
    "## <a id=\"concatenate\"></a>Concatenation\n",
    "This operation returns a new sequence by accumulating the items in two sequences of the same type."
   ]
  },
  {
   "cell_type": "code",
   "execution_count": 4,
   "id": "883d8a0a",
   "metadata": {},
   "outputs": [
    {
     "name": "stdout",
     "output_type": "stream",
     "text": [
      "Hello world! Centennial College.\n",
      "[0, 3, 2, 1, 4, -1, '8', 3, (2, 1), 4]\n"
     ]
    }
   ],
   "source": [
    "e = ' Centennial College.'\n",
    "f =[-1, '8', 3, (2, 1), 4]\n",
    "g = (0, )\n",
    "h = {'z', 'y', 'x'}\n",
    "\n",
    "print(a + e)\n",
    "print(b + f)"
   ]
  },
  {
   "cell_type": "markdown",
   "id": "87c93592",
   "metadata": {},
   "source": [
    "## <a id=\"repetition\"></a>Repetition\n",
    "This operation returns a new sequence by repeating the items in a sequence.\n",
    "\n",
    "For meaningful result the repetition factor must be a positive integer\n"
   ]
  },
  {
   "cell_type": "code",
   "execution_count": 6,
   "id": "169395a0",
   "metadata": {},
   "outputs": [
    {
     "name": "stdout",
     "output_type": "stream",
     "text": [
      "Hello world!Hello world!\n",
      "Hello world!Hello world!\n",
      "[]\n",
      "()\n"
     ]
    }
   ],
   "source": [
    "print(2 * a)          # repeat the string 2 times\n",
    "print(a * 2)          # repeat the string 2 times\n",
    "print(0 * b)          # repeat the list 0 times\n",
    "print(-2 * c)          # repeat the tuple -2 times"
   ]
  },
  {
   "cell_type": "markdown",
   "id": "1058b435",
   "metadata": {},
   "source": [
    "## <a id=\"iteration\"></a>Iteration\n",
    "This operation returns each item in a sequence for processing.\n"
   ]
  },
  {
   "cell_type": "code",
   "execution_count": 7,
   "id": "226c533b",
   "metadata": {},
   "outputs": [
    {
     "name": "stdout",
     "output_type": "stream",
     "text": [
      "H e l l o   w o r l d ! \n",
      "Sum: 10\n",
      "\n",
      "0 [1, 2, 3] 4 \n",
      "c a b \n"
     ]
    }
   ],
   "source": [
    "for x in a:\n",
    "    print(x, end=' ')  # print each character in the string with a space\n",
    "print()  # print a new line\n",
    "\n",
    "\n",
    "b = [0, 3, 2, 1, 4]\n",
    "sum = 0\n",
    "for x in b:\n",
    "    sum += x  # sum all items in the list\n",
    "print(f'Sum: {sum}')  # print the sum of the list\n",
    "print()  # print a new line\n",
    "\n",
    "for x in c:\n",
    "    print(x, end=' ')  # print each item in the tuple with a space\n",
    "print()  # print a new line\n",
    "\n",
    "for x in d:\n",
    "    print(x, end=' ')  # print each item in the set with a space\n",
    "print()  # print a new line\n"
   ]
  },
  {
   "cell_type": "markdown",
   "id": "b03c5206",
   "metadata": {},
   "source": [
    "## <a id=\"indexing\"></a>Indexing\n",
    "This operation returns an item of a sequence.\n",
    "\n",
    "In addition to normal indexing, negative indices are permitted. A negative index references elements from the end of the sequence.\n"
   ]
  },
  {
   "cell_type": "code",
   "execution_count": 8,
   "id": "1d3ab739",
   "metadata": {},
   "outputs": [
    {
     "name": "stdout",
     "output_type": "stream",
     "text": [
      "Hello world!\n",
      "index  0 -> H\n",
      "index  1 -> e\n",
      "index  2 -> l\n",
      "index  3 -> l\n",
      "index  4 -> o\n",
      "index  5 ->  \n",
      "index  6 -> w\n",
      "index -6 -> w\n",
      "index -5 -> o\n",
      "index -4 -> r\n",
      "index -3 -> l\n",
      "index -2 -> d\n",
      "index -1 -> !\n"
     ]
    }
   ],
   "source": [
    "print(a)\n",
    "print(f'index  0 -> {a[0]}')  # access the first character in the string\n",
    "print(f'index  1 -> {a[1]}')  # access the second character in the string    \n",
    "print(f'index  2 -> {a[2]}')  # access the third character in the string    \n",
    "print(f'index  3 -> {a[3]}')   \n",
    "print(f'index  4 -> {a[4]}')   \n",
    "print(f'index  5 -> {a[5]}')   \n",
    "print(f'index  6 -> {a[6]}')   \n",
    "print(f'index -6 -> {a[-6]}')     \n",
    "print(f'index -5 -> {a[-5]}')     \n",
    "print(f'index -4 -> {a[-4]}')     \n",
    "print(f'index -3 -> {a[-3]}')  # access the last but two characters in the string    \n",
    "print(f'index -2 -> {a[-2]}')  # access the last but one character in the string    \n",
    "print(f'index -1 -> {a[-1]}')  # access the last character in the string    "
   ]
  },
  {
   "cell_type": "markdown",
   "id": "9bdeb73f",
   "metadata": {},
   "source": [
    "## <a id=\"slicing\"></a>Slicing\n",
    "This operation returns a new sequence from a portion of a sequence."
   ]
  },
  {
   "cell_type": "code",
   "execution_count": 42,
   "id": "5dd6de0b",
   "metadata": {},
   "outputs": [
    {
     "name": "stdout",
     "output_type": "stream",
     "text": [
      "0:H, 1:e, 2:l, 3:l, 4:o, 5: , 6:w, 7:o, 8:r, 9:l, 10:d, 11:!, \n",
      "slice :: -> Hello world!\n",
      "slice : -> Hello world!\n",
      "slice 2:: -> llo world!\n",
      "slice 2:10 -> llo worl\n",
      "slice 2:10:2 -> lowr\n",
      "slice ::10 -> Hd\n",
      "slice ::2 -> Hlowrd\n",
      "slice 2::2 -> lowrd\n",
      "slice -1::-1 -> !dlrow olleH\n"
     ]
    }
   ],
   "source": [
    "for x, i in enumerate(a):\n",
    "    print(f'{x}:{i}', end=', ')                             # print each character in the string with its index    \n",
    "print()  # print a new line\n",
    "\n",
    "start = 2   # start index\n",
    "end = 10    # end index\n",
    "step = 2    # step value\n",
    "print(f'slice :: -> {a[::]}')                               # slice the string from the start to the end\n",
    "print(f'slice : -> {a[:]}')                                 # slice the string from the start to the end\n",
    "print(f'slice {start}:: -> {a[start:]}')                    # slice the string from index 2 to the end\n",
    "print(f'slice {start}:{end} -> {a[start:end]}')             # slice the string from index 2 to 10 (not including 10)\n",
    "print(f'slice {start}:{end}:{step} -> {a[start:end:step]}') # slice the string from index 2 to 10 in step 2 (not including 10)\n",
    "print(f'slice ::{end} -> {a[::end]}')                        # slice the string from the start to index 10 (not including 10)\n",
    "print(f'slice ::{step} -> {a[::step]}')                     # slice the string from the start to the end in step 2\n",
    "print(f'slice {start}::{step} -> {a[start::step]}')                     # slice the string from index 2 to the end in step 2\n",
    "start = -1\n",
    "step = -1\n",
    "print(f'slice {start}::{step} -> {a[start::step]}')         # slice the string from end to the beginning i.e. reverse the string"
   ]
  },
  {
   "cell_type": "markdown",
   "id": "acf00bf3",
   "metadata": {},
   "source": [
    "## <a id=\"zip\"></a>The zip() function\n",
    "\n",
    "The zip() function in Python is a built-in function that combines elements from multiple iterables (like lists, tuples, dictionaries, etc.) into a single iterable of tuples.\n",
    "\n",
    "Syntax:\n",
    "python\n",
    "`zip(*iterables)`\n",
    "*iterables: Two or more iterables (e.g., lists, tuples, strings).\n",
    "\n",
    "---\n",
    "\n",
    "In Python version 2, zip returns a list    \n",
    "In python version 3, zip returns an iterable   \n",
    "\n",
    "---\n",
    "\n",
    "How It Works:\n",
    "-   zip() pairs the first element of each iterable together, then the second, and so on.\n",
    "-   The result is an iterator of tuples where the i-th tuple contains the i-th element from each input iterable.\n",
    "-   If the input iterables are of unequal length, zip() stops when the shortest iterable is exhausted.\n",
    "-   It's memory efficient since it generates items on-demand\n",
    "-   You can zip any number of iterables together"
   ]
  },
  {
   "cell_type": "code",
   "execution_count": null,
   "id": "d5f9780e",
   "metadata": {},
   "outputs": [
    {
     "name": "stdout",
     "output_type": "stream",
     "text": [
      "<class 'zip'>\n",
      "[('h', 2, 1, 'one', 0), ('e', 3, 2, 'two', 1), ('l', 5, 3, 'five', 2), ('l', 7, 4, 'four', 3)]\n",
      "[]\n"
     ]
    }
   ],
   "source": [
    "# The zip function combines multiple iterables into a single iterable of tuples.\n",
    "# Each tuple contains one element from each of the input iterables. \n",
    "# If the input iterables are of different lengths, the resulting iterable will be as long as the shortest input iterable.\n",
    "# After the first iteration, the zip object is exhausted and cannot be reused.  \n",
    "# If you want to use the zip object again, you need to create it again.\n",
    "# In this example, we will create a zip object with different types of iterables.\n",
    "\n",
    "a = zip(\n",
    "    'hello',                    # a string\n",
    "    [2, 3, 5, 7, 11, 13],       # a list of prime numbers\n",
    "    (1, 2, 3, 4),               # a tuple of numbers\n",
    "    {'one', 'two', 'three', 'four', 'five'},     # a set of strings\n",
    "    range(4))                   # a range object from 0 to 3 \n",
    "                                # the last argument will be the limiter for this zip\n",
    "                                # and the function will stop after combining the fourth item\n",
    "                                # in each of the arguemtns\n",
    "\n",
    "print(type(a))              # print the type of the zip object\n",
    "print(list(a))   \n",
    "print(list(a))              #   second print does not work"
   ]
  },
  {
   "cell_type": "code",
   "execution_count": 33,
   "id": "1d420aa7",
   "metadata": {},
   "outputs": [
    {
     "name": "stdout",
     "output_type": "stream",
     "text": [
      "('Alice',), ('Bob',), ('Claire',), ('Dave',), ('Eve',), "
     ]
    }
   ],
   "source": [
    "names = 'Alice Bob Claire Dave Eve'.split()     # split the string into a list of names\n",
    "ages = [25, 30, 22, 35, 28]                     # list of ages corresponding to the names\n",
    "\n",
    "for x in zip(names):\n",
    "    print(f'{x}', end=', ')                     # print each name in the list with a comma and space"
   ]
  },
  {
   "cell_type": "code",
   "execution_count": 34,
   "id": "4388279b",
   "metadata": {},
   "outputs": [
    {
     "name": "stdout",
     "output_type": "stream",
     "text": [
      "Alice is 25 years old\n",
      "Bob is 30 years old\n",
      "Claire is 22 years old\n",
      "Dave is 35 years old\n",
      "Eve is 28 years old\n"
     ]
    }
   ],
   "source": [
    "for name, age in zip(names, ages):\n",
    "    print(f'{name} is {age} years old')  # print each character in the first string with its corresponding character in the second string"
   ]
  },
  {
   "cell_type": "code",
   "execution_count": 30,
   "id": "62345634",
   "metadata": {},
   "outputs": [
    {
     "name": "stdout",
     "output_type": "stream",
     "text": [
      "Alice is 25 years old\n",
      "Bob is 30 years old\n",
      "Claire is 22 years old\n",
      "Dave is 35 years old\n",
      "Eve is 28 years old\n",
      "Frank is Unknown years old\n"
     ]
    }
   ],
   "source": [
    "# handling unequal length iterables\n",
    "from itertools import zip_longest\n",
    "names = 'Alice Bob Claire Dave Eve Frank'.split()  # longer list of names\n",
    "ages = [25, 30, 22, 35, 28]                        # shorter list of ages   \n",
    "for name, age in zip_longest(names, ages, fillvalue='Unknown'):\n",
    "    print(f'{name} is {age} years old')  # print each character in the first string with its corresponding character in the second string"
   ]
  },
  {
   "cell_type": "code",
   "execution_count": 44,
   "id": "5a8bfaad",
   "metadata": {},
   "outputs": [
    {
     "name": "stdout",
     "output_type": "stream",
     "text": [
      "apple is red\n",
      "banana is green\n",
      "cherry is blue\n",
      "date is red\n",
      "elderberry is green\n"
     ]
    }
   ],
   "source": [
    "from itertools import cycle\n",
    "\n",
    "colors = ['red', 'green', 'blue']\n",
    "items = ['apple', 'banana', 'cherry', 'date', 'elderberry']\n",
    "\n",
    "for item, color in zip(items, cycle(colors)):\n",
    "    print(f\"{item} is {color}\")\n",
    "# apple is red, banana is green, cherry is blue, date is red, elderberry is green"
   ]
  },
  {
   "cell_type": "code",
   "execution_count": null,
   "id": "aaf2bf23",
   "metadata": {},
   "outputs": [
    {
     "name": "stdout",
     "output_type": "stream",
     "text": [
      "{'Alice': 25, 'Bob': 30, 'Claire': 22, 'Dave': 35, 'Eve': 28}\n",
      "{25: 'Alice', 30: 'Bob', 22: 'Claire', 35: 'Dave', 28: 'Eve'}\n"
     ]
    }
   ],
   "source": [
    "# create a dictionary from the names and ages\n",
    "people_dict = dict(zip(names, ages))\n",
    "print(people_dict)                              # print the resulting dictionary\n",
    "\n",
    "age_dict = dict(zip(ages, names))\n",
    "print(age_dict)                                 # print the resulting dictionary"
   ]
  },
  {
   "cell_type": "code",
   "execution_count": 43,
   "id": "80efbd5f",
   "metadata": {},
   "outputs": [
    {
     "name": "stdout",
     "output_type": "stream",
     "text": [
      "{('Alice', 25), ('Claire', 22), ('Eve', 28), ('Dave', 35), ('Bob', 30)}\n"
     ]
    }
   ],
   "source": [
    "# creating a set from a zip iterable\n",
    "people_set = set(zip(names, ages))\n",
    "print(people_set)                               # print the resulting set   "
   ]
  },
  {
   "cell_type": "code",
   "execution_count": 36,
   "id": "022d4780",
   "metadata": {},
   "outputs": [
    {
     "name": "stdout",
     "output_type": "stream",
     "text": [
      "(1, 2, 3)\n",
      "('a', 'b', 'c')\n",
      "(1, 2, 3)\n",
      "('a', 'b', 'c')\n",
      "(10, 20, 30)\n"
     ]
    }
   ],
   "source": [
    "# use the * operator to unpack the zip object (or a list of tuples or a list of lists ) \n",
    "zipped = [(1, 'a'), (2, 'b'), (3, 'c')]\n",
    "list1, list2 = zip(*zipped)\n",
    "print(list1)  # Output: (1, 2, 3)\n",
    "print(list2)  # Output: ('a', 'b', 'c')\n",
    "\n",
    "zipped = [[1, 'a', 10], [2, 'b', 20], [3, 'c', 30]]\n",
    "list1, list2, list3 = zip(*zipped)\n",
    "print(list1)  # Output: (1, 2, 3)\n",
    "print(list2)  # Output: ('a', 'b', 'c')\n",
    "print(list3)  # Output: (10, 20, 30)"
   ]
  },
  {
   "cell_type": "code",
   "execution_count": 54,
   "id": "15665c54",
   "metadata": {},
   "outputs": [
    {
     "name": "stdout",
     "output_type": "stream",
     "text": [
      "(0, 10)\n",
      "(1, 9)\n",
      "(2, 8)\n",
      "(3, 7)\n",
      "(4, 6)\n",
      "(5, 5)\n",
      "(6, 4)\n",
      "(7, 3)\n",
      "(8, 2)\n",
      "(9, 1)\n",
      "(10, 0)\n",
      "(0, 1, 2)\n",
      "(3, 4, 5)\n",
      "(6, 7, 8)\n"
     ]
    }
   ],
   "source": [
    "dat = [0, 1, 2, 3, 4, 5, 6, 7, 8, 9, 10]   # a list of numbers from 0 to 8\n",
    "for x in zip(dat, dat[-1::-1]):     # reverse the second sequence\n",
    "    print(x)                        # Output: (0, 8), (1, 7), (2, 6)\n",
    "\n",
    "\n",
    "#dat = [1, 2, 3, 4, 5]   # a list of numbers from 0 to 8\n",
    "list1, list2, list3 = zip(*[iter(dat)]*3)   \n",
    "print(list1)  # Output: (0, 3, 6)\n",
    "print(list2)  # Output: (1, 4, 7)\n",
    "print(list3)  # Output: (2, 5, 8)\n"
   ]
  }
 ],
 "metadata": {
  "kernelspec": {
   "display_name": "Python 3",
   "language": "python",
   "name": "python3"
  },
  "language_info": {
   "codemirror_mode": {
    "name": "ipython",
    "version": 3
   },
   "file_extension": ".py",
   "mimetype": "text/x-python",
   "name": "python",
   "nbconvert_exporter": "python",
   "pygments_lexer": "ipython3",
   "version": "3.13.2"
  }
 },
 "nbformat": 4,
 "nbformat_minor": 5
}
