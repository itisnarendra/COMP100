{
 "cells": [
  {
   "cell_type": "markdown",
   "id": "5e547233",
   "metadata": {},
   "source": [
    "This is the fourth of a series of 4 notebooks on sequences.  \n",
    "Here we will be looking at the common operations that can be done on sequences.\n",
    "\n",
    "---\n",
    "\n",
    "### **Sequence**\n",
    "Strings, tuples, list and range are the most common seqences that you will work with in Python.\n",
    "\n",
    "This notebook attempts to explore some operations, that is commonly applied to all (or atleast most) sequences.\n",
    "\n",
    "\n",
    "#### Methods that are not attached to Sequence classes\n",
    "1. [Join](#join)\n",
    "1. [Repetition](#repetition)\n",
    "1. [Length](#len)\n",
    "1. [Membership](#in)\n",
    "1. [Aggregate Functions](#aggregation)\n",
    "#### Methods that are attached to Sequence classes\n",
    "1. [Count](#count)\n",
    "1. [Index](#index)\n",
    "\n",
    "#### Advanced/Miscellaneous Methods\n",
    "1. [Concatenation](#concatenate)\n",
    "1. [Iteration](#iteration)\n",
    "1. [Indexing](#indexing)\n",
    "1. [Slicing](#slicing)\n",
    "1. [Zip](#zip)\n",
    "1. [Decomposition](#decomposition)"
   ]
  },
  {
   "cell_type": "markdown",
   "id": "a84e6fb3",
   "metadata": {},
   "source": [
    "### Methods that are not attached to Sequence classes\n",
    "\n",
    "These methods are often not attached to the particular class: they are built-in methods that works with most sequences. Methods that returns a single item or value.\n",
    "\n",
    "They do not modify the sequence."
   ]
  },
  {
   "cell_type": "code",
   "execution_count": null,
   "id": "1105409e",
   "metadata": {},
   "outputs": [],
   "source": [
    "#We will use the following sequences in this notebook\n",
    "string_data = 'Hello world!'\n",
    "list_data = ['0', '3', '2', '1', '2']\n",
    "# set_data = {'one', 'two', 'three'}  # not a sequence, but still works with len()\n",
    "tuple_data = ('0', ['1', '2', '3', '4'], '4')\n",
    "range_data = range(5)"
   ]
  },
  {
   "cell_type": "markdown",
   "id": "cdfdabbf",
   "metadata": {},
   "source": [
    "#### <a id=\"len\"></a>Length\n",
    "The `len()` function will return the number of (top-level) items in a sequence."
   ]
  },
  {
   "cell_type": "code",
   "execution_count": null,
   "id": "18cfa19b",
   "metadata": {},
   "outputs": [],
   "source": [
    "print(f'string: {len(string_data)}')         # number of character in the string - 12\n",
    "\n",
    "print(f'  list: {len(list_data)}')           # number of items in the list - 5\n",
    "\n",
    "# print(f'   set: {len(set_data)}')            # number of items in the set - 3 \n",
    "\n",
    "print(f' tuple: {len(tuple_data)}')          # number of items in the tuple - 3\n",
    "\n",
    "print(f' range: {len(range_data)}')          # number of items in the range - 5"
   ]
  },
  {
   "cell_type": "markdown",
   "id": "4fa535fb",
   "metadata": {},
   "source": [
    "### <a id=\"in\"></a>Membership\n",
    "The `in` keyword returns true if the an item exist in a sequence. "
   ]
  },
  {
   "cell_type": "code",
   "execution_count": null,
   "id": "6e80c341",
   "metadata": {},
   "outputs": [],
   "source": [
    "print('H' in string_data)                   # check if 'H' is in the string\n",
    "print('H' not in string_data)               # check if 'H' is not in the string\n",
    "print('h' in string_data)                   # check if 'h' is in the string\n",
    "print(' ' in string_data)                   # check if ' ' is in the string\n",
    "print(['1', '2', '3'] in tuple_data)        # check if [1, 2, 3] is in the tuple\n",
    "print(2 in range_data)                      # check if 2 is in the range"
   ]
  },
  {
   "cell_type": "markdown",
   "id": "807dcee9",
   "metadata": {},
   "source": [
    "### Methods that are attached to Sequence classes\n",
    "\n",
    "These methods are attached to the particular sequence class.\n",
    "\n",
    "They do not modify the sequence."
   ]
  },
  {
   "cell_type": "markdown",
   "id": "e6f1b439",
   "metadata": {},
   "source": [
    "#### <a id=\"count\"></a>Count\n",
    "The `count(pattern)` method occurs in all of the sequence classes. It returns the number of occurence of the pattern in the sequence."
   ]
  },
  {
   "cell_type": "code",
   "execution_count": null,
   "id": "8ed51a58",
   "metadata": {},
   "outputs": [],
   "source": [
    "to_find = 'o'\n",
    "print(f'number of {to_find}\\'s in {string_data} -> {string_data.count(to_find)}')\n",
    "\n",
    "to_find = 3\n",
    "print(f'number of {to_find}\\'s in {list(range_data)} -> {range_data.count(to_find)}')\n",
    "\n",
    "to_find = '2'\n",
    "print(f'number of {to_find}\\'s in {list_data} -> {list_data.count(to_find)}')\n",
    "\n",
    "to_find = '4'\n",
    "print(f'number of {to_find}\\'s in {tuple_data} -> {tuple_data.count(to_find)}')\n",
    "\n",
    "tmp = [0, [1, 2], 3, [1, 2], 4, [2, 1]]\n",
    "to_find = [1, 2]\n",
    "print(f'number of {to_find}\\'s in {tmp} -> {tmp.count(to_find)}')\n",
    "\n",
    "# there is no count() method for the set class\n",
    "# to_find = 'two'\n",
    "# print(f'number of {to_find}\\'s in {set_data} -> {set_data.count(to_find)}')\n"
   ]
  },
  {
   "cell_type": "markdown",
   "id": "b41e3fd5",
   "metadata": {},
   "source": [
    "#### <a id=\"index\"></a>Index\n",
    "The `index(pattern)` function returns the position of the first occurence of pattern in the sequence."
   ]
  },
  {
   "cell_type": "code",
   "execution_count": null,
   "id": "4ab558c5",
   "metadata": {},
   "outputs": [],
   "source": [
    "to_find = 'o'\n",
    "print(f'position of {to_find} in {string_data} -> {string_data.index(to_find)}')\n",
    "\n",
    "to_find = 3\n",
    "print(f'position of {to_find} in {list(range_data)} -> {range_data.index(to_find)}')\n",
    "\n",
    "to_find = '2'\n",
    "print(f'position of {to_find} in {list_data} -> {list_data.index(to_find)}')\n",
    "\n",
    "to_find = '4'\n",
    "print(f'position of {to_find} in {tuple_data} -> {tuple_data.index(to_find)}')\n",
    "\n",
    "tmp = [0, [1, 2], 3, [1, 2], 4, [2, 1]]\n",
    "to_find = [1, 2]\n",
    "print(f'position of {to_find} in {tmp} -> {tmp.index(to_find)}')\n",
    "\n",
    "# there is no index() method for the set class\n",
    "# to_find = 'two'\n",
    "# print(f'position of {to_find} in {set_data} -> {set_data.index(to_find)}')\n"
   ]
  },
  {
   "cell_type": "markdown",
   "id": "b00fb09e",
   "metadata": {},
   "source": [
    "#### <a id=\"join\"></a>Join()\n",
    "The join() function is a string function, but it works really well with sequences, as long as `ALL` the items in it are strings. It returns all the items of the seqence joined by a specified pattern."
   ]
  },
  {
   "cell_type": "code",
   "execution_count": null,
   "id": "c4b19cd6",
   "metadata": {},
   "outputs": [],
   "source": [
    "print(', '.join(string_data))               # join the characters in the string with ', ' as separator\n",
    "\n",
    "print(' '.join(list_data))                  # join the items in the list with ', ' as separator              \n",
    "\n",
    "\n",
    "#the following does not work, because the sequence has non-string items\n",
    "\n",
    "#print(', '.join(tuple))                    \n",
    "\n",
    "#print(', '.join([0, 3, 2, 1, 4])             \n",
    "\n",
    "#print(', '.join(range_data))            "
   ]
  },
  {
   "cell_type": "markdown",
   "id": "5c86165a",
   "metadata": {},
   "source": [
    "#### <a id=\"repetition\"></a>Repetition\n",
    "This operation returns a new sequence by repeating the items in a sequence.\n",
    "\n",
    "For meaningful result the repetition factor must be a positive integer\n"
   ]
  },
  {
   "cell_type": "code",
   "execution_count": null,
   "id": "49b54fd3",
   "metadata": {},
   "outputs": [],
   "source": [
    "print(2 * string_data)          # repeat the string 2 times\n",
    "print(string_data * 2)          # repeat the string 2 times\n",
    "print(0 * tuple_data)          # repeat the list 0 times\n",
    "print(-2 * list_data)          # repeat the tuple -2 times"
   ]
  },
  {
   "cell_type": "markdown",
   "id": "8a5313f4",
   "metadata": {},
   "source": [
    "### Mutating Methods\n",
    "\n",
    "Because only list are mutable, these type of methods were covered in the notebook on list."
   ]
  },
  {
   "cell_type": "markdown",
   "id": "9401e077",
   "metadata": {},
   "source": [
    "### <a id=\"aggregation\"></a>Aggregation functions\n",
    "The main agregation functions are `min()`, `max()`, and `sum()`.\n",
    "These functions will process all the items in a sequence and return a single value.\n",
    "\n",
    "As expected, the sum() and sorted() function will only work if **ALL** the items in a sequence are numbers"
   ]
  },
  {
   "cell_type": "code",
   "execution_count": null,
   "id": "54f89a10",
   "metadata": {},
   "outputs": [],
   "source": [
    "x = [4, 2, 6, 1]\n",
    "\n",
    "y = (8, 4, 5)\n",
    "\n",
    "z = {8, 1.14, 3.14159}\n",
    "\n",
    "print(max(string_data))               # maximum character in the string\n",
    "print(sorted(string_data))            # sorts the characters in the string\n",
    "\n",
    "print(min(x))               # minimum character in the list\n",
    "\n",
    "print(sum(y))               # sum of the items in the tuple\n",
    "\n",
    "#print(sum(c)) # This will raise an error because one of the items in c is not number (it is a list!)\n",
    "\n",
    "print(sorted(list_data))             # sorted list\n",
    "\n",
    "print(sum(range_data))               # sum of the items in the range"
   ]
  },
  {
   "cell_type": "markdown",
   "id": "f059f312",
   "metadata": {},
   "source": [
    "### <a id=\"concatenate\"></a>Concatenation\n",
    "This operation returns a new sequence by accumulating the items in two sequences of the same type."
   ]
  },
  {
   "cell_type": "code",
   "execution_count": null,
   "id": "883d8a0a",
   "metadata": {},
   "outputs": [],
   "source": [
    "e = ' Centennial College.'\n",
    "f =[-1, '8', 3, (2, 1), 4]\n",
    "g = (0, )\n",
    "h = {'z', 'y', 'x'}\n",
    "\n",
    "print(string_data + e)\n",
    "print(list_data + f)"
   ]
  },
  {
   "cell_type": "markdown",
   "id": "1058b435",
   "metadata": {},
   "source": [
    "#### <a id=\"iteration\"></a>Iteration\n",
    "This operation returns each item in a sequence for processing.\n"
   ]
  },
  {
   "cell_type": "code",
   "execution_count": null,
   "id": "226c533b",
   "metadata": {},
   "outputs": [],
   "source": [
    "for x in string_data:\n",
    "    print(x, end=' ')  # print each character in the string with a space\n",
    "print()  # print a new line\n",
    "\n",
    "\n",
    "b = [0, 3, 2, 1, 4]\n",
    "sum = 0\n",
    "for x in b:\n",
    "    sum += x  # sum all items in the list\n",
    "print(f'Sum: {sum}')  # print the sum of the list\n",
    "print()  # print a new line\n",
    "\n",
    "for x in tuple_data:\n",
    "    print(x, end=' ')  # print each item in the tuple with a space\n",
    "print()  # print a new line\n",
    "\n",
    "for x in range_data:\n",
    "    print(x, end=' ')  # print each item in the set with a space\n",
    "print()  # print a new line\n"
   ]
  },
  {
   "cell_type": "markdown",
   "id": "b03c5206",
   "metadata": {},
   "source": [
    "#### <a id=\"indexing\"></a>Indexing\n",
    "This operation returns an item of a sequence.\n",
    "\n",
    "In addition to normal indexing, negative indices are permitted. A negative index references elements from the end of the sequence.\n",
    "\n",
    "```\n",
    "String:  H  e  l  l  o\n",
    "Index:   0  1  2  3  4\n",
    "Negidx: -5 -4 -3 -2 -1\n",
    "```"
   ]
  },
  {
   "cell_type": "code",
   "execution_count": null,
   "id": "1d3ab739",
   "metadata": {},
   "outputs": [],
   "source": [
    "print(string_data)\n",
    "print(f'index  0 -> {string_data[0]}')  # access the first character in the string\n",
    "print(f'index  1 -> {string_data[1]}')  # access the second character in the string    \n",
    "print(f'index  2 -> {string_data[2]}')  # access the third character in the string    \n",
    "print(f'index  3 -> {string_data[3]}')   \n",
    "print(f'index  4 -> {string_data[4]}')   \n",
    "print(f'index  5 -> {string_data[5]}')   \n",
    "print(f'index  6 -> {string_data[6]}')   \n",
    "print(f'index -6 -> {string_data[-6]}')     \n",
    "print(f'index -5 -> {string_data[-5]}')     \n",
    "print(f'index -4 -> {string_data[-4]}')     \n",
    "print(f'index -3 -> {string_data[-3]}')  # access the last but two characters in the string    \n",
    "print(f'index -2 -> {string_data[-2]}')  # access the last but one character in the string    \n",
    "print(f'index -1 -> {string_data[-1]}')  # access the last character in the string    "
   ]
  },
  {
   "cell_type": "markdown",
   "id": "9bdeb73f",
   "metadata": {},
   "source": [
    "#### <a id=\"slicing\"></a>Slicing\n",
    "This operation returns a new sequence from a portion of a sequence. This is a difficult concepts to master (atleast I found this so!)"
   ]
  },
  {
   "cell_type": "code",
   "execution_count": null,
   "id": "5dd6de0b",
   "metadata": {},
   "outputs": [],
   "source": [
    "a = 'HelloWorld'\n",
    "for x, i in enumerate(a):\n",
    "    print(f'{x}:{i}', end=', ')                             # print each character in the string with its index    \n",
    "print()  # print a new line\n",
    "\n",
    "start = 2   # start index\n",
    "end = 10    # end index\n",
    "step = 2    # step value\n",
    "print(f'slice :: -> {a[::]}')                               # slice the string from the start to the end\n",
    "print(f'slice : -> {a[:]}')                                 # slice the string from the start to the end\n",
    "print(f'slice {start}:: -> {a[start:]}')                    # slice the string from index 2 to the end\n",
    "print(f'slice {start}:{end} -> {a[start:end]}')             # slice the string from index 2 to 10 (not including 10)\n",
    "print(f'slice {start}:{end}:{step} -> {a[start:end:step]}') # slice the string from index 2 to 10 in step 2 (not including 10)\n",
    "print(f'slice ::{end} -> {a[::end]}')                        # slice the string from the start to index 10 (not including 10)\n",
    "print(f'slice ::{step} -> {a[::step]}')                     # slice the string from the start to the end in step 2\n",
    "print(f'slice {start}::{step} -> {a[start::step]}')                     # slice the string from index 2 to the end in step 2\n",
    "start = -1\n",
    "step = -1\n",
    "print(f'slice {start}::{step} -> {a[start::step]}')         # slice the string from end to the beginning i.e. reverse the string"
   ]
  },
  {
   "cell_type": "markdown",
   "id": "acf00bf3",
   "metadata": {},
   "source": [
    "#### <a id=\"zip\"></a>The zip() function\n",
    "\n",
    "The zip() function combines elements from multiple iterables (like lists, tuples, dictionaries, etc.) into a single iterable of tuples.\n",
    "\n",
    "Syntax:\n",
    "python\n",
    "`zip(*iterables)`\n",
    "*iterables: Two or more iterables (e.g., lists, tuples, strings).\n",
    "\n",
    "---\n",
    "\n",
    "In Python version 2, zip returns a list    \n",
    "In python version 3, zip returns an iterable   \n",
    "\n",
    "---\n",
    "\n",
    "How It Works:\n",
    "-   zip() pairs the first element of each iterable together, then the second, and so on.\n",
    "-   The result is an iterator of tuples where the i-th tuple contains the i-th element from each input iterable.\n",
    "-   If the input iterables are of unequal length, zip() stops when the shortest iterable is exhausted.\n",
    "-   It's memory efficient since it generates items on-demand\n",
    "-   You can zip any number of iterables together"
   ]
  },
  {
   "cell_type": "code",
   "execution_count": null,
   "id": "d5f9780e",
   "metadata": {},
   "outputs": [],
   "source": [
    "# The zip function combines multiple iterables into a single iterable of tuples.\n",
    "# Each tuple contains one element from each of the input iterables. \n",
    "# If the input iterables are of different lengths, the resulting iterable will be as long as the shortest input iterable.\n",
    "# After the first iteration, the zip object is exhausted and cannot be reused.  \n",
    "# If you want to use the zip object again, you need to create it again.\n",
    "# In this example, we will create a zip object with different types of iterables.\n",
    "\n",
    "a = zip(\n",
    "    'hello',                    # a string\n",
    "    [2, 3, 5, 7, 11, 13],       # a list of prime numbers\n",
    "    (1, 2, 3, 4),               # a tuple of numbers\n",
    "    {'one', 'two', 'three', 'four', 'five'},     # a set of strings\n",
    "    range(4))                   # a range object from 0 to 3 \n",
    "                                # the last argument will be the limiter for this zip\n",
    "                                # and the function will stop after combining the fourth item\n",
    "                                # in each of the arguemtns\n",
    "\n",
    "print(type(a))              # print the type of the zip object\n",
    "print(list(a))   \n",
    "print(list(a))              #   second print does not work"
   ]
  },
  {
   "cell_type": "code",
   "execution_count": null,
   "id": "1d420aa7",
   "metadata": {},
   "outputs": [],
   "source": [
    "names = 'Alice Bob Claire Dave Eve'.split()     # split the string into a list of names\n",
    "ages = [25, 30, 22, 35, 28]                     # list of ages corresponding to the names\n",
    "\n",
    "for x in zip(names):\n",
    "    print(f'{x}', end=', ')                     # print each name in the list with a comma and space"
   ]
  },
  {
   "cell_type": "code",
   "execution_count": null,
   "id": "4388279b",
   "metadata": {},
   "outputs": [],
   "source": [
    "for name, age in zip(names, ages):\n",
    "    print(f'{name} is {age} years old')  # print each character in the first string with its corresponding character in the second string"
   ]
  },
  {
   "cell_type": "code",
   "execution_count": null,
   "id": "aaf2bf23",
   "metadata": {},
   "outputs": [],
   "source": [
    "# create a dictionary from the names and ages\n",
    "people_dict = dict(zip(names, ages))\n",
    "print(people_dict)                              # print the resulting dictionary\n",
    "\n",
    "age_dict = dict(zip(ages, names))\n",
    "print(age_dict)                                 # print the resulting dictionary"
   ]
  },
  {
   "cell_type": "code",
   "execution_count": null,
   "id": "80efbd5f",
   "metadata": {},
   "outputs": [],
   "source": [
    "# creating a set from a zip iterable\n",
    "people_set = set(zip(names, ages))\n",
    "print(people_set)                               # print the resulting set   "
   ]
  },
  {
   "cell_type": "code",
   "execution_count": null,
   "id": "022d4780",
   "metadata": {},
   "outputs": [],
   "source": [
    "# use the * operator to unpack the zip object (or a list of tuples or a list of lists ) \n",
    "zipped = [(1, 'a'), (2, 'b'), (3, 'c')]\n",
    "list1, list2 = zip(*zipped)\n",
    "print(list1)  # Output: (1, 2, 3)\n",
    "print(list2)  # Output: ('a', 'b', 'c')\n",
    "\n",
    "zipped = [[1, 'a', 10], [2, 'b', 20], [3, 'c', 30]]\n",
    "list1, list2, list3 = zip(*zipped)\n",
    "print(list1)  # Output: (1, 2, 3)\n",
    "print(list2)  # Output: ('a', 'b', 'c')\n",
    "print(list3)  # Output: (10, 20, 30)"
   ]
  },
  {
   "cell_type": "code",
   "execution_count": null,
   "id": "15665c54",
   "metadata": {},
   "outputs": [],
   "source": [
    "dat = [0, 1, 2, 3, 4, 5, 6, 7, 8, 9, 10]   # a list of numbers from 0 to 8\n",
    "for x in zip(dat, dat[-1::-1]):     # reverse the second sequence\n",
    "    print(x)                        # Output: (0, 8), (1, 7), (2, 6)\n",
    "\n",
    "\n",
    "#dat = [1, 2, 3, 4, 5]   # a list of numbers from 0 to 8\n",
    "list1, list2, list3 = zip(*[iter(dat)]*3)   \n",
    "print(list1)  # Output: (0, 3, 6)\n",
    "print(list2)  # Output: (1, 4, 7)\n",
    "print(list3)  # Output: (2, 5, 8)\n"
   ]
  },
  {
   "cell_type": "markdown",
   "id": "15e558cd",
   "metadata": {},
   "source": [
    "#### <a id=\"decomposition\"></a>Decomposition\n",
    "\n"
   ]
  },
  {
   "cell_type": "code",
   "execution_count": null,
   "id": "de92e634",
   "metadata": {},
   "outputs": [],
   "source": [
    "colors = ('red', 'green', 'blue')\n",
    "first, middle, last = colors\n",
    "\n",
    "print(first)                    # red\n",
    "print (middle)                  # green\n",
    "print(last)                     # blue"
   ]
  },
  {
   "cell_type": "code",
   "execution_count": null,
   "id": "5ebde1ad",
   "metadata": {},
   "outputs": [],
   "source": [
    "first, *last = colors\n",
    "print(first)                    # red\n",
    "print(last)                     # ['green', 'blue']"
   ]
  },
  {
   "cell_type": "code",
   "execution_count": null,
   "id": "68b8a8f2",
   "metadata": {},
   "outputs": [],
   "source": [
    "*first, last = colors\n",
    "print(first)                    # ['red', 'green']\n",
    "print(last)                     # blue"
   ]
  },
  {
   "cell_type": "code",
   "execution_count": null,
   "id": "f39f57d1",
   "metadata": {},
   "outputs": [],
   "source": [
    "colors = 'red green blue yellow'.split()\n",
    "first, *_, last = colors        # the discard is used to silence the linter\n",
    "print(first)                    # red\n",
    "print(last)                     # yellow"
   ]
  },
  {
   "cell_type": "code",
   "execution_count": null,
   "id": "b61aca5e",
   "metadata": {},
   "outputs": [],
   "source": [
    "grades = ['Alice', 85, 90, 78, 92]\n",
    "\n",
    "student, *scores = grades\n",
    "print(student)                  # Alice\n",
    "print(scores)                   # [85, 90, 78, 92]"
   ]
  },
  {
   "cell_type": "code",
   "execution_count": null,
   "id": "e82062a0",
   "metadata": {},
   "outputs": [],
   "source": [
    "# Nested unpacking\n",
    "student = (\"Alice\", (85, 90, 78))\n",
    "name, (math, science, english) = student\n",
    "print(name, math, science, english)"
   ]
  },
  {
   "cell_type": "markdown",
   "id": "739d3ca9",
   "metadata": {},
   "source": [
    "#### Comparison of the sequences\n",
    "\n",
    "| Sequence | Methods directly associated with the class|\n",
    "|:--------:|:------------------------------------------|\n",
    "| tuple    | count, index                              |\n",
    "| range    | count, index, start, stop, step           |\n",
    "| list     | append, clear, copy, count, extend, index, insert, pop, remove, reverse, sort |\n",
    "| str    | capitalize, casefold, center, count, encode, endswith, expandtabs, find, format, format_map, index, isalnum, isalpha, isascii, isdecimal, isdigit, isidentifier, islower, isnumeric, isprintable, isspace, istitle, isupper, join, ljust, lower, lstrip, maketrans, partition, removeprefix, removesuffix, replace, rfind, rindex, rjust, rpartition, rsplit, rstrip, split, splitlines, startswith, strip, swapcase, title, translate, upper, zfill |\n"
   ]
  },
  {
   "cell_type": "markdown",
   "id": "99d03072",
   "metadata": {},
   "source": [
    "### <a id='summary'></a>Summary\n",
    "-   Sequences: str, list, tuple, range\n",
    "-   Common operations: len(), indexing, slicing, concatenation, repetition, iteration, membership\n",
    "-   Aggregates: min(), max(), sum(), sorted()\n",
    "-   zip(): combines multiple sequences\n",
    "-   Decomposition: unpack sequence items into variables\n",
    "\n",
    "\n",
    "#### Mutating Methods (modify the list)\n",
    "-   `append(x)` → add one item at the end\n",
    "-   `extend(iterable)` → add all items from another iterable\n",
    "-   `insert(i, x)` → insert at a specific index\n",
    "-   `remove(x)` → remove first occurrence of x\n",
    "-   `pop([i])` → remove and return item (default: last)\n",
    "-   `reverse()` → reverse in place\n",
    "-   `sort()` → sort in place\n",
    "-   `clear(`) → remove all items\n",
    "\n",
    "#### Non-Mutating Methods (return info or copies)\n",
    "-   `copy()` → shallow copy of list\n",
    "-   Aggregate functions such as:\n",
    "    -   `count(x)` → number of occurrences\n",
    "    -   `max(x)` → number of occurrences\n",
    "    -   `min(x)` → number of occurrences\n",
    "-   `index(x)` → position of first occurrence\n",
    "-   (also `len(lst)` and `sorted(lst)` are useful built-ins)"
   ]
  }
 ],
 "metadata": {
  "kernelspec": {
   "display_name": "Python 3",
   "language": "python",
   "name": "python3"
  },
  "language_info": {
   "codemirror_mode": {
    "name": "ipython",
    "version": 3
   },
   "file_extension": ".py",
   "mimetype": "text/x-python",
   "name": "python",
   "nbconvert_exporter": "python",
   "pygments_lexer": "ipython3",
   "version": "3.13.2"
  }
 },
 "nbformat": 4,
 "nbformat_minor": 5
}
