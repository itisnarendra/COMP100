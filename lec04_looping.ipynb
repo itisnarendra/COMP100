{
 "cells": [
  {
   "cell_type": "markdown",
   "metadata": {},
   "source": [
    "In this notebook, we will be examining the third control structure - Looping/Iteration/Repetition\n",
    "# Looping/Iteration/Repetition\n",
    "\n",
    "This provides a way to repeat a statement of block of statements zero or more time. Thus\n",
    "- are you now able to write program that might have be logistically inpossibe to write before e.g. adding the numbers up to 1_000_000\n",
    "- execute a code block an indeterminate number of times\n",
    "\n",
    "There are two kinds of loops:  \n",
    "1.  [while](#while)\n",
    "1.  for\n",
    "    -   [Using the range object](#range_object)\n",
    "    -   [Using an enumerable](#enumerable)\n",
    "    -   [Using the enumerate function](#enumerate_function)\n",
    "1.  [Alignment](#alignment)\n",
    "1.  [Using the continue and break keyword](#continue_break)\n",
    "1.  [Nested Loop](#nested_loop)\n",
    "1.  [Summary](#summary)\n",
    "\n"
   ]
  },
  {
   "cell_type": "markdown",
   "metadata": {},
   "source": [
    "## <a id=\"while\"></a>while\n",
    "\n",
    "It is easier to create indeterminate loops with this loop   \n",
    "\n",
    "Python uses indentation to show semantic blocks.   \n",
    "\n",
    "**Unlike C#, python does not have do-while loops**  \n",
    "\n",
    "Syntax for while statement\n",
    "```\n",
    "while <<loop_condition>>:\n",
    "    statements\n",
    "    <<updater statement>>\n",
    "```  \n",
    "If the update statement is missing, then it will be an infinite loop (non terminating loop)"
   ]
  },
  {
   "cell_type": "code",
   "execution_count": null,
   "metadata": {},
   "outputs": [],
   "source": [
    "#while loop\n",
    "counter = 0\n",
    "end = 10\n",
    "while counter < end:                #loop condition\n",
    "    print(f'counter: {counter}')\n",
    "    counter += 1                    #updater statement"
   ]
  },
  {
   "cell_type": "code",
   "execution_count": null,
   "metadata": {},
   "outputs": [],
   "source": [
    "#while example\n",
    "# updater counts down\n",
    "start = 5\n",
    "stop = 0\n",
    "while start > stop:\n",
    "    print(f'{start}', end=' ')\n",
    "    start -= 1"
   ]
  },
  {
   "cell_type": "code",
   "execution_count": null,
   "metadata": {},
   "outputs": [],
   "source": [
    "end = 3\n",
    "sum = 0\n",
    "counter = 0\n",
    "while counter < end:\n",
    "    sum += int(input('Enter a number: '))\n",
    "    counter += 1\n",
    "\n",
    "print(f'The sum of the {end} numbers is {sum}')\n"
   ]
  },
  {
   "cell_type": "code",
   "execution_count": null,
   "metadata": {},
   "outputs": [],
   "source": [
    "# this program does not use a counter to terminate the loop\n",
    "# it uses a condition based on the sum of the inputs\n",
    "target = 20\n",
    "sum = 0\n",
    "counter = 0\n",
    "while sum < target:\n",
    "    sum += int(input('Enter a number: '))\n",
    "    counter += 1\n",
    "\n",
    "print(f'It took {counter} number of additions to reach The sum of {sum}')"
   ]
  },
  {
   "cell_type": "code",
   "execution_count": null,
   "metadata": {},
   "outputs": [],
   "source": [
    "#while example using the and keyword\n",
    "start = 1\n",
    "stop = 100\n",
    "sum = 0\n",
    "while start < stop:\n",
    "    if start % 5 == 0 and start % 2 != 0:       #combining two conditions with the and keyword\n",
    "        sum += start\n",
    "    start += 1\n",
    "\n",
    "print(f'The sum of the non-even multiples of 5 less than 100 to {sum}')"
   ]
  },
  {
   "cell_type": "code",
   "execution_count": null,
   "metadata": {},
   "outputs": [],
   "source": [
    "#while example (3)\n",
    "start = 1_000_000\n",
    "stop = 2_000_000\n",
    "sum = 0\n",
    "while start < stop:\n",
    "    if start % 3 == 0:\n",
    "        sum += start\n",
    "    start += 1\n",
    "\n",
    "print(f'The sum of the multiples of 3 from 1,000,000 to {stop:,.0f} is {sum:,.0f}')\n",
    "# why can't you use the variable start in the print statement?"
   ]
  },
  {
   "cell_type": "code",
   "execution_count": null,
   "metadata": {},
   "outputs": [],
   "source": []
  },
  {
   "cell_type": "markdown",
   "metadata": {},
   "source": [
    "## for loop\n",
    "This works really we with the range() function\n",
    "### <a id=\"range_object\"></a>Using the range object\n",
    "range([start = 0], end, [step])\n",
    "\n",
    "Syntax for for statement\n",
    "```\n",
    "for iterator_variable in range_object:\n",
    "    Body of for\n",
    "```"
   ]
  },
  {
   "cell_type": "code",
   "execution_count": null,
   "metadata": {},
   "outputs": [],
   "source": [
    "#for example\n",
    "for _ in range(4):     #the underscore is used to quite the linter\n",
    "    print('Hello world')\n"
   ]
  },
  {
   "cell_type": "code",
   "execution_count": null,
   "metadata": {},
   "outputs": [],
   "source": [
    "#for example\n",
    "for x in range(10):     #the value for the range funtion represent the end value\n",
    "    print(f'x: {x}')"
   ]
  },
  {
   "cell_type": "code",
   "execution_count": null,
   "metadata": {},
   "outputs": [],
   "source": [
    "#for example (2)\n",
    "for x in range(10, 12):     #the two values represent the start and end\n",
    "    print(f'x: {x}')"
   ]
  },
  {
   "cell_type": "code",
   "execution_count": null,
   "metadata": {},
   "outputs": [],
   "source": [
    "#for example (3)\n",
    "for x in range(10, 30, 5):     #the three values represent the start, the end and the step\n",
    "    print(f'x: {x}')"
   ]
  },
  {
   "cell_type": "code",
   "execution_count": null,
   "metadata": {},
   "outputs": [],
   "source": [
    "#for example (3)\n",
    "for x in range(30, 10, -3):     #a sequence that decreases\n",
    "    print(f'x: {x}')"
   ]
  },
  {
   "cell_type": "code",
   "execution_count": null,
   "metadata": {},
   "outputs": [],
   "source": [
    "#for example (3)\n",
    "for x in range(0, -20, -6):     #the three values represent the start, the end and the step\n",
    "    print(f'x: {x}')"
   ]
  },
  {
   "cell_type": "markdown",
   "metadata": {},
   "source": [
    "### <a id=\"enumerable\"></a>using an enumeration object  \n",
    "Syntax for enumeration statement\n",
    "this works well with iterables like lists, string, tuples etc.\n",
    "\n",
    "```\n",
    "for <<iterator variable>> in <<iterables>>:\n",
    "    statements\n",
    "```"
   ]
  },
  {
   "cell_type": "code",
   "execution_count": null,
   "metadata": {},
   "outputs": [],
   "source": [
    "a = [2, 3, 5, 7, 11, 13, 17, 19, 23, 29]\n",
    "#for example (4)\n",
    "for x in a:\n",
    "    print(f'{x}', end=', ')  #end='' prevents the print function from adding a new line"
   ]
  },
  {
   "cell_type": "code",
   "execution_count": null,
   "metadata": {},
   "outputs": [],
   "source": [
    "#nested for loop\n",
    "for let in 'ABC':\n",
    "    for num in [1, 2, 3, 4, 5]:\n",
    "        print(f'{let}{num}', end=' ')\n",
    "    print()\n"
   ]
  },
  {
   "cell_type": "markdown",
   "metadata": {},
   "source": [
    "### <a id=\"enumerate_function\"></a>Using the enumerate function\n",
    "for syntax with enumerate() (get index and value)\n",
    "```\n",
    "for index, value in enumerate(<<enumerable>>):\n",
    "    statements\n",
    "```\n",
    "\n",
    "The enumerate() function works with any iterables such as list, string, tuple or dictionary"
   ]
  },
  {
   "cell_type": "code",
   "execution_count": null,
   "metadata": {},
   "outputs": [],
   "source": [
    "a = [2, 3, 5, 7, 11, 13, 17, 19, 23, 29]\n",
    "#for example (4)\n",
    "for index, value in enumerate(a):\n",
    "    print(f'{index}: {value}')  "
   ]
  },
  {
   "cell_type": "code",
   "execution_count": null,
   "metadata": {},
   "outputs": [],
   "source": [
    "b = {'one': 1, 'two': 2, 'three': 3, 'four': 4, 'five': 5}\n",
    "#for example (5)\n",
    "for key, value in b.items():\n",
    "    print(f'{key}: {value}')"
   ]
  },
  {
   "cell_type": "markdown",
   "metadata": {},
   "source": [
    "### <a id=\"alignment\"></a>Alignment when printing tables\n",
    "When printing tabular data, it looks professional if the columns are aligned.    \n",
    "-   right alignment   \n",
    "`>` right aligns the current content to the specified column \n",
    "-   left alignment   \n",
    "`<` left aligns the current content to the specified column \n",
    "-   center alignment   \n",
    "`>` aligns the current to the specified column "
   ]
  },
  {
   "cell_type": "code",
   "execution_count": null,
   "metadata": {},
   "outputs": [],
   "source": [
    "#alignment/formatting\n",
    "\n",
    "for x in range(1, 11):     \n",
    "    print(f'{x:>2}{x**2:>5}{x**3:>6}{x**4:>8}')     #> right aligns < left aligns"
   ]
  },
  {
   "cell_type": "code",
   "execution_count": null,
   "metadata": {},
   "outputs": [],
   "source": [
    "#more formatting\n",
    "header = '     x       x^2       x^3       x^4  '\n",
    "print(header)\n",
    "print(f'{\"=\" * len(header)}')                                       #len() function give the number of letters in the header\n",
    "for raw in range(1, 11):\n",
    "    x = raw / 40     \n",
    "    print(f'{x:>8.6f}{x**2:>10.6f}{x**3:>10.6f}{x**4:>10.6f}')      #> right aligns < left aligns"
   ]
  },
  {
   "cell_type": "code",
   "execution_count": null,
   "metadata": {},
   "outputs": [],
   "source": [
    "#more formatting\n",
    "\n",
    "print('Length     Weigth        Cost')\n",
    "print('=================================')\n",
    "for length in range(5, 41, 5):\n",
    "    weight = f'{length * 3.1415:.3f}'               #can also combine alignment with decimal places\n",
    "    cost = f'${length * 3.1415 * 1250:,.2f}'        #there is no easy way to do currency\n",
    "    print(f'{length:>4}{weight:>13}{cost:>16}')     #> right aligns < left aligns"
   ]
  },
  {
   "cell_type": "markdown",
   "metadata": {},
   "source": [
    "### <a id=\"continue_break\"></a>Using the continue and break keywords\n",
    "These two keywords changes the normal operation of a loop (both while and for)\n",
    "\n",
    "#### The continue keyword\n",
    "-   When the continue keyword is encountered, the rest of the loop body is skipped.\n",
    "-   Processing resumes from the top of the loop body\n",
    "-   If your updater statement is after the continue keyword, then there is a possibility of a non-terminating loop\n",
    "\n",
    "#### The break keyword\n",
    "-   When the break keyword is encountered, the loop is immediately terminated\n",
    "-   Processing continues outside of the loop body"
   ]
  },
  {
   "cell_type": "code",
   "execution_count": null,
   "metadata": {},
   "outputs": [],
   "source": [
    "#using the continue keyword\n",
    "sum = 0\n",
    "for x in range(100):     #the value for the range funtion represent the end value\n",
    "    if x % 5 == 0:\n",
    "        continue\n",
    "    sum += x\n",
    "\n",
    "print(f'Sum of non-multiple of five less than 100: {sum}')"
   ]
  },
  {
   "cell_type": "code",
   "execution_count": null,
   "metadata": {},
   "outputs": [],
   "source": [
    "#while to demonstrate the break keyword\n",
    "sum = 0\n",
    "while True:\n",
    "    value = int(input('Enter a positive number to sum: '))\n",
    "    if value < 0:\n",
    "        break\n",
    "    sum += value\n",
    "\n",
    "print(f'The sum of your inputs is {sum}')"
   ]
  },
  {
   "cell_type": "markdown",
   "metadata": {},
   "source": [
    "### <a id='summary'></a>Summary"
   ]
  }
 ],
 "metadata": {
  "kernelspec": {
   "display_name": "Python 3",
   "language": "python",
   "name": "python3"
  },
  "language_info": {
   "codemirror_mode": {
    "name": "ipython",
    "version": 3
   },
   "file_extension": ".py",
   "mimetype": "text/x-python",
   "name": "python",
   "nbconvert_exporter": "python",
   "pygments_lexer": "ipython3",
   "version": "3.13.2"
  }
 },
 "nbformat": 4,
 "nbformat_minor": 2
}
