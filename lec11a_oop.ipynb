{
 "cells": [
  {
   "cell_type": "markdown",
   "metadata": {},
   "source": [
    "This is the first of a series of 6 notebooks on object oriented programming.    \n",
    "In this presentation we will examine Programming Paradigms   \n",
    "\n",
    "---\n",
    "# **Object Oriented Programming**"
   ]
  },
  {
   "cell_type": "markdown",
   "metadata": {},
   "source": [
    "Object-Oriented Programming (OOP) is a fundational paradigm in Software Engineering that structures code around **object** and **classes** rather than relying solely on functions and procedures. By modeling software as a collection of interacting entities with their own attributes and behaviors, OOP effectively mirrors real-world systems, leading to more intuitive and organized code.\n",
    "\n",
    "Core Concepts of OOP\n",
    "1. Classes and Objects \n",
    "    -   A class is a blueprint that define attributes (data) and methods (behavior). \n",
    "    -   An object is a specific instance created from a class definition, possessing its own unique state while sharing structure defined bu its class. \n",
    "    -   This pairing enables modular and scalable design by encapsulating data and behavior together.\n",
    "1. Encapsulation \n",
    "    -   The bundling of data and the methods that operate on that data into a single unit (a class).\n",
    "    -   It protects the internal state of an object by restricting direct access, exposing only controlled interfaces (public methods).\n",
    "    -   In Python, this is primarily a convention using underscores: a single underscore _ for \"protected\" and a double underscore __ for \"private\" members.\n",
    "1. Inheritance \n",
    "    -   Enables child classes to inherit attributes and methods from parent classes.\n",
    "    -   Promotes code reuse and hierarchical organization.\n",
    "    -   Child classes can override or extend (add new) behavior.\n",
    "1. Polymorphism \n",
    "    -   Different classes can implement the same method in their own way. \n",
    "    -   Enables writing code that works across different types uniformly via a common interface.\n",
    "1. Abstraction \n",
    "    -   Hiding implementation details, exposing only essential features.\n",
    "    -   Hiding internal details and exposing only what is necessary.\n",
    "    -   This hides implementation details and ensures consistent interfaces across related classes.\n",
    "1. Composition \n",
    "    -   Represents `has-a` relationships (objects containing other objects).\n",
    "    -   Offers an alternative to inheritance (`is-a`) for building modular systems.\n",
    "1. Method Overloading \n",
    "    -   Python does not support traditional method overloading.\n",
    "    -   Instead, it uses default arguments or `*args`, `**kwargs` to achieve similar behavior.\n",
    "1. Class and Static Methods \n",
    "    -   Class methods operate on the class itself and not on individual instances.\n",
    "    -   Static methods are utility functions grouped logically with the class but don't need class or instance data.\n",
    "\n",
    "Together, these principles foster maintainable, reusable, and intuitive code that reflects real-world relationships and behaviors."
   ]
  },
  {
   "cell_type": "markdown",
   "metadata": {},
   "source": [
    "### Other Programming Paradigms\n",
    "As you may have gleamed from the above, a paradigm is a style that code can be organised. It consists of certain structures, features, and opinions about how common programming problems should be tackled. It is an evolving process that is hapening even now!"
   ]
  },
  {
   "cell_type": "markdown",
   "metadata": {},
   "source": [
    "1.  #### Imperative Programming\n",
    "    -   Focuses on **how** to achieve a result through explicit step-by-step instructions.\n",
    "    -   Involves changing program state via assignments, loops, and conditionals.\n",
    "    -   **Procedural programming** is a subset of imperative programming that organizes code into reusable procedures/functions.\n",
    "    -   *Examples*: C and Pascal. Python supports imperative constructs alongside OOP.\n",
    "    -   *Pros*: Offers granular control\n",
    "    -   *Cons*: Can become complex and unwieldy in large system.\n",
    "1.  #### Declarative Programming\n",
    "    -   Focuses on what the program should accomplish, not how to accomplish it.\n",
    "    -   The programmer specifies the desired result, and the system determines the execution steps.\n",
    "    -   *Examples*: include SQL (database queries), HTML/CSS (web structure and styling), and configuration files.\n",
    "    -   Benefits include improved readablity and reduced complexity by abstracting control flow.\n",
    "1.  #### Functional Programming\n",
    "    -   Treats computation as the evaluation of mathematical functions, avoiding changing state and mutable data.\n",
    "    -   Emphasizes pure functions (same input always produces same output, no side effects).\n",
    "    -   Key concepts: immutability, first-class functions, higher-order functions (`map`, `filter`, `reduce`), and function composition.\n",
    "    -   Languages like Haskell, Lisp, and Erlang are functionaly-first. Python supports functional features like lambda functions, comprehensions, and functional tools.\n",
    "    -   Advantages include easier testing, debugging, and parallel execution due to stateless design."
   ]
  },
  {
   "cell_type": "markdown",
   "metadata": {},
   "source": [
    "### Paradigm Blending in Modern Development\n",
    "Few modern languages adhere strictly to a single paradigm. Languages like Python, JavaScript, and C# are **multi-paradigm**, incorporating features from object-oriented, functional, and imperative programming. This hybrid approach provides developers with flexibility, empowering them to select the most effective tools and patterns for each specific task, reflecting the practical demands of real-world software development.\n",
    "\n"
   ]
  }
 ],
 "metadata": {
  "kernelspec": {
   "display_name": "Python 3",
   "language": "python",
   "name": "python3"
  },
  "language_info": {
   "codemirror_mode": {
    "name": "ipython",
    "version": 3
   },
   "file_extension": ".py",
   "mimetype": "text/x-python",
   "name": "python",
   "nbconvert_exporter": "python",
   "pygments_lexer": "ipython3",
   "version": "3.13.2"
  }
 },
 "nbformat": 4,
 "nbformat_minor": 2
}
