{
 "cells": [
  {
   "cell_type": "markdown",
   "metadata": {},
   "source": [
    "## Control Structures\n",
    "By understanding control structures, someone is able to predict the effects of a set of code statements.  \n",
    "Each structure some advantage.\n",
    "1. [Sequence](#sequence)\n",
    "2. [Branching](#branching): program is able to fulfill more than one task.\n",
    "3. [Looping](#looping): less coding require\n",
    "   1. while\n",
    "   2. for\n",
    "      1. using the range object\n",
    "      2. using an enumarable\n",
    "      3. using the enumerate function\n",
    "4. [Functions](#function): allows code re-use"
   ]
  },
  {
   "cell_type": "markdown",
   "metadata": {},
   "source": [
    "### <a name=sequence></a>Sequence\n",
    "This is the natural order of processing\n",
    "- You start with the first statement and then go to the next\n",
    "- This continues until you get to the end.  \n",
    "- There are no skips, no jumps and no repeats. \n",
    "So if there are ten statements, then each is processed sequentially.  \n",
    "\n",
    "This control structure will always produce the same effect, because it is the same set of statements processed in the same order."
   ]
  },
  {
   "cell_type": "markdown",
   "metadata": {},
   "source": [
    "## Branching/Condition/Selection\n",
    "\n",
    "### if statement\n",
    "\n",
    "The if statement give the language immense, pretty much aything that can\n",
    "be programable can be coded.\n",
    "\n",
    "#### Syntax (if statement without an else block)\n",
    "Just a True block\n",
    "```\n",
    "if <<boolean expression>>:\n",
    "    statements\n",
    "```\n",
    "\n",
    "#### Syntax (if statement with both a True and else block)\n",
    "```\n",
    "if <<boolean expression>>:\n",
    "    statements\n",
    "else\n",
    "    statements\n",
    "```\n",
    "\n",
    "#### Syntax (if statement containing if statements)\n",
    "```\n",
    "if <<boolean expression>>:\n",
    "    statements\n",
    "elif <<boolean expression>>:\n",
    "    statements\n",
    "else\n",
    "    statements\n",
    "```\n",
    "\n",
    "### match statement\n",
    "The match statement is similar to the switch statement in \n",
    "most other languages. The main advantage is that it more\n",
    "readable than the corresponding if statement.\n",
    "\n",
    "#### Syntax\n",
    "Simple match\n",
    "```\n",
    "match <<some_value>>:\n",
    "    case 'a':\n",
    "        answer = first + second\n",
    "    case 's':\n",
    "        answer = first - second\n",
    "    case 'm':\n",
    "        answer = first * second\n",
    "    case _:\n",
    "        answer = first / second\n",
    "```"
   ]
  },
  {
   "cell_type": "markdown",
   "metadata": {},
   "source": [
    "### Looping/Iteration/Repetition\n",
    "\n",
    "The provide a way to repeat a statement of block of statements zero or more time. Thus\n",
    "- are you now able to write program that might have be logistically inpossibe to write before e.g. add the number up to 1_000_000\n",
    "- execute a code block an indeterminate number of times\n",
    "\n",
    "#### Syntax\n",
    "This will be covered in the next chapter"
   ]
  },
  {
   "cell_type": "markdown",
   "metadata": {},
   "source": [
    "### Functions/Methods/Procedures/Sub\n",
    "\n",
    "The provide a way to label a block of code. Thus\n",
    "- you are able to access the logic by invoking the name of the method.\n",
    "- You write less code because you are able to reuse existing logic.\n",
    "- Functions can is accumulated into libraries to prompte further reuse\n",
    "\n",
    "#### Syntax\n",
    "This will be covered after the next chapter"
   ]
  }
 ],
 "metadata": {
  "kernelspec": {
   "display_name": "Python 3",
   "language": "python",
   "name": "python3"
  },
  "language_info": {
   "codemirror_mode": {
    "name": "ipython",
    "version": 3
   },
   "file_extension": ".py",
   "mimetype": "text/x-python",
   "name": "python",
   "nbconvert_exporter": "python",
   "pygments_lexer": "ipython3",
   "version": "3.13.2"
  }
 },
 "nbformat": 4,
 "nbformat_minor": 2
}
