{
 "cells": [
  {
   "cell_type": "markdown",
   "id": "38837631",
   "metadata": {},
   "source": [
    "## Exceptions\n",
    "Exceptions are events that occur during program execution that disrupt the normal flow of instructions. In Python, exceptions are used to handle errors and other exceptional events gracefully.  \n",
    "\n",
    "\n",
    "Contents\n",
    "1.  Basic error handling\n",
    "1.  [The Exception object](#exception_object)\n",
    "    -   Accessing the Exception object\n",
    "1.  Catching multiple exceptions\n",
    "1.  else clause\n",
    "1.  finally clause\n",
    "1.  [Raising exceptions](#raising_exception)\n",
    "1.  [Custom exceptions](#custom_exception)\n",
    "1.  [Best practice](#best_practice)\n",
    "1.  [Summary](#summary)"
   ]
  },
  {
   "cell_type": "markdown",
   "id": "e33d34b9",
   "metadata": {},
   "source": [
    "### Basic Error Handling\n",
    "Using  `try` and `catch`\n",
    "\n",
    "syntax\n",
    "```\n",
    "try:\n",
    "    statement that might cause an error condition\n",
    "except <<Error>>:\n",
    "    Statements to recover from error.\n",
    "```"
   ]
  },
  {
   "cell_type": "code",
   "execution_count": null,
   "id": "623542d5",
   "metadata": {},
   "outputs": [],
   "source": [
    "#Basic Excpetion Handling in Python\n",
    "# This script demonstrates how to handle exceptions in Python using try-except blocks.\n",
    "# It includes examples of catching specific exceptions and using a generic exception handler.\n",
    "\n",
    "try:\n",
    "    # Attempt to open a file that does not exist\n",
    "    with open('non_existent_file.txt', 'r') as file:\n",
    "        content = file.read()\n",
    "except FileNotFoundError as e:\n",
    "    # Handle the specific exception for file not found\n",
    "    print(f'Error: {e}. The file does not exist.')  \n"
   ]
  },
  {
   "cell_type": "markdown",
   "id": "93096b50",
   "metadata": {},
   "source": [
    "### <a id='exception_object'></a>Exception Object\n",
    "Whenever something goes wrong, an Exception object is created. This object contains useful information about what went wrong so you can better handle the condition."
   ]
  },
  {
   "cell_type": "code",
   "execution_count": null,
   "id": "71abc659",
   "metadata": {},
   "outputs": [],
   "source": [
    "# accessing the excpetion object\n",
    "try:\n",
    "    result = 10 / 0\n",
    "except ZeroDivisionError as e:   # 'e' is the exception object\n",
    "    print('     Type:', type(e))\n",
    "    print('  Message:', e)\n",
    "    print('Arguments:', e.args)\n"
   ]
  },
  {
   "cell_type": "markdown",
   "id": "c6139576",
   "metadata": {},
   "source": [
    "### Catching multiple exception\n",
    "\n",
    "either\n",
    "\n",
    "syntax\n",
    "```\n",
    "try:\n",
    "    statement that might cause an error condition\n",
    "except (<<Error1>>, <<>>Error2):\n",
    "    Statements to recover from error.\n",
    "```\n",
    "\n",
    "or\n",
    "\n",
    "```\n",
    "try:\n",
    "    statement that might cause an error condition\n",
    "except <<Error1>>:\n",
    "    Statements to recover from error.\n",
    "except <<Error2>>:\n",
    "    Statements to recover from error.\n",
    "```"
   ]
  },
  {
   "cell_type": "code",
   "execution_count": null,
   "id": "734f925b",
   "metadata": {},
   "outputs": [],
   "source": [
    "#multiple exceptions\n",
    "try:\n",
    "    # Attempt to convert a string to an integer\n",
    "    number = int('not_a_number')    \n",
    "except (ValueError, TypeError) as e:        \n",
    "    # Handle both ValueError and TypeError\n",
    "    print(f'Error: {e}. Invalid conversion to integer.')    "
   ]
  },
  {
   "cell_type": "code",
   "execution_count": null,
   "id": "9133dd47",
   "metadata": {},
   "outputs": [],
   "source": [
    "#alternate way to handle multiple exceptions\n",
    "try:\n",
    "    # Attempt to convert a string to an integer\n",
    "    number = int('not_a_number')    \n",
    "except ValueError as e:        \n",
    "    # Handle ValueError\n",
    "    print(f'ValueError: {e}. Invalid conversion to integer.')\n",
    "except TypeError as e:\n",
    "    # Handle TypeError\n",
    "    print(f'TypeError: {e}. Invalid type for conversion to integer.')"
   ]
  },
  {
   "cell_type": "markdown",
   "id": "e66f9818",
   "metadata": {},
   "source": [
    "### else clause\n",
    "The statements in the else clause is **ONLY** executed if no exceptions were raised\n",
    "\n",
    "### finally clause\n",
    "The statements in the finally clause is **ALWAYS** executed regardless if there is an exception or not."
   ]
  },
  {
   "cell_type": "code",
   "execution_count": null,
   "id": "30cf3608",
   "metadata": {},
   "outputs": [],
   "source": [
    "#else and finally blocks\n",
    "file = 'person.txt'\n",
    "# file = 'non_existent_file.txt'\n",
    "try:\n",
    "    # Attempt to open a file that does not exist\n",
    "    with open(file, 'r') as file:\n",
    "        content = file.read()   \n",
    "except FileNotFoundError as e:\n",
    "    # Handle the specific exception for file not found\n",
    "    print(f'Error: {e}. The file does not exist.')  \n",
    "else:\n",
    "    # This block executes if no exceptions were raised\n",
    "    print('File read successfully.')\n",
    "finally:\n",
    "    # This block always executes, regardless of whether an exception was raised or not\n",
    "    print('Execution completed, whether or not an error occurred.') "
   ]
  },
  {
   "cell_type": "markdown",
   "id": "35ca0f1a",
   "metadata": {},
   "source": [
    "### <a id='raising_exception'></a>Raising Exception\n",
    "You can create and raise your own exception with `raise`"
   ]
  },
  {
   "cell_type": "code",
   "execution_count": null,
   "id": "044c0db6",
   "metadata": {},
   "outputs": [],
   "source": [
    "name = 'Narendra'\n",
    "\n",
    "# if name == 'Narendra':\n",
    "#     raise ValueError('Exception: Narendra is evil!')\n",
    "\n",
    "try:\n",
    "    if name == 'Narendra':\n",
    "        raise ValueError('Exception: Narendra is evil!')\n",
    "except ValueError as e:\n",
    "    print('Exception:', e)    \n",
    "\n",
    "\n",
    "# of course, you can raise any exception you want, including custom exceptions\n"
   ]
  },
  {
   "cell_type": "markdown",
   "id": "45b3a244",
   "metadata": {},
   "source": [
    "### <a id='custom_exception'></a>Custom Exception\n",
    "You can create a custom exception by inheriting from the `Exception` class\n",
    "\n",
    "(This can be skipped)"
   ]
  },
  {
   "cell_type": "code",
   "execution_count": null,
   "id": "61374019",
   "metadata": {},
   "outputs": [],
   "source": [
    "# Creating your own exception type\n",
    "class MyError(Exception):\n",
    "    pass\n",
    "\n",
    "try:\n",
    "    raise MyError(\"Something custom went wrong\")\n",
    "except MyError as e:\n",
    "    print('Exception:', e)"
   ]
  },
  {
   "cell_type": "markdown",
   "id": "38426e99",
   "metadata": {},
   "source": [
    "### <a id='best_practice'></a>Best practice\n",
    "-   Catch only what you expect\n",
    "-   Use finally for cleanup\n",
    "-   Log errors instead on only printing\n",
    "-   Gracefully handle user input\n",
    "-   Handle external resources safely (like APIs)\n",
    "-   Raise exception with useful messages\n",
    "-   Use custom exception for clarity\n",
    "-   Don't abuse exception for flow control\n"
   ]
  },
  {
   "cell_type": "markdown",
   "id": "094a99e5",
   "metadata": {},
   "source": [
    "### <a id='summary'></a>Summary\n",
    "-   Use specific exceptions instead of a blanket `except`: (which catches everything and can hide bugs).\n",
    "-   Use `finally` for cleanup tasks.\n",
    "-   Use `raise` to trigger exceptions intentionally.\n",
    "-   Custom exceptions make your code clearer.\n",
    "-   Avoid `overusing` exceptions for normal logic"
   ]
  }
 ],
 "metadata": {
  "kernelspec": {
   "display_name": "Python 3",
   "language": "python",
   "name": "python3"
  },
  "language_info": {
   "codemirror_mode": {
    "name": "ipython",
    "version": 3
   },
   "file_extension": ".py",
   "mimetype": "text/x-python",
   "name": "python",
   "nbconvert_exporter": "python",
   "pygments_lexer": "ipython3",
   "version": "3.13.2"
  }
 },
 "nbformat": 4,
 "nbformat_minor": 5
}
