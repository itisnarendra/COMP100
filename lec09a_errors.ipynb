{
 "cells": [
  {
   "cell_type": "markdown",
   "id": "38837631",
   "metadata": {},
   "source": [
    "## Exceptions\n",
    "Exceptions are events that occur during program execution that disrupt the normal flow of instructions. In Python, exceptions provide a powerful mechanism to handle errors and other exceptional events gracefully, making your code more robust and maintainable.\n",
    "\n",
    "\n",
    "Contents\n",
    "1.  Basic error handling\n",
    "1.  [The Exception object](#exception_object)\n",
    "1.  Accessing the Exception Details\n",
    "1.  Catching multiple exceptions\n",
    "1.  `else` clause\n",
    "1.  `finally` clause\n",
    "1.  [Raising exceptions](#raising_exception)\n",
    "1.  [Custom exceptions](#custom_exception)\n",
    "1.  [Best practice](#best_practice)\n",
    "1.  [Summary](#summary)"
   ]
  },
  {
   "cell_type": "markdown",
   "id": "e33d34b9",
   "metadata": {},
   "source": [
    "### Basic Error Handling\n",
    "Using  `try` and `catch`\n",
    "\n",
    "syntax\n",
    "```python\n",
    "try:\n",
    "    statement that might cause an error condition\n",
    "except <<Error>>:\n",
    "    Statements to recover from error.\n",
    "```\n",
    "\n",
    "The `try-except` block is the fundation of exception handling in Python. It allows you to attempt risky operations and handle potential errors gracefully."
   ]
  },
  {
   "cell_type": "code",
   "execution_count": null,
   "id": "623542d5",
   "metadata": {},
   "outputs": [],
   "source": [
    "#Basic Excpetion Handling in Python\n",
    "# This script demonstrates how to handle exceptions in Python using try-except blocks.\n",
    "# It includes examples of catching specific exceptions and using a generic exception handler.\n",
    "\n",
    "try:\n",
    "    # Attempt to open a file that does not exist\n",
    "    with open('non_existent_file.txt', 'r') as file:\n",
    "        content = file.read()\n",
    "except FileNotFoundError as e:\n",
    "    # Handle the specific exception for file not found\n",
    "    print(f'Error: {e}. The file does not exist.')  \n"
   ]
  },
  {
   "cell_type": "markdown",
   "id": "93096b50",
   "metadata": {},
   "source": [
    "### <a id='exception_object'></a>Exception Object\n",
    "Whenever an exception occurs, Python creates an Exception object containing useful information about the erros. You can access this object using the as keyword so you are able to better handle the condition.\n",
    "\n",
    "The exception object provides:   \n",
    "-   **Type**: The class of the exception\n",
    "-   **Message**: A human-readable description\n",
    "-   **Arguments**: The arguments passed to the exception constructor"
   ]
  },
  {
   "cell_type": "code",
   "execution_count": null,
   "id": "71abc659",
   "metadata": {},
   "outputs": [],
   "source": [
    "# accessing the excpetion object\n",
    "try:\n",
    "    result = 10 / 0\n",
    "except ZeroDivisionError as e:   # 'e' is the exception object\n",
    "    print('     Type:', type(e))\n",
    "    print('  Message:', e)\n",
    "    print('Arguments:', e.args)\n"
   ]
  },
  {
   "cell_type": "markdown",
   "id": "c6139576",
   "metadata": {},
   "source": [
    "### Catching multiple exception\n",
    "\n",
    "There are two approaches to handling multuple exception types:\n",
    "\n",
    "option 1  \n",
    "```python\n",
    "try:\n",
    "    statement that might cause an error condition\n",
    "except (<<Error1>>, <<>>Error2):\n",
    "    Statements to recover from error.\n",
    "```\n",
    "\n",
    "option2  \n",
    "```python\n",
    "try:\n",
    "    statement that might cause an error condition\n",
    "except <<Error1>>:\n",
    "    Statements to recover from error.\n",
    "except <<Error2>>:\n",
    "    Statements to recover from error.\n",
    "```\n",
    "\n",
    "The second syntax is preferred because you are able to handle each error seperately."
   ]
  },
  {
   "cell_type": "code",
   "execution_count": null,
   "id": "734f925b",
   "metadata": {},
   "outputs": [],
   "source": [
    "#multiple exceptions\n",
    "try:\n",
    "    # Attempt to convert a string to an integer\n",
    "    number = int('not_a_number')    \n",
    "except (ValueError, TypeError) as e:        \n",
    "    # Handle both ValueError and TypeError\n",
    "    print(f'Error: {e}. Invalid conversion to integer.')    "
   ]
  },
  {
   "cell_type": "code",
   "execution_count": null,
   "id": "9133dd47",
   "metadata": {},
   "outputs": [],
   "source": [
    "#alternate way to handle multiple exceptions\n",
    "try:\n",
    "    # Attempt to convert a string to an integer\n",
    "    number = int('not_a_number')    \n",
    "except ValueError as e:        \n",
    "    # Handle ValueError\n",
    "    print(f'ValueError: {e}. Invalid conversion to integer.')\n",
    "except TypeError as e:\n",
    "    # Handle TypeError\n",
    "    print(f'TypeError: {e}. Invalid type for conversion to integer.')"
   ]
  },
  {
   "cell_type": "markdown",
   "id": "e66f9818",
   "metadata": {},
   "source": [
    "### The else Clause\n",
    "The `else` clause executes **only if no exceptions were raised** in the `try` block. It's useful for code that should run only when the risky operation succeeds.\n"
   ]
  },
  {
   "cell_type": "code",
   "execution_count": null,
   "id": "bbd4de15",
   "metadata": {},
   "outputs": [],
   "source": [
    "try:\n",
    "    with open('data.txt', 'r') as file:\n",
    "        content = file.read()\n",
    "except FileNotFoundError as e:\n",
    "    print(f'Error: {e}. The file does not exist.')\n",
    "else:\n",
    "    print('File read successfully.')\n",
    "    print(f'Content length: {len(content)} characters')"
   ]
  },
  {
   "cell_type": "markdown",
   "id": "edb75c0c",
   "metadata": {},
   "source": [
    "### The finally Clause\n",
    "The `finally` clause always executes, regardless of whether an exception was raised or not. It's ideal for cleanup operations like closing files, releasing locks, or closing network connections"
   ]
  },
  {
   "cell_type": "code",
   "execution_count": null,
   "id": "692bb427",
   "metadata": {},
   "outputs": [],
   "source": [
    "file = 'person.txt'\n",
    "\n",
    "try:\n",
    "    with open(file, 'r') as f:\n",
    "        content = f.read()\n",
    "except FileNotFoundError as e:\n",
    "    print(f'Error: {e}. The file does not exist.')\n",
    "else:\n",
    "    print('File read successfully.')\n",
    "finally:\n",
    "    print('Execution completed, whether or not an error occurred.')\n"
   ]
  },
  {
   "cell_type": "markdown",
   "id": "35ca0f1a",
   "metadata": {},
   "source": [
    "### <a id='raising_exception'></a>Raising Exception\n",
    "You can manually trigger exceptions using the `raise` keyword.create and raise your own exception with `raise`"
   ]
  },
  {
   "cell_type": "code",
   "execution_count": null,
   "id": "044c0db6",
   "metadata": {},
   "outputs": [],
   "source": [
    "name = 'Narendra'\n",
    "\n",
    "# if name == 'Narendra':\n",
    "#     raise ValueError('Exception: Narendra is evil!')\n",
    "\n",
    "try:\n",
    "    if name == 'Narendra':\n",
    "        raise ValueError('Exception: Narendra is evil!')\n",
    "except ValueError as e:\n",
    "    print('Exception:', e)    \n",
    "\n",
    "\n",
    "# of course, you can raise any exception you want, including custom exceptions\n"
   ]
  },
  {
   "cell_type": "markdown",
   "id": "82fe19d8",
   "metadata": {},
   "source": [
    "### Re-raising Exceptions\n",
    "You can catch an exception, perform some action, and then re-raise it:"
   ]
  },
  {
   "cell_type": "code",
   "execution_count": null,
   "id": "1f9876bc",
   "metadata": {},
   "outputs": [],
   "source": [
    "try:\n",
    "    some_risky_operation()\n",
    "except Exception as e:\n",
    "    log_error(e)  # Log the error\n",
    "    raise         # Re-raise the same exception"
   ]
  },
  {
   "cell_type": "markdown",
   "id": "45b3a244",
   "metadata": {},
   "source": [
    "### <a id='custom_exception'></a>Custom Exception\n",
    "Creating custom exceptions makes your code more expressive and easier to debug. Custom exceptions should inherit from the `Exception` class or a more specific built-in exception\n",
    "\n",
    "\n",
    "(This can be skipped)"
   ]
  },
  {
   "cell_type": "code",
   "execution_count": null,
   "id": "61374019",
   "metadata": {},
   "outputs": [],
   "source": [
    "# Creating your own exception type\n",
    "class MyError(Exception):\n",
    "    pass\n",
    "\n",
    "try:\n",
    "    raise MyError(\"Something custom went wrong\")\n",
    "except MyError as e:\n",
    "    print('Exception:', e)"
   ]
  },
  {
   "cell_type": "markdown",
   "id": "4e4e912b",
   "metadata": {},
   "source": [
    "#### Common Built-in Exceptions\n",
    "| Exception         |   Description                  |\n",
    "|-------------------|--------------------------------|\n",
    "| ValueError        | Invalid value for an operation |\n",
    "| TypeError         | Operation on inappropriate type |\n",
    "| KeyError          | Dictionary key not found       |\n",
    "| IndexError        | Sequence index out of range    |\n",
    "| FileNotFoundError | File or directory not found    |\n",
    "| ZeroDivisionError | Division by zero               |\n",
    "| AttributeError    | Attribute not found            |\n",
    "| ImportError       | Module import failed           |"
   ]
  },
  {
   "cell_type": "markdown",
   "id": "38426e99",
   "metadata": {},
   "source": [
    "### <a id='best_practice'></a>Best practice\n",
    "-   Catch only what you expect.\n",
    "-   Use finally for cleanup.\n",
    "-   Log errors instead on only printing.\n",
    "-   Gracefully handle user input.\n",
    "-   Handle external resources safely (like APIs).\n",
    "-   Raise exception with useful messages.\n",
    "-   Use custom exception for clarity.\n",
    "-   Don't abuse exception for flow control.\n"
   ]
  },
  {
   "cell_type": "markdown",
   "id": "094a99e5",
   "metadata": {},
   "source": [
    "### <a id='summary'></a>Summary\n",
    "-   Use specific exceptions instead of a blanket `except`: (which catches everything and can hide bugs).\n",
    "-   The `else` clause runs only when no exception occurs.\n",
    "-   The `finally` always runs, making it perfect for cleanup.\n",
    "-   Use `raise` to trigger exceptions intentionally with meaningful messages.\n",
    "-   **Custom exceptions** improve code clarity and make error handling more semantic.\n",
    "-   **Log errors** properly instead of just printing them\n",
    "-   **Avoid using exceptions** for normal program flow - they're for exceptional situations\n",
    "-   **Handle external resources** (files, network, databases) with proper exception handling\n",
    "-   **Validate user input** gracefully and provide clear feedback  \n",
    " \n",
    "Exception handling is not just about preventing crashes-it's about making your code resilient, maintainable, and user-friendly."
   ]
  }
 ],
 "metadata": {
  "kernelspec": {
   "display_name": "Python 3",
   "language": "python",
   "name": "python3"
  },
  "language_info": {
   "codemirror_mode": {
    "name": "ipython",
    "version": 3
   },
   "file_extension": ".py",
   "mimetype": "text/x-python",
   "name": "python",
   "nbconvert_exporter": "python",
   "pygments_lexer": "ipython3",
   "version": "3.13.2"
  }
 },
 "nbformat": 4,
 "nbformat_minor": 5
}
