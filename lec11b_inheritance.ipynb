{
 "cells": [
  {
   "cell_type": "markdown",
   "id": "ab55eda6",
   "metadata": {},
   "source": [
    "## Inheritance\n",
    "This is one of the core principles of OOP.\n",
    "You extend the features of existing class instead of building new classes from scratch.  \n",
    "A (child/derived) class inherits, the attributes and behaviors of another (parent/base) class.  \n",
    "The programmer is able to use the features of the parent class without explicitly coding it.  \n",
    "The child class is able to access the attributes of the parent class using the `super` pronoun.  \n",
    "The child class may optionally define its own attributes or overwrite the existing ones in the parent class.  \n",
    "\n",
    "### Benefits\n",
    "1. Promotes code reuse by sharing attributes and methods across classes\n",
    "1. Able to model real-world heirarchies like Animal -> Dog or Person -> Student\n",
    "1. Simplifies maintenance thourhg centralized updates"
   ]
  },
  {
   "cell_type": "code",
   "execution_count": 33,
   "id": "7c1dfd36",
   "metadata": {},
   "outputs": [
    {
     "name": "stdout",
     "output_type": "stream",
     "text": [
      "Name: Hao, Age: 20\n",
      "True\n",
      "True\n"
     ]
    }
   ],
   "source": [
    "class Person:\n",
    "    def __init__(self, name, age):\n",
    "        self.name = name\n",
    "        self.age = age\n",
    "\n",
    "    def __str__(self):\n",
    "        return f'Name: {self.name}, Age: {self.age}'\n",
    "\n",
    "#test harness\n",
    "hao = Person('Hao', 20)\n",
    "print(hao)\n",
    "print(type(hao) is Person)\n",
    "print(issubclass(type(hao), object))\n"
   ]
  },
  {
   "cell_type": "code",
   "execution_count": 34,
   "id": "d5b47d3c",
   "metadata": {},
   "outputs": [
    {
     "name": "stdout",
     "output_type": "stream",
     "text": [
      "Name: Ilia, Age: 21\n",
      "True\n",
      "True\n"
     ]
    }
   ],
   "source": [
    "#the following class inherits everything from Person\n",
    "class Student(Person):\n",
    "    pass\n",
    "\n",
    "#test harness\n",
    "ilia = Student('Ilia', 21 )\n",
    "print(ilia)\n",
    "print(type(ilia) is Student)\n",
    "print(issubclass(type(ilia), Person))"
   ]
  },
  {
   "cell_type": "code",
   "execution_count": 35,
   "id": "e9fc3174",
   "metadata": {},
   "outputs": [
    {
     "name": "stdout",
     "output_type": "stream",
     "text": [
      "Name: Ilia, Age: 21\n"
     ]
    }
   ],
   "source": [
    "#the following class inherits everything from Person and adds a student_id attribute\n",
    "class Student(Person):\n",
    "    def __init__(self, name, age, student_id):\n",
    "        super().__init__(name, age)\n",
    "        self.student_id = student_id\n",
    "\n",
    "#test harness\n",
    "ilia = Student('Ilia', 21, 'S12345')\n",
    "print(ilia)"
   ]
  },
  {
   "cell_type": "code",
   "execution_count": 36,
   "id": "7ecb2918",
   "metadata": {},
   "outputs": [
    {
     "name": "stdout",
     "output_type": "stream",
     "text": [
      "Name: Ilia, Age: 21, Student ID: S12345\n"
     ]
    }
   ],
   "source": [
    "#the following class overwite the parent __str__()\n",
    "class Student(Person):\n",
    "    def __init__(self, name, age, student_id):\n",
    "        super().__init__(name, age)\n",
    "        self.student_id = student_id\n",
    "\n",
    "    def __str__(self):\n",
    "        return f'Name: {self.name}, Age: {self.age}, Student ID: {self.student_id}'\n",
    "\n",
    "\n",
    "#test harness\n",
    "ilia = Student('Ilia', 21, 'S12345')\n",
    "print(ilia)"
   ]
  }
 ],
 "metadata": {
  "kernelspec": {
   "display_name": "Python 3",
   "language": "python",
   "name": "python3"
  },
  "language_info": {
   "codemirror_mode": {
    "name": "ipython",
    "version": 3
   },
   "file_extension": ".py",
   "mimetype": "text/x-python",
   "name": "python",
   "nbconvert_exporter": "python",
   "pygments_lexer": "ipython3",
   "version": "3.13.2"
  }
 },
 "nbformat": 4,
 "nbformat_minor": 5
}
