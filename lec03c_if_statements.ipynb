{
 "cells": [
  {
   "cell_type": "markdown",
   "metadata": {},
   "source": [
    "# Making Decision\n",
    "\n",
    "## if statement\n",
    "\n",
    "The if statement give the language immense, pretty much aything that can\n",
    "be programable can be coded.\n",
    "\n",
    "### Syntax\n",
    "Just a True block\n",
    "```\n",
    "if <<boolean expression>>:\n",
    "    statements\n",
    "```\n",
    "\n",
    "Both a True and else block\n",
    "```\n",
    "if <<boolean expression>>:\n",
    "    statements\n",
    "else\n",
    "    statements\n",
    "```\n",
    "\n",
    "Nested form\n",
    "```\n",
    "if <<boolean expression>>:\n",
    "    statements\n",
    "elif <<boolean expression>>:\n",
    "    statements\n",
    "else\n",
    "    statements\n",
    "```"
   ]
  },
  {
   "cell_type": "markdown",
   "metadata": {},
   "source": [
    "## Obtaining a boolean expression\n",
    "A very common way to obtaining a boolean expression is by using comparison (relational) operators.\n",
    "\n",
    "### Comparison Operators\n",
    "These operators takes two operands and returns a boolean \n",
    "\n",
    "They are:\n",
    "```\n",
    "<\n",
    ">\n",
    "==\n",
    "!-\n",
    "<=\n",
    ">=\n",
    "```\n"
   ]
  },
  {
   "cell_type": "code",
   "execution_count": 27,
   "metadata": {},
   "outputs": [],
   "source": [
    "a = [-2, 1, 3, 1.2, 3.1, 9.8, False, True, True, \"'apple'\", \"'zebra'\", \"'baby'\", [4, 9], [2, 3], [5]]\n",
    "b = [ 3, 1, 2, 1.4, 3.1, 7.2, True, True, False, \"'zebra'\", \"'apple'\", \"'baby'\", [5, 0], [2, 3], [4]] "
   ]
  },
  {
   "cell_type": "code",
   "execution_count": 28,
   "metadata": {},
   "outputs": [
    {
     "name": "stdout",
     "output_type": "stream",
     "text": [
      "-2 < 3 -> True\n",
      "1 < 1 -> False\n",
      "3 < 2 -> False\n",
      "1.2 < 1.4 -> True\n",
      "3.1 < 3.1 -> False\n",
      "9.8 < 7.2 -> False\n",
      "False < True -> True\n",
      "True < True -> False\n",
      "True < False -> False\n",
      "'apple' < 'zebra' -> True\n",
      "'zebra' < 'apple' -> False\n",
      "'baby' < 'baby' -> False\n",
      "[4, 9] < [5, 0] -> True\n",
      "[2, 3] < [2, 3] -> False\n",
      "[5] < [4] -> False\n"
     ]
    }
   ],
   "source": [
    "for i in range(len(a)):\n",
    "    e = f'{a[i]} < {b[i]}'\n",
    "    # print(f'{e} -> ')\n",
    "    print(f'{e} -> {eval(e)}')"
   ]
  },
  {
   "cell_type": "code",
   "execution_count": 32,
   "metadata": {},
   "outputs": [
    {
     "name": "stdout",
     "output_type": "stream",
     "text": [
      "-2 > 3 -> False\n",
      "1 > 1 -> False\n",
      "3 > 2 -> True\n",
      "1.2 > 1.4 -> False\n",
      "3.1 > 3.1 -> False\n",
      "9.8 > 7.2 -> True\n",
      "False > True -> False\n",
      "True > True -> False\n",
      "True > False -> True\n",
      "'apple' > 'zebra' -> False\n",
      "'zebra' > 'apple' -> True\n",
      "'baby' > 'baby' -> False\n",
      "[4, 9] > [5, 0] -> False\n",
      "[2, 3] > [2, 3] -> False\n",
      "[5] > [4] -> True\n"
     ]
    }
   ],
   "source": [
    "for i in range(len(a)):\n",
    "    e = f'{a[i]} > {b[i]}'\n",
    "    print(f'{e} -> {eval(e)}')"
   ]
  },
  {
   "cell_type": "code",
   "execution_count": 30,
   "metadata": {},
   "outputs": [
    {
     "name": "stdout",
     "output_type": "stream",
     "text": [
      "-2 == 3 -> False\n",
      "1 == 1 -> True\n",
      "3 == 2 -> False\n",
      "1.2 == 1.4 -> False\n",
      "3.1 == 3.1 -> True\n",
      "9.8 == 7.2 -> False\n",
      "False == True -> False\n",
      "True == True -> True\n",
      "True == False -> False\n",
      "'apple' == 'zebra' -> False\n",
      "'zebra' == 'apple' -> False\n",
      "'baby' == 'baby' -> True\n",
      "[4, 9] == [5, 0] -> False\n",
      "[2, 3] == [2, 3] -> True\n",
      "[5] == [4] -> False\n"
     ]
    }
   ],
   "source": [
    "for i in range(len(a)):\n",
    "    e = f'{a[i]} == {b[i]}'\n",
    "    print(f'{e} -> {eval(e)}')"
   ]
  },
  {
   "cell_type": "code",
   "execution_count": 20,
   "metadata": {},
   "outputs": [
    {
     "name": "stdout",
     "output_type": "stream",
     "text": [
      "-2 >= 3 -> False\n",
      "1 >= 1 -> True\n",
      "3 >= 2 -> True\n",
      "1.2 >= 1.4 -> False\n",
      "3.1 >= 3.1 -> True\n",
      "9.8 >= 7.2 -> True\n",
      "False >= True -> False\n",
      "True >= True -> True\n",
      "True >= False -> True\n",
      "'apple' >= 'zebra' -> False\n",
      "'zebra' >= 'apple' -> True\n",
      "'baby' >= 'baby' -> True\n"
     ]
    }
   ],
   "source": [
    "for i in range(len(a)):\n",
    "    e = f'{a[i]} >= {b[i]}'\n",
    "    print(f'{e} -> {eval(e)}')"
   ]
  },
  {
   "cell_type": "code",
   "execution_count": 21,
   "metadata": {},
   "outputs": [
    {
     "name": "stdout",
     "output_type": "stream",
     "text": [
      "-2 <= 3 -> True\n",
      "1 <= 1 -> True\n",
      "3 <= 2 -> False\n",
      "1.2 <= 1.4 -> True\n",
      "3.1 <= 3.1 -> True\n",
      "9.8 <= 7.2 -> False\n",
      "False <= True -> True\n",
      "True <= True -> True\n",
      "True <= False -> False\n",
      "'apple' <= 'zebra' -> True\n",
      "'zebra' <= 'apple' -> False\n",
      "'baby' <= 'baby' -> True\n"
     ]
    }
   ],
   "source": [
    "for i in range(len(a)):\n",
    "    e = f'{a[i]} <= {b[i]}'\n",
    "    print(f'{e} -> {eval(e)}')"
   ]
  },
  {
   "cell_type": "code",
   "execution_count": 22,
   "metadata": {},
   "outputs": [
    {
     "name": "stdout",
     "output_type": "stream",
     "text": [
      "-2 != 3 -> True\n",
      "1 != 1 -> False\n",
      "3 != 2 -> True\n",
      "1.2 != 1.4 -> True\n",
      "3.1 != 3.1 -> False\n",
      "9.8 != 7.2 -> True\n",
      "False != True -> True\n",
      "True != True -> False\n",
      "True != False -> True\n",
      "'apple' != 'zebra' -> True\n",
      "'zebra' != 'apple' -> True\n",
      "'baby' != 'baby' -> False\n"
     ]
    }
   ],
   "source": [
    "for i in range(len(a)):\n",
    "    e = f'{a[i]} != {b[i]}'\n",
    "    print(f'{e} -> {eval(e)}')"
   ]
  },
  {
   "cell_type": "code",
   "execution_count": 14,
   "metadata": {},
   "outputs": [
    {
     "name": "stdout",
     "output_type": "stream",
     "text": [
      "A score of 92 will get you an A+ grade\n"
     ]
    }
   ],
   "source": [
    "#first syntax\n",
    "score = 92\n",
    "if score >= 90:\n",
    "    print(f'A score of {score} will get you an A+ grade')"
   ]
  },
  {
   "cell_type": "code",
   "execution_count": 15,
   "metadata": {},
   "outputs": [],
   "source": [
    "# what does the following code output?\n",
    "score = 89\n",
    "if score >= 90:\n",
    "    print(f'A score of {score} will get you an A+ grade')"
   ]
  },
  {
   "cell_type": "code",
   "execution_count": 17,
   "metadata": {},
   "outputs": [
    {
     "name": "stdout",
     "output_type": "stream",
     "text": [
      "For sales of $900.00 commission will be $0.00\n"
     ]
    }
   ],
   "source": [
    "#second syntax\n",
    "sales = 900\n",
    "if sales > 1000:\n",
    "    print(f'For sales of ${sales:,.2f} commission will be ${(sales - 1000) * 0.1:,.2f}')\n",
    "else:\n",
    "    print(f'For sales of ${sales:,.2f} commission will be $0.00')"
   ]
  },
  {
   "cell_type": "code",
   "execution_count": 17,
   "metadata": {},
   "outputs": [
    {
     "name": "stdout",
     "output_type": "stream",
     "text": [
      "For sales of $1,500.00 commission will be $50.00\n"
     ]
    }
   ],
   "source": [
    "#second run to demo the else clause\n",
    "sales = 1500\n",
    "if sales > 1000:\n",
    "    print(f'For sales of ${sales:,.2f} commission will be ${(sales - 1000) * 0.1:,.2f}')\n",
    "else:\n",
    "    print(f'For sales of ${sales:,.2f} commission will be $0.00')"
   ]
  },
  {
   "cell_type": "code",
   "execution_count": 18,
   "metadata": {},
   "outputs": [
    {
     "name": "stdout",
     "output_type": "stream",
     "text": [
      "Cold\n"
     ]
    }
   ],
   "source": [
    "#third syntax\n",
    "temperature = 14               #change the value to 15, 20, 25 and 30 and execute the code\n",
    "if temperature < 15:\n",
    "    print(f'Cold')\n",
    "elif temperature > 25:\n",
    "    print(f'Hot')\n",
    "else:\n",
    "    print(f'Confortable')"
   ]
  },
  {
   "cell_type": "code",
   "execution_count": 19,
   "metadata": {},
   "outputs": [
    {
     "name": "stdout",
     "output_type": "stream",
     "text": [
      "A score of 81 will get you an A grade\n"
     ]
    }
   ],
   "source": [
    "#More complex example\n",
    "score = 81                      #change the score and see if you can deduce the grade\n",
    "if score < 50:\n",
    "    print(f'A score of {score} will get you an F grade')\n",
    "elif score < 60:\n",
    "    print(f'A score of {score} will get you an D grade')\n",
    "elif score < 70:\n",
    "    print(f'A score of {score} will get you an C grade')\n",
    "elif score < 80:\n",
    "    print(f'A score of {score} will get you an B grade')\n",
    "else:\n",
    "    print(f'A score of {score} will get you an A grade')"
   ]
  },
  {
   "cell_type": "markdown",
   "metadata": {},
   "source": [
    "Comparisons with non-numbers"
   ]
  },
  {
   "cell_type": "code",
   "execution_count": 20,
   "metadata": {},
   "outputs": [
    {
     "name": "stdout",
     "output_type": "stream",
     "text": [
      "alice < bob -> True\n",
      "alice > bob -> False\n",
      "[0, 1, 2] == [0, 1, 2] -> True\n",
      "[0, 1, 2] == [1, 2] -> False\n",
      "[0, 1, 2] >= [1, 2] -> False\n",
      "[0, 1, 2] <= [1, 2] -> True\n",
      "[0, 1, 2] != [1, 2] -> True\n"
     ]
    }
   ],
   "source": [
    "# Lexicographical comparison ( string )\n",
    "print(\"alice < bob -> \", end='')\n",
    "print(\"alice\" < \"bob\")\n",
    "\n",
    "print(\"alice > bob -> \", end='')\n",
    "print(\"alice\" > \"bob\")\n",
    "\n",
    "# Lists/Tuples (element-wise comparison, stops at first difference):\n",
    "a = [0, 1, 2]\n",
    "b = [0, 1, 2]\n",
    "e = f'{a} == {b}'\n",
    "print(f'{e} -> {eval(e)}')\n",
    "\n",
    "b = [1, 2]\n",
    "e = f'{a} == {b}'\n",
    "print(f'{e} -> {eval(e)}')\n",
    "\n",
    "e = f'{a} >= {b}'\n",
    "print(f'{e} -> {eval(e)}')\n",
    "\n",
    "e = f'{a} <= {b}'\n",
    "print(f'{e} -> {eval(e)}')\n",
    "\n",
    "e = f'{a} != {b}'\n",
    "print(f'{e} -> {eval(e)}')"
   ]
  },
  {
   "cell_type": "markdown",
   "metadata": {},
   "source": [
    "YOu may also chain these comparison operators"
   ]
  },
  {
   "cell_type": "code",
   "execution_count": 21,
   "metadata": {},
   "outputs": [
    {
     "name": "stdout",
     "output_type": "stream",
     "text": [
      "False\n"
     ]
    }
   ],
   "source": [
    "x = 10\n",
    "print(f'{ 1 < x < 10}')"
   ]
  },
  {
   "cell_type": "markdown",
   "metadata": {},
   "source": [
    "## Creating more complex logic by combining two or more boolean expressions\n",
    "Boolean expressions may be combined using the boolean operators and and or\n",
    "\n",
    "```\n",
    "<<boolean expression 1>> and <<boolean expression 2>> #return True only if both are True\n",
    "\n",
    "<<boolean expression 1>> or <<boolean expression 2>>  #return False only if both are False\n",
    "```"
   ]
  },
  {
   "cell_type": "code",
   "execution_count": 1,
   "metadata": {},
   "outputs": [
    {
     "name": "stdout",
     "output_type": "stream",
     "text": [
      "You are not eligible for the pension plan\n"
     ]
    }
   ],
   "source": [
    "age = 50\n",
    "service = 6\n",
    "\n",
    "if age > 65 or service > 10:\n",
    "    print(\"You are eligible for the pension plan\")\n",
    "else:\n",
    "    print(\"You are not eligible for the pension plan\")"
   ]
  },
  {
   "cell_type": "code",
   "execution_count": 25,
   "metadata": {},
   "outputs": [
    {
     "name": "stdout",
     "output_type": "stream",
     "text": [
      "You are not eligible to vote in Ontario\n"
     ]
    }
   ],
   "source": [
    "age = 20\n",
    "province = \"QC\"\n",
    "\n",
    "if age >= 18 and province == \"ON\":\n",
    "    print(\"You are eligible to vote in Ontario\")\n",
    "else:\n",
    "    print(\"You are not eligible to vote in Ontario\")"
   ]
  },
  {
   "cell_type": "code",
   "execution_count": 5,
   "metadata": {},
   "outputs": [
    {
     "data": {
      "text/plain": [
       "True"
      ]
     },
     "execution_count": 5,
     "metadata": {},
     "output_type": "execute_result"
    }
   ],
   "source": [
    "age < 65 and service < 10\n"
   ]
  },
  {
   "cell_type": "markdown",
   "metadata": {},
   "source": [
    "# Python treats common values as True and False e.g.\n",
    "```\n",
    "True -> non zero number, non-empty sequence or mapping\n",
    "False => zero, empty sequence or mapping\n",
    "```"
   ]
  },
  {
   "cell_type": "code",
   "execution_count": 30,
   "metadata": {},
   "outputs": [
    {
     "name": "stdout",
     "output_type": "stream",
     "text": [
      "0               -> <class 'int'>        False\n",
      "1               -> <class 'int'>        True\n",
      "0.0             -> <class 'float'>      False\n",
      "1.3             -> <class 'float'>      True\n",
      "                -> <class 'str'>        False\n",
      "Hello           -> <class 'str'>        True\n",
      "set()           -> <class 'set'>        False\n",
      "{1, 2}          -> <class 'set'>        True\n",
      "()              -> <class 'tuple'>      False\n",
      "(1, 4)          -> <class 'tuple'>      True\n",
      "[]              -> <class 'list'>       False\n",
      "[4]             -> <class 'list'>       True\n",
      "{}              -> <class 'dict'>       False\n",
      "{80: 'http'}    -> <class 'dict'>       True\n",
      "True            -> <class 'bool'>       True\n",
      "False           -> <class 'bool'>       False\n",
      "None            -> <class 'NoneType'>   False\n"
     ]
    }
   ],
   "source": [
    "for ex in [0, 1, 0.0, 1.3, '', 'Hello', set(), {1, 2}, (), (1, 4), [], [4], {}, {80: 'http'}, True, False, None]:\n",
    "    print(f'{str(ex):<15} -> {str(type(ex)):<20} {bool(ex)}')"
   ]
  }
 ],
 "metadata": {
  "kernelspec": {
   "display_name": "Python 3",
   "language": "python",
   "name": "python3"
  },
  "language_info": {
   "codemirror_mode": {
    "name": "ipython",
    "version": 3
   },
   "file_extension": ".py",
   "mimetype": "text/x-python",
   "name": "python",
   "nbconvert_exporter": "python",
   "pygments_lexer": "ipython3",
   "version": "3.13.2"
  }
 },
 "nbformat": 4,
 "nbformat_minor": 2
}
