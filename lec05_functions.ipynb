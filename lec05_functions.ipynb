{
 "cells": [
  {
   "cell_type": "markdown",
   "metadata": {},
   "source": [
    "In this notebook, we will be examining the fourth control structure - Functions \n",
    "  \n",
    "---  \n",
    "\n",
    "# Functions\n",
    "\n",
    "Contents:\n",
    "1.  [What are Functions](#func)\n",
    "1.  [Defining a Function](#defn)\n",
    "    -   Header\n",
    "    -   Body\n",
    "    -   Arguments\n",
    "    -   Return value\n",
    "1.  [Calling a function](#calling)\n",
    "1.  [More function definitions](#more_defn)\n",
    "    -   Function does not take a value and does not return a value\n",
    "    -   Function that takes one or more value and does not return a value\n",
    "    -   Function that take one or more value and return a value\n",
    "1.  [Variable Scope](#scope)\n",
    "1.  [Docstring](#docstring)\n",
    "1.  [Lambda expression](#lambda_expression)\n",
    "1.  [Summary](#summary)"
   ]
  },
  {
   "cell_type": "markdown",
   "metadata": {},
   "source": [
    "## What are Functions\n",
    "### Definition and Purpose\n",
    "\n",
    "Functions (also known as procedures, modules, methods, or subroutines in other languages) are named blocks of code designed to perform specific tasks. They allow you to:\n",
    "\n",
    "-   Reuse code without rewriting it\n",
    "-   Break down complex problems into manageable pieces\n",
    "-   Improve readability and maintainability\n",
    "-   Facilitate testing and debugging\n",
    "\n",
    "### Key Characteristics\n",
    "\n",
    "-   Functions may accept inputs (arguments)\n",
    "-   Functions may return outputs (return values)\n",
    "-   Functions have their own local scope for variables\n",
    "-   Functions promote modular programming"
   ]
  },
  {
   "cell_type": "markdown",
   "metadata": {},
   "source": [
    "### <a id='defn'></a>Defining a function\n",
    "#### Basic Syntax\n",
    "```python\n",
    "def function_name(parameters):\n",
    "    '''docstring'''  # Optional documentation\n",
    "    # Function body\n",
    "    return value     # Optional return statement\n",
    "```    \n",
    "There are two parts of a function:  \n",
    "1. The header (the first line)  \n",
    "   There are atleast four parts in the header\n",
    "   - **`def` keyword**: Signals a function definition. \n",
    "   - **Function name**: Should be descriptive and follow naming conventions.\n",
    "   - **Parenthesis**: Contains parameters (optional). \n",
    "   - **Colon**: Ends the header.\n",
    "1. The body which is the rest of the definition   \n",
    "   The body must contain atleast one python statement which must be indented one-level.\n",
    "\n",
    "The statements in the body is indented one-level"
   ]
  },
  {
   "cell_type": "code",
   "execution_count": null,
   "metadata": {},
   "outputs": [],
   "source": [
    "#this function does not do anything\n",
    "def foo():         #the header\n",
    "    pass           #the body\n",
    "\n",
    "# The pass keyword is a nothing statement that is \n",
    "# used whenever a statement is needed and you don't have one.\n",
    "# In the above case it substitutes for the body of the function,\n",
    "# you may also use it to represent the True or the False block of an \n",
    "# if-state or the body of a loop."
   ]
  },
  {
   "cell_type": "markdown",
   "metadata": {},
   "source": [
    "### <a id='calling'></a>Calling the function\n",
    "To call or invoke a function, use its name followed by a pair of parenthesis."
   ]
  },
  {
   "cell_type": "code",
   "execution_count": null,
   "metadata": {},
   "outputs": [],
   "source": [
    "foo()\n"
   ]
  },
  {
   "cell_type": "code",
   "execution_count": null,
   "metadata": {},
   "outputs": [],
   "source": [
    "#Function that does not take any input and does not return a value\n",
    "def foo():\n",
    "    print('Hello world')\n",
    "\n",
    "foo()  # Call the function to execute it"
   ]
  },
  {
   "cell_type": "markdown",
   "metadata": {},
   "source": [
    "### Functions that does take any argument\n",
    "These are the easiest types of functions to work with because of its simplicity.  \n",
    "However, they are not too flexible."
   ]
  },
  {
   "cell_type": "code",
   "execution_count": null,
   "metadata": {},
   "outputs": [],
   "source": [
    "#Function that does not take any input and does not return a value\n",
    "def my_info():\n",
    "    print('''\n",
    "Narendra Pershad\n",
    "Instructor, Centennial\n",
    "Toronto, Canada          \n",
    "''')\n",
    "\n",
    "my_info()  # Call the function to execute it"
   ]
  },
  {
   "cell_type": "markdown",
   "metadata": {},
   "source": [
    "### Functions that does not return a value\n",
    "These types of functions are more useful and versatile because they callers (the code that invokes them) can interact with them by sending different value to them."
   ]
  },
  {
   "cell_type": "code",
   "execution_count": null,
   "metadata": {},
   "outputs": [],
   "source": [
    "#Function that takea a single argument and still does not return a value\n",
    "def foo(name):\n",
    "    print(f'Hello {name}')\n",
    "\n",
    "#to invoke the above method you must supply EXACTLY one argument\n",
    "foo('Hao')\n",
    "# foo()                   #this does not work\n",
    "# foo('arben', 'tapia')   #this does not work\n",
    "\n",
    "\n",
    "#Function that takes two arguments and does not return a value\n",
    "def foo(first, last):\n",
    "    print( f'{first} {last}')\n",
    "\n",
    "#to invoke the above method you must supply EXACTLY two arguments\n",
    "foo('Hao', 'Lac')\n",
    "foo('Arben', 'Tapia')\n",
    "# foo()          #this does not work, missing arguments"
   ]
  },
  {
   "cell_type": "markdown",
   "metadata": {},
   "source": [
    "### Functions that return a value\n",
    "The return keyword is used to send a value back to the caller. This allows you to use the function's result in assignments, expressions, or other function calls."
   ]
  },
  {
   "cell_type": "code",
   "execution_count": null,
   "metadata": {},
   "outputs": [],
   "source": [
    "#Function that takes two arguments and return a value\n",
    "def foo(first, last):\n",
    "    return f'{first} {last}'\n",
    "\n",
    "#to invoke the above method you must supply EXACTLY two arguments\n",
    "full = foo('Hao', 'Lac')\n",
    "print(full)\n",
    "\n",
    "# alternate way of using foo()\n",
    "print(foo('arben', 'tapia'))\n",
    "# print(foo())          #this does not work, missing arguments"
   ]
  },
  {
   "cell_type": "code",
   "execution_count": null,
   "metadata": {},
   "outputs": [],
   "source": [
    "# a function calling another function\n",
    "def vol(length, width, height):\n",
    "    return length * width * height\n",
    "\n",
    "def mass(l, w, h, den):\n",
    "    return vol(l, w, h) * den\n",
    "\n",
    "l, w, h, d = 2, 3, 4, 10_000\n",
    "\n",
    "print(f'Length: {l}, width: {w}, height: {h}, density: {d:,} -> mass: {mass(l, w, h, d):,}')"
   ]
  },
  {
   "cell_type": "markdown",
   "metadata": {},
   "source": [
    "#### All functions return a value\n",
    "Even if there is no explicit return statement."
   ]
  },
  {
   "cell_type": "code",
   "execution_count": null,
   "metadata": {},
   "outputs": [],
   "source": [
    "# function that explicitly returns a value\n",
    "def foo(x, y):\n",
    "    return x + y\n",
    "\n",
    "print(foo(1, 2))  # prints 3\n",
    "\n",
    "\n",
    "# a function that does not explicitly return a value\n",
    "def foo(x, y):\n",
    "    result = x + y\n",
    "\n",
    "print(foo(1, 2))  # prints None because the function does not return a value\n",
    "\n"
   ]
  },
  {
   "cell_type": "markdown",
   "metadata": {},
   "source": [
    "#### Return values vs. output to screem\n",
    "\n",
    "In programming it is important to distinguish between return value and output to the screen.\n",
    "\n",
    "Return value is identified by the `return` keyword followed by the value (can be of any datatype that we have covered so far or even a user-defined types) to be returned. This value can be captured by assigning to a variable for future use.\n",
    "\n",
    "Output to the screen is achieved via the `print()` function. "
   ]
  },
  {
   "cell_type": "markdown",
   "metadata": {},
   "source": [
    "### <a id='scope'></a>Variable scope"
   ]
  },
  {
   "cell_type": "code",
   "execution_count": null,
   "metadata": {},
   "outputs": [],
   "source": [
    "a = b = c = 1\t\t\t#global scope\n",
    "def foo():\n",
    "    global a            #will use the global variable a\n",
    "    a, b = 2, 2\t\t\t#b is local\n",
    "    print(f'{a} {b} {c}')\n",
    "    # local variable b is destroyed when the function is completed\n",
    "\n",
    "foo() \t\t\t        #Prints 2 2 1\n",
    "print(f'{a} {b} {c}') \t#Prints 2 1 1"
   ]
  },
  {
   "cell_type": "markdown",
   "metadata": {},
   "source": [
    "### Default arguments\n",
    "If the value of one of the arguments to a function is normally unchanged, then you can simplify the calling of the function by setting a default value for that particular parameter. This default **MUST** positioned at the right of the list of arguments i.e. Default argument\n",
    "always follow non-default values.\n",
    "\n",
    "The `split()` and `print()` methods have default argument of `' '` and `'\\n'` respectively."
   ]
  },
  {
   "cell_type": "code",
   "execution_count": null,
   "metadata": {},
   "outputs": [],
   "source": [
    "def greet(name, greeting = 'Hi'):\n",
    "    print(f'{greeting} {name}')\n",
    "  \n",
    "greet('Ilia')\t\t                    #second argument is not explicitly given, so use it default value\n",
    "greet('Hao', 'Hello')\t                #do not use the default second argument\n"
   ]
  },
  {
   "cell_type": "code",
   "execution_count": null,
   "metadata": {},
   "outputs": [],
   "source": [
    "def calculate_cost(price, tax = 0.13):\n",
    "    return price + (price * tax)\n",
    "  \n",
    "print(calculate_cost(10))               #second argument is not explicitly given, so use it default value\n",
    "print(calculate_cost(10, 0.2))\t        #specify both arguments\n",
    "print(calculate_cost(tax=0.15, price=20))\t        # named arguments, order does not matter\n",
    "\n",
    "\n",
    "# def greet(name = 'Narendra', greeting):   # this does not work, default argument must be at the end\n",
    "#     print(f'{greeting} {name}')"
   ]
  },
  {
   "cell_type": "markdown",
   "metadata": {},
   "source": [
    "### Working with variable number of arguments"
   ]
  },
  {
   "cell_type": "code",
   "execution_count": null,
   "metadata": {},
   "outputs": [],
   "source": [
    "def foo(var, *args, **d_args):\n",
    "    print(f'   var: {var}')\n",
    "    print(f'  args: {args}')\n",
    "    print(f'd_args: {d_args}')\n",
    "print('first call')\n",
    "foo(1, x=3, y=4)\n",
    "\n",
    "print('\\nsecond call')\n",
    "foo(1, 2, 3, 4, 5, x = 6, y = 7, z = 8)"
   ]
  },
  {
   "cell_type": "markdown",
   "metadata": {},
   "source": [
    "### Using typing annotation in functions\n",
    "Python is a dynamically language this means that it does not require formal variable declaration; the variable type is inferred by the interpreter when a value is assigned to it. This makes the language more flexible, but the IDE needs to work harder to provide code hinting or statement completions to the developer.\n",
    "\n",
    "Starting with python 3.5 (September 2015), python allowed the developer to provide type annotation (typing hints) when defining functions and classes.\n",
    "\n",
    "This additional information is ignored by the python interpretor, but is used by static type checker and IDE's to provide a better tooling experience for the user as well as code analysis and error detection.\n",
    "\n",
    "As a result, there is a growing trend amongst software developer to practice type annotation.\n"
   ]
  },
  {
   "cell_type": "code",
   "execution_count": null,
   "metadata": {},
   "outputs": [],
   "source": [
    "def area_of_triangle(base: int, height: int) -> float:\n",
    "    return base * height * 0.5\n",
    "\n",
    "b, h = 5, 3\n",
    "a = area_of_triangle(b, h)\n",
    "print(f'A triangle of base {b} and height {h} will have an area of {a:.1f}')"
   ]
  },
  {
   "cell_type": "markdown",
   "metadata": {},
   "source": [
    "### Closure (Advance)\n",
    "Functions that remember values from their enclosing scope."
   ]
  },
  {
   "cell_type": "code",
   "execution_count": null,
   "metadata": {},
   "outputs": [],
   "source": [
    "def power(x):\n",
    "    def foo(y):\n",
    "        return y ** x\n",
    "    \n",
    "    return foo"
   ]
  },
  {
   "cell_type": "code",
   "execution_count": null,
   "metadata": {},
   "outputs": [],
   "source": [
    "power_to_2 = power(2)\n",
    "power_to_3 = power(3)\n",
    "\n",
    "print(power_to_2(5))\n",
    "print(power_to_3(4))"
   ]
  },
  {
   "cell_type": "markdown",
   "metadata": {},
   "source": [
    "#### Parameters and Arguments\n",
    "-   Parameters: Variable name in the function definition\n",
    "-   Argument: Actual value passed when calling the function"
   ]
  },
  {
   "cell_type": "code",
   "execution_count": null,
   "metadata": {},
   "outputs": [],
   "source": [
    "def greet(name):  # 'name' is a parameter\n",
    "    print(f\"Hello, {name}!\")\n",
    "\n",
    "greet(\"Alice\")  # \"Alice\" is an argument"
   ]
  },
  {
   "cell_type": "markdown",
   "metadata": {},
   "source": [
    "#### Parameter\n",
    "A parameter is named entity in a function (or method) definition that specifies an argument (or in some cases, arguments) that the function can accept. There are five kinds of parameter:\n",
    "1. Position-or-Keyword Parameters\n",
    "1. Position-Only Parameters\n",
    "1. Keyword-Only Parameters\n",
    "1. Var-Positional (*args)\n",
    "1. Var-Keyword (**kwargs)"
   ]
  },
  {
   "cell_type": "code",
   "execution_count": null,
   "metadata": {},
   "outputs": [],
   "source": [
    "# 1. Position-or-Keyword Parameters\n",
    "# These can be passed either positionally or as keyword arguments:\n",
    "def greet(name, age):\n",
    "    return f'Hello {name}, you are {age} years old'\n",
    "\n",
    "# Both ways work:\n",
    "greet('Alice', 25)           # positional\n",
    "greet(name='Alice', age=25)  # keyword\n",
    "greet('Alice', age=25)       # mixed"
   ]
  },
  {
   "cell_type": "code",
   "execution_count": null,
   "metadata": {},
   "outputs": [],
   "source": [
    "# 2. Position-Only Parameters\n",
    "# Use / to mark parameters that can only be passed positionally:\n",
    "def divide(numerator, denominator, /):\n",
    "    return numerator / denominator\n",
    "\n",
    "# This works:\n",
    "divide(10, 2)\n",
    "\n",
    "# This would raise an error:\n",
    "# divide(numerator=10, denominator=2)  # TypeError!"
   ]
  },
  {
   "cell_type": "code",
   "execution_count": null,
   "metadata": {},
   "outputs": [],
   "source": [
    "# 3. Keyword-Only Parameters\n",
    "# Use * to mark parameters that can only be passed as keywords:\n",
    "def create_user(name, *, email, admin=False):\n",
    "    return f'User: {name}, Email: {email}, Admin: {admin}'\n",
    "\n",
    "# This works:\n",
    "create_user('Bob', email='bob@example.com')\n",
    "create_user('Bob', email='bob@example.com', admin=True)\n",
    "\n",
    "# This would raise an error:\n",
    "# create_user('Bob', 'bob@example.com')  # TypeError!"
   ]
  },
  {
   "cell_type": "code",
   "execution_count": null,
   "metadata": {},
   "outputs": [],
   "source": [
    "# 4. Var-Positional (*args)\n",
    "# Collects extra positional arguments into a tuple:\n",
    "def sum_numbers(*numbers):\n",
    "    return sum(numbers)\n",
    "\n",
    "print(sum_numbers(1, 2, 3, 4, 5))  # Returns 15\n",
    "print(sum_numbers())               # Returns 0"
   ]
  },
  {
   "cell_type": "code",
   "execution_count": null,
   "metadata": {},
   "outputs": [],
   "source": [
    "# 5. Var-Keyword (**kwargs)\n",
    "# Collects extra keyword arguments into a dictionary:\n",
    "def print_info(**info):\n",
    "    for key, value in info.items():\n",
    "        print(f'{key}: {value}')\n",
    "\n",
    "print_info(name='Charlie', age=30, city='New York')\n",
    "# Output:\n",
    "# name: Charlie\n",
    "# age: 30\n",
    "# city: New York"
   ]
  },
  {
   "cell_type": "code",
   "execution_count": null,
   "metadata": {},
   "outputs": [],
   "source": [
    "# Complete Example\n",
    "# Here's a function using all parameter types:\n",
    "def complex_function(pos_only, /, pos_or_kw, *args, kw_only, **kwargs):\n",
    "    print(f'Position-only: {pos_only}')\n",
    "    print(f'Position-or-keyword: {pos_or_kw}')\n",
    "    print(f'Extra positional args: {args}')\n",
    "    print(f'Keyword-only: {kw_only}')\n",
    "    print(f'Extra keyword args: {kwargs}')\n",
    "\n",
    "# Usage:\n",
    "complex_function(1, 2, 3, 4, kw_only='required', extra='optional')"
   ]
  },
  {
   "cell_type": "markdown",
   "metadata": {},
   "source": [
    "#### Recursive Function\n",
    "Recursive functions are function that calls itself"
   ]
  },
  {
   "cell_type": "code",
   "execution_count": null,
   "metadata": {},
   "outputs": [],
   "source": [
    "def factorial(n: int) -> int:\n",
    "    '''Calculate the factorial of a number.'''\n",
    "    if n < 0:\n",
    "        raise ValueError('Factorial is not defined for negative numbers.')\n",
    "    if n == 0 or n == 1:\n",
    "        return 1\n",
    "    return n * factorial(n - 1)\n",
    "\n",
    "print(factorial(5))  # Output: 120\n",
    "print(factorial(0))  # Output: 1\n",
    "\n",
    "def reverse_string(start: str, end='') -> str:\n",
    "    '''Reverse a given string.'''\n",
    "    if len(start) == 0:\n",
    "        return end\n",
    "    return reverse_string(start[:-1], end + start[-1])\n",
    "\n",
    "print(reverse_string('hello'))  # Output: 'olleh'\n",
    "print(reverse_string('world'))  # Output: 'dlrow'"
   ]
  },
  {
   "cell_type": "markdown",
   "metadata": {},
   "source": [
    "### <a id='lambda_expression'></a>Lambda Expression\n",
    "A lambda expression is a way to create small anonymous function. This is useful because certain functions expects a function as an argument. (See the last few examples)\n",
    "\n",
    "A lambda function may take zero or any number of arguments, but can only have one expression."
   ]
  },
  {
   "cell_type": "code",
   "execution_count": null,
   "metadata": {},
   "outputs": [],
   "source": [
    "#lamdba functions that takes a single argument\n",
    "def square(x):\n",
    "    return x * x\n",
    "\n",
    "# Lambda function equivalent\n",
    "square_lambda = lambda x: x * x \n",
    "\n",
    "# Test the lambda function\n",
    "print(square(5))          # Output: 25      \n",
    "print(square_lambda(5))   # Output: 25"
   ]
  },
  {
   "cell_type": "code",
   "execution_count": null,
   "metadata": {},
   "outputs": [],
   "source": [
    "#lamdba functions that does not take any argument\n",
    "my_info = lambda : 'Narendra Pershad\\nProgress Ave.\\nToronto\\nCanada' \n",
    "\n",
    "# Test the lambda function\n",
    "print(my_info()) "
   ]
  },
  {
   "cell_type": "code",
   "execution_count": null,
   "metadata": {},
   "outputs": [],
   "source": [
    "#lamdba functions that takes two arguments\n",
    "my_name = lambda first, last: f'{first.capitalize()} {last.capitalize()}' \n",
    "\n",
    "# Test the lambda function\n",
    "print(my_name('narendra', 'pershad')) "
   ]
  },
  {
   "cell_type": "markdown",
   "metadata": {},
   "source": [
    "#### Function Naming\n",
    "A sound practice when naming functions is to use a verb phrase.  "
   ]
  },
  {
   "cell_type": "code",
   "execution_count": null,
   "metadata": {},
   "outputs": [],
   "source": [
    "# Good: Descriptive, verb-based names\n",
    "def calculate_total_price(items, tax_rate):\n",
    "    pass\n",
    "\n",
    "def is_valid_email(email):\n",
    "    pass\n",
    "\n",
    "def get_user_by_id(user_id):\n",
    "    pass\n",
    "\n",
    "# Avoid: Vague or unclear names\n",
    "def process(data):  # What kind of processing?\n",
    "    pass\n",
    "\n",
    "def func1(x, y):   # Not descriptive\n",
    "    pass"
   ]
  },
  {
   "cell_type": "markdown",
   "metadata": {},
   "source": [
    "#### Single Responsibility Principle\n",
    "Each function should have one clear purpose"
   ]
  },
  {
   "cell_type": "code",
   "execution_count": 60,
   "metadata": {},
   "outputs": [],
   "source": [
    "# Good: Separate concerns\n",
    "def validate_email(email):\n",
    "    '''Validate email format.'''\n",
    "    pass\n",
    "\n",
    "def send_email(to_address, subject, body):\n",
    "    '''Send an email.'''\n",
    "    pass\n",
    "\n",
    "# Avoid: Doing too much in one function\n",
    "def handle_user_registration(user_data):\n",
    "    '''This does too much - validation, saving, emailing.'''\n",
    "    pass"
   ]
  },
  {
   "cell_type": "markdown",
   "metadata": {},
   "source": [
    "#### Testing Your Functions\n"
   ]
  },
  {
   "cell_type": "code",
   "execution_count": null,
   "metadata": {},
   "outputs": [],
   "source": [
    "def celsius_to_fahrenheit(celsius):\n",
    "    '''Convert Celsius to Fahrenheit.'''\n",
    "    return (celsius * 9/5) + 32\n",
    "\n",
    "def test_celsius_to_fahrenheit():\n",
    "    '''Test the temperature conversion function.'''\n",
    "    # Test cases\n",
    "    assert celsius_to_fahrenheit(0) == 32, 'Freezing point test failed'\n",
    "    assert celsius_to_fahrenheit(100) == 212, 'Boiling point test failed'\n",
    "    assert celsius_to_fahrenheit(-40) == -40, 'Equal point test failed'\n",
    "    print('All temperature conversion tests passed!')\n",
    "\n",
    "# Run tests\n",
    "test_celsius_to_fahrenheit()"
   ]
  },
  {
   "cell_type": "markdown",
   "metadata": {},
   "source": [
    "### <a id='summary'></a>Summary\n",
    "\n",
    "Functions are essential building blocks in Python programming that help you:\n",
    "\n",
    "-   Organize code into reusable, logical units\n",
    "-   Reduce repetition and improve maintainability\n",
    "-   Break complex problems into manageable pieces\n",
    "-   Create cleaner, more readable programs\n",
    "\n",
    "#### Benefits of Using Functions\n",
    "-   Maintainability: Easier to update and debug\n",
    "-   Reusability: Write once, use multiple times\n",
    "-   Readability: Self-documenting code structure\n",
    "-   Testing: Isolated functionality for better testing\n",
    "-   Collaboration: Team members can work on different functions\n",
    "\n",
    "#### Key concepts to remember:\n",
    "\n",
    "-   Functions can take any number of parameters (including zero)\n",
    "-   Functions can return values or perform actions\n",
    "-   Variable scope determines where variables can be accessed\n",
    "-   Type annotations and docstrings improve code quality\n",
    "-   Lambda functions provide a way to create simple, inline functions\n",
    "-   Recursive functions can solve problems by breaking them into smaller subproblems"
   ]
  }
 ],
 "metadata": {
  "kernelspec": {
   "display_name": "Python 3",
   "language": "python",
   "name": "python3"
  },
  "language_info": {
   "codemirror_mode": {
    "name": "ipython",
    "version": 3
   },
   "file_extension": ".py",
   "mimetype": "text/x-python",
   "name": "python",
   "nbconvert_exporter": "python",
   "pygments_lexer": "ipython3",
   "version": "3.13.2"
  }
 },
 "nbformat": 4,
 "nbformat_minor": 2
}
