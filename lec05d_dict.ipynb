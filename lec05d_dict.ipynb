{
 "cells": [
  {
   "cell_type": "markdown",
   "metadata": {},
   "source": [
    "# Dictionary\n",
    "A pythong dict is a collection of key-value pairs. The key can be any non-mutable value (tuples, strings and numbers\n",
    " can be key but a list may not!) and must be unique. The value can be anything\n",
    "\n",
    "## Operations on a python dict \n",
    "1. [Creating a dictionay](#creation)\n",
    "    - Simple assignment\n",
    "    - Constructors\n",
    "    - List of Tuples\n",
    "    - Using zip()\n",
    "    - Using dictionary comprehension\n",
    "1.  [Common Operations](#common_operation)\n",
    "    - using key to read a value\n",
    "    - using key to set a value\n",
    "    - adding a pair\n",
    "    - removing a pair\n",
    "1.  [More dict methods](#methods)\n"
   ]
  },
  {
   "cell_type": "markdown",
   "metadata": {},
   "source": [
    "### 1. <a id=creation></a>Creating a dict\n",
    "1. Via a literal assignment\n",
    "1. Using the dict constructor\n",
    "1. Using a list of tuples\n",
    "1. Using the zip() function\n",
    "1. Using dictionary comprehension (advanced)\n"
   ]
  },
  {
   "cell_type": "code",
   "execution_count": 63,
   "metadata": {},
   "outputs": [
    {
     "name": "stdout",
     "output_type": "stream",
     "text": [
      "{'ilia': 54, 'hao': 64, 'arben': 75, 'mayy': 70, 'yin': 80, 'vinay': 69}\n"
     ]
    }
   ],
   "source": [
    "# assignment using  curly braces\n",
    "# this is the simplest way to create a dictionary in python. \n",
    "# You can use curly braces `{}` and separate key-value pairs with a colon `:`.   \n",
    "a = {'ilia': 54, 'hao': 64, 'arben' : 75, 'mayy' : 70, 'yin' : 80, 'vinay' : 69}\n",
    "\n",
    "# you can display the dictionary, via the print function\n",
    "print(a)\n",
    "\n"
   ]
  },
  {
   "cell_type": "code",
   "execution_count": 37,
   "metadata": {},
   "outputs": [
    {
     "name": "stdout",
     "output_type": "stream",
     "text": [
      "{}\n"
     ]
    }
   ],
   "source": [
    "#using the dict constructor, this creates an empty dictionary\n",
    "a = dict()\n",
    "print(a)\n",
    "\n"
   ]
  },
  {
   "cell_type": "code",
   "execution_count": 38,
   "metadata": {},
   "outputs": [
    {
     "name": "stdout",
     "output_type": "stream",
     "text": [
      "{'ilia': 54, 'hao': 64, 'arben': 75, 'mayy': 70, 'yin': 80, 'vinay': 69}\n",
      "{'ilia': 54, 'hao': 64, 'arben': 75, 'mayy': 70, 'yin': 80, 'vinay': 69}\n"
     ]
    }
   ],
   "source": [
    "a = dict(ilia=54, hao=64, arben=75, mayy=70, yin=80, vinay=69)\n",
    "print(a)\n",
    "\n",
    "#from a list of tuples\n",
    "a = dict([('ilia', 54), ('hao', 64), ('arben', 75), ('mayy', 70), ('yin', 80), ('vinay', 69)])\n",
    "print(a)"
   ]
  },
  {
   "cell_type": "code",
   "execution_count": 39,
   "metadata": {},
   "outputs": [
    {
     "name": "stdout",
     "output_type": "stream",
     "text": [
      "{'ilia': 54, 'hao': 64, 'arben': 75, 'mayy': 70, 'yin': 80, 'vinay': 69}\n"
     ]
    }
   ],
   "source": [
    "#using dictionary comprehension\n",
    "a = {name: score for name, score in [('ilia', 54), ('hao', 64), ('arben', 75), ('mayy', 70), ('yin', 80), ('vinay', 69)]}\n",
    "print(a)"
   ]
  },
  {
   "cell_type": "code",
   "execution_count": 40,
   "metadata": {},
   "outputs": [
    {
     "name": "stdout",
     "output_type": "stream",
     "text": [
      "{'ilia': 54, 'hao': 64, 'arben': 75, 'mayy': 70, 'yin': 80, 'vinay': 69}\n"
     ]
    }
   ],
   "source": [
    "#from zip()\n",
    "a = dict(zip(['ilia', 'hao', 'arben', 'mayy', 'yin', 'vinay'], [54, 64, 75, 70, 80, 69]))\n",
    "print(a)"
   ]
  },
  {
   "cell_type": "code",
   "execution_count": 41,
   "metadata": {},
   "outputs": [
    {
     "name": "stdout",
     "output_type": "stream",
     "text": [
      "{'ilia': 50, 'hao': 50, 'arben': 50, 'mayy': 50, 'yin': 50, 'vinay': 50}\n"
     ]
    }
   ],
   "source": [
    "#using the fromkeys() method\n",
    "default_value = 50\n",
    "a = dict.fromkeys(['ilia', 'hao', 'arben', 'mayy', 'yin', 'vinay'], default_value)\n",
    "print(a)"
   ]
  },
  {
   "cell_type": "code",
   "execution_count": 43,
   "metadata": {},
   "outputs": [
    {
     "name": "stdout",
     "output_type": "stream",
     "text": [
      "names: dict_keys(['ilia', 'hao', 'arben', 'mayy', 'yin', 'vinay'])\n",
      "scores: dict_values([50, 50, 50, 50, 50, 50])\n"
     ]
    }
   ],
   "source": [
    "print(f'names: {a.keys()}')\n",
    "print(f'scores: {a.values()}')"
   ]
  },
  {
   "cell_type": "markdown",
   "metadata": {},
   "source": [
    "### Some common operation\n",
    "- using a key to read a value\n",
    "- using a key to set a value\n",
    "- using a key to delete a pair\n",
    "- Adding a new key-value pair"
   ]
  },
  {
   "cell_type": "code",
   "execution_count": 44,
   "metadata": {},
   "outputs": [
    {
     "name": "stdout",
     "output_type": "stream",
     "text": [
      "the value 75 corresponds to the key arben\n"
     ]
    }
   ],
   "source": [
    "a = {'ilia': 54, 'hao': 64, 'arben' : 75, 'mayy' : 70, 'yin' : 80, 'vinay' : 69}\n",
    "\n",
    "#accessing a value using a key\n",
    "key = 'arben'\n",
    "print(f'the value {a[key]} corresponds to the key {key}')\n",
    "\n",
    "\n",
    "a['narendra'] = 72"
   ]
  },
  {
   "cell_type": "code",
   "execution_count": 45,
   "metadata": {},
   "outputs": [
    {
     "name": "stdout",
     "output_type": "stream",
     "text": [
      "the value 100 corresponds to the key arben\n"
     ]
    }
   ],
   "source": [
    "#setting a value using a key\n",
    "key = 'arben'\n",
    "a[key] = 100\n",
    "print(f'the value {a[key]} corresponds to the key {key}')"
   ]
  },
  {
   "cell_type": "code",
   "execution_count": 46,
   "metadata": {},
   "outputs": [
    {
     "name": "stdout",
     "output_type": "stream",
     "text": [
      "{'hao': 64, 'arben': 100, 'mayy': 70, 'yin': 80, 'vinay': 69, 'narendra': 72}\n"
     ]
    }
   ],
   "source": [
    "#deleting a key-value pair using a key\n",
    "# executing this cell will raise an error, because in the second run, the key 'ilia' has been deleted\n",
    "# and the dictionary no longer contains it\n",
    "key = 'ilia'\n",
    "del a[key]\n",
    "print(a)"
   ]
  },
  {
   "cell_type": "code",
   "execution_count": 47,
   "metadata": {},
   "outputs": [
    {
     "name": "stdout",
     "output_type": "stream",
     "text": [
      "{'hao': 64, 'arben': 100, 'mayy': 70, 'yin': 80, 'vinay': 69, 'narendra': 55}\n"
     ]
    }
   ],
   "source": [
    "# adding a new key-value pair\n",
    "key = 'narendra'\n",
    "a[key] = 55   \n",
    "print(a)"
   ]
  },
  {
   "cell_type": "markdown",
   "metadata": {},
   "source": [
    "### Adding multiple key-value pairs"
   ]
  },
  {
   "cell_type": "code",
   "execution_count": 48,
   "metadata": {},
   "outputs": [
    {
     "name": "stdout",
     "output_type": "stream",
     "text": [
      "{'hao': 64, 'arben': 100, 'mayy': 70, 'yin': 80, 'vinay': 69, 'narendra': 55, 'mehrdad': 90, 'justin': 45}\n"
     ]
    }
   ],
   "source": [
    "a.update({'mehrdad' : 90, 'justin' : 45})\n",
    "print(a)"
   ]
  },
  {
   "cell_type": "markdown",
   "metadata": {},
   "source": [
    "### Accessing a value\n",
    "You may access the value associated with a key via the index technique or the `get()` method"
   ]
  },
  {
   "cell_type": "code",
   "execution_count": 49,
   "metadata": {},
   "outputs": [
    {
     "name": "stdout",
     "output_type": "stream",
     "text": [
      "justin score is 45\n",
      "justine score is 0\n"
     ]
    }
   ],
   "source": [
    "key = 'justin'\n",
    "print(f'{key} score is {a[key]}')\n",
    "\n",
    "#a better way of accessing a value\n",
    "key = 'justine'\n",
    "print(f'{key} score is {a.get(key, 0)}')\n"
   ]
  },
  {
   "cell_type": "markdown",
   "metadata": {},
   "source": [
    "### Updating a value"
   ]
  },
  {
   "cell_type": "code",
   "execution_count": 50,
   "metadata": {},
   "outputs": [
    {
     "name": "stdout",
     "output_type": "stream",
     "text": [
      "{'hao': 64, 'arben': 100, 'mayy': 70, 'yin': 80, 'vinay': 69, 'narendra': 55, 'mehrdad': 90, 'justin': 60}\n"
     ]
    }
   ],
   "source": [
    "a['justin'] = 60\n",
    "print(a)"
   ]
  },
  {
   "cell_type": "markdown",
   "metadata": {},
   "source": [
    "### Deleting a value"
   ]
  },
  {
   "cell_type": "code",
   "execution_count": 51,
   "metadata": {},
   "outputs": [
    {
     "name": "stdout",
     "output_type": "stream",
     "text": [
      "{'hao': 64, 'arben': 100, 'mayy': 70, 'yin': 80, 'vinay': 69, 'narendra': 55, 'mehrdad': 90}\n"
     ]
    }
   ],
   "source": [
    "del a['justin']\n",
    "print(a)"
   ]
  },
  {
   "cell_type": "markdown",
   "metadata": {},
   "source": []
  },
  {
   "cell_type": "markdown",
   "metadata": {},
   "source": [
    "### Iteration the dict"
   ]
  },
  {
   "cell_type": "code",
   "execution_count": 52,
   "metadata": {},
   "outputs": [
    {
     "name": "stdout",
     "output_type": "stream",
     "text": [
      "method 1\n",
      "     hao: 64\n",
      "   arben: 100\n",
      "    mayy: 70\n",
      "     yin: 80\n",
      "   vinay: 69\n",
      "narendra: 55\n",
      " mehrdad: 90\n",
      "\n",
      "method 2\n",
      "     hao: 64\n",
      "   arben: 100\n",
      "    mayy: 70\n",
      "     yin: 80\n",
      "   vinay: 69\n",
      "narendra: 55\n",
      " mehrdad: 90\n"
     ]
    }
   ],
   "source": [
    "print('method 1')\n",
    "for (name, score) in a.items():\n",
    "    print(f'{name:>8}: {score}')\n",
    "\n",
    "#method 2\n",
    "print('\\nmethod 2')\n",
    "for key in a:\n",
    "    print(f'{key:>8}: {a[key]}')"
   ]
  },
  {
   "cell_type": "code",
   "execution_count": 62,
   "metadata": {},
   "outputs": [
    {
     "name": "stdout",
     "output_type": "stream",
     "text": [
      "     hao: [91, 76, 80, 54, 78]\n",
      "    ilia: [59, 80, 77, 91, 81]\n",
      "    mayy: [70, 88, 84, 64, 71]\n",
      "   arben: [100, 97, 87, 94, 87]\n",
      "     yin: [46, 77, 95, 50, 46]\n",
      "narendra: [92, 52, 96, 90, 69]\n",
      "   vinay: [76, 71, 55, 63, 90]\n"
     ]
    }
   ],
   "source": [
    "#dict comprehension\n",
    "import random\n",
    "names = 'hao ilia mayy arben yin narendra vinay'.split()\n",
    "\n",
    "b = { name : [random.randint(45,100) for _ in range(5)] for name in names}\n",
    "for (name, scores) in b.items():\n",
    "    print(f'{name:>8}: {scores}')"
   ]
  },
  {
   "cell_type": "code",
   "execution_count": 54,
   "metadata": {},
   "outputs": [
    {
     "name": "stdout",
     "output_type": "stream",
     "text": [
      "{1: 'one', 'two': 2, (3,): 'three', 4: [0, 1, 2, 3]}\n",
      "1: one\n",
      "two: 2\n",
      "(3,): three\n",
      "4: [0, 1, 2, 3]\n"
     ]
    }
   ],
   "source": [
    "#key can be any immutable type: int, string, tuple\n",
    "#of course the value can be anything!\n",
    "c = {1: 'one', 'two' : 2, (3,) : 'three', 4 : [0, 1, 2, 3]}\n",
    "print(c)\n",
    "for (key, val) in c.items():\n",
    "    print(f'{key}: {val}')"
   ]
  },
  {
   "cell_type": "code",
   "execution_count": 55,
   "metadata": {},
   "outputs": [
    {
     "name": "stdout",
     "output_type": "stream",
     "text": [
      "keys: dict_keys([1, 'two', (3,), 4])\n"
     ]
    }
   ],
   "source": [
    "# getting all the keys\n",
    "print('keys:', c.keys())"
   ]
  },
  {
   "cell_type": "code",
   "execution_count": 56,
   "metadata": {},
   "outputs": [
    {
     "name": "stdout",
     "output_type": "stream",
     "text": [
      "values: dict_values(['one', 2, 'three', [0, 1, 2, 3]])\n"
     ]
    }
   ],
   "source": [
    "#getting all the values\n",
    "print('values:', c.values())"
   ]
  }
 ],
 "metadata": {
  "kernelspec": {
   "display_name": "Python 3",
   "language": "python",
   "name": "python3"
  },
  "language_info": {
   "codemirror_mode": {
    "name": "ipython",
    "version": 3
   },
   "file_extension": ".py",
   "mimetype": "text/x-python",
   "name": "python",
   "nbconvert_exporter": "python",
   "pygments_lexer": "ipython3",
   "version": "3.13.2"
  }
 },
 "nbformat": 4,
 "nbformat_minor": 2
}
