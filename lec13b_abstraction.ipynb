{
 "cells": [
  {
   "cell_type": "markdown",
   "id": "e7a8b9bc",
   "metadata": {},
   "source": [
    "This is the last of a series of 6 notebooks on object oriented programming.    \n",
    "In this presentation we will examine Abstraction\n",
    "\n",
    "---\n",
    "# **Object Oriented Programming - Abstraction**"
   ]
  },
  {
   "cell_type": "markdown",
   "id": "01f9578a",
   "metadata": {},
   "source": []
  }
 ],
 "metadata": {
  "language_info": {
   "name": "python"
  }
 },
 "nbformat": 4,
 "nbformat_minor": 5
}
