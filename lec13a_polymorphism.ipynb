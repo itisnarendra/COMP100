{
 "cells": [
  {
   "cell_type": "markdown",
   "id": "7d83f07d",
   "metadata": {},
   "source": [
    "This is the fifth of a series of 6 notebooks on object oriented programming.    \n",
    "In this presentation we will examine Polymorphism\n",
    "\n",
    "---"
   ]
  },
  {
   "cell_type": "markdown",
   "id": "3e19e100",
   "metadata": {},
   "source": [
    "# **Object Oriented Programming - Polymorphism**"
   ]
  }
 ],
 "metadata": {
  "language_info": {
   "name": "python"
  }
 },
 "nbformat": 4,
 "nbformat_minor": 5
}
