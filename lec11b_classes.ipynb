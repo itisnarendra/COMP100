{
 "cells": [
  {
   "cell_type": "markdown",
   "metadata": {},
   "source": [
    "This is the second of a series of 6 notebooks on object oriented programming.    \n",
    "In this presentation we will examine Classes and Objects   \n",
    "\n",
    "---\n",
    "# **Object Oriented Programming - Class**"
   ]
  },
  {
   "cell_type": "markdown",
   "metadata": {},
   "source": [
    "## Contents\n",
    "1.  [What are Classes?](#what-are-classes)\n",
    "1.  [Class Anatomy](#class-anatomy)\n",
    "1.  [Creating and Using Objects](#creating-and-using-objects)\n",
    "1.  [Test Harness](#test-harness)\n",
    "1.  [Special Methods (Magic Methods)](#special-methods-magic-methods)\n",
    "1.  [Constructor](#constructor)\n",
    "1.  [Instance vs Class Attributes](#instance-vs-class-attributes)\n",
    "1.  [Methods Types](#method-types) (Instance, Class, Static)\n"
   ]
  },
  {
   "cell_type": "markdown",
   "metadata": {},
   "source": [
    "## Classes and Objects\n",
    "1. A class is a software unit that describe the properties/states and behavior/actions of an entity\n",
    "1. It is a template or blueprint for creating an object.\n",
    "1. You may create multiple objects based on a single class definition\n",
    "1. Each object will have its own distinct states\n",
    "\n",
    "**Class = Bluepoint**\n",
    "\n",
    "**Object = Instances of that blueprint**"
   ]
  },
  {
   "cell_type": "markdown",
   "metadata": {},
   "source": [
    "### Class definition\n",
    "-   The following code defines a basic Account class\n",
    "-   It does not contain any methods or attributes\n",
    "-   It is used to demonstrate the basic format of a class in Python\n",
    "-   The class does not explicitly inherit from any other class"
   ]
  },
  {
   "cell_type": "code",
   "execution_count": null,
   "metadata": {},
   "outputs": [],
   "source": [
    "class Account:\n",
    "    pass"
   ]
  },
  {
   "cell_type": "markdown",
   "metadata": {},
   "source": [
    "### Creating and Using Object\n",
    "To create an object (instance), you instantiate the class:\n",
    "\n",
    "-   The fundamentals test that a class must pass is\n",
    "    -   Instantiating the class i.e. to create an object based on the class\n",
    "    -   Invoking the methods and examining the object afterwards\n",
    "\n",
    "The code to test the class is normally referred to as the `Test Harness`"
   ]
  },
  {
   "cell_type": "code",
   "execution_count": null,
   "metadata": {},
   "outputs": [],
   "source": [
    "#test harness to exercise the above code\n",
    "#the following code creates an instance of the Account class\n",
    "#and assigns the reference to the variable obj\n",
    "obj = Account()\n",
    "\n",
    "print(obj)              # This will print the object representation of the instance.\n",
    "                        # At this point the output will not be very informative,\n",
    "                        # later we will see how to make it more informative\n",
    "\n",
    "print(type(obj))        # This will print <class '__main__.Account'> indicating the type of the object\n"
   ]
  },
  {
   "cell_type": "markdown",
   "metadata": {},
   "source": [
    "### Adding Attribute Dynamically\n",
    "Python is a dynamic language. You can attach attributes you an object at runtime"
   ]
  },
  {
   "cell_type": "code",
   "execution_count": null,
   "metadata": {},
   "outputs": [],
   "source": [
    "#the following code dynamically adds three attributes to the obj instance\n",
    "#the attributes are balance, holder, and number and are assigned values of 100, 'narendra', and '1234'\n",
    "obj.balance = 100\n",
    "obj.holder = 'narendra'\n",
    "obj.number = '1234'\n",
    "\n",
    "#the following code prints the values of the attributes \n",
    "print(f'balance: {obj.balance}')\n",
    "print(f' holder: {obj.holder}')\n",
    "print(f' number: {obj.number}')"
   ]
  },
  {
   "cell_type": "markdown",
   "metadata": {},
   "source": [
    "### Special Methods (Magic Methods)\n",
    "1.  `__init__(self, parameters)` -> Constructor (runs immediately after the an object is created).\n",
    "1.  `__str__(self)` -> String representation (controls what `print(obj)` shows)\n",
    "\n",
    "The following illustrates a better class definition. Note the following:\n",
    "1.  A docstring: This is a string that briefly describes the class. It is used in python internal documentation system"
   ]
  },
  {
   "cell_type": "code",
   "execution_count": null,
   "metadata": {},
   "outputs": [],
   "source": [
    "# a basic Account class\n",
    "class Account:\n",
    "    '''A simple class to represent a bank account with a holder name, account number, and balance.\n",
    "    This class allows you to create an account with a holder's name, account number, and an optional balance.\n",
    "    \n",
    "    Attributes: \n",
    "    holder (str): The name of the account holder.\n",
    "    number (str): The account number.\n",
    "    balance (float): The current balance of the account, defaulting to 0 if not specified.\n",
    "\n",
    "    Methods:\n",
    "    __init__(name, number, balance=0): Initializes the account with a holder name, account number, and an optional balance.\n",
    "    '''\n",
    "\n",
    "    def __init__(self, number, name, balance = 500) -> None:\n",
    "        '''This constructor initialize an Account object with a holder name, account number, and an optional balance.\n",
    "        If no balance is provided, it defaults to 0.'''\n",
    "        self.holder = name\n",
    "        self.number = number\n",
    "        self.balance = balance\n",
    "    \n",
    "    def __str__(self) -> str:\n",
    "        amt = f'${self.balance:,.2f}'\n",
    "        return f'{self.number} {self.holder:>10} {amt:>12}'"
   ]
  },
  {
   "cell_type": "code",
   "execution_count": null,
   "metadata": {},
   "outputs": [],
   "source": [
    "# test harness\n",
    "first = Account('1234', 'Narendra')\n",
    "print(f'    first: {first}')\n",
    "\n",
    "second = Account('1235', 'Ilia', 5_000)\n",
    "print(f'   second: {second}')\n",
    "\n",
    "print(f'anonymous: {Account('1236', 'Mehrdad', 1_234)}')"
   ]
  },
  {
   "cell_type": "markdown",
   "metadata": {},
   "source": [
    "#### More special Methods"
   ]
  },
  {
   "cell_type": "code",
   "execution_count": 17,
   "metadata": {},
   "outputs": [],
   "source": [
    "class Professor:\n",
    "    def __init__(self, name, service):\n",
    "        self.name = name\n",
    "        self.service = service\n",
    "\n",
    "    def __str__(self):\n",
    "        return f'{self.name} ({self.service}yrs)'\n",
    "    \n",
    "    def __eq__(self, value):\n",
    "        if isinstance( value, Professor) :\n",
    "            # return self.name == value.name and self.service == value.service\n",
    "            return self.service == value.service\n",
    "        return False\n",
    "    \n",
    "    def __lt__(self, value):\n",
    "        if isinstance(value, Professor):\n",
    "            return self.service < value.service\n",
    "        return False\n",
    "    \n",
    "    def __gt__(self, value):\n",
    "        if isinstance( value, Professor):\n",
    "            return self.service > value.service\n",
    "        return False"
   ]
  },
  {
   "cell_type": "code",
   "execution_count": 19,
   "metadata": {},
   "outputs": [
    {
     "name": "stdout",
     "output_type": "stream",
     "text": [
      "Narendra (3yrs) 'is' Narendra (3yrs) -> True\n",
      "Narendra (3yrs) '==' Narendra (3yrs) -> True\n",
      "Narendra (3yrs) '==' Ilia (3yrs) -> True\n",
      "Hao (6yrs) 'is' Hao (6yrs) -> False\n",
      "Hao (6yrs) '==' Hao (6yrs) -> True\n",
      "Hao (6yrs) '<' Ilia (3yrs) -> False\n",
      "Hao (6yrs) '>' Ilia (3yrs) -> True\n",
      "Yin (10yrs) '<' Hao (6yrs) -> False\n",
      "Yin (10yrs) '>' Hao (6yrs) -> True\n"
     ]
    }
   ],
   "source": [
    "obj1 = Professor('Narendra', 3)\n",
    "obj2 = obj1\n",
    "\n",
    "obj3 = Professor('Hao', 6)\n",
    "obj4 = Professor('Hao', 6)\n",
    "\n",
    "obj5 = Professor('Ilia', 3)\n",
    "\n",
    "obj6 = Professor('Yin', 10)\n",
    "\n",
    "print(f'{obj1} \\'is\\' {obj2} -> {obj1 is obj2}')\n",
    "print(f'{obj1} \\'==\\' {obj2} -> {obj1 == obj2}')\n",
    "print(f'{obj1} \\'==\\' {obj5} -> {obj1 == obj5}')\n",
    "\n",
    "print(f'{obj3} \\'is\\' {obj4} -> {obj3 is obj4}')\n",
    "print(f'{obj3} \\'==\\' {obj4} -> {obj3 == obj4}')\n",
    "\n",
    "print(f'{obj3} \\'<\\' {obj5} -> {obj3 < obj5}')\n",
    "print(f'{obj3} \\'>\\' {obj5} -> {obj3 > obj5}')\n",
    "print(f'{obj6} \\'<\\' {obj3} -> {obj6 < obj3}')\n",
    "print(f'{obj6} \\'>\\' {obj3} -> {obj6 > obj3}')\n",
    "\n"
   ]
  },
  {
   "cell_type": "markdown",
   "metadata": {},
   "source": [
    "#### Instance Methods\n",
    "These are methods that are attached to objects of this class that modify or query their state.   \n",
    "You use the dot operator on an object to access them. "
   ]
  },
  {
   "cell_type": "code",
   "execution_count": null,
   "metadata": {},
   "outputs": [],
   "source": [
    "# an even more useful class\n",
    "class Account:\n",
    "    '''A simple class to represent a bank account with a holder name, account number, and balance.\n",
    "    This class allows you to create an account with a holder's name, account number, and an optional balance.\n",
    "    \n",
    "    Attributes: \n",
    "    holder (str): The name of the account holder.\n",
    "    number (str): The account number.\n",
    "    balance (float): The current balance of the account, defaulting to 0 if not specified.\n",
    "\n",
    "    Methods:\n",
    "    __init__(name, number, balance=0): Initializes the account with a holder name, account number, and an optional balance.\n",
    "    \n",
    "    deposit(self, amount) -> None: Increases the balance by the amount specified by the argument\n",
    "\n",
    "    withdraw(self, amount) -> None: Decreases the balance by the amount specified by the argument\n",
    "\n",
    "    def __str__(self) -> str: Returns a string of this object\n",
    "\n",
    "    '''    \n",
    "    def __init__(self, name: str, number: str, balance: float = 0) -> None:\n",
    "        self.holder = name\n",
    "        self.number = number\n",
    "        self.balance = balance\n",
    "\n",
    "    def deposit(self, amount: float) -> None:\n",
    "        '''To increase the balance'''\n",
    "        self.balance += amount\n",
    "\n",
    "    def withdraw(self, amount: float) -> None:\n",
    "        '''To decrease the balance'''\n",
    "        self.balance -= amount\n",
    "\n",
    "    def __str__(self) -> str:\n",
    "        return f'{self.number} {self.holder} ${self.balance:,.2f}'\n",
    "\n",
    "# test harness\n",
    "acct = Account('1234', 'narendra', 200.)\n",
    "print(acct)\n",
    "\n",
    "amt = 500.0\n",
    "print(f'Deposit ${amt:,.2f}')\n",
    "acct.deposit(amt)\n",
    "\n",
    "amt = 150.0\n",
    "print(f'Withdraw ${amt:,.2f}')\n",
    "acct.withdraw(amt)\n",
    "print(acct)"
   ]
  },
  {
   "cell_type": "code",
   "execution_count": null,
   "metadata": {},
   "outputs": [],
   "source": [
    "#problems with the above class\n",
    "\n",
    "acct.balance = 1_000_000\n",
    "print(acct)"
   ]
  },
  {
   "cell_type": "code",
   "execution_count": null,
   "metadata": {},
   "outputs": [],
   "source": [
    "# a better class\n",
    "# an even more useful class\n",
    "class Account:\n",
    "    def __init__(self, name, number, balance = 0) -> None:\n",
    "        self.__holder = name\n",
    "        self.__number = number\n",
    "        self.__balance = balance\n",
    "\n",
    "    def deposit(self, amount) -> None:\n",
    "\n",
    "        self.__balance += amount\n",
    "\n",
    "    def withdraw(self, amount) -> None:\n",
    "\n",
    "        self.__balance -= amount\n",
    "\n",
    "    def __str__(self) -> str:\n",
    "        return f'{self.__number} {self.__holder} ${self.__balance:,.2f}'\n",
    "    \n",
    "    @property\n",
    "    def balance(self):\n",
    "        return self.__balance\n",
    "\n",
    "# test harness\n",
    "acct = Account('1234', 'narendra', 200.)\n",
    "print(acct)\n",
    "\n",
    "amt = 500.0\n",
    "print(f'Deposit ${amt:,.2f}')\n",
    "acct.deposit(amt)\n",
    "\n",
    "amt = 150.0\n",
    "print(f'Withdraw ${amt:,.2f}')\n",
    "acct.withdraw(amt)\n",
    "print(acct)\n",
    "\n",
    "\n",
    "# acct.balance = 1_000_000\n",
    "acct.__balance = 1_000_000\n",
    "print(acct)\n",
    "print(acct.__balance)"
   ]
  },
  {
   "cell_type": "markdown",
   "metadata": {},
   "source": [
    "### Class variables"
   ]
  },
  {
   "cell_type": "code",
   "execution_count": null,
   "metadata": {},
   "outputs": [],
   "source": [
    "#the following code defines a class named Instructor\n",
    "#it has a class attribute 'name' set to 'Ilia'\n",
    "class Instructor:\n",
    "    name = 'Ilia'"
   ]
  },
  {
   "cell_type": "code",
   "execution_count": null,
   "metadata": {},
   "outputs": [],
   "source": [
    "print(Instructor.name)  #the dot notation is used to access class attributes\n",
    "\n",
    "mayy = Instructor()     #creates a instance of Instructor\n",
    "print(mayy.name)        # object mayy does not have an attribute name\n",
    "                        # so it looks for that attribute in the class\n",
    "                        # it finds one and then print 'Ilia'\n",
    "\n",
    "hao = Instructor()      #creates a new instance of Instructor\n",
    "print(hao.name)         #again hao, does not have name, so it\n",
    "                        # fetches the attribute in the class \n",
    "                        # and print 'Ilia'\n",
    "\n",
    "hao.name = 'Hao Lac'    # sets the name attribute to 'Hao Lac'\n",
    "print(hao.name)         # prints 'Hao Lac'  \n",
    "\n",
    "print(mayy.name)        #prints 'Ilia'\n",
    "\n",
    "Instructor.name = 'Arben Tapia' # Sets the class attribute to Arben Tapia \n",
    "print(hao.name)        #prints 'Hao Lac'\n",
    "\n",
    "print(mayy.name)       #prints 'Arben Tapia'"
   ]
  },
  {
   "cell_type": "code",
   "execution_count": null,
   "metadata": {},
   "outputs": [],
   "source": [
    "class Student:\n",
    "    '''Represents a student in Centennial College.'''\n",
    "    \n",
    "    # Class attributes - shared by all students\n",
    "    school_name = 'Centennial College'\n",
    "    total_students = 0\n",
    "    sin = 100_000\n",
    "    \n",
    "    def __init__(self, name, major):\n",
    "        '''Initialize a new student.'''\n",
    "        self.name = name                # Instance attribute\n",
    "        self.student_id = f'STU{Student.sin}'   # uses the class attribute\n",
    "        Student.sin += 1                # update for the next student\n",
    "        self.major = major              # Instance attribute\n",
    "        self.grades = []                # Instance attribute\n",
    "        self.enrolled_courses = []      # Instance attribute\n",
    "        \n",
    "        # Update class attribute\n",
    "        Student.total_students += 1\n",
    "    \n",
    "    def add_grade(self, course, grade):\n",
    "        '''Add a grade for a specific course.'''\n",
    "        self.grades.append({'course': course, 'grade': grade})\n",
    "    \n",
    "    def calculate_gpa(self):\n",
    "        '''Calculate the student's GPA.'''\n",
    "        if not self.grades:\n",
    "            return 0.0\n",
    "        \n",
    "        total_points = sum(grade['grade'] for grade in self.grades)\n",
    "        return round(total_points / len(self.grades), 2)\n",
    "    \n",
    "    def enroll_course(self, course_name):\n",
    "        '''Enroll student in a course.'''\n",
    "        if course_name not in self.enrolled_courses:\n",
    "            self.enrolled_courses.append(course_name)\n",
    "            print(f'{self.name} enrolled in {course_name}')\n",
    "        else:\n",
    "            print(f'{self.name} is already enrolled in {course_name}')\n",
    "    \n",
    "    def get_info(self):\n",
    "        '''Return formatted student information.'''\n",
    "        return {\n",
    "            'name': self.name,\n",
    "            'id': self.student_id,\n",
    "            'major': self.major,\n",
    "            'grades': self.grades,\n",
    "            'gpa': self.calculate_gpa(),\n",
    "            'courses': self.enrolled_courses,\n",
    "            'school': Student.school_name\n",
    "        }"
   ]
  },
  {
   "cell_type": "code",
   "execution_count": null,
   "metadata": {},
   "outputs": [],
   "source": [
    "help(Student)"
   ]
  },
  {
   "cell_type": "code",
   "execution_count": null,
   "metadata": {},
   "outputs": [],
   "source": [
    "import pprint\n",
    "\n",
    "# test harness\n",
    "alice = Student('Alice Johnson', 'Software Engineering Technologist')\n",
    "bob = Student('Bob Smith', 'Game - Programming')\n",
    "\n",
    "alice.add_grade('Python Programming', 92)\n",
    "alice.add_grade('Software Engineering Fundamentals', 88)\n",
    "alice.enroll_course('Web Page Development')\n",
    "\n",
    "print(f'Alice\\'s GPA: {alice.calculate_gpa()}')\n",
    "print(f'Total students: {Student.total_students}')\n",
    "\n",
    "pprint.pp(alice.get_info(), indent=2)\n",
    "\n",
    "pprint.pp(bob.get_info(), indent=2)"
   ]
  },
  {
   "cell_type": "markdown",
   "metadata": {},
   "source": [
    "#### Static Methods\n",
    "These methods do not rely on class or instance data to work.   \n",
    "They are decorated with `@staticmethod`.   \n",
    "The class below, is just an assembly of string methods contained in a class."
   ]
  },
  {
   "cell_type": "code",
   "execution_count": null,
   "metadata": {},
   "outputs": [],
   "source": [
    "class StringUtils:\n",
    "    '''Utility class for string operations.'''\n",
    "    \n",
    "    @staticmethod\n",
    "    def reverse_words(text):\n",
    "        '''Reverse the order of words in a string.'''\n",
    "        return ' '.join(text.split()[::-1])\n",
    "    \n",
    "    @staticmethod\n",
    "    def is_palindrome(text):\n",
    "        '''Check if text is a palindrome (ignoring spaces and case).'''\n",
    "        cleaned = ''.join(text.lower().split())\n",
    "        return cleaned == cleaned[::-1]\n",
    "    \n",
    "    @staticmethod\n",
    "    def count_words(text):\n",
    "        '''Count words in a text.'''\n",
    "        return len(text.split())\n",
    "    \n",
    "    @staticmethod\n",
    "    def capitalize_words(text):\n",
    "        '''Capitalize first letter of each word.'''\n",
    "        return ' '.join(word.capitalize() for word in text.split())"
   ]
  },
  {
   "cell_type": "code",
   "execution_count": null,
   "metadata": {},
   "outputs": [],
   "source": [
    "# Test Harness\n",
    "# To access a static method, use the dot operator on the class name\n",
    "to_test = 'Hello World Python'\n",
    "print(f'      Original: {to_test}')\n",
    "print(f'      Reversed: {StringUtils.reverse_words(to_test)}')\n",
    "to_test = 'A man a plan a canal Panama'\n",
    "print(f'      Original: {to_test}')\n",
    "print(f' Is palindrome: {StringUtils.is_palindrome(to_test)}')\n",
    "to_test = 'This is a test sentence'\n",
    "print(f'      Original: {to_test}')\n",
    "print(f'    Word count: {StringUtils.count_words(to_test)}')\n",
    "to_test = 'mark joseph carney'\n",
    "print(f'      Original: {to_test}')\n",
    "print(f'    Capitalise: {StringUtils.capitalize_words(to_test)}')"
   ]
  },
  {
   "cell_type": "code",
   "execution_count": null,
   "metadata": {},
   "outputs": [],
   "source": [
    "class Professor:\n",
    "    def __init__(self, name):\n",
    "        self.name = name\n",
    "    "
   ]
  },
  {
   "cell_type": "code",
   "execution_count": null,
   "metadata": {},
   "outputs": [],
   "source": [
    "arben = Professor('Arben')\n",
    "print(arben.name)\n",
    "\n",
    "faculty1 = Professor('Jake')\n",
    "print(faculty1.name)\n"
   ]
  }
 ],
 "metadata": {
  "kernelspec": {
   "display_name": "Python 3",
   "language": "python",
   "name": "python3"
  },
  "language_info": {
   "codemirror_mode": {
    "name": "ipython",
    "version": 3
   },
   "file_extension": ".py",
   "mimetype": "text/x-python",
   "name": "python",
   "nbconvert_exporter": "python",
   "pygments_lexer": "ipython3",
   "version": "3.13.2"
  }
 },
 "nbformat": 4,
 "nbformat_minor": 2
}
