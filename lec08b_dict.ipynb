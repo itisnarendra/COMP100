{
 "cells": [
  {
   "cell_type": "markdown",
   "metadata": {},
   "source": [
    "In this notebook we will be looking at a very useful and widely used datatype - the dictionary\n",
    "\n",
    "---\n",
    "\n",
    "# Dictionary\n",
    "A dictionary (`dict`) is an unordered, mutable collection of key-value pairs. \n",
    "-   Key must be unique and hashable object (e.g., tuples, strings and numbers).\n",
    "-   Value can be of any type\n",
    "-   List, set or other dictionaries cannot be used as keys because they are mutable\n",
    "\n",
    "Contents:\n",
    "1.  [Creating a dictionary](#creation)\n",
    "    -   Literal assignment\n",
    "    -   `dict()` constructor\n",
    "    -   List of Tuples\n",
    "    -   `zip()` function\n",
    "    -   Dictionary comprehension\n",
    "1.  [Common Operations](#common_operation)\n",
    "    -   using len() to obtain the number of pairs\n",
    "    -   Accessing, updating, and deleting pairs\n",
    "    -   Iterating of keys and values\n",
    "1.  [More dict methods](#methods)\n",
    "1.  [Summary](#summary)"
   ]
  },
  {
   "cell_type": "markdown",
   "metadata": {},
   "source": [
    "### 1. <a id=creation></a>Creating a dict\n",
    "1. Via a literal assignment\n",
    "1. Using the dict constructor\n",
    "1. Using a list of tuples\n",
    "1. Using the zip() function\n",
    "1. Using dictionary comprehension (advanced)\n"
   ]
  },
  {
   "cell_type": "code",
   "execution_count": null,
   "metadata": {},
   "outputs": [],
   "source": [
    "# Listeral assignment is probable the easiest way to get a dict\n",
    "# You can use curly braces `{}` and separate key-value pairs with a colon `:`.   \n",
    "a = {'ilia': 54, 'hao': 64, 'arben' : 75, 'mayy' : 70, 'yin' : 80, 'vinay' : 69}\n",
    "\n",
    "# you can display the dictionary, via the print function\n",
    "print(a)\n",
    "\n"
   ]
  },
  {
   "cell_type": "markdown",
   "metadata": {},
   "source": [
    "#### Using the dict() constructor, this creates an empty dictionary"
   ]
  },
  {
   "cell_type": "code",
   "execution_count": null,
   "metadata": {},
   "outputs": [],
   "source": [
    "# creating an empty dictionary\n",
    "a = dict()\n",
    "print(a)"
   ]
  },
  {
   "cell_type": "code",
   "execution_count": null,
   "metadata": {},
   "outputs": [],
   "source": [
    "#from keyword arguments\n",
    "a = dict(ilia=54, hao=64, arben=75, mayy=70, yin=80, vinay=69)\n",
    "print(a)"
   ]
  },
  {
   "cell_type": "code",
   "execution_count": null,
   "metadata": {},
   "outputs": [],
   "source": [
    "#from a list of tuples\n",
    "a = dict([('ilia', 54), ('hao', 64), ('arben', 75), ('mayy', 70), ('yin', 80), ('vinay', 69)])\n",
    "print(a)"
   ]
  },
  {
   "cell_type": "code",
   "execution_count": null,
   "metadata": {},
   "outputs": [],
   "source": [
    "#using dictionary comprehension\n",
    "a = {name: score for name, score in [('ilia', 54), ('hao', 64), ('arben', 75), ('mayy', 70), ('yin', 80), ('vinay', 69)]}\n",
    "print(a)"
   ]
  },
  {
   "cell_type": "code",
   "execution_count": null,
   "metadata": {},
   "outputs": [],
   "source": [
    "#dict comprehension\n",
    "import random\n",
    "names = 'hao ilia mayy arben yin narendra vinay'.split()\n",
    "\n",
    "b = { name : [random.randint(45,100) for _ in range(5)] for name in names}\n",
    "for (name, scores) in b.items():\n",
    "    print(f'{name:>8}: {scores}')"
   ]
  },
  {
   "cell_type": "code",
   "execution_count": null,
   "metadata": {},
   "outputs": [],
   "source": [
    "#from zip()\n",
    "a = dict(zip(['ilia', 'hao', 'arben', 'mayy', 'yin', 'vinay'], [54, 64, 75, 70, 80, 69]))\n",
    "print(a)"
   ]
  },
  {
   "cell_type": "code",
   "execution_count": null,
   "metadata": {},
   "outputs": [],
   "source": [
    "#using the fromkeys() method\n",
    "default_value = 50\n",
    "a = dict.fromkeys(['ilia', 'hao', 'arben', 'mayy', 'yin', 'vinay'], default_value)\n",
    "print(a)"
   ]
  },
  {
   "cell_type": "code",
   "execution_count": null,
   "metadata": {},
   "outputs": [],
   "source": [
    "#key can be any immutable type: int, string, tuple\n",
    "#of course the value can be anything!\n",
    "c = {1: 'one', 'two' : 2, (3,) : 'three', 4 : [0, 1, 2, 3]}\n",
    "print(c)\n",
    "for (key, val) in c.items():\n",
    "    print(f'{key}: {val}')"
   ]
  },
  {
   "cell_type": "markdown",
   "metadata": {},
   "source": [
    "### <a id=\"common_operation\"></a>Some common operation\n",
    "- using the len() function to obtain the number of pairs\n",
    "- using a key to read a value\n",
    "- using a key to set/update a value\n",
    "- using a key to delete a pair\n",
    "- Adding a new key-value pair\n",
    "- Adding multiple key-value pairs"
   ]
  },
  {
   "cell_type": "markdown",
   "metadata": {},
   "source": [
    "#### Using the len() function to obtain the size of a dictionary"
   ]
  },
  {
   "cell_type": "code",
   "execution_count": null,
   "metadata": {},
   "outputs": [],
   "source": [
    "a = {'ilia': 54, 'hao': 64, 'arben' : 75, 'mayy' : 70, 'yin' : 80, 'vinay' : 69}\n",
    "\n",
    "#accessing a value using a key\n",
    "print(f'There are {len(a)} pairs in the dictionary')"
   ]
  },
  {
   "cell_type": "markdown",
   "metadata": {},
   "source": [
    "#### Using a key to read or access a value"
   ]
  },
  {
   "cell_type": "code",
   "execution_count": null,
   "metadata": {},
   "outputs": [],
   "source": [
    "a = {'ilia': 54, 'hao': 64, 'arben' : 75, 'mayy' : 70, 'yin' : 80, 'vinay' : 69}\n",
    "\n",
    "#accessing a value using a key\n",
    "key = 'arben'\n",
    "print(f'the key \"{key}\" has the value {a[key]}')\n"
   ]
  },
  {
   "cell_type": "markdown",
   "metadata": {},
   "source": [
    "#### Check if a key exist"
   ]
  },
  {
   "cell_type": "code",
   "execution_count": 20,
   "metadata": {},
   "outputs": [
    {
     "name": "stdout",
     "output_type": "stream",
     "text": [
      "the key \"arben\" exists -> True\n",
      "the key \"narendra\" exists -> False\n"
     ]
    }
   ],
   "source": [
    "a = {'ilia': 54, 'hao': 64, 'arben' : 75, 'mayy' : 70, 'yin' : 80, 'vinay' : 69}\n",
    "\n",
    "key = 'arben'\n",
    "print(f'the key \"{key}\" exists -> {key in a}')\n",
    "\n",
    "key = 'narendra'\n",
    "print(f'the key \"{key}\" exists -> {key in a}')"
   ]
  },
  {
   "cell_type": "markdown",
   "metadata": {},
   "source": [
    "#### Using a key to set/update a value"
   ]
  },
  {
   "cell_type": "code",
   "execution_count": 21,
   "metadata": {},
   "outputs": [
    {
     "name": "stdout",
     "output_type": "stream",
     "text": [
      "before: 'arben' -> 75\n",
      " after: 'arben' -> 100\n"
     ]
    }
   ],
   "source": [
    "#setting a value using a key\n",
    "key = 'arben'\n",
    "print(f'before: \\'{key}\\' -> {a[key]}')\n",
    "\n",
    "value = 100\n",
    "a[key] = value                  # if the key does not exist, \n",
    "                                # a new key-value pair will be added to the dict\n",
    "print(f' after: \\'{key}\\' -> {a[key]}')"
   ]
  },
  {
   "cell_type": "markdown",
   "metadata": {},
   "source": [
    "#### Using a key to delete a pair"
   ]
  },
  {
   "cell_type": "code",
   "execution_count": 22,
   "metadata": {},
   "outputs": [
    {
     "name": "stdout",
     "output_type": "stream",
     "text": [
      "{'hao': 64, 'arben': 100, 'mayy': 70, 'yin': 80, 'vinay': 69}\n"
     ]
    }
   ],
   "source": [
    "#deleting a key-value pair using a key\n",
    "# executing this cell will raise an error, because in the second run, the key 'ilia' has been deleted\n",
    "# and the dictionary no longer contains it\n",
    "key = 'ilia'\n",
    "del a[key]\n",
    "print(a)"
   ]
  },
  {
   "cell_type": "code",
   "execution_count": null,
   "metadata": {},
   "outputs": [],
   "source": [
    "# adding a new key-value pair\n",
    "key = 'narendra'\n",
    "a[key] = 55   \n",
    "print(a)"
   ]
  },
  {
   "cell_type": "markdown",
   "metadata": {},
   "source": [
    "#### Adding multiple key-value pairs"
   ]
  },
  {
   "cell_type": "code",
   "execution_count": null,
   "metadata": {},
   "outputs": [],
   "source": [
    "a.update({'mehrdad' : 90, 'justin' : 45})\n",
    "print(a)"
   ]
  },
  {
   "cell_type": "markdown",
   "metadata": {},
   "source": [
    "### Accessing a value\n",
    "-   You may use the key to access a particular value\n",
    "-   A better way to access the value associated with a key is via the `get()` method"
   ]
  },
  {
   "cell_type": "code",
   "execution_count": null,
   "metadata": {},
   "outputs": [],
   "source": [
    "#using the key to access a value\n",
    "key = 'justin'\n",
    "print(f'{key} score is {a[key]}')\n",
    "\n",
    "# if the key does not exist, it will raise a KeyError\n",
    "# so it is better to use the get() method\n",
    "key = 'justine'\n",
    "print(f'{key} score is {a.get(key, 0)}')    #if the key does not exist, then the argument is returned\n"
   ]
  },
  {
   "cell_type": "markdown",
   "metadata": {},
   "source": [
    "#### Printing all the keys"
   ]
  },
  {
   "cell_type": "code",
   "execution_count": 23,
   "metadata": {},
   "outputs": [
    {
     "name": "stdout",
     "output_type": "stream",
     "text": [
      "hao arben mayy yin vinay "
     ]
    }
   ],
   "source": [
    "for k in a.keys():\n",
    "    print(k, end=' ')"
   ]
  },
  {
   "cell_type": "markdown",
   "metadata": {},
   "source": [
    "#### Printing all the values"
   ]
  },
  {
   "cell_type": "code",
   "execution_count": 24,
   "metadata": {},
   "outputs": [
    {
     "name": "stdout",
     "output_type": "stream",
     "text": [
      "64 100 70 80 69 "
     ]
    }
   ],
   "source": [
    "for val in a.values():\n",
    "    print(val, end=' ')"
   ]
  },
  {
   "cell_type": "markdown",
   "metadata": {},
   "source": [
    "#### Iteration the dict\n",
    "Printing both the keys and the values"
   ]
  },
  {
   "cell_type": "code",
   "execution_count": 25,
   "metadata": {},
   "outputs": [
    {
     "name": "stdout",
     "output_type": "stream",
     "text": [
      "method 1\n",
      "     hao: 64\n",
      "   arben: 100\n",
      "    mayy: 70\n",
      "     yin: 80\n",
      "   vinay: 69\n",
      "\n",
      "method 2\n",
      "     hao: 64\n",
      "   arben: 100\n",
      "    mayy: 70\n",
      "     yin: 80\n",
      "   vinay: 69\n"
     ]
    }
   ],
   "source": [
    "print('method 1')\n",
    "for (name, score) in a.items():\n",
    "    print(f'{name:>8}: {score}')\n",
    "\n",
    "#method 2\n",
    "print('\\nmethod 2')\n",
    "for key in a:\n",
    "    print(f'{key:>8}: {a[key]}')"
   ]
  },
  {
   "cell_type": "markdown",
   "metadata": {},
   "source": [
    "### Nested dictionary\n",
    "You can store dictionaries inside dictionaries\n"
   ]
  },
  {
   "cell_type": "code",
   "execution_count": null,
   "metadata": {},
   "outputs": [
    {
     "name": "stdout",
     "output_type": "stream",
     "text": [
      "{'scores': [85, 92, 78], 'grade': 'A', 'attendance': 95}\n",
      "[85, 92, 78]\n",
      "85\n"
     ]
    }
   ],
   "source": [
    "students = {\n",
    "    'hao': {\n",
    "        'scores': [85, 92, 78],\n",
    "        'grade': 'A',\n",
    "        'attendance': 95\n",
    "    },\n",
    "    'ilia': {\n",
    "        'scores': [76, 88, 92],\n",
    "        'grade': 'B+',\n",
    "        'attendance': 88\n",
    "    },\n",
    "    'mayy': {\n",
    "        'scores': [92, 95, 98],\n",
    "        'grade': 'A+',\n",
    "        'attendance': 100\n",
    "    }\n",
    "}\n",
    "print(students['hao'])              # Output: {'scores': [85, 92, 78], 'grade': 'A', 'attendance': 95}\n",
    "print(students['hao']['scores'])    # Output: [85, 92, 78]\n",
    "print(students['hao']['scores'][0]) # Output: 85"
   ]
  },
  {
   "cell_type": "markdown",
   "metadata": {},
   "source": [
    "\n",
    "### <a id=\"summary\"></a>Summary\n",
    "-   A dictionary is a flexible, efficient way to store and access key-value pairs.\n",
    "-   A dictionary maps unique keys to values.\n",
    "-   Keys must be hashable; values can be any type.\n",
    "-   Common operations: access with key, get(), update(), pop(), del.\n",
    "-   Great for fast lookups, structured data, and mapping relationships.\n",
    "- "
   ]
  }
 ],
 "metadata": {
  "kernelspec": {
   "display_name": "Python 3",
   "language": "python",
   "name": "python3"
  },
  "language_info": {
   "codemirror_mode": {
    "name": "ipython",
    "version": 3
   },
   "file_extension": ".py",
   "mimetype": "text/x-python",
   "name": "python",
   "nbconvert_exporter": "python",
   "pygments_lexer": "ipython3",
   "version": "3.13.2"
  }
 },
 "nbformat": 4,
 "nbformat_minor": 2
}
