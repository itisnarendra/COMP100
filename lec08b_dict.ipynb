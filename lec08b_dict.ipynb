{
 "cells": [
  {
   "cell_type": "markdown",
   "metadata": {},
   "source": [
    "# Dictionary\n",
    "A python dict is an unordered collection of key-value pairs. The key can be any non-mutable hashable object (tuples, strings and numbers\n",
    " can be key but a list may not!) and must be unique. The value can be anything\n",
    "\n",
    "Contents:\n",
    "1.  [Creating a dictionary](#creation)\n",
    "    -   Simple assignment\n",
    "    -   Constructors\n",
    "    -   List of Tuples\n",
    "    -   From two sequences using zip()\n",
    "    -   Using dictionary comprehension\n",
    "1.  [Common Operations](#common_operation)\n",
    "    -   using len() to obtain the number of pairs\n",
    "    -   using key to read a value\n",
    "    -   using key to set a value\n",
    "    -   adding a pair\n",
    "    -   removing a pair\n",
    "    -   printing all the keys\n",
    "    -   printing all the values\n",
    "1.  [More dict methods](#methods)\n",
    "1.  [Summary](#summary)"
   ]
  },
  {
   "cell_type": "markdown",
   "metadata": {},
   "source": [
    "### 1. <a id=creation></a>Creating a dict\n",
    "1. Via a literal assignment\n",
    "1. Using the dict constructor\n",
    "1. Using a list of tuples\n",
    "1. Using the zip() function\n",
    "1. Using dictionary comprehension (advanced)\n"
   ]
  },
  {
   "cell_type": "code",
   "execution_count": null,
   "metadata": {},
   "outputs": [
    {
     "name": "stdout",
     "output_type": "stream",
     "text": [
      "{'ilia': 54, 'hao': 64, 'arben': 75, 'mayy': 70, 'yin': 80, 'vinay': 69}\n"
     ]
    }
   ],
   "source": [
    "# via literal assignment\n",
    "# assignment using  curly braces\n",
    "# this is the simplest way to create a dictionary in python. \n",
    "# You can use curly braces `{}` and separate key-value pairs with a colon `:`.   \n",
    "a = {'ilia': 54, 'hao': 64, 'arben' : 75, 'mayy' : 70, 'yin' : 80, 'vinay' : 69}\n",
    "\n",
    "# you can display the dictionary, via the print function\n",
    "print(a)\n",
    "\n"
   ]
  },
  {
   "cell_type": "markdown",
   "metadata": {},
   "source": [
    "#### using the dict constructor, this creates an empty dictionary"
   ]
  },
  {
   "cell_type": "code",
   "execution_count": null,
   "metadata": {},
   "outputs": [
    {
     "name": "stdout",
     "output_type": "stream",
     "text": [
      "{}\n"
     ]
    }
   ],
   "source": [
    "# creating an empty dictionary\n",
    "a = dict()\n",
    "print(a)"
   ]
  },
  {
   "cell_type": "code",
   "execution_count": 1,
   "metadata": {},
   "outputs": [
    {
     "name": "stdout",
     "output_type": "stream",
     "text": [
      "{'ilia': 54, 'hao': 64, 'arben': 75, 'mayy': 70, 'yin': 80, 'vinay': 69}\n"
     ]
    }
   ],
   "source": [
    "#from keyword arguments\n",
    "a = dict(ilia=54, hao=64, arben=75, mayy=70, yin=80, vinay=69)\n",
    "print(a)"
   ]
  },
  {
   "cell_type": "code",
   "execution_count": 2,
   "metadata": {},
   "outputs": [
    {
     "name": "stdout",
     "output_type": "stream",
     "text": [
      "{'ilia': 54, 'hao': 64, 'arben': 75, 'mayy': 70, 'yin': 80, 'vinay': 69}\n"
     ]
    }
   ],
   "source": [
    "#from a list of tuples\n",
    "a = dict([('ilia', 54), ('hao', 64), ('arben', 75), ('mayy', 70), ('yin', 80), ('vinay', 69)])\n",
    "print(a)"
   ]
  },
  {
   "cell_type": "code",
   "execution_count": 39,
   "metadata": {},
   "outputs": [
    {
     "name": "stdout",
     "output_type": "stream",
     "text": [
      "{'ilia': 54, 'hao': 64, 'arben': 75, 'mayy': 70, 'yin': 80, 'vinay': 69}\n"
     ]
    }
   ],
   "source": [
    "#using dictionary comprehension\n",
    "a = {name: score for name, score in [('ilia', 54), ('hao', 64), ('arben', 75), ('mayy', 70), ('yin', 80), ('vinay', 69)]}\n",
    "print(a)"
   ]
  },
  {
   "cell_type": "code",
   "execution_count": 40,
   "metadata": {},
   "outputs": [
    {
     "name": "stdout",
     "output_type": "stream",
     "text": [
      "{'ilia': 54, 'hao': 64, 'arben': 75, 'mayy': 70, 'yin': 80, 'vinay': 69}\n"
     ]
    }
   ],
   "source": [
    "#from zip()\n",
    "a = dict(zip(['ilia', 'hao', 'arben', 'mayy', 'yin', 'vinay'], [54, 64, 75, 70, 80, 69]))\n",
    "print(a)"
   ]
  },
  {
   "cell_type": "code",
   "execution_count": 3,
   "metadata": {},
   "outputs": [
    {
     "name": "stdout",
     "output_type": "stream",
     "text": [
      "{'ilia': 50, 'hao': 50, 'arben': 50, 'mayy': 50, 'yin': 50, 'vinay': 50}\n"
     ]
    }
   ],
   "source": [
    "#using the fromkeys() method\n",
    "default_value = 50\n",
    "a = dict.fromkeys(['ilia', 'hao', 'arben', 'mayy', 'yin', 'vinay'], default_value)\n",
    "print(a)"
   ]
  },
  {
   "cell_type": "code",
   "execution_count": null,
   "metadata": {},
   "outputs": [],
   "source": [
    "#key can be any immutable type: int, string, tuple\n",
    "#of course the value can be anything!\n",
    "c = {1: 'one', 'two' : 2, (3,) : 'three', 4 : [0, 1, 2, 3]}\n",
    "print(c)\n",
    "for (key, val) in c.items():\n",
    "    print(f'{key}: {val}')"
   ]
  },
  {
   "cell_type": "markdown",
   "metadata": {},
   "source": [
    "### <a id=\"common_operation\"></a>Some common operation\n",
    "- using the len() function to obtain the number of pairs\n",
    "- using a key to read a value\n",
    "- using a key to set/update a value\n",
    "- using a key to delete a pair\n",
    "- Adding a new key-value pair\n",
    "- Adding multiple key-value pairs"
   ]
  },
  {
   "cell_type": "markdown",
   "metadata": {},
   "source": [
    "#### Using the len() function to obtain the size of a dictionary"
   ]
  },
  {
   "cell_type": "code",
   "execution_count": null,
   "metadata": {},
   "outputs": [
    {
     "name": "stdout",
     "output_type": "stream",
     "text": [
      "There are 6 pairs in the dictionary\n"
     ]
    }
   ],
   "source": [
    "a = {'ilia': 54, 'hao': 64, 'arben' : 75, 'mayy' : 70, 'yin' : 80, 'vinay' : 69}\n",
    "\n",
    "#accessing a value using a key\n",
    "print(f'There are {len(a)} pairs in the dictionary')"
   ]
  },
  {
   "cell_type": "markdown",
   "metadata": {},
   "source": [
    "#### Using a key to read or access a value"
   ]
  },
  {
   "cell_type": "code",
   "execution_count": 9,
   "metadata": {},
   "outputs": [
    {
     "name": "stdout",
     "output_type": "stream",
     "text": [
      "the key \"arben\" has the value 75\n"
     ]
    }
   ],
   "source": [
    "a = {'ilia': 54, 'hao': 64, 'arben' : 75, 'mayy' : 70, 'yin' : 80, 'vinay' : 69}\n",
    "\n",
    "#accessing a value using a key\n",
    "key = 'arben'\n",
    "print(f'the key \"{key}\" has the value {a[key]}')\n"
   ]
  },
  {
   "cell_type": "markdown",
   "metadata": {},
   "source": [
    "#### Using a key to set/update a value"
   ]
  },
  {
   "cell_type": "code",
   "execution_count": null,
   "metadata": {},
   "outputs": [
    {
     "name": "stdout",
     "output_type": "stream",
     "text": [
      "the key \"arben\" has the value 100\n"
     ]
    }
   ],
   "source": [
    "#setting a value using a key\n",
    "key = 'arben'\n",
    "value = 100\n",
    "a[key] = value                  # if the key does not exist, \n",
    "                                # a new key-value pair will be added to the dict\n",
    "print(f'the key \"{key}\" has the value {a[key]}')"
   ]
  },
  {
   "cell_type": "markdown",
   "metadata": {},
   "source": [
    "#### Using a key to delete a pair"
   ]
  },
  {
   "cell_type": "code",
   "execution_count": 7,
   "metadata": {},
   "outputs": [
    {
     "name": "stdout",
     "output_type": "stream",
     "text": [
      "{'hao': 64, 'arben': 100, 'mayy': 70, 'yin': 80, 'vinay': 69}\n"
     ]
    }
   ],
   "source": [
    "#deleting a key-value pair using a key\n",
    "# executing this cell will raise an error, because in the second run, the key 'ilia' has been deleted\n",
    "# and the dictionary no longer contains it\n",
    "key = 'ilia'\n",
    "del a[key]\n",
    "print(a)"
   ]
  },
  {
   "cell_type": "code",
   "execution_count": 8,
   "metadata": {},
   "outputs": [
    {
     "name": "stdout",
     "output_type": "stream",
     "text": [
      "{'hao': 64, 'arben': 100, 'mayy': 70, 'yin': 80, 'vinay': 69, 'narendra': 55}\n"
     ]
    }
   ],
   "source": [
    "# adding a new key-value pair\n",
    "key = 'narendra'\n",
    "a[key] = 55   \n",
    "print(a)"
   ]
  },
  {
   "cell_type": "markdown",
   "metadata": {},
   "source": [
    "#### Adding multiple key-value pairs"
   ]
  },
  {
   "cell_type": "code",
   "execution_count": 48,
   "metadata": {},
   "outputs": [
    {
     "name": "stdout",
     "output_type": "stream",
     "text": [
      "{'hao': 64, 'arben': 100, 'mayy': 70, 'yin': 80, 'vinay': 69, 'narendra': 55, 'mehrdad': 90, 'justin': 45}\n"
     ]
    }
   ],
   "source": [
    "a.update({'mehrdad' : 90, 'justin' : 45})\n",
    "print(a)"
   ]
  },
  {
   "cell_type": "markdown",
   "metadata": {},
   "source": [
    "### Accessing a value\n",
    "-   You may use the key to access a particular value\n",
    "-   A better way to access the value associated with a key is via the `get()` method"
   ]
  },
  {
   "cell_type": "code",
   "execution_count": null,
   "metadata": {},
   "outputs": [
    {
     "name": "stdout",
     "output_type": "stream",
     "text": [
      "justin score is 45\n",
      "justine score is 0\n"
     ]
    }
   ],
   "source": [
    "#using the key to access a value\n",
    "key = 'justin'\n",
    "print(f'{key} score is {a[key]}')\n",
    "\n",
    "# if the key does not exist, it will raise a KeyError\n",
    "# so it is better to use the get() method\n",
    "key = 'justine'\n",
    "print(f'{key} score is {a.get(key, 0)}')    #if the key does not exist, then the argument is returned\n"
   ]
  },
  {
   "cell_type": "markdown",
   "metadata": {},
   "source": [
    "#### Printing all the keys"
   ]
  },
  {
   "cell_type": "code",
   "execution_count": 4,
   "metadata": {},
   "outputs": [
    {
     "name": "stdout",
     "output_type": "stream",
     "text": [
      "ilia hao arben mayy yin vinay "
     ]
    }
   ],
   "source": [
    "for k in a.keys():\n",
    "    print(k, end=' ')"
   ]
  },
  {
   "cell_type": "markdown",
   "metadata": {},
   "source": [
    "#### Printing all the values"
   ]
  },
  {
   "cell_type": "code",
   "execution_count": 5,
   "metadata": {},
   "outputs": [
    {
     "name": "stdout",
     "output_type": "stream",
     "text": [
      "50 50 50 50 50 50 "
     ]
    }
   ],
   "source": [
    "for val in a.values():\n",
    "    print(val, end=' ')"
   ]
  },
  {
   "cell_type": "markdown",
   "metadata": {},
   "source": [
    "#### Iteration the dict\n",
    "Printing both the keys and the values"
   ]
  },
  {
   "cell_type": "code",
   "execution_count": 13,
   "metadata": {},
   "outputs": [
    {
     "name": "stdout",
     "output_type": "stream",
     "text": [
      "method 1\n",
      "    ilia: 54\n",
      "     hao: 64\n",
      "   arben: 75\n",
      "    mayy: 70\n",
      "     yin: 80\n",
      "   vinay: 69\n",
      "\n",
      "method 2\n",
      "    ilia: 54\n",
      "     hao: 64\n",
      "   arben: 75\n",
      "    mayy: 70\n",
      "     yin: 80\n",
      "   vinay: 69\n"
     ]
    }
   ],
   "source": [
    "print('method 1')\n",
    "for (name, score) in a.items():\n",
    "    print(f'{name:>8}: {score}')\n",
    "\n",
    "#method 2\n",
    "print('\\nmethod 2')\n",
    "for key in a:\n",
    "    print(f'{key:>8}: {a[key]}')"
   ]
  },
  {
   "cell_type": "markdown",
   "metadata": {},
   "source": [
    "#### Dictionary comprehension"
   ]
  },
  {
   "cell_type": "code",
   "execution_count": 14,
   "metadata": {},
   "outputs": [
    {
     "name": "stdout",
     "output_type": "stream",
     "text": [
      "     hao: [98, 90, 45, 70, 60]\n",
      "    ilia: [59, 96, 58, 53, 70]\n",
      "    mayy: [80, 100, 94, 82, 89]\n",
      "   arben: [86, 84, 52, 76, 68]\n",
      "     yin: [45, 54, 50, 56, 72]\n",
      "narendra: [53, 51, 81, 61, 66]\n",
      "   vinay: [76, 48, 78, 76, 57]\n"
     ]
    }
   ],
   "source": [
    "#dict comprehension\n",
    "import random\n",
    "names = 'hao ilia mayy arben yin narendra vinay'.split()\n",
    "\n",
    "b = { name : [random.randint(45,100) for _ in range(5)] for name in names}\n",
    "for (name, scores) in b.items():\n",
    "    print(f'{name:>8}: {scores}')"
   ]
  },
  {
   "cell_type": "code",
   "execution_count": null,
   "metadata": {},
   "outputs": [
    {
     "name": "stdout",
     "output_type": "stream",
     "text": [
      "{1: 'one', 'two': 2, (3,): 'three', 4: [0, 1, 2, 3]}\n",
      "1: one\n",
      "two: 2\n",
      "(3,): three\n",
      "4: [0, 1, 2, 3]\n"
     ]
    }
   ],
   "source": []
  },
  {
   "cell_type": "code",
   "execution_count": null,
   "metadata": {},
   "outputs": [],
   "source": []
  },
  {
   "cell_type": "markdown",
   "metadata": {},
   "source": [
    "### Nested dictionary\n",
    "\n"
   ]
  },
  {
   "cell_type": "markdown",
   "metadata": {},
   "source": [
    "### <a id=\"summary\"></a>Summary\n",
    "- \n",
    "- \n",
    "- \n",
    "- \n",
    "- \n",
    "- "
   ]
  }
 ],
 "metadata": {
  "kernelspec": {
   "display_name": "Python 3",
   "language": "python",
   "name": "python3"
  },
  "language_info": {
   "codemirror_mode": {
    "name": "ipython",
    "version": 3
   },
   "file_extension": ".py",
   "mimetype": "text/x-python",
   "name": "python",
   "nbconvert_exporter": "python",
   "pygments_lexer": "ipython3",
   "version": "3.13.2"
  }
 },
 "nbformat": 4,
 "nbformat_minor": 2
}
