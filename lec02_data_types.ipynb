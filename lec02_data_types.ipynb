{
  "cells": [
    {
      "cell_type": "markdown",
      "metadata": {},
      "source": [
        "In this notebook we will explore Python built-in data types, we will look at the literals of these types and investigate the operation that can be performed on them."
      ]
    },
    {
      "cell_type": "markdown",
      "metadata": {
        "id": "RsUf1dXrhvBH"
      },
      "source": [
        "# **Introduction to Python Data Types**\n",
        "\n",
        "Everything in Python is an object.  \n",
        "You may use the following url to [visualize](http://pythontutor.com/visualize.html#mode=display) your code\n",
        "\n",
        "## What are Data Types?\n",
        "In programming, a data type is a classification that specifies:\n",
        "- What kinds of value a variable can hold\n",
        "- What operation can be preformed on it\n",
        "\n",
        "\n",
        "You can infer the type of a literal by inspection: \n",
        "\n",
        "    - str: anything enclosed by single, double or triple quotation\n",
        "    - int: series of digits\n",
        "    - float: series of digits with a period\n",
        "    - bool: True or False\n",
        "\n",
        "\n",
        "## Python built-in data types\n",
        "1. [None](#none)\n",
        "2. [Numbers](#number)\n",
        "   1. Integer (`int`)\n",
        "   2. Float (`float`)\n",
        "   3. Complex (`complex`) (info only)\n",
        "   4. Boolean (`bool`)\n",
        "   5. Fraction (info only) Available via an explicit import\n",
        "   6. Decimal (info only)  Available via an explicit import\n",
        "3. [Sequences](#sequence)\n",
        "   1. List (`list`) - Mutable, ordered and indexable. (heavily used)\n",
        "   2. String (`str`)\n",
        "   3. Tuples (`tuple`) - Immutable, ordered and indexable\n",
        "4. [Sets](#set)\n",
        "   1. Set (`set`) Mutable, unordered and not indexable. No duplicates.\n",
        "5. [Mappings](#mapping)\n",
        "   1. Dictionary (`dict`) - Mutable and ordered. (heavily used)\n",
        "\n",
        "6. [Enum](#enum)  (info only) Available via an explicit import\n",
        "\n",
        "## Checking Data Types\n",
        "\n",
        "## Summary\n",
        "\n"
      ]
    },
    {
      "cell_type": "markdown",
      "metadata": {},
      "source": [
        "### 1. <a id=\"none\"></a>None\n",
        "Is used to define a null value, or no value at all. It is not the same as 0, `False`, or an empty string.  \n",
        "Comparing `None` to anything except `None` will return `False`.  \n",
        "Probably similar to the c# `null` value.\n",
        "\n",
        "N.B. In this course you will use f-strings in your output. Placeholders will not be tolerated."
      ]
    },
    {
      "cell_type": "code",
      "execution_count": 1,
      "metadata": {},
      "outputs": [
        {
          "name": "stdout",
          "output_type": "stream",
          "text": [
            "type of None  => <class 'NoneType'>\n",
            "None == False => False\n",
            "None == True  => False\n",
            "None == 0     => False\n",
            "None == ''    => False\n",
            "None == None  => True\n"
          ]
        }
      ],
      "source": [
        "a = None\n",
        "print(f'type of {a}  => {type(a)}')\n",
        "\n",
        "value = False\n",
        "print(f'{a} == {value} => {a == value}')      #False\n",
        "\n",
        "value = True\n",
        "print(f'{a} == {value}  => {a == value}')     #False\n",
        "\n",
        "value = 0\n",
        "print(f'{a} == {value}     => {a == value}')     #False\n",
        "\n",
        "value = ''\n",
        "print(f\"{a} == '{value}'    => {a == value}\") #False\n",
        "\n",
        "value = None\n",
        "print(f'{a} == {value}  => {a == value}')     #True\n"
      ]
    },
    {
      "cell_type": "markdown",
      "metadata": {},
      "source": [
        "### 2. <a id=\"number\"></a>Numbers\n",
        "Numbers are immutable. Same as string in C#.  \n",
        "\n",
        "*Why do we say that numbers are immutable?*  \n",
        "When you perform an operation on a number, the result is computed and stored in a new location but accessed with the same variable. The value at the original location remains the same.  \n",
        "\n",
        "Python has four built-in number types and two other accessible via imports:\n",
        "1. [Integers](#integer)\n",
        "\n",
        "2. [Floats](#float)   \n",
        "\n",
        "3. [Complex numbers](#complex)\n",
        "\n",
        "4. [Booleans](#boolean)\n",
        "\n",
        "5. [Fractions](#fraction) via import fraction\n",
        "\n",
        "6. [Decimals](#decimal) via import decimal\n"
      ]
    },
    {
      "cell_type": "markdown",
      "metadata": {},
      "source": [
        "### 2.1 <a id=\"integer\"></a>Integers\n",
        "\n",
        "C# has:\n",
        "- 8-bits such as sbyte and byte  \n",
        "- 16-bts such as short and ushort  \n",
        "- 32-bits such as int and uint  \n",
        "- 64-bits such as long and ulong  \n",
        "\n",
        "In Python there is only one size of integer.    \n",
        "Integers are limited only by the available memory of the computer.  "
      ]
    },
    {
      "cell_type": "code",
      "execution_count": 2,
      "metadata": {},
      "outputs": [
        {
          "name": "stdout",
          "output_type": "stream",
          "text": [
            "<class 'int'>\n",
            "11\n",
            "11\n",
            "11\n",
            "11\n",
            "1100000\n",
            "1197\n",
            "1,100,000\n"
          ]
        }
      ],
      "source": [
        "# Integer Literals\n",
        "# Python supports decimal, binary, octal, and hexadecimal integer literals.\n",
        "\n",
        "#decimal literal\n",
        "a = 11\n",
        "print(type(a))\n",
        "print(a)\n",
        "\n",
        "#binary literal\n",
        "b = 0b1011\n",
        "print(b)\n",
        "\n",
        "#octal literal\n",
        "c = 0o13\n",
        "print(c)\n",
        "\n",
        "#hexadecimal\n",
        "d = 0xb\n",
        "print(d)\n",
        "\n",
        "#Like C#, python allows underscores to make\n",
        "#number literals more readable\n",
        "e = 1_100_000\n",
        "print(e)\n",
        "f = 0x_4_ad\n",
        "print(f)\n",
        "\n",
        "#Like C#, you may also use format specifier for a number literal\n",
        "print(f'{e:,}')"
      ]
    },
    {
      "cell_type": "code",
      "execution_count": 3,
      "metadata": {},
      "outputs": [
        {
          "name": "stdout",
          "output_type": "stream",
          "text": [
            "140713129739464\n",
            "11\n",
            "140713129739496\n"
          ]
        }
      ],
      "source": [
        "#demonstrate immutability of numbers\n",
        "micheal = 10\n",
        "print(id(micheal))\n",
        "micheal = micheal + 1   #new variable is created with the same name\n",
        "print(micheal)\n",
        "print(id(micheal))"
      ]
    },
    {
      "cell_type": "markdown",
      "metadata": {},
      "source": [
        "### 2.2 <a id=\"float\"></a>Float\n",
        "C# has  \n",
        "- 32-bits float\n",
        "- 64-bits double\n",
        "\n",
        "Python's float has unlimited precision  "
      ]
    },
    {
      "cell_type": "code",
      "execution_count": 4,
      "metadata": {},
      "outputs": [
        {
          "name": "stdout",
          "output_type": "stream",
          "text": [
            "<class 'float'>\n",
            "3.1428\n",
            "23000000000.0\n",
            "5.3e-10\n"
          ]
        }
      ],
      "source": [
        "#some float literals\n",
        "a = 3.1428\n",
        "print(type(a))\n",
        "print(a)        #3.12428\n",
        "b = 10.\n",
        "c = .001\n",
        "\n",
        "#using exponent notation\n",
        "d = 2.3e10\n",
        "print(d)\n",
        "\n",
        "e = 5.3e-10\n",
        "print(e)\n"
      ]
    },
    {
      "cell_type": "markdown",
      "metadata": {},
      "source": [
        "### 2.3 <a id=\"complex\"></a>Complex number\n",
        "Simlar to the mathematical concept of complex number\n",
        "\n",
        "There is a real and an imaginary part"
      ]
    },
    {
      "cell_type": "code",
      "execution_count": 5,
      "metadata": {},
      "outputs": [
        {
          "name": "stdout",
          "output_type": "stream",
          "text": [
            "<class 'complex'>\n",
            "2j\n",
            "(2+3.14j)\n",
            "(2.178-4j)\n",
            "2.15e+100j\n",
            "0.00125j\n"
          ]
        }
      ],
      "source": [
        "#a complex MUST have atleast an imaginary part\n",
        "a = 2j\n",
        "print(type(a))\n",
        "print(a)\n",
        "\n",
        "b = 2+ 3.14j\n",
        "print(b)\n",
        "\n",
        "c = 2.178 - 4j\n",
        "print(c)\n",
        "\n",
        "#you may have an imaginary exponent\n",
        "d = 2.15e100j\n",
        "print(d)\n",
        "\n",
        "e = 1.25e-3j\n",
        "print(e)\n"
      ]
    },
    {
      "cell_type": "markdown",
      "metadata": {},
      "source": [
        "#### Arithmetic operations\n",
        "Any arithmetic operations (`+`, `-`, `*`, `/`, `//`, `**`, `%`) between any two numeric types is supported\n",
        "\n",
        "##### ints, floats, bool and complex"
      ]
    },
    {
      "cell_type": "code",
      "execution_count": 6,
      "metadata": {},
      "outputs": [
        {
          "name": "stdout",
          "output_type": "stream",
          "text": [
            "4\n",
            "-2\n",
            "3\n",
            "0\n",
            "8\n",
            "1\n",
            "2\n",
            "1\n",
            "0\n",
            "1\n",
            "1\n",
            "0\n",
            "0\n"
          ]
        }
      ],
      "source": [
        "# any arithmetic operation between two ints will result in an int\n",
        "a = 1 + 3    \n",
        "print(a)\n",
        "a = 1 - 3       \n",
        "print(a)\n",
        "a = 1 * 3\n",
        "print(a)\n",
        "a = 1 // 3\n",
        "print(a)\n",
        "a = 2 ** 3\n",
        "print(a)\n",
        "a = 10 % 3\n",
        "print(a)\n",
        "\n",
        "# any arithmetic operation between an int and a  bool will result in an int\n",
        "a = 1 + True            # True is 1\n",
        "print(a)\n",
        "a = 1 - False           # False is 0   \n",
        "print(a)\n",
        "a = 3 * False            # True is 1\n",
        "print(a)\n",
        "a = 3 // True          \n",
        "\n",
        "# any arithmetic operation between two bools in an int\n",
        "a = True + False\n",
        "print(a)\n",
        "a = True - False\n",
        "print(a)\n",
        "a = True * False\n",
        "print(a)\n",
        "a = False // True\n",
        "print(a)"
      ]
    },
    {
      "cell_type": "code",
      "execution_count": null,
      "metadata": {},
      "outputs": [
        {
          "name": "stdout",
          "output_type": "stream",
          "text": [
            "4.0\n",
            "-2.0\n",
            "4.0\n",
            "-2.0\n",
            "2.0\n",
            "1.0\n"
          ]
        }
      ],
      "source": [
        "# Any arithmetic operation between two floats will result in a float\n",
        "a = 1.0 + 3.0    \n",
        "print(a)\n",
        "a = 1.0 - 3.0       \n",
        "print(a)\n",
        "\n",
        "\n",
        "\n",
        "# Any arithmetic operation between a float and an int will result in a float\n",
        "a = 1 + 3.0     \n",
        "print(a)    \n",
        "a = 1 - 3.0       \n",
        "print(a)\n",
        "\n",
        "\n",
        "# Any arithmetic operation between a float and a bool will result in a float\n",
        "a = 1.0 + True            # True is 1\n",
        "print(a)\n",
        "a = 5.0 ** False\n",
        "print(a)  \n",
        "\n"
      ]
    },
    {
      "cell_type": "code",
      "execution_count": null,
      "metadata": {},
      "outputs": [
        {
          "name": "stdout",
          "output_type": "stream",
          "text": [
            "4j\n",
            "(2+0j)\n",
            "1j\n",
            "(1+3j)\n",
            "(1+3j)\n"
          ]
        }
      ],
      "source": [
        "# Any arithmetic operation between two complex will result in a complex\n",
        "a = 1j + 3j      \n",
        "print(a)\n",
        "a = (1+1j) * (1-1j)\n",
        "print(a)\n",
        "a = (1+1j) / (1-1j)\n",
        "print(a)\n",
        "\n",
        "\n",
        "# Any arithmetic operation between a complex and an int will result in a complex\n",
        "a = 1 + 3j       \n",
        "print(a)\n",
        "\n",
        "# Any arithmetic operation between a complex and a float will result in a complex\n",
        "a = 1.0 + 3j      \n",
        "print(a)\n",
        "\n",
        "# Any arithmetic operation between a complex and a bool will result in a complex\n"
      ]
    },
    {
      "cell_type": "code",
      "execution_count": 9,
      "metadata": {},
      "outputs": [
        {
          "name": "stdout",
          "output_type": "stream",
          "text": [
            "5.0 -> <class 'float'>\n",
            "3 -> <class 'int'>\n",
            "<class 'complex'>\n",
            "11 ** 2 -> 121\n",
            "25 ** 0.5 -> 5.0\n",
            "64 ** (1/3) -> 3.9999999999999996\n",
            "81 ** 0.25 -> 3.0\n",
            "25 % 3 -> 1\n",
            "6.13 % 3 -> 0.1299999999999999\n",
            "25 % 4.1 -> 0.40000000000000213\n"
          ]
        }
      ],
      "source": [
        "\n",
        "a = 10 / 2          #division always give a float\n",
        "print(f'{a} -> {type(a)}')\n",
        "\n",
        "a = 10 // 3         #integer division\n",
        "print(f'{a} -> {type(a)}')\n",
        "\n",
        "a = 10 * 2j         #multiplication\n",
        "print(type(a))\n",
        "\n",
        "a = '11 ** 2'        #this is the exponentiation operator\n",
        "print(f'{a} -> {eval(a)}')\n",
        "\n",
        "a = '25 ** 0.5'      #square root\n",
        "print(f'{a} -> {eval(a)}')\n",
        "\n",
        "\n",
        "a = '64 ** (1/3)'    #cube root\n",
        "print(f'{a} -> {eval(a)}')\n",
        "\n",
        "a = '81 ** 0.25'     #fourth root\n",
        "print(f'{a} -> {eval(a)}')\n",
        "\n",
        "a = '25 % 3'         #modulus operator\n",
        "print(f'{a} -> {eval(a)}')\n",
        "\n",
        "a = '6.13 % 3'       #is not 0.13 because of floating point representation\n",
        "print(f'{a} -> {eval(a)}')\n",
        "\n",
        "a = '25 % 4.1'\n",
        "print(f'{a} -> {eval(a)}')"
      ]
    },
    {
      "cell_type": "markdown",
      "metadata": {},
      "source": [
        "### 2.4 <a id=\"boolean\"></a>Booleans\n",
        "There are only two possible literal value: **True** or **False**\n",
        "\n",
        "However any python object can be tested for truth value. All of the following will be considered False:\n",
        "\n",
        "  * None\n",
        "  * False\n",
        "  * Any zero numeric e.g. 0, 0.0, 0j\n",
        "  * Any empty sequence e.g. '', {}, []\n",
        "\n",
        "Everything else will be considered **True**"
      ]
    },
    {
      "cell_type": "code",
      "execution_count": 10,
      "metadata": {},
      "outputs": [
        {
          "name": "stdout",
          "output_type": "stream",
          "text": [
            "None -> <class 'NoneType'>\n",
            "None -> False\n",
            "0 -> False\n",
            "1 -> True\n",
            "0.0 -> False\n",
            "3.14 -> True\n",
            " -> False\n",
            "Hello -> True\n",
            "[] -> False\n",
            "[2, 3] -> True\n",
            "{} -> False\n",
            "{1: 'narendra', 2: 'pershad'} -> True\n",
            "() -> False\n",
            "(4, 'comp216') -> True\n",
            "10 + True -> 11\n"
          ]
        }
      ],
      "source": [
        "a = None\n",
        "print(f'{a} -> {type(a)}')\n",
        "print(f'{a} -> {bool(a)}')\n",
        "\n",
        "a = 0\n",
        "print(f'{a} -> {bool(a)}')\n",
        "\n",
        "a = 1\n",
        "print(f'{a} -> {bool(a)}')\n",
        "\n",
        "a = 0.\n",
        "print(f'{a} -> {bool(a)}')\n",
        "\n",
        "a = 3.14\n",
        "print(f'{a} -> {bool(a)}')\n",
        "\n",
        "a = ''\n",
        "print(f'{a} -> {bool(a)}')\n",
        "\n",
        "a = 'Hello'\n",
        "print(f'{a} -> {bool(a)}')\n",
        "\n",
        "a = []\n",
        "print(f'{a} -> {bool(a)}')\n",
        "\n",
        "a = [2, 3]\n",
        "print(f'{a} -> {bool(a)}')\n",
        "\n",
        "a = {}\n",
        "print(f'{a} -> {bool(a)}')\n",
        "\n",
        "a = {1: 'narendra', 2: 'pershad'}\n",
        "print(f'{a} -> {bool(a)}')\n",
        "\n",
        "a = ()\n",
        "print(f'{a} -> {bool(a)}')\n",
        "\n",
        "a = (4, 'comp216')\n",
        "print(f'{a} -> {bool(a)}')\n",
        "\n",
        "a = '10 + True'\n",
        "print(f'{a} -> {eval(a)}')"
      ]
    },
    {
      "cell_type": "markdown",
      "metadata": {},
      "source": [
        "### 2.5 <a id=\"fraction\"></a>Fractions  \n",
        "Fractions hold a rational numerator and denominator in their lowest forms.  \n",
        "This is not a built-in type because you have to do an import"
      ]
    },
    {
      "cell_type": "code",
      "execution_count": 11,
      "metadata": {},
      "outputs": [
        {
          "name": "stdout",
          "output_type": "stream",
          "text": [
            "<class 'fractions.Fraction'>\n",
            "1/3\n",
            "1/12\n",
            "5/12 = 5 / 12\n"
          ]
        }
      ],
      "source": [
        "from fractions import Fraction\n",
        "a = Fraction (2, 6)    #this in not in lowest form\n",
        "print(type(a))\n",
        "print(a)\n",
        "\n",
        "b = Fraction(1, 12)\n",
        "print(b)\n",
        "c = a + b\n",
        "print(f'{c} = {c.numerator} / {c.denominator}')"
      ]
    },
    {
      "cell_type": "markdown",
      "metadata": {},
      "source": [
        "### 2.6 <a id=\"decimal\"></a>Decimal  \n",
        "\n",
        "Also this is not a built-in type because you have to do an import\n"
      ]
    },
    {
      "cell_type": "code",
      "execution_count": 12,
      "metadata": {},
      "outputs": [
        {
          "name": "stdout",
          "output_type": "stream",
          "text": [
            "<class 'decimal.Decimal'>\n",
            "3.140000000000000124344978758017532527446746826171875\n",
            "3.14\n",
            "0.1000000000000000055511151231257827021181583404541015625\n",
            "3\n",
            "(7, 5)\n"
          ]
        }
      ],
      "source": [
        "from decimal import Decimal as D\n",
        "a = D(3.14)\n",
        "print(type(a))\n",
        "print(a)\n",
        "\n",
        "a = '3.14'\n",
        "print(a)\n",
        "\n",
        "b = D(0.1)\n",
        "print(b)\n",
        "\n",
        "c = D(3)\n",
        "print(c)\n",
        "\n",
        "print(D('1.4').as_integer_ratio())\n"
      ]
    },
    {
      "cell_type": "markdown",
      "metadata": {},
      "source": [
        "## 3. <a id=\"sequence\"></a>Sequences\n",
        "1. Immutable Sequences\n",
        "    1. [String](#string)\n",
        "    2. [Tuple](#tuple)\n",
        "2. Mutable Sequences  \n",
        "    1. [List](#list)\n",
        "    2. [Set](#set)  \n"
      ]
    },
    {
      "cell_type": "markdown",
      "metadata": {},
      "source": [
        "### 3.1.1 <a id=\"string\"></a>String\n",
        "A string is delimited by single quotes, double quotes, triple single quotes or triple double quotes.  \n",
        "\n",
        "All strings are unicode string.  \n",
        "\n",
        "N.B. Unlike most modern languages, python does not have a char type"
      ]
    },
    {
      "cell_type": "code",
      "execution_count": 13,
      "metadata": {},
      "outputs": [
        {
          "data": {
            "text/plain": [
              "'to be \\t or not \\n to be'"
            ]
          },
          "execution_count": 13,
          "metadata": {},
          "output_type": "execute_result"
        }
      ],
      "source": [
        "# personally I prefer single quotes\n",
        "a = 'to be \\t or not \\n to be'\n",
        "a"
      ]
    },
    {
      "cell_type": "code",
      "execution_count": 14,
      "metadata": {},
      "outputs": [
        {
          "name": "stdout",
          "output_type": "stream",
          "text": [
            "Narendra Pershad is\n",
            "EVIL!!\n"
          ]
        }
      ],
      "source": [
        "\n",
        "print('Narendra Pershad is\\nEVIL!!')    #Embedding a newline in a str literal"
      ]
    },
    {
      "cell_type": "code",
      "execution_count": 15,
      "metadata": {},
      "outputs": [
        {
          "data": {
            "text/plain": [
              "\"Narendra's toys\""
            ]
          },
          "execution_count": 15,
          "metadata": {},
          "output_type": "execute_result"
        }
      ],
      "source": [
        "# I use double quotes because it need the single quote in the string\n",
        "a = \"Narendra's toys\"\n",
        "a"
      ]
    },
    {
      "cell_type": "code",
      "execution_count": 16,
      "metadata": {},
      "outputs": [
        {
          "data": {
            "text/plain": [
              "\"Narendra's toys\""
            ]
          },
          "execution_count": 16,
          "metadata": {},
          "output_type": "execute_result"
        }
      ],
      "source": [
        "# you can achieve the same with single quotes\n",
        "a = 'Narendra\\'s toys'\n",
        "a"
      ]
    },
    {
      "cell_type": "code",
      "execution_count": 17,
      "metadata": {},
      "outputs": [
        {
          "data": {
            "text/plain": [
              "'\\n    this is a multiple\\n    line string.\\n\\n    And some more text\\n    '"
            ]
          },
          "execution_count": 17,
          "metadata": {},
          "output_type": "execute_result"
        }
      ],
      "source": [
        "# triple quotation is convenient for multiple line string\n",
        "a = '''\n",
        "    this is a multiple\n",
        "    line string.\n",
        "\n",
        "    And some more text\n",
        "    '''\n",
        "a"
      ]
    },
    {
      "cell_type": "code",
      "execution_count": 18,
      "metadata": {},
      "outputs": [
        {
          "data": {
            "text/plain": [
              "'first line second line third line'"
            ]
          },
          "execution_count": 18,
          "metadata": {},
          "output_type": "execute_result"
        }
      ],
      "source": [
        "#notice the use of the line continuation symbol\n",
        "#it is illegal to put ANY character after the slash\n",
        "a = 'first line '\\\n",
        "'second line '\\\n",
        "'third line'\n",
        "a"
      ]
    },
    {
      "cell_type": "markdown",
      "metadata": {},
      "source": [
        "You may specify non-keyboard character via hexcode"
      ]
    },
    {
      "cell_type": "code",
      "execution_count": 19,
      "metadata": {},
      "outputs": [
        {
          "name": "stdout",
          "output_type": "stream",
          "text": [
            "Äè\n",
            "Äè\n",
            "☺\n"
          ]
        }
      ],
      "source": [
        "a = '\\u00c4\\u00e8'          #four digit hex value\n",
        "print(a)\n",
        "\n",
        "a = '\\U000000c4\\U000000e8'  #eight digit hex value\n",
        "print(a)\n",
        "\n",
        "a = '\\u263a'\n",
        "print(a)                    # a smiley face"
      ]
    },
    {
      "cell_type": "markdown",
      "metadata": {},
      "source": [
        "### 3.1.1.1 Binary String\n",
        "Binary strings are used for image files and sockets"
      ]
    },
    {
      "cell_type": "code",
      "execution_count": 20,
      "metadata": {},
      "outputs": [
        {
          "name": "stdout",
          "output_type": "stream",
          "text": [
            "<class 'str'>\n",
            "Normal string\n",
            "['N', 'o', 'r', 'm', 'a', 'l', ' ', 's', 't', 'r', 'i', 'n', 'g']\n",
            "\n",
            "<class 'bytes'>\n",
            "b'Binary string'\n",
            "[66, 105, 110, 97, 114, 121, 32, 115, 116, 114, 105, 110, 103]\n"
          ]
        }
      ],
      "source": [
        "a = 'Normal string'\n",
        "print(type(a))\n",
        "print(a)\n",
        "print(list(a))\n",
        "\n",
        "b = b'Binary string'\n",
        "print(f'\\n{type(b)}')\n",
        "print(b)\n",
        "print(list(b))"
      ]
    },
    {
      "cell_type": "markdown",
      "metadata": {},
      "source": [
        "### 3.1.2 <a id=\"tuple\"></a>Tuples\n",
        "An immutable heterogenous collection of python objects"
      ]
    },
    {
      "cell_type": "code",
      "execution_count": 21,
      "metadata": {},
      "outputs": [
        {
          "name": "stdout",
          "output_type": "stream",
          "text": [
            "<class 'tuple'>\n",
            "(0, 1, 2, 3, 4, 'five', 'six', ['nested', 'list'])\n",
            "8\n"
          ]
        }
      ],
      "source": [
        "a = (0, 1, 2, 3, 4, 'five', 'six', ['nested', 'list'])\n",
        "print(type(a))\n",
        "print(a)\n",
        "print(len(a))         #number of items in the sequence"
      ]
    },
    {
      "cell_type": "markdown",
      "metadata": {},
      "source": [
        "### 3.2.1 <a id=\"list\"></a>List\n",
        "A list is a mutable heterogenous collection that is enumerable"
      ]
    },
    {
      "cell_type": "code",
      "execution_count": 22,
      "metadata": {},
      "outputs": [
        {
          "name": "stdout",
          "output_type": "stream",
          "text": [
            "<class 'list'>\n",
            "[0, 1, 2, 3, 4, 'five', 'six', ['nested', 'list']]\n",
            "8\n",
            "five\n"
          ]
        }
      ],
      "source": [
        "#manually specifing the items in a list\n",
        "a = [0, 1, 2, 3, 4, 'five', 'six', ['nested', 'list']]\n",
        "print(type(a))\n",
        "print(a)\n",
        "print(len(a))         #number of items in the sequence\n",
        "print(a[5])           #the sixth item"
      ]
    },
    {
      "cell_type": "markdown",
      "metadata": {},
      "source": [
        "## 4. Sets\n",
        "### <a id=\"set\"></a>Set\n",
        "A mutable hetereogenous collection of unique python objects\n",
        "\n",
        "A set may not have a list or dictionary or a nested set as one of its member\n",
        "\n",
        "Like all sequences, a sets is iterable but it does not support indexing"
      ]
    },
    {
      "cell_type": "code",
      "execution_count": 23,
      "metadata": {},
      "outputs": [
        {
          "name": "stdout",
          "output_type": "stream",
          "text": [
            "<class 'set'>\n",
            "{0, 1, 2, 3, 4, 'five', 'six'}\n",
            "7\n"
          ]
        }
      ],
      "source": [
        "a = {0, 1, 2, 3, 4, 'five', 'six', 0, 3}\n",
        "print(type(a))\n",
        "print(a)              #duplicate items 0 and 3 are removed\n",
        "print(len(a))         #number of items in the sequence"
      ]
    },
    {
      "cell_type": "markdown",
      "metadata": {},
      "source": [
        "## 5. <a id=\"mapping\"></a>Mappings\n",
        "### <a id=\"dictionary\"></a>Dictionary\n",
        "A collection of key-value pairs.  \n",
        "Each key must be unique and immutable such as strings, number or tuples. A list may not be a key.  \n",
        "Does not support indexing.  \n",
        "A dictionary is almost like a json object\n",
        "\n"
      ]
    },
    {
      "cell_type": "code",
      "execution_count": 24,
      "metadata": {},
      "outputs": [
        {
          "name": "stdout",
          "output_type": "stream",
          "text": [
            "<class 'dict'>\n",
            "{'red': 'Danger', 1: 'first', 'second': 2, ('a', 'set'): 'a tuple is my key'}\n",
            "4\n",
            "Danger\n"
          ]
        }
      ],
      "source": [
        "a = {'red': 'Danger', 1: 'first', 'second': 2, ('a', 'set'): 'a tuple is my key'}\n",
        "\n",
        "print(type(a))\n",
        "print(a)\n",
        "print(len(a))            #number of items in the sequence\n",
        "print(a['red'])          #the value pair of red"
      ]
    },
    {
      "cell_type": "markdown",
      "metadata": {},
      "source": [
        "## 5 Enum<a id=\"enum\"></a>  \n",
        "Enums is not a built-in type, because you have to import it\n"
      ]
    },
    {
      "cell_type": "code",
      "execution_count": 25,
      "metadata": {},
      "outputs": [
        {
          "name": "stdout",
          "output_type": "stream",
          "text": [
            "TrafficLight.GREEN\n",
            "{'GREEN': <TrafficLight.GREEN: 1>, 'YELLOW': <TrafficLight.YELLOW: 2>, 'RED': <TrafficLight.RED: 4>}\n"
          ]
        }
      ],
      "source": [
        "from enum import Enum\n",
        "\n",
        "class TrafficLight(Enum):\n",
        "  GREEN = 1\n",
        "  YELLOW = 2\n",
        "  RED = 4\n",
        "\n",
        "print(TrafficLight.GREEN)\n",
        "print(TrafficLight.__members__)"
      ]
    },
    {
      "cell_type": "markdown",
      "metadata": {},
      "source": [
        "# Data Types\n",
        "You are reminded about the coding practices that should be adhered to for this course regarding file name, identifiers and also pasting a copy of the problem at the top of your python file.\n",
        "\n",
        "You MUST use interpolated expression and where necessary format specifier.\n",
        "\n",
        "You can infer the type of a literal by inspection: \n",
        "\n",
        "    - str: anything enclosed by single, double or triple quotation\n",
        "    - int: series of digits\n",
        "    - float: series of digits with a period\n",
        "    - bool: True or False\n"
      ]
    },
    {
      "cell_type": "markdown",
      "metadata": {},
      "source": [
        "## Working with the str data type\n",
        "\n",
        "The `str` type is known as string in most other languages. It is used to store textual information. \n",
        "In programming, strings are the most ubiquitous type and possibly the most flexible of all types.\n",
        "You can easily convert any data type to string and from other data types to strings. \n",
        "\n",
        "Everything that is read from the console is a string and everything displayed on the console a string.\n",
        "\n"
      ]
    },
    {
      "cell_type": "markdown",
      "metadata": {},
      "source": [
        "### Declaring str literals\n",
        "\n",
        "A string literal is define by enclosing within a pair of single, double or triple quotes.\n",
        "i.e. anything delimited by a pair of matching quotes is a string\n",
        "\n",
        "### Displaying/printing string variables using the print() function"
      ]
    },
    {
      "cell_type": "code",
      "execution_count": 26,
      "metadata": {},
      "outputs": [
        {
          "name": "stdout",
          "output_type": "stream",
          "text": [
            "In COMP100, the single quotes will be the standard way of specifying a str literal!\n",
            "\n",
            "Narendra Pershad is\n",
            "EVIL!!\n",
            "The double quotes will be used only is special situations\n",
            "such as: Narendra's reign\n",
            "\n",
            "\n",
            "Triple single or triple double quotes are used when\n",
            "you are working with a multi-line literal\n",
            "such as this one.\n",
            "\n",
            "\n",
            "This multi-line literal\n",
            "use triple double quotes and it works just \n",
            "like the previous example.\n",
            "It is used to specify docstring for classes and methods etc.\n",
            "\n",
            "You can suppress the automatic line feed, by utilizing the second argument of the print function.\n",
            "you can specify lots of strings and it will work\n"
          ]
        }
      ],
      "source": [
        "print('In COMP100, the single quotes will be the standard way of specifying a str literal!')\n",
        "print('')                               #empty line\n",
        "\n",
        "print('Narendra Pershad is\\nEVIL!!')    #Embedding a newline in a str literal\n",
        "\n",
        "\n",
        "print('The double quotes will be used only is special situations')\n",
        "print(\"such as: Narendra's reign\\n\")    #Using a single quote in a str literal\n",
        "\n",
        "print('''\n",
        "Triple single or triple double quotes are used when\n",
        "you are working with a multi-line literal\n",
        "such as this one.\n",
        "''')\n",
        "\n",
        "print(\"\"\"\n",
        "This multi-line literal\n",
        "use triple double quotes and it works just \n",
        "like the previous example.\n",
        "It is used to specify docstring for classes and methods etc.\n",
        "\"\"\")\n",
        "\n",
        "print('You can suppress the automatic line feed', end='')   #the next output continues on this this line\n",
        "print(', by utilizing the second argument of the print function.')\n",
        "\n",
        "print('you', 'can', 'specify', 'lots', 'of', 'strings', 'and it will work')   #the next output continues on this this line\n"
      ]
    },
    {
      "cell_type": "markdown",
      "metadata": {},
      "source": [
        "## Variables\n",
        "A very long time ago, programmers had to remember (addresses) where values are stored in memory in order to access them in code. Now, programmers use names (variables) to access values. These variable can be considered as containers where you may store values in it. This is a huge improvement because for humans, a numeric address is much more difficult to work with than a descriptive identifier.\n",
        "for the address of a value. \n",
        "Variables are locations in memory that can access via a name. A long time ago programmer didn't use variables, instead they have to remember the address of the location. Think of it as containers that you may store value it. \n",
        "\n",
        "### Reading variables\n",
        "You can read a variable by using its name. \n",
        "\n",
        "### Writing variables\n",
        "You can set a variable by assigning a value to it using the assignment operator (`=`)"
      ]
    },
    {
      "cell_type": "markdown",
      "metadata": {},
      "source": [
        "## Printing str variables\n",
        "\n",
        "More on printing str literals\n",
        "\n",
        "Although there are lots of ways of sending output to the\n",
        "screen, in this course we will use **only** f-strings for printing."
      ]
    },
    {
      "cell_type": "code",
      "execution_count": 27,
      "metadata": {},
      "outputs": [
        {
          "name": "stdout",
          "output_type": "stream",
          "text": [
            "This str literal is stored in the variable \"a\"\n",
            "b \n",
            "b b b b b b b b b b \n",
            "This is another way of displaying the same variable: This str literal is stored in the variable \"a\"\n"
          ]
        }
      ],
      "source": [
        "a = 'This str literal is stored in the variable \"a\"'\n",
        "b = 'b '\n",
        "c = b * 10\n",
        "\n",
        "print(a)\n",
        "print(b)\n",
        "print(c)\n",
        "\n",
        "print(f'This is another way of displaying the same variable: {a}')"
      ]
    },
    {
      "cell_type": "markdown",
      "metadata": {},
      "source": [
        "### Getting the type of a variable\n",
        "\n",
        "Use the `type()` function to obtain type information on a variable"
      ]
    },
    {
      "cell_type": "code",
      "execution_count": 28,
      "metadata": {},
      "outputs": [
        {
          "name": "stdout",
          "output_type": "stream",
          "text": [
            "<class 'str'>\n",
            "<class 'str'>\n",
            "<class 'str'>\n",
            "<class 'str'>\n"
          ]
        }
      ],
      "source": [
        "print(type(a))\n",
        "print(type(b))\n",
        "print(type(c))\n",
        "print(type('John'))"
      ]
    },
    {
      "cell_type": "markdown",
      "metadata": {},
      "source": [
        "### Getting a string variable\n",
        "\n",
        "Use the `input()` function to obtain a string from the keyboard."
      ]
    },
    {
      "cell_type": "code",
      "execution_count": 29,
      "metadata": {},
      "outputs": [
        {
          "name": "stdout",
          "output_type": "stream",
          "text": [
            "Narendra is the best instructor at Centennial College\n"
          ]
        }
      ],
      "source": [
        "name = input('Enter the name of your instructor: ')\n",
        "print(f'{name} is the best instructor at Centennial College')"
      ]
    },
    {
      "cell_type": "code",
      "execution_count": 30,
      "metadata": {},
      "outputs": [
        {
          "name": "stdout",
          "output_type": "stream",
          "text": [
            "I also have 3 siblings\n",
            "However, I was hoping for 33 siblings\n"
          ]
        }
      ],
      "source": [
        "numberOfSiblings = input('How many siblings do you have? ')\n",
        "print(f'I also have {numberOfSiblings} siblings')\n",
        "\n",
        "#can you explain the output of the following line?\n",
        "print(f'However, I was hoping for {numberOfSiblings * 2} siblings')\n",
        "#we will fix this later"
      ]
    },
    {
      "cell_type": "markdown",
      "metadata": {},
      "source": [
        "## Using int\n",
        "\n",
        "The `int` type stores integral values i.e. numbers without a fractional part\n",
        "\n",
        "Any arithmetic operation between two int will result in an int except division. \n",
        "(This is contrary to most modern programming language)"
      ]
    },
    {
      "cell_type": "code",
      "execution_count": 31,
      "metadata": {},
      "outputs": [
        {
          "name": "stdout",
          "output_type": "stream",
          "text": [
            "Value of a is 12\n",
            "Type of a is <class 'int'>\n",
            "12 + 15 = 27\n",
            "12 - 15 = -3\n",
            "12 * 15 = 180\n",
            "12 / 15 = 0.8\n",
            "17 % 15 = 2\n",
            "15 ** 2 = 225\n",
            "15 // 2 = 7\n",
            "15 // -2 = -8\n"
          ]
        }
      ],
      "source": [
        "#declaring an int\n",
        "a = 12\n",
        "print(f'Value of a is {a}')\n",
        "print(f'Type of a is {type(a)}')\n",
        "\n",
        "#arithmetic\n",
        "b = 15\n",
        "print(f'{a} + {b} = {a + b}')           # addition\n",
        "print(f'{a} - {b} = {a - b}')           # subtraction\n",
        "print(f'{a} * {b} = {a * b}')           # multiplication\n",
        "print(f'{a} / {b} = {a / b}')           # division -> the result is a float\n",
        "\n",
        "a = 17\n",
        "print(f'{a} % {b} = {a % b}')           #modulus (remainder)\n",
        "a = 2\n",
        "print(f'{b} ** {a} = {b ** a}')         #exponentiation (power)\n",
        "# b = 5\n",
        "print(f'{b} // {a} = {b // a}')         #floor division operator\n",
        "a = -2\n",
        "print(f'{b} // {a} = {b // a}')         #floor division operator"
      ]
    },
    {
      "cell_type": "markdown",
      "metadata": {},
      "source": [
        "### Bit fiddling\n",
        "The `<<` and `>>` operators allow you to shift the bit left or right resulting in multipling or dividing by powers of 2 i.e. 2, 4, 8, 16"
      ]
    },
    {
      "cell_type": "code",
      "execution_count": 32,
      "metadata": {},
      "outputs": [
        {
          "name": "stdout",
          "output_type": "stream",
          "text": [
            "13 = 26 <=> [0b1101 << 1 will give -> 0b11010]\n",
            "13 = 52 <=> [0b1101 << 2 will give -> 0b110100]\n",
            "13 = 104 <=> [0b1101 << 3 will give -> 0b1101000]\n",
            "13 = 6 <=> [0b1101 >> 1 will give -> 0b110]\n",
            "13 = 3 <=> [0b1101 >> 2 will give -> 0b11]\n",
            "13 = 1 <=> [0b1101 >> 3 will give -> 0b1]\n",
            "13 & 8 => 8 <=> [0b1101 & 0b1000 >> 0b1000]\n",
            "13 | 8 => 13 <=> [0b1101 | 0b1000 >> 0b1101]\n",
            "13 ^ 8 => 5 <=> [0b1101 ^ 0b1000 >> 0b101]\n",
            "flips all the bits (note the results in two's complement)\n",
            "~13 => -14 <=> [~0b1101 => -0b1110]\n"
          ]
        }
      ],
      "source": [
        "a = 13\n",
        "factor = 1\n",
        "c = a << factor\n",
        "print(f'{a} = {c} <=> [{bin(a)} << {factor} will give -> {bin(c)}]')\n",
        "\n",
        "factor = 2\n",
        "c = a << factor\n",
        "print(f'{a} = {c} <=> [{bin(a)} << {factor} will give -> {bin(c)}]')\n",
        "\n",
        "factor = 3\n",
        "c = a << factor\n",
        "print(f'{a} = {c} <=> [{bin(a)} << {factor} will give -> {bin(c)}]')\n",
        "\n",
        "\n",
        "factor = 1\n",
        "c = a >> factor\n",
        "print(f'{a} = {c} <=> [{bin(a)} >> {factor} will give -> {bin(c)}]')\n",
        "\n",
        "factor = 2\n",
        "c = a >> factor\n",
        "print(f'{a} = {c} <=> [{bin(a)} >> {factor} will give -> {bin(c)}]')\n",
        "\n",
        "factor = 3\n",
        "c = a >> factor\n",
        "print(f'{a} = {c} <=> [{bin(a)} >> {factor} will give -> {bin(c)}]')\n",
        "\n",
        "b = 8\n",
        "print(f'{a} & {b} => {a & b} <=> [{bin(a)} & {bin(b)} >> {bin(a & b)}]')\n",
        "\n",
        "print(f'{a} | {b} => {a | b} <=> [{bin(a)} | {bin(b)} >> {bin(a | b)}]')\n",
        "\n",
        "print(f'{a} ^ {b} => {a ^ b} <=> [{bin(a)} ^ {bin(b)} >> {bin(a ^ b)}]')\n",
        "#a = 8\n",
        "print(\"flips all the bits (note the results in two's complement)\")\n",
        "print(f'~{a} => {~a} <=> [~{bin(a)} => {bin(~a)}]')\n"
      ]
    },
    {
      "cell_type": "markdown",
      "metadata": {},
      "source": [
        "### Obtaining an int using the int() function\n",
        "\n",
        "The `int()` function takes a string and returns an int"
      ]
    },
    {
      "cell_type": "code",
      "execution_count": 33,
      "metadata": {},
      "outputs": [
        {
          "name": "stdout",
          "output_type": "stream",
          "text": [
            "I have 5 siblings\n"
          ]
        }
      ],
      "source": [
        "numberOfSiblings = input('How many siblings do you have? ')\n",
        "hope = int(numberOfSiblings)        # converts string to int\n",
        "                                    # if the user enters a number with a fraction\n",
        "                                    # the previous statement will crash the program\n",
        "\n",
        "print(f'I have {hope + 2} siblings')"
      ]
    },
    {
      "cell_type": "markdown",
      "metadata": {},
      "source": [
        "## Using float\n",
        "\n",
        "The `float` type stores numbers with a fractional part i.e. a number that has a decimal point\n",
        "\n",
        "Any arithmetic operation between two floats will result in a float. "
      ]
    },
    {
      "cell_type": "code",
      "execution_count": 34,
      "metadata": {},
      "outputs": [
        {
          "name": "stdout",
          "output_type": "stream",
          "text": [
            "Value of pi is 3.1415\n",
            "Type of pi is <class 'float'>\n",
            "A circle of radius 1 will have an area of 3.1415\n",
            "A circle of radius 1.00 will have an area of 3.14\n",
            "1.02 + 6.13 = 7.15\n",
            "1.02 - 6.13 = -5.109999999999999\n",
            "1.02 * 6.13 = 6.2526\n",
            "1.02 / 6.13 = 0.16639477977161501\n",
            "6.13 // 1.02 = 6.0\n",
            "1.02 ** 6.13 = 1.1290652808457022\n",
            "1.02 % 6.13 = 1.02\n"
          ]
        }
      ],
      "source": [
        "pi = 3.1415\n",
        "radius = 1\n",
        "\n",
        "print(f'Value of pi is {pi}')\n",
        "print(f'Type of pi is {type(pi)}')          #the type() function returns the data type of the argument\n",
        "print(f'A circle of radius {radius} will have an area of {pi * radius ** 2}')\n",
        "#a more clean way\n",
        "print(f'A circle of radius {radius:.2f} will have an area of {pi * radius ** 2:.2f}')\n",
        "\n",
        "#Arithmetic works the same way for ints and floats\n",
        "a = 1.02\n",
        "b = 6.13\n",
        "c = f'{a} + {b}'\n",
        "print(f'{c} = {eval(c)}')                   #the eval() function evaluates an expression\n",
        "\n",
        "c = f'{a} - {b}'\n",
        "print(f'{c} = {eval(c)}')\n",
        "\n",
        "c = f'{a} * {b}'\n",
        "print(f'{c} = {eval(c)}')\n",
        "\n",
        "c = f'{a} / {b}'\n",
        "print(f'{c} = {eval(c)}')\n",
        "\n",
        "c = f'{b} // {a}'\n",
        "print(f'{c} = {eval(c)}')\n",
        "\n",
        "c = f'{a} ** {b}'\n",
        "print(f'{c} = {eval(c)}')\n",
        "\n",
        "c = f'{a} % {b}'\n",
        "print(f'{c} = {eval(c)}')"
      ]
    },
    {
      "cell_type": "markdown",
      "metadata": {},
      "source": [
        "## Using bool\n",
        "\n",
        "The `bool` type may only have two literals: True and False.\n",
        "\n",
        "Python treats most primative types as follows:\n",
        "\n",
        "`False` empty string, number 0, empty set, list or tuple\n",
        "\n",
        "`True` non-empty string, number non-zero, non-empty set, list or tuple\n",
        "\n",
        "The logical operators `and`, `or` and `not` results in bool value\n",
        "\n",
        "The arithmetic operators results in numerical values. \n",
        "(True and False are treated as 1 and 0 respectively)\n",
        "\n",
        "How would read in a `False` value from the user?\n",
        "\n"
      ]
    },
    {
      "cell_type": "code",
      "execution_count": 35,
      "metadata": {},
      "outputs": [
        {
          "name": "stdout",
          "output_type": "stream",
          "text": [
            "True\n",
            "<class 'bool'>\n",
            "\n",
            "Some logic operations\n",
            "True and False = False\n",
            "True or False = True\n",
            "\n",
            "Some arithmetic operations\n",
            "True * 3.1415 = 3.1415\n",
            "False * 3.1415 = 0.0\n",
            "True + 3.1415 = 4.141500000000001\n",
            "False + 3.1415 = 3.1415\n",
            "False * 3.1415 = 0.0\n",
            "0.0 => False\n",
            "empty string => False\n",
            "string 0 => True\n",
            "[] => False\n",
            "[0] => True\n",
            "() => False\n",
            "(1,) => True\n",
            "{} => False\n"
          ]
        }
      ],
      "source": [
        "a = True\n",
        "b = False\n",
        "print(a)\n",
        "print(type(a))\n",
        "\n",
        "print('\\nSome logic operations')\n",
        "c = f'{a} and {b}'\n",
        "print(f'{c} = {eval(c)}')\n",
        "\n",
        "c = f'{a} or {b}'\n",
        "print(f'{c} = {eval(c)}')\n",
        "\n",
        "print('\\nSome arithmetic operations')\n",
        "d = 3.1415\n",
        "c = f'{a} * {d}'\n",
        "print(f'{c} = {eval(c)}')\n",
        "\n",
        "c = f'{b} * {d}'\n",
        "print(f'{c} = {eval(c)}')\n",
        "\n",
        "c = f'{a} + {d}'\n",
        "print(f'{c} = {eval(c)}')\n",
        "\n",
        "c = f'{b} + {d}'\n",
        "print(f'{c} = {eval(c)}')\n",
        "\n",
        "c = f'{b} * {d}'\n",
        "print(f'{c} = {eval(c)}')\n",
        "\n",
        "a = 0.0\n",
        "print(f'{a} => {bool(a)}')\n",
        "\n",
        "a = ''\n",
        "print(f'empty string => {bool(a)}')\n",
        "\n",
        "a = '0'\n",
        "print(f'string {a} => {bool(a)}')\n",
        "\n",
        "a = []\n",
        "print(f'{a} => {bool(a)}')\n",
        "\n",
        "a = [0]\n",
        "print(f'{a} => {bool(a)}')\n",
        "\n",
        "a = ()\n",
        "print(f'{a} => {bool(a)}')\n",
        "\n",
        "a = (1, )\n",
        "print(f'{a} => {bool(a)}')\n",
        "\n",
        "a = {}\n",
        "print(f'{a} => {bool(a)}')"
      ]
    },
    {
      "cell_type": "markdown",
      "metadata": {},
      "source": [
        "## Summary\n",
        "\n",
        "- Python has several built-in data types: numeric (int, float, complex, bool), sequences (string, tuple, list) sets (set) and mappings (dict)\n",
        "- Each type has specific characteristics and operations\n",
        "- We can convert between types when needed\n",
        "- Understanding data types is fundamental to writing effective Python code"
      ]
    }
  ],
  "metadata": {
    "kernelspec": {
      "display_name": "Python 3",
      "language": "python",
      "name": "python3"
    },
    "language_info": {
      "codemirror_mode": {
        "name": "ipython",
        "version": 3
      },
      "file_extension": ".py",
      "mimetype": "text/x-python",
      "name": "python",
      "nbconvert_exporter": "python",
      "pygments_lexer": "ipython3",
      "version": "3.13.2"
    }
  },
  "nbformat": 4,
  "nbformat_minor": 2
}
