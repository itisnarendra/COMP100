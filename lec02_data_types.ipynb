{
  "cells": [
    {
      "cell_type": "markdown",
      "metadata": {},
      "source": [
        "In this notebook we will explore Python built-in data types, we will look at the literals of these types and \n",
        "investigate some of the operations that can be performed on them.  \n",
        "However at in this chapter, we will do only a cursory exploration of the more complex types (such as tuples, strings, lists, sets and dict), but we will covered them in more thoroughly in subsequent notebooks. At this point you are only require to recognise the literals of these types and to be able to print them.\n",
        "\n",
        "---"
      ]
    },
    {
      "cell_type": "markdown",
      "metadata": {
        "id": "RsUf1dXrhvBH"
      },
      "source": [
        "# **Introduction to Python Data Types**\n",
        "\n",
        "Everything in Python is an object with its own type.  \n",
        "You may use the following url to [visualize](http://pythontutor.com/visualize.html#mode=display) your code\n",
        "\n",
        "Contents\n",
        "1.  [None](#none)\n",
        "1.  [Numbers](#number)\n",
        "    -   Integer (`int`)\n",
        "        -   Int literats\n",
        "        -   Operations on Ints\n",
        "        -    Bit fiddling\n",
        "    -   Float (`float`)\n",
        "    -   Complex (`complex`) (info only)\n",
        "    -   Boolean (`bool`)\n",
        "    -   Arithmetic operation between numerics\n",
        "    -   Arithmetic operation between numbers and non-numerics\n",
        "    -   Fraction (info only) Available via an explicit import\n",
        "    -   Decimal (info only)  Available via an explicit import\n",
        "1.  [Sequences](#sequence)\n",
        "    -   Tuples (`tuple`) - Immutable, ordered and indexable\n",
        "    -   String (`str`) - Sequence of unicode characters\n",
        "    -   List (`list`) - Mutable, ordered and indexable. (heavily used)\n",
        "1.  [Sets](#set)\n",
        "    -   Set (`set`) Mutable, unordered and not indexable. No duplicates.\n",
        "1.  [Mappings](#mapping)\n",
        "    -   Dictionary (`dict`) - Mutable and ordered. (heavily used)\n",
        "1.  [Enum](#enum)  (info only) Available via an explicit import\n",
        "1.  Checking Data Types\n",
        "1.  [Summary](#summary)"
      ]
    },
    {
      "cell_type": "markdown",
      "metadata": {},
      "source": [
        "## What are Data Types?\n",
        "In programming, a data type is a classification that specifies:\n",
        "- What kinds of value a variable can hold\n",
        "- What operation can be preformed on the variable\n",
        "\n",
        "\n",
        "You can infer the type of a literal by inspection: \n",
        "   -  `str`: anything enclosed by single, double or triple quotation\n",
        "   -  `int`: series of digits\n",
        "   -  `float`: series of digits with a period\n",
        "   -  `bool`: True or False\n",
        "   -  `set`: items separated by commas and enclosed by a pair of curly braces\n",
        "   -  `tuple`: items separated by commas and enclosed by a pair of parenthesis\n",
        "   -  `list`: items separated by commas and enclosed by a pair of square brackets\n",
        "   -  `dict`: pairs separated by commas and enclosed by a pair of curly braces\n",
        "\n",
        "You are reminded about the coding practices that should be adhered to for this course regarding file name, identifiers and also pasting a copy of the problem at the top of your python file."
      ]
    },
    {
      "cell_type": "markdown",
      "metadata": {},
      "source": [
        "### 1. <a id=\"none\"></a>None\n",
        "Is used to define a null value, or no value at all. It is not the same as 0, `False`, or an empty string.  \n",
        "Comparing `None` to anything except `None` will return `False`.  \n",
        "Probably similar to the c# `null` value.\n",
        "\n",
        "N.B. In this course you will use f-strings in your output. Placeholders or other printing styles will not be tolerated."
      ]
    },
    {
      "cell_type": "code",
      "execution_count": null,
      "metadata": {},
      "outputs": [],
      "source": [
        "a = None\n",
        "print(f'type of {a}  => {type(a)}')\n",
        "\n",
        "value = False\n",
        "print(f'{a} == {value} => {a == value}')        #False\n",
        "\n",
        "value = True\n",
        "print(f'{a} == {value}  => {a == value}')       #False\n",
        "\n",
        "value = 0\n",
        "print(f'{a} == {value}     => {a == value}')    #False\n",
        "\n",
        "value = ''\n",
        "print(f\"{a} == '{value}'    => {a == value}\")   #False\n",
        "\n",
        "value = None\n",
        "print(f'{a} == {value}  => {a == value}')       #True\n"
      ]
    },
    {
      "cell_type": "markdown",
      "metadata": {},
      "source": [
        "## 2. <a id='number'></a>Numbers\n",
        "Numbers are immutable. Same as string in C#.  \n",
        "\n",
        "*Why do we say that numbers are immutable?*  \n",
        "When you perform an operation on a number, the result is computed and stored in a new location but accessed with the same variable. The value at the original location remains the same.  \n",
        "\n",
        "Python has four built-in number types and two other accessible via explicit imports:\n",
        "1. [Integers](#integer)\n",
        "\n",
        "2. [Floats](#float)   \n",
        "\n",
        "3. [Complex numbers](#complex)\n",
        "\n",
        "4. [Booleans](#boolean)\n",
        "\n",
        "5. [Fractions](#fraction) via import fraction\n",
        "\n",
        "6. [Decimals](#decimal) via import decimal\n"
      ]
    },
    {
      "cell_type": "markdown",
      "metadata": {},
      "source": [
        "### 2.1 <a id=\"integer\"></a>Integers\n",
        "This type is used to work with negative and positive whole numbers.\n",
        "\n",
        "C# has:\n",
        "- 8-bits such as sbyte and byte  \n",
        "- 16-bts such as short and ushort  \n",
        "- 32-bits such as int and uint  \n",
        "- 64-bits such as long and ulong  \n",
        "\n",
        "In Python there is only one size of integer.    \n",
        "Integers are limited only by the available memory of the computer.  "
      ]
    },
    {
      "cell_type": "markdown",
      "metadata": {},
      "source": [
        "#### 2.1.1 Int literal\n",
        "A literal is the actual value. So an int literal will be like 3 or -1"
      ]
    },
    {
      "cell_type": "code",
      "execution_count": null,
      "metadata": {},
      "outputs": [],
      "source": [
        "# Integer Literals\n",
        "# Python supports decimal, binary, octal, and hexadecimal integer literals.\n",
        "\n",
        "#decimal literal\n",
        "a = 11\n",
        "print(type(a))\n",
        "print(a)\n",
        "\n",
        "#binary literal, this starts with 0b or 0B\n",
        "b = 0b1011\n",
        "print(b)\n",
        "\n",
        "#octal literal, this starts with 0o or 0O\n",
        "c = 0o13\n",
        "print(c)\n",
        "\n",
        "#hexadecimal, this starts with 0x or 0X\n",
        "d = 0xb\n",
        "print(d)\n",
        "\n",
        "#Like C#, python allows underscores to make\n",
        "#number literals more readable\n",
        "e = 1_100_000\n",
        "print(e)\n",
        "f = 0x_4_ad\n",
        "print(f)\n",
        "\n",
        "#Like C#, you may also use format specifier for a number literal\n",
        "print(f'{e:,}')"
      ]
    },
    {
      "cell_type": "markdown",
      "metadata": {},
      "source": [
        "#### Bit fiddling\n",
        "The `<<` and `>>` operators allow you to shift the bits left or right resulting in multipling or dividing by powers of 2 i.e. 2, 4, 8, 16.  \n",
        "To better  understand the these operations, we will look at the actions on binary literals."
      ]
    },
    {
      "cell_type": "code",
      "execution_count": null,
      "metadata": {},
      "outputs": [],
      "source": [
        "a = 13\n",
        "factor = 1\n",
        "c = a << factor\n",
        "print(f'{a} << {factor} => {c}  ≡ [{bin(a)} << {factor} will give => {bin(c)}]')\n",
        "\n",
        "factor = 2\n",
        "c = a << factor\n",
        "print(f'{a} << {factor} => {c}  ≡ [{bin(a)} << {factor} will give => {bin(c)}]')\n",
        "\n",
        "factor = 3\n",
        "c = a << factor\n",
        "print(f'{a} << {factor} => {c} ≡ [{bin(a)} << {factor} will give => {bin(c)}]')\n",
        "\n",
        "\n",
        "factor = 1\n",
        "c = a >> factor\n",
        "print(f'{a} >> {factor} => {c}   ≡ [{bin(a)} >> {factor} will give => {bin(c)}]')\n",
        "\n",
        "factor = 2\n",
        "c = a >> factor\n",
        "print(f'{a} >> {factor} => {c}   ≡ [{bin(a)} >> {factor} will give => {bin(c)}]')\n",
        "\n",
        "factor = 3\n",
        "c = a >> factor\n",
        "print(f'{a} >> {factor} => {c}   ≡ [{bin(a)} >> {factor} will give => {bin(c)}]')\n",
        "\n",
        "b = 8\n",
        "print(f'{a} &  {b} => {a & b}   ≡ [{bin(a)} & {bin(b)} >> {bin(a & b)}]')\n",
        "\n",
        "print(f'{a} |  {b} => {a | b}  ≡ [{bin(a)} | {bin(b)} >> {bin(a | b)}]')\n",
        "\n",
        "print(f'{a} ^  {b} => {a ^ b}   ≡ [{bin(a)} ^ {bin(b)} >> {bin(a ^ b)}]')\n",
        "#a = 8\n",
        "print(\"flips all the bits (note the results in two's complement)\")\n",
        "print(f'    ~{a} => {~a} ≡ [~{bin(a)} => {bin(~a)}]')\n"
      ]
    },
    {
      "cell_type": "code",
      "execution_count": null,
      "metadata": {},
      "outputs": [],
      "source": [
        "# You can also use the `int()` constructor to convert a string to an integer.\n",
        "# The string must represent a valid integer literal.    \n",
        "a = int('123')\n",
        "print(f'{a} is of type {type(a)}')\n",
        "\n",
        "\n",
        "# The `int()` constructor can also take a second argument to specify the base of the number.\n",
        "a = int('1011', 2)  # binary\n",
        "print(f'{a} is of type {type(a)}')  # 11 in decimal\n",
        "\n",
        "a = int('13', 8)  # octal       \n",
        "print(f'{a} is of type {type(a)}')  # 11 in decimal"
      ]
    },
    {
      "cell_type": "code",
      "execution_count": null,
      "metadata": {},
      "outputs": [],
      "source": [
        "#demonstrate immutability of numbers\n",
        "micheal = 10\n",
        "print(id(micheal))\n",
        "micheal = micheal + 1   #new variable is created with the same name\n",
        "print(micheal)\n",
        "print(id(micheal))"
      ]
    },
    {
      "cell_type": "markdown",
      "metadata": {},
      "source": [
        "#### 2.1.2 Obtaining an int using the int() function\n",
        "\n",
        "The `int()` function takes a string, a real number or a bytes-like object and returns an int"
      ]
    },
    {
      "cell_type": "code",
      "execution_count": null,
      "metadata": {},
      "outputs": [],
      "source": [
        "numberOfSiblings = input('How many siblings do you have? ')\n",
        "hope = int(numberOfSiblings)        # converts string to int\n",
        "                                    # if the user enters a number with a fraction\n",
        "                                    # the previous statement will crash the program\n",
        "\n",
        "                                    #Unless. specifically asked, mitigating user input errors\n",
        "                                    # is not required as part of your work\n",
        "\n",
        "print(f'I have {hope + 2} siblings')\n",
        "\n",
        "#obtaining an int from a float and a boolean\n",
        "print(int(3.14))\n",
        "print(int(True))\n",
        "\n",
        "# the int() does not work with a complex number\n",
        "# print(int(3+2j))"
      ]
    },
    {
      "cell_type": "markdown",
      "metadata": {},
      "source": [
        "### 2.2 <a id=\"float\"></a>Float\n",
        "The `float` type is used to store numbers with a fractional part i.e. a number that has a decimal point.\n",
        "\n",
        "Any arithmetic operation between two floats will result in a float.\n",
        "Python's float has unlimited precision.  \n",
        "\n",
        "C# has  \n",
        "- 32-bits float\n",
        "- 64-bits double"
      ]
    },
    {
      "cell_type": "markdown",
      "metadata": {},
      "source": [
        "#### Float literal\n",
        "A float literal is a number with a fraction part.  \n",
        "\n",
        "Python only support decimal literal for float, binary, octal and hexadecimal are not permitted."
      ]
    },
    {
      "cell_type": "code",
      "execution_count": null,
      "metadata": {},
      "outputs": [],
      "source": [
        "#some float literals\n",
        "a = 3.1428\n",
        "print(type(a))\n",
        "print(a)        #3.12428\n",
        "b = 10.\n",
        "c = .001\n",
        "\n",
        "#using exponent notation\n",
        "d = 2.3e10\n",
        "print(d)\n",
        "\n",
        "e = 5.3e-10\n",
        "print(e)\n",
        "\n",
        "pi = 3.1415\n",
        "radius = 1\n",
        "print(f'Value of pi is {pi}')\n",
        "print(f'Type of pi is {type(pi)}')          #the type() function returns the data type of the argument\n",
        "print(f'A circle of radius {radius} will have an area of {pi * radius ** 2}')\n",
        "#a more clean way\n",
        "print(f'A circle of radius {radius:.2f} will have an area of {pi * radius ** 2:.2f}')"
      ]
    },
    {
      "cell_type": "code",
      "execution_count": null,
      "metadata": {},
      "outputs": [],
      "source": [
        "pi = 3.1415\n",
        "radius = 1\n",
        "\n",
        "print(f'Value of pi is {pi}')\n",
        "print(f'Type of pi is {type(pi)}')          #the type() function returns the data type of the argument\n",
        "print(f'A circle of radius {radius} will have an area of {pi * radius ** 2}')\n",
        "#a more clean way\n",
        "print(f'A circle of radius {radius:.2f} will have an area of {pi * radius ** 2:.2f}')\n",
        "\n",
        "#Arithmetic works the same way for ints and floats\n",
        "a = 1.02\n",
        "b = 6.13\n",
        "c = f'{a} + {b}'\n",
        "print(f'{c} = {eval(c)}')                   #the eval() function evaluates an expression\n",
        "\n",
        "c = f'{a} - {b}'\n",
        "print(f'{c} = {eval(c)}')\n",
        "\n",
        "c = f'{a} * {b}'\n",
        "print(f'{c} = {eval(c)}')\n",
        "\n",
        "c = f'{a} / {b}'\n",
        "print(f'{c} = {eval(c)}')\n",
        "\n",
        "c = f'{b} // {a}'\n",
        "print(f'{c} = {eval(c)}')\n",
        "\n",
        "c = f'{a} ** {b}'\n",
        "print(f'{c} = {eval(c)}')\n",
        "\n",
        "c = f'{a} % {b}'\n",
        "print(f'{c} = {eval(c)}')"
      ]
    },
    {
      "cell_type": "markdown",
      "metadata": {},
      "source": [
        "#### 2.2.2 Obtaining a float using the float() function\n",
        "\n",
        "The `float()` function takes a string, int or bool and returns a float"
      ]
    },
    {
      "cell_type": "code",
      "execution_count": null,
      "metadata": {},
      "outputs": [],
      "source": [
        "print(float('inf'))         #infinity\n",
        "print(float('NaN'))         #non-a-number\n",
        "print(float(False))         #boolean\n",
        "print(float(10))            #integer\n",
        "print(float('3.141592'))    #float\n",
        "\n",
        "#complex number, this will crash the program\n",
        "# print(float(3+2j))      "
      ]
    },
    {
      "cell_type": "code",
      "execution_count": null,
      "metadata": {},
      "outputs": [],
      "source": [
        "# Demonstrating type conversion and user input\n",
        "kg_weight = float(input('How heavy is your backpack (in kg? '))\n",
        "lb_weight = kg_weight * 2.20462\n",
        "print(f'Your backpack weighs {lb_weight:.2f} lbs')\n"
      ]
    },
    {
      "cell_type": "markdown",
      "metadata": {},
      "source": [
        "### 2.3 <a id=\"complex\"></a>Complex number\n",
        "This is simlar to the mathematical concept of complex number.\n",
        "\n",
        "There is a real and an imaginary part. The imaginary part is mandatory!"
      ]
    },
    {
      "cell_type": "code",
      "execution_count": null,
      "metadata": {},
      "outputs": [],
      "source": [
        "#a complex MUST have atleast an imaginary part\n",
        "a = 2j\n",
        "print(type(a))\n",
        "print(a)\n",
        "\n",
        "b = 2+ 3.14j\n",
        "print(b)\n",
        "\n",
        "c = 2.178 - 4j\n",
        "print(c)\n",
        "\n",
        "#you may have just an imaginary component\n",
        "d = 2.15e100j\n",
        "print(d)\n",
        "\n",
        "e = 1.25e-3j\n",
        "print(e)\n"
      ]
    },
    {
      "cell_type": "markdown",
      "metadata": {},
      "source": [
        "#### Arithmetic operations\n",
        "Any arithmetic operations (`+`, `-`, `*`, `/`, `//`, `**`, `%`) between any two numeric types is supported.  \n",
        "\n",
        "`+`, `-`, `*` and `/` behaves like what you would expect in normal arithmetic operations.\n",
        "\n",
        "`//` Floor Division - This operator does a division and discards the fractional part (if there is any). \n",
        "\n",
        "`**` Power Operator - This operator raises the first operand to the power of the second operanc. \n",
        "\n",
        "`%`  Modulus Operator - It does a division, but instead of returning the quotient, it returns the remainder.\n"
      ]
    },
    {
      "cell_type": "markdown",
      "metadata": {},
      "source": [
        "##### ints, floats, bool and complex\n",
        "Any arithmetic operation (except normal division) between two ints will result in an int"
      ]
    },
    {
      "cell_type": "code",
      "execution_count": null,
      "metadata": {},
      "outputs": [],
      "source": [
        "#arithmetic operators\n",
        "# addition, subtraction, multiplication, division, exponentiation, modulus\n",
        "# floor division\n",
        "a = '1 + 3'    \n",
        "print(f' {a} => {eval(a)}')\n",
        "\n",
        "a = '1 - 3'       \n",
        "print(f' {a} => {eval(a)}')\n",
        "\n",
        "a = '1 * 3'\n",
        "print(f' {a} => {eval(a)}')\n",
        "\n",
        "# this is floor division, the result is rounded down to the nearest integer\n",
        "a = '5 // 3'\n",
        "print(f'{a} => {eval(a)}')\n",
        "\n",
        "# this is normal division, the result is a float\n",
        "a = '1 / 3'\n",
        "print(f' {a} => {eval(a)}')\n",
        "\n",
        "# exponentiation\n",
        "a = '2 ** 3'\n",
        "print(f'{a} => {eval(a)}')\n",
        "\n",
        "# modulus operator, gives the remainder\n",
        "a = '10 % 3'\n",
        "print(f'{a} => {eval(a)}')\n"
      ]
    },
    {
      "cell_type": "code",
      "execution_count": null,
      "metadata": {},
      "outputs": [],
      "source": [
        "# any arithmetic operation between an int and a  bool will result in an int\n",
        "a = '1 + True'            # True is 1\n",
        "print(f'{a}  => {eval(a)}')\n",
        "\n",
        "a = '1 - False'           # False is 0   \n",
        "print(f'{a} => {eval(a)}')\n",
        "\n",
        "a = '3 * False'            # True is 1\n",
        "print(f'{a} => {eval(a)}')\n",
        "\n",
        "a = '3 // True'  \n",
        "print(f'{a} => {eval(a)}')"
      ]
    },
    {
      "cell_type": "code",
      "execution_count": null,
      "metadata": {},
      "outputs": [],
      "source": [
        "# any arithmetic operation between two bools in an int\n",
        "a = 'True + False'\n",
        "print(f'{a}  => {eval(a)}')\n",
        "\n",
        "a = 'True - False'\n",
        "print(f'{a}  => {eval(a)}')\n",
        "\n",
        "a = 'True * False'\n",
        "print(f'{a}  => {eval(a)}')\n",
        "\n",
        "a = 'False // True'\n",
        "print(f'{a} => {eval(a)}')"
      ]
    },
    {
      "cell_type": "code",
      "execution_count": null,
      "metadata": {},
      "outputs": [],
      "source": [
        "# Any arithmetic operation between two floats will result in a float\n",
        "a = '1.0 + 3.0'    \n",
        "print(f'{a} => {eval(a)}')\n",
        "\n",
        "a = '1.0 - 3.0'       \n",
        "print(f'{a} => {eval(a)}')"
      ]
    },
    {
      "cell_type": "code",
      "execution_count": null,
      "metadata": {},
      "outputs": [],
      "source": [
        "# Any arithmetic operation between a float and an int will result in a float\n",
        "a = '1 + 3.0'     \n",
        "print(f'{a} => {eval(a)}')  \n",
        "\n",
        "a = '1 - 3.0'       \n",
        "print(f'{a} => {eval(a)}')"
      ]
    },
    {
      "cell_type": "code",
      "execution_count": null,
      "metadata": {},
      "outputs": [],
      "source": [
        "# Any arithmetic operation between a float and a bool will result in a float\n",
        "a = '1.0 + True'            # True is 1\n",
        "print(f'{a}   => {eval(a)}')\n",
        "\n",
        "a = '5.0 ** False'\n",
        "print(f'{a} => {eval(a)}')  "
      ]
    },
    {
      "cell_type": "code",
      "execution_count": null,
      "metadata": {},
      "outputs": [],
      "source": [
        "# Any arithmetic operation between two complex will result in a complex\n",
        "a = 1j + 3j      \n",
        "print(a)\n",
        "a = (1+1j) * (1-1j)\n",
        "print(a)\n",
        "a = (1+1j) / (1-1j)\n",
        "print(a)"
      ]
    },
    {
      "cell_type": "code",
      "execution_count": null,
      "metadata": {},
      "outputs": [],
      "source": [
        "# Any arithmetic operation between a complex and an int will result in a complex\n",
        "a = 1 + 3j       \n",
        "print(a)\n",
        "\n",
        "# Any arithmetic operation between a complex and a float will result in a complex\n",
        "a = 1.0 + 3j      \n",
        "print(a)\n",
        "\n",
        "# Any arithmetic operation between a complex and a bool will result in a complex"
      ]
    },
    {
      "cell_type": "code",
      "execution_count": null,
      "metadata": {},
      "outputs": [],
      "source": [
        "\n",
        "a = 10 / 2          #division always give a float\n",
        "print(f'{a} -> {type(a)}')\n",
        "\n",
        "a = 10 // 3         #integer division\n",
        "print(f'{a} -> {type(a)}')\n",
        "\n",
        "a = 10 * 2j         #multiplication\n",
        "print(type(a))\n",
        "\n",
        "a = '11 ** 2'        #this is the exponentiation operator\n",
        "print(f'{a}     => {eval(a)}')\n",
        "\n",
        "a = '25 ** 0.5'      #square root\n",
        "print(f'{a}   => {eval(a)}')\n",
        "\n",
        "\n",
        "a = '64 ** (1/3)'    #cube root\n",
        "print(f'{a} => {eval(a)}')\n",
        "\n",
        "a = '81 ** 0.25'     #fourth root\n",
        "print(f'{a}  => {eval(a)}')\n",
        "\n",
        "a = '25 % 3'         #modulus operator\n",
        "print(f'{a}      => {eval(a)}')\n",
        "\n",
        "a = '6.13 % 3'       #is not 0.13 because of floating point representation\n",
        "print(f'{a}    => {eval(a)}')\n",
        "\n",
        "a = '25 % 4.1'\n",
        "print(f'{a}    => {eval(a)}')"
      ]
    },
    {
      "cell_type": "markdown",
      "metadata": {},
      "source": [
        "#### Table summarizing arithmetic operation between the various numerics\n",
        "\n",
        "|         |   int   |  bool   |  float  | complex |\n",
        "|---------|---------|---------|---------|---------|\n",
        "|   int   |   int   |   int   |  float  | complex |\n",
        "|  bool   |   int   |   int   |  float  | complex |\n",
        "|  float  |  float  |  float  |  float  | complex |\n",
        "| complex | complex |  float  | complex | complex |\n"
      ]
    },
    {
      "cell_type": "markdown",
      "metadata": {},
      "source": [
        "### 2.4 <a id=\"boolean\"></a>Booleans\n",
        "There are only two possible literal value: **True** or **False**\n",
        "\n",
        "However any python object can be tested for truth value. All of the following will be considered False:\n",
        "\n",
        "  * None\n",
        "  * False\n",
        "  * Any zero numeric e.g. 0, 0.0, 0j\n",
        "  * Any empty sequence e.g. '', {}, []\n",
        "\n",
        "Everything else will be considered **True**\n",
        "\n",
        "The logical operators `and`, `or` and `not` results in bool value\n",
        "\n",
        "The arithmetic operators results in numerical values. \n",
        "(True and False are treated as 1 and 0 respectively)\n",
        "\n",
        "How would read in a `False` value from the user?"
      ]
    },
    {
      "cell_type": "code",
      "execution_count": null,
      "metadata": {},
      "outputs": [],
      "source": [
        "a = None\n",
        "print(f'{a}   => {type(a)}')\n",
        "\n",
        "print(f'{a}   => {bool(a)}')        #None literal\n",
        "\n",
        "a = 0\n",
        "print(f'{a}      => {bool(a)}')     #integer 0\n",
        "\n",
        "a = 1\n",
        "print(f'{a}      => {bool(a)}')    #integer non-zero\n",
        "\n",
        "a = 0.\n",
        "print(f'{a}    => {bool(a)}')       #float 0.0\n",
        "\n",
        "a = 3.14\n",
        "print(f'{a}   => {bool(a)}')        #float non-zero\n",
        "\n",
        "a = \"''\"\n",
        "print(f'{a}     => {bool(a)}')     #empty string\n",
        "\n",
        "a = 'Hello'\n",
        "print(f'{a}  => {bool(a)}')         #non-empty string\n",
        "\n",
        "a = []\n",
        "print(f'{a}     => {bool(a)}')      #empty list\n",
        "\n",
        "a = [2, 3]\n",
        "print(f'{a} => {bool(a)}')          #non-empty list\n",
        "\n",
        "a = {}\n",
        "print(f'{a}     => {bool(a)}')      #empty dictionary\n",
        "\n",
        "a = {1: 'narendra', 2: 'pershad'}   #non-empty dictionary\n",
        "print(f'{a} => {bool(a)}')\n",
        "\n",
        "a = ()\n",
        "print(f'{a}     => {bool(a)}')      #empty tuple\n",
        "\n",
        "a = (4, 'comp216')\n",
        "print(f'{a} => {bool(a)}')          #non-empty tuple\n",
        "\n",
        "a = '10 + True'\n",
        "print(f'{a} => {bool(eval(a))}')    #True because 10 + 1 is non-zero\n",
        "\n",
        "a = '0 + False'\n",
        "print(f'{a} => {bool(eval(a))}')    #False because 0 + 0 is zero\n"
      ]
    },
    {
      "cell_type": "code",
      "execution_count": null,
      "metadata": {},
      "outputs": [],
      "source": [
        "true = True\n",
        "false = False\n",
        "print(true)\n",
        "print(type(true))\n",
        "\n",
        "print('\\nSome logic operations')\n",
        "c = f'{true} and {false}'\n",
        "print(f'{c} => {eval(c)}')\n",
        "\n",
        "c = f'{true} or {false}'\n",
        "print(f'{c}  => {eval(c)}')\n",
        "\n",
        "print('\\nSome arithmetic operations')\n",
        "pi = 3.1415\n",
        "c = f'{true} * {pi}'\n",
        "print(f'{c}  => {eval(c)}')\n",
        "\n",
        "c = f'{false} * {pi}'\n",
        "print(f'{c} => {eval(c)}')\n",
        "\n",
        "c = f'{true} + {pi}'\n",
        "print(f'{c}  => {eval(c)}')\n",
        "\n",
        "c = f'{false} + {pi}'\n",
        "print(f'{c} => {eval(c)}')\n",
        "\n",
        "c = f'{false} * {pi}'\n",
        "print(f'{c} => {eval(c)}')\n"
      ]
    },
    {
      "cell_type": "markdown",
      "metadata": {},
      "source": [
        "### 2.5 <a id=\"fraction\"></a>Fractions  \n",
        "Fractions hold a rational numerator and denominator in their lowest forms.  \n",
        "This is not a built-in type because you have to do an import"
      ]
    },
    {
      "cell_type": "code",
      "execution_count": null,
      "metadata": {},
      "outputs": [],
      "source": [
        "from fractions import Fraction\n",
        "a = Fraction (2, 6)    #this will be converted to the lowest form\n",
        "print(type(a))\n",
        "print(a)\n",
        "\n",
        "b = Fraction(1, 12)\n",
        "print(b)\n",
        "c = 'a + b'\n",
        "# print(f'{c} = {c.numerator} / {c.denominator}')\n",
        "print(f'{a} + {b} => {eval(c)}')"
      ]
    },
    {
      "cell_type": "markdown",
      "metadata": {},
      "source": [
        "### 2.6 <a id=\"decimal\"></a>Decimal  \n",
        "\n",
        "Also this is not a built-in type because you have to do an import\n"
      ]
    },
    {
      "cell_type": "code",
      "execution_count": null,
      "metadata": {},
      "outputs": [],
      "source": [
        "from decimal import Decimal as D\n",
        "a = D(3.14)\n",
        "print(type(a))\n",
        "print(a)\n",
        "\n",
        "a = '3.14'\n",
        "print(a)\n",
        "\n",
        "b = D(0.1)\n",
        "print(b)\n",
        "\n",
        "c = D(3)\n",
        "print(c)\n",
        "\n",
        "print(D('1.4').as_integer_ratio())\n"
      ]
    },
    {
      "cell_type": "markdown",
      "metadata": {},
      "source": [
        "## 3. <a id=\"sequence\"></a>Sequences\n",
        "1. Immutable Sequences\n",
        "    -   [Range](#range)\n",
        "    -   [String](#string)\n",
        "    -   [Tuple](#tuple)\n",
        "2. Mutable Sequences  \n",
        "    -   [List](#list)\n",
        "    -   [Set](#set)  \n"
      ]
    },
    {
      "cell_type": "markdown",
      "metadata": {},
      "source": [
        "### <a id=\"range\"></a>Range\n",
        "\n",
        "The range object in Python is a built-in type used to represent an immutable sequence of numbers. It's commonly used in loops and other situations where you need to iterate over a series of values.\n",
        "\n",
        "#### Syntax\n",
        "-   range(stop)\n",
        "-   range(start, stop)\n",
        "-   range(start, stop, step)\n",
        "\n",
        "Where   \n",
        "`start`: the beginning of the sequence (default is 0).   \n",
        "`stop`: the end of the sequence (exclusive).   \n",
        "`step`: the difference between each number (default is 1).  \n",
        "\n",
        "We will see the full power of this object when we study loops in Chapter 4."
      ]
    },
    {
      "cell_type": "code",
      "execution_count": null,
      "metadata": {},
      "outputs": [],
      "source": [
        "a = range(5)\n",
        "print(a)  \n",
        "\n",
        "#to see the sequence, we can convert to a list\n",
        "print(list(a))\n",
        "\n",
        "a = range(-3, 2)\n",
        "print(list(a))\n",
        "\n",
        "\n",
        "a = range(2, -3, -1)\n",
        "print(list(a))\n",
        "\n",
        "a = range(100, 200, 20)\n",
        "print(list(a))"
      ]
    },
    {
      "cell_type": "markdown",
      "metadata": {},
      "source": [
        "### <a id=\"string\"></a>String\n",
        "\n",
        "The `str` type is known as string in most other languages. It is used to store textual information. \n",
        "In the python language, strings are the most ubiquitous type and possibly the most flexible of all types.\n",
        "You can easily convert any data type to string and from other data types to strings. \n",
        "\n",
        "Everything that is read from the console is a string and everything displayed on the console a string.\n",
        "\n",
        "A string is delimited by single quotes, double quotes, triple single quotes or triple double quotes.  \n",
        "\n",
        "All strings are unicode string.  \n",
        "\n",
        "N.B. Unlike most modern languages, python does not have a char type"
      ]
    },
    {
      "cell_type": "code",
      "execution_count": null,
      "metadata": {},
      "outputs": [],
      "source": [
        "# personally I prefer single quotes\n",
        "a = 'to be \\t or not \\n to be'\n",
        "print(a)\n",
        "\n",
        "print('In COMP100, the single quotes will be the standard way of specifying a str literal!')\n",
        "print('')                               #empty line"
      ]
    },
    {
      "cell_type": "code",
      "execution_count": null,
      "metadata": {},
      "outputs": [],
      "source": [
        "\n",
        "print('Narendra Pershad is\\nEVIL!!')    #Embedding a newline in a str literal"
      ]
    },
    {
      "cell_type": "code",
      "execution_count": null,
      "metadata": {},
      "outputs": [],
      "source": [
        "# I use double quotes because it need the single quote in the string\n",
        "\n",
        "print('The double quotes will be used only is special situations')\n",
        "print(\"such as: Narendra's reign\\n\")    #Using a single quote in a str literal\n"
      ]
    },
    {
      "cell_type": "code",
      "execution_count": null,
      "metadata": {},
      "outputs": [],
      "source": [
        "# you can achieve the same with single quotes\n",
        "a = 'Narendra\\'s toys'\n",
        "print(a)"
      ]
    },
    {
      "cell_type": "code",
      "execution_count": null,
      "metadata": {},
      "outputs": [],
      "source": [
        "# triple quotation is convenient for multiple line string\n",
        "a = '''\n",
        "    this is a multiple\n",
        "    line string.\n",
        "\n",
        "    And some more text\n",
        "    '''\n",
        "print(a)"
      ]
    },
    {
      "cell_type": "code",
      "execution_count": null,
      "metadata": {},
      "outputs": [],
      "source": [
        "#notice the use of the line continuation symbol\n",
        "#it is illegal to put ANY character after the slash\n",
        "a = 'first line '\\\n",
        "'second line '\\\n",
        "'third line'\n",
        "print(a)"
      ]
    },
    {
      "cell_type": "code",
      "execution_count": null,
      "metadata": {},
      "outputs": [],
      "source": [
        "# you can suppress the automatic line feed\n",
        "print('You can suppress the automatic line feed', end='')   #the next output continues on this this line\n",
        "print(', by utilizing the second argument of the print function.')"
      ]
    },
    {
      "cell_type": "code",
      "execution_count": null,
      "metadata": {},
      "outputs": [],
      "source": [
        "# you can specify lots of strings and it will work\n",
        "print('you', 'can', 'specify', 'lots', 'of', 'strings', 'and it will work')   #the next output continues on this this line\n"
      ]
    },
    {
      "cell_type": "markdown",
      "metadata": {},
      "source": [
        "You may specify non-keyboard character via hexcode"
      ]
    },
    {
      "cell_type": "code",
      "execution_count": null,
      "metadata": {},
      "outputs": [],
      "source": [
        "a = '\\u00c4\\u00e8'          #four digit hex value\n",
        "print(a)\n",
        "\n",
        "a = '\\U000000c4\\U000000e8'  #eight digit hex value\n",
        "print(a)\n",
        "\n",
        "a = '\\u263a'\n",
        "print(a)                    # a smiley face"
      ]
    },
    {
      "cell_type": "markdown",
      "metadata": {},
      "source": [
        "### Printing str variables\n",
        "\n",
        "More on printing str literals\n",
        "\n",
        "Although there are lots of ways of sending output to the\n",
        "screen, in this course we will use **only** f-strings for printing."
      ]
    },
    {
      "cell_type": "code",
      "execution_count": null,
      "metadata": {},
      "outputs": [],
      "source": [
        "a = 'This str literal is stored in the variable \"a\"'\n",
        "b = 'b '\n",
        "c = b * 10\n",
        "\n",
        "print(a)\n",
        "print(b)\n",
        "print(c)\n",
        "\n",
        "print(f'This is another way of displaying the same variable: {a}')"
      ]
    },
    {
      "cell_type": "markdown",
      "metadata": {},
      "source": [
        "#### Obtaining a string\n",
        "\n",
        "Use the `input()` function to obtain a string from the keyboard."
      ]
    },
    {
      "cell_type": "code",
      "execution_count": null,
      "metadata": {},
      "outputs": [],
      "source": [
        "name = input('Enter the name of your instructor: ')\n",
        "print(f'{name} is the best instructor at Centennial College')"
      ]
    },
    {
      "cell_type": "code",
      "execution_count": null,
      "metadata": {},
      "outputs": [],
      "source": [
        "numberOfSiblings = input('How many siblings do you have? ')\n",
        "print(f'I also have {numberOfSiblings} siblings')\n",
        "\n",
        "#can you explain the output of the following line?\n",
        "print(f'However, I was hoping for {numberOfSiblings * 2} siblings')\n",
        "#we will fix this later"
      ]
    },
    {
      "cell_type": "markdown",
      "metadata": {},
      "source": [
        "#### Obtaining a string\n",
        "\n",
        "Use the `str()` function to obtain a string from other datatypes."
      ]
    },
    {
      "cell_type": "code",
      "execution_count": null,
      "metadata": {},
      "outputs": [],
      "source": [
        "#using the str() function to convert other data types to string\n",
        "# pretty much everything can be converted to a string\n",
        "\n",
        "print(str(1))       #integer\n",
        "print(str(3.14))    #float\n",
        "print(str(True))    #boolean\n",
        "print(str(3+2j))    #complex\n",
        "print(str([2, 3]))  #list\n",
        "print(str((2, 3)))  #tuple\n",
        "print(str({1: 'narendra', 2: 'pershad'}))  #dictionary\n",
        "print(str(None))   #None\n",
        "print(str(Fraction(2, 6)))   #fraction\n",
        "print(str(D(3.14)))          #decimal\n",
        "print(str(range(5)))         #range\n",
        "print(str(b'hello'))         #bytes\n",
        "print(str(bytearray(b'hello')))  #bytearray\n"
      ]
    },
    {
      "cell_type": "markdown",
      "metadata": {},
      "source": [
        "### <a id=\"tuple\"></a>Tuples\n",
        "An immutable heterogenous collection of python objects"
      ]
    },
    {
      "cell_type": "code",
      "execution_count": null,
      "metadata": {},
      "outputs": [],
      "source": [
        "a = (0, 1, 2, 3, 4, 'five', 'six', ['nested', 'list'])\n",
        "print(type(a))\n",
        "print(a)\n",
        "print(len(a))         #number of items in the sequence"
      ]
    },
    {
      "cell_type": "markdown",
      "metadata": {},
      "source": [
        "### <a id=\"list\"></a>List\n",
        "A list is a mutable heterogenous collection that is enumerable"
      ]
    },
    {
      "cell_type": "code",
      "execution_count": null,
      "metadata": {},
      "outputs": [],
      "source": [
        "#manually specifing the items in a list\n",
        "a = [0, 1, 2, 3, 4, 'five', 'six', ['nested', 'list']]\n",
        "print(type(a))\n",
        "print(a)\n",
        "print(len(a))         #number of items in the sequence\n",
        "print(a[5])           #the sixth item"
      ]
    },
    {
      "cell_type": "markdown",
      "metadata": {},
      "source": [
        "## 4. Sets\n",
        "### <a id=\"set\"></a>Set\n",
        "A set is a mutable hetereogenous collection of unique hashable python objects.\n",
        "\n",
        "A set may not have a list or dictionary or a nested set as one of its member, because these types are not hashable.\n",
        "\n",
        "Like all sequences, a sets is iterable but it does not support indexing."
      ]
    },
    {
      "cell_type": "code",
      "execution_count": null,
      "metadata": {},
      "outputs": [],
      "source": [
        "a = {0, 1, 2, 3, 4, 'five', 'six', 0, 3}\n",
        "print(type(a))\n",
        "print(a)              #duplicate items 0 and 3 are removed\n",
        "print(len(a))         #number of items in the sequence"
      ]
    },
    {
      "cell_type": "markdown",
      "metadata": {},
      "source": [
        "## 5. <a id=\"mapping\"></a>Mappings\n",
        "### <a id=\"dictionary\"></a>Dictionary\n",
        "-   A collection of key-value pairs.  \n",
        "-   Each key must be unique and immutable such as strings, number or tuples. A list may not be a key.  \n",
        "-   Like sets dictionary does not support indexing.  \n",
        "-   A dictionary is almost like a json object.   \n",
        "Although a set is delimited by the same pair of curly braces, the items in a dictionary are key-value pair whilst the items in a set the items are just items!\n"
      ]
    },
    {
      "cell_type": "code",
      "execution_count": null,
      "metadata": {},
      "outputs": [],
      "source": [
        "a = {'red': 'Danger', 1: 'first', 'second': 2, ('a', 'set'): 'a tuple is my key'}\n",
        "\n",
        "print(type(a))\n",
        "print(a)\n",
        "print(len(a))            #number of items in the sequence\n",
        "print(a['red'])          #the value pair of red"
      ]
    },
    {
      "cell_type": "markdown",
      "metadata": {},
      "source": [
        "## 5 Enum<a id=\"enum\"></a>  \n",
        "Enums is not a built-in type, because you have to import it\n"
      ]
    },
    {
      "cell_type": "code",
      "execution_count": null,
      "metadata": {},
      "outputs": [],
      "source": [
        "from enum import Enum\n",
        "\n",
        "class TrafficLight(Enum):\n",
        "  GREEN = 1\n",
        "  YELLOW = 2\n",
        "  RED = 4\n",
        "\n",
        "print(TrafficLight.GREEN)\n",
        "print(TrafficLight.__members__)"
      ]
    },
    {
      "cell_type": "markdown",
      "metadata": {},
      "source": [
        "## Summary\n",
        "\n",
        "- Python has several built-in data types: numeric (int, float, complex, bool), sequences (string, tuple, list) sets (set) and mappings (dict).\n",
        "- Each type has specific characteristics and operations that can be performed on them.\n",
        "- We can convert between types when needed.\n",
        "- Understanding data types is fundamental to writing effective Python code."
      ]
    }
  ],
  "metadata": {
    "kernelspec": {
      "display_name": "Python 3",
      "language": "python",
      "name": "python3"
    },
    "language_info": {
      "codemirror_mode": {
        "name": "ipython",
        "version": 3
      },
      "file_extension": ".py",
      "mimetype": "text/x-python",
      "name": "python",
      "nbconvert_exporter": "python",
      "pygments_lexer": "ipython3",
      "version": "3.13.2"
    }
  },
  "nbformat": 4,
  "nbformat_minor": 2
}
