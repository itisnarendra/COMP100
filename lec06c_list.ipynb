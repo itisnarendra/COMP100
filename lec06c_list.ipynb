{
 "cells": [
  {
   "cell_type": "markdown",
   "metadata": {},
   "source": [
    "## List\n",
    "A list in python is a mutable heterogenous collection of values (objects). In Python, it is used esentially like you would use an array in other languages.\n",
    "\n",
    "### Creating a list\n",
    "    - by constructor\n",
    "    - by assignment\n",
    "    - from other functions\n",
    "    - List comprehension\n",
    "\n"
   ]
  },
  {
   "cell_type": "markdown",
   "metadata": {},
   "source": []
  },
  {
   "cell_type": "code",
   "execution_count": 17,
   "metadata": {},
   "outputs": [
    {
     "name": "stdout",
     "output_type": "stream",
     "text": [
      "[]\n",
      "[]\n",
      "[9, 8, 7]\n",
      "['x', 'y', 'z']\n",
      "[0, 'one', [2], 3.0, True]\n"
     ]
    }
   ],
   "source": [
    "#creating list\n",
    "a = list()\n",
    "print(a)\n",
    "b = []\n",
    "print(b)\n",
    "c = [9, 8, 7]\n",
    "print(c)\n",
    "d = ['x', 'y', 'z']\n",
    "print(d)\n",
    "e = [0, 'one', [2], 3.0, True]\n",
    "print(e)"
   ]
  },
  {
   "cell_type": "code",
   "execution_count": null,
   "metadata": {},
   "outputs": [
    {
     "name": "stdout",
     "output_type": "stream",
     "text": [
      "['Narendra', 'Pershad']\n",
      "['N', 'a', 'r', 'e', 'n', 'd', 'r', 'a']\n",
      "[0, 1, 2, 3]\n",
      "[1, 2.2, '3']\n",
      "['y', 'x', 'z']\n",
      "['one', 'two', 'three']\n",
      "[0, 1, 2, 3, 4, 5, 6, 7, 8, 9]\n"
     ]
    }
   ],
   "source": [
    "a = 'Narendra Pershad'.split()              #this method returns a list\n",
    "print(a)\n",
    "b = list('Narendra')                        #this works with any iterable e.g. string, list, tuple, dict etc\n",
    "print(b)\n",
    "c = list((0, 1, 2, 3))                      #from a tuple\n",
    "print(c)\n",
    "d = list([1, 2.2, '3'])                     #from a list\n",
    "print(d)\n",
    "e = list({'x', 'y', 'z'})                   #from a set\n",
    "print(e)\n",
    "f = list({'one': 1, 'two': 2, 'three': 3})  #from a dict -> it takes only the keys of the dict\n",
    "print(f)\n",
    "g = list(range(10))                         #from a range\n",
    "print(g)\n"
   ]
  },
  {
   "cell_type": "code",
   "execution_count": 3,
   "metadata": {},
   "outputs": [
    {
     "name": "stdout",
     "output_type": "stream",
     "text": [
      "u: [['Narendra', 'Pershad'], ['N', 'a', 'r', 'e', 'n', 'd', 'r', 'a']]\n",
      "v: ['Narendra', 'Pershad', 'N', 'a', 'r', 'e', 'n', 'd', 'r', 'a']\n",
      "w: ['Narendra', 'Pershad', 'Narendra', 'Pershad', 'Narendra', 'Pershad']\n",
      "w: ['Narendra', 'Pershad', 'Narendra', 'Pershad', 'Narendra', 'Pershad', 'Narendra', 'Pershad']\n"
     ]
    }
   ],
   "source": [
    "#creating more lists\n",
    "u = [a, b]                  #from two existing list, similar to append()\n",
    "print(f'u: {u}')\n",
    "v = a + b                   #similar to extend()\n",
    "print(f'v: {v}')\n",
    "w = a * 3                   #add a to itself 3 times\n",
    "print(f'w: {w}')\n",
    "w += a\n",
    "print(f'w: {w}')"
   ]
  },
  {
   "cell_type": "code",
   "execution_count": 27,
   "metadata": {},
   "outputs": [
    {
     "name": "stdout",
     "output_type": "stream",
     "text": [
      "[(0, 4), (1, 5)]\n",
      "[2, 3, 4]\n",
      "['00', '01', '02', '03', '04', '05', '06', '07', '08', '09']\n"
     ]
    }
   ],
   "source": [
    "# advance???\n",
    "a = list(zip(range(2), range(4, 6)))    #from a two or more iterables\n",
    "print(a)\n",
    "b = list(range(10))[2:5]                #from slicing an existing list\n",
    "print(b)\n",
    "c = [f'0{x}' for x in range(10)]        #list comprehension\n",
    "print(c)"
   ]
  },
  {
   "cell_type": "markdown",
   "metadata": {},
   "source": [
    "### Processing a list"
   ]
  },
  {
   "cell_type": "code",
   "execution_count": 7,
   "metadata": {},
   "outputs": [
    {
     "name": "stdout",
     "output_type": "stream",
     "text": [
      "000\n",
      "001\n",
      "004\n",
      "009\n",
      "016\n",
      "025\n"
     ]
    }
   ],
   "source": [
    "c = [f'{x*x}'.zfill(3) for x in range(6)]        #list comprehension\n",
    "\n",
    "for x in c:\n",
    "    print(x)"
   ]
  },
  {
   "cell_type": "markdown",
   "metadata": {},
   "source": [
    "### Mutating methods\n",
    "These method changes the actual methods and normal does not return a value\n",
    "\n",
    "`append()`, `clear()`, `extend()`, `insert()`, `remove`, `reverse()`, `sort()`\n",
    "\n",
    "`pop()` returns a value as well as mutates the list  "
   ]
  },
  {
   "cell_type": "code",
   "execution_count": 15,
   "metadata": {},
   "outputs": [
    {
     "name": "stdout",
     "output_type": "stream",
     "text": [
      "['the', 'quick', 'brown', 'jumped']\n",
      "['the', 'quick', 'brown', 'jumped', 'over']\n",
      "['the', 'quick', 'brown', 'jumped', 'over', 'the', 'lazy', 'dog.']\n",
      "['the', 'quick', 'brown', 'fox', 'jumped', 'over', 'the', 'lazy', 'dog.']\n"
     ]
    }
   ],
   "source": [
    "c = 'the quick brown jumped'.split()\n",
    "print(c)\n",
    "c.append('over')         #the argument is added to the end\n",
    "print(c)\n",
    "c.extend(['the', 'lazy', 'dog.']) #the items are add to the end\n",
    "print(c)\n",
    "c.insert(3, 'fox')       #the item is inserted at the specified position\n",
    "print(c)"
   ]
  },
  {
   "cell_type": "code",
   "execution_count": 20,
   "metadata": {},
   "outputs": [
    {
     "name": "stdout",
     "output_type": "stream",
     "text": [
      "['jack', 'sprat', 'could', 'eat', 'no', 'fat,', 'his', 'wife', 'could', 'eat', 'no', 'lean.']\n",
      "['jack', 'sprat', 'could', 'eat', 'no', 'fat,', 'his', 'could', 'eat', 'no', 'lean.']\n",
      "['lean.', 'no', 'eat', 'could', 'his', 'fat,', 'no', 'eat', 'could', 'sprat', 'jack']\n",
      "['could', 'could', 'eat', 'eat', 'fat,', 'his', 'jack', 'lean.', 'no', 'no', 'sprat']\n",
      "[]\n"
     ]
    }
   ],
   "source": [
    "d = 'jack sprat could eat no fat, his wife could eat no lean.'.split()\n",
    "print(d)\n",
    "d.remove('wife')\n",
    "print(d)\n",
    "d.reverse()\n",
    "print(d)\n",
    "d.sort()\n",
    "print(d)\n",
    "d.clear()\n",
    "print(d)"
   ]
  },
  {
   "cell_type": "code",
   "execution_count": 25,
   "metadata": {},
   "outputs": [
    {
     "name": "stdout",
     "output_type": "stream",
     "text": [
      "['Mary', 'has', 'a', 'little', 'lamb.', 'Its', 'fleece', 'was', 'as', 'white', 'as', 'snow.']\n",
      "removed: \"snow.\" result: ['Mary', 'has', 'a', 'little', 'lamb.', 'Its', 'fleece', 'was', 'as', 'white', 'as']\n",
      "removed: \"has\" result: ['Mary', 'a', 'little', 'lamb.', 'Its', 'fleece', 'was', 'as', 'white', 'as']\n"
     ]
    }
   ],
   "source": [
    "c = 'Mary has a little lamb. Its fleece was as white as snow.'.split()\n",
    "print(c)\n",
    "r = c.pop()\n",
    "print(f'removed: \"{r}\" result: {c}')\n",
    "\n",
    "r = c.pop(1)\n",
    "print(f'removed: \"{r}\" result: {c}')"
   ]
  },
  {
   "cell_type": "markdown",
   "metadata": {},
   "source": [
    "### Non-mutating methods\n",
    "`copy()`, `index()`, `count()`, ``, ``, ``, "
   ]
  },
  {
   "cell_type": "code",
   "execution_count": 27,
   "metadata": {},
   "outputs": [
    {
     "name": "stdout",
     "output_type": "stream",
     "text": [
      "fleece is the 6 item of the list\n",
      "there are 2 as's in the list\n",
      "copy of e: ['Mary', 'has', 'a', 'little', 'lamb.', 'Its', 'fleece', 'was', 'as', 'white', 'as', 'snow.']\n"
     ]
    }
   ],
   "source": [
    "e = 'Mary has a little lamb. Its fleece was as white as snow.'.split()\n",
    "tofind = 'fleece'\n",
    "n = e.index('fleece')\n",
    "print(f'{tofind} is the {e.index(tofind)} item of the list')\n",
    "\n",
    "tofind = 'as'\n",
    "print(f'there are {e.count(tofind)} {tofind}\\'s in the list')\n",
    "\n",
    "f = e.copy()\n",
    "e.clear()\n",
    "print(f'copy of e: {f}')"
   ]
  },
  {
   "cell_type": "code",
   "execution_count": 93,
   "metadata": {},
   "outputs": [
    {
     "name": "stdout",
     "output_type": "stream",
     "text": [
      "[0, 1, 2, 3, 4, 5, 6, 7, 8, 9, 10]\n",
      "11\n",
      "3\n",
      "8\n",
      "9\n",
      "[8, 9, 10]\n",
      "[0, 1, 2]\n",
      "[3, 4, 5, 6, 7]\n",
      "[0, 1, 2, 3, 4, 5, 6, 7, 8]\n"
     ]
    }
   ],
   "source": [
    "f = [x for x in range(11)]\n",
    "print(f)\n",
    "print(len(f))\n",
    "print(f[3])     #3rd item\n",
    "print(f[8])     #\n",
    "print(f[-2])     #\n",
    "print(f[8:])    #from the 8th item to the end\n",
    "print(f[:3])    #from begining to the 3rd item\n",
    "print(f[3:8])   #from the 3rd to the 8th item\n",
    "print(f[:-2])   #from first up to the 2nd from the end\n"
   ]
  },
  {
   "cell_type": "code",
   "execution_count": 95,
   "metadata": {},
   "outputs": [
    {
     "name": "stdout",
     "output_type": "stream",
     "text": [
      "[0, 2, 4, 6, 8, 10]\n",
      "[1, 4, 7, 10]\n",
      "[10, 9, 8, 7, 6, 5, 4, 3, 2, 1, 0]\n",
      "[10, 8, 6, 4, 2, 0]\n",
      "[10, 7, 4, 1]\n",
      "[0, 2, 4, 6, 8, 10]\n",
      "[1, 3, 5]\n"
     ]
    }
   ],
   "source": [
    "#might be too advanced\n",
    "#syntax -> [start:stop:step]\n",
    "print(f[::2])   #skips ever one starting at the begining\n",
    "print(f[1::3])  #skips ever two one starting at the second one\n",
    "print(f[::-1])\n",
    "print(f[::-2])\n",
    "print(f[::-3])\n",
    "print(f[::2])\n",
    "print(f[1:7:2])"
   ]
  },
  {
   "cell_type": "code",
   "execution_count": 102,
   "metadata": {},
   "outputs": [
    {
     "name": "stdout",
     "output_type": "stream",
     "text": [
      "[(0, 1, 'a'), (2, 3, 'b'), (4, 5, 'c')]\n"
     ]
    }
   ],
   "source": [
    "g = [0, 2, 4]\n",
    "h = [1, 3, 5]\n",
    "i = list(zip(g, h, ['a', 'b', 'c', 'd']))\n",
    "print(i)"
   ]
  },
  {
   "cell_type": "markdown",
   "metadata": {},
   "source": [
    "### Other functions that can be used with list\n",
    "`len()`, `min()`, `max()`, `join`"
   ]
  },
  {
   "cell_type": "code",
   "execution_count": 25,
   "metadata": {},
   "outputs": [
    {
     "name": "stdout",
     "output_type": "stream",
     "text": [
      "2\n",
      "13\n",
      "6\n",
      "41\n"
     ]
    }
   ],
   "source": [
    "primes = [2, 3, 5, 7, 11, 13]\n",
    "print(f'{min(primes)}')\n",
    "print(f'{max(primes)}')\n",
    "print(f'{len(primes)}')\n",
    "print(f'{sum(primes)}')"
   ]
  },
  {
   "cell_type": "code",
   "execution_count": 26,
   "metadata": {},
   "outputs": [
    {
     "name": "stdout",
     "output_type": "stream",
     "text": [
      "False\n",
      "True\n"
     ]
    }
   ],
   "source": [
    "colors = ['red', 'green', 'blue']\n",
    "color = 'white'\n",
    "print(f'{color in colors}')\n",
    "color = 'red'\n",
    "print(f'{color in colors}')"
   ]
  }
 ],
 "metadata": {
  "kernelspec": {
   "display_name": "Python 3",
   "language": "python",
   "name": "python3"
  },
  "language_info": {
   "codemirror_mode": {
    "name": "ipython",
    "version": 3
   },
   "file_extension": ".py",
   "mimetype": "text/x-python",
   "name": "python",
   "nbconvert_exporter": "python",
   "pygments_lexer": "ipython3",
   "version": "3.12.1"
  }
 },
 "nbformat": 4,
 "nbformat_minor": 2
}
