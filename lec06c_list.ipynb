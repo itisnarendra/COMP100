{
 "cells": [
  {
   "cell_type": "markdown",
   "metadata": {},
   "source": [
    "This is the third of a series of 4 notebooks on sequences.  \n",
    "We will be looking at lists in this notebook\n",
    "\n",
    "---\n",
    "# List\n",
    "A list in Python is a mutable heterogeneous collection of values (objects). It is similar to arrays in other languages, but far more flexible.\n",
    "\n",
    "Contents:\n",
    "1.  [Creating a list](#creation)\n",
    "    - Constructor\n",
    "    - Assignment\n",
    "    - From functions (`split()`, `sorted()`)\n",
    "1.  Mutating Methods\n",
    "    -   [append](#append)\n",
    "    -   [clear](#clear)\n",
    "    -   [extend](#extend)\n",
    "    -   [insert](#insert)\n",
    "    -   [pop](#pop)\n",
    "    -   [remove](#remove)\n",
    "    -   [reverse](#reverse)\n",
    "    -   [sort](#sort)\n",
    "1.  Non-mutating Operations\n",
    "    -   `len`, `sorted`, `count`, `index`, `slicing`\n",
    "    -   [copy](#copy)\n",
    "        -   Shallow vs deep copy\n",
    "1.  Processing lists (iteration, slicing, comprehension)\n",
    "1.  [Summary](#summary)\n"
   ]
  },
  {
   "cell_type": "markdown",
   "metadata": {},
   "source": [
    "### <a id='creation'></a>Creating a list\n",
    "\n",
    "#### Using the constructor to create a list\n",
    "This is the simplest way to obtain a list."
   ]
  },
  {
   "cell_type": "code",
   "execution_count": null,
   "metadata": {},
   "outputs": [],
   "source": [
    "#using the list constructor\n",
    "#creating list\n",
    "a = list()                                  # creates an empty list\n",
    "print(a)\n",
    "\n",
    "\n",
    "b = list('Narendra')                        #this works with any iterable e.g. string, list, tuple, dict etc\n",
    "print(b)\n",
    "\n",
    "c = list((0, 1, 2, 3))                      #from a tuple\n",
    "print(c)\n",
    "\n",
    "d = list([1, 2.2, '3'])                     #from another list\n",
    "print(d)\n",
    "\n",
    "e = list({'x', 'y', 'z'})                   #from a set\n",
    "print(e)\n",
    "\n",
    "f = list({'one': 1, 'two': 2, 'three': 3})  #from a dict (only the keys of the dict)\n",
    "print(f)\n",
    "\n",
    "g = list(range(10))                         #from a range\n",
    "print(g)"
   ]
  },
  {
   "cell_type": "markdown",
   "metadata": {},
   "source": [
    "### Creating a list by assignment"
   ]
  },
  {
   "cell_type": "code",
   "execution_count": null,
   "metadata": {},
   "outputs": [],
   "source": [
    "a = []\n",
    "print(a)\n",
    "\n",
    "c = [9, 8, 7]\n",
    "print(c)\n",
    "\n",
    "d = ['x', 'y', 'z']\n",
    "print(d)\n",
    "\n",
    "e = [0, 'one', [2], 3.0, True]      # nested list\n",
    "print(e)"
   ]
  },
  {
   "cell_type": "markdown",
   "metadata": {},
   "source": [
    "### Creating a list by a method call"
   ]
  },
  {
   "cell_type": "markdown",
   "metadata": {},
   "source": [
    "#### split() method\n",
    "The split() method of the the string class returns a list of the separated items. By default, the seperator is `' '`, but you may specify your own."
   ]
  },
  {
   "cell_type": "code",
   "execution_count": null,
   "metadata": {},
   "outputs": [],
   "source": [
    "a = 'Narendra Pershad'.split()              #this method returns a list\n",
    "print(a)"
   ]
  },
  {
   "cell_type": "markdown",
   "metadata": {},
   "source": [
    "#### sorted() method\n",
    "The built-in sorted() method returns a new sorted list of the items of the sequence. \n",
    "\n",
    "All the first level items must be comparable (of the same type)."
   ]
  },
  {
   "cell_type": "code",
   "execution_count": null,
   "metadata": {},
   "outputs": [],
   "source": [
    "a = 'Mary had a little lamb. Its fleece was as white as snow'\n",
    "print(sorted(a))                #str to list\n",
    "\n",
    "a = 'Mary had a little lamb. Its fleece was as white as snow'.split()\n",
    "print(sorted(a))                #list to list\n",
    "\n",
    "a = tuple('Mary had a little lamb. Its fleece was as white as snow'.split())\n",
    "print(sorted(a))                #tuple to list"
   ]
  },
  {
   "cell_type": "code",
   "execution_count": null,
   "metadata": {},
   "outputs": [],
   "source": [
    "#more ways of creating a lists\n",
    "u = [a, b]                  # make a list from two existing list, similar to append()\n",
    "print(f'u: {u}')\n",
    "\n",
    "v = a + b                   # similar to extend()\n",
    "print(f'v: {v}')\n",
    "\n",
    "w = a * 3                   # repetition\n",
    "print(f'w: {w}')\n",
    "\n",
    "w += a                      # extend in place\n",
    "print(f'w: {w}')"
   ]
  },
  {
   "cell_type": "markdown",
   "metadata": {},
   "source": [
    "### Processing a list"
   ]
  },
  {
   "cell_type": "code",
   "execution_count": null,
   "metadata": {},
   "outputs": [],
   "source": [
    "c = [f'{x*x}'.zfill(3) for x in range(6)]        #list comprehension\n",
    "\n",
    "for x in c:\n",
    "    print(x)"
   ]
  },
  {
   "cell_type": "markdown",
   "metadata": {},
   "source": [
    "### Mutating methods\n",
    "These methods belong to the list class. They change the list itself and does not normally return a value. \n",
    "\n",
    "The only exception is `pop()`, which returns the removed value as well as it mutates the list  "
   ]
  },
  {
   "cell_type": "code",
   "execution_count": 19,
   "metadata": {},
   "outputs": [],
   "source": [
    "# we will work with the following variables\n",
    "data = ['0', 1, 2.0, {3, 'four'}, [5, 6.0],(7,), range(2)]\n",
    "string_data = 'Hello world!'\n",
    "list_data = ['0', '3', '2', '1', '2']\n",
    "set_data = {'one', 'two', 'three'}  # not a sequence, but still works with len()\n",
    "tuple_data = ('0', ['1', '2', '3', '4'], '4')\n",
    "range_data = range(5)"
   ]
  },
  {
   "cell_type": "markdown",
   "metadata": {},
   "source": [
    "#### <a id=\"append\"></a>Append\n",
    "The `append()` method modifies the original list by adding the argument as a single item at the end. The length of the original list increases by exactly 1, no matter what you append.\n",
    "\n",
    "N.B. You can append any object (string, list, tuple, set, range, dict etc.) to a list. The entire object is added as a single item to the end of the list. "
   ]
  },
  {
   "cell_type": "code",
   "execution_count": 20,
   "metadata": {},
   "outputs": [
    {
     "name": "stdout",
     "output_type": "stream",
     "text": [
      "['0', 1, 2.0, {3, 'four'}, [5, 6.0], (7,), range(0, 2), 'Hello world!']\n",
      "['0', 1, 2.0, {3, 'four'}, [5, 6.0], (7,), range(0, 2), ['0', '3', '2', '1', '2']]\n",
      "['0', 1, 2.0, {3, 'four'}, [5, 6.0], (7,), range(0, 2), {'one', 'three', 'two'}]\n",
      "['0', 1, 2.0, {3, 'four'}, [5, 6.0], (7,), range(0, 2), ('0', ['1', '2', '3', '4'], '4')]\n",
      "['0', 1, 2.0, {3, 'four'}, [5, 6.0], (7,), range(0, 2), range(0, 5)]\n"
     ]
    }
   ],
   "source": [
    "tmp = data.copy()\n",
    "tmp.append(string_data)          # adds item (str) to the end of the list tmp\n",
    "print(tmp)\n",
    "\n",
    "tmp = data.copy()\n",
    "tmp.append(list_data)          # adds all the items of list b to the end of the list tmp as a single item\n",
    "print(tmp)\n",
    "\n",
    "tmp = data.copy()\n",
    "tmp.append(set_data)          # adds all the items of set c to the end of the list tmp as a single item\n",
    "print(tmp)\n",
    "\n",
    "tmp = data.copy()\n",
    "tmp.append(tuple_data)          # adds all the items of tuple d to the end of the list tmp as a single item\n",
    "print(tmp)\n",
    "\n",
    "tmp = data.copy()\n",
    "tmp.append(range_data)          # adds all the items of range e to the end of the list tmp as a single item\n",
    "print(tmp)"
   ]
  },
  {
   "cell_type": "markdown",
   "metadata": {},
   "source": [
    "#### <a id=\"clear\"></a>Clear\n",
    "The `clear()` method removes all the items of the current list.  \n",
    "The list length will be zero."
   ]
  },
  {
   "cell_type": "code",
   "execution_count": 21,
   "metadata": {},
   "outputs": [
    {
     "name": "stdout",
     "output_type": "stream",
     "text": [
      "original: ['0', 1, 2.0, {3, 'four'}, [5, 6.0], (7,), range(0, 2), range(0, 5)]\n",
      " cleared: []\n"
     ]
    }
   ],
   "source": [
    "print(f'original: {tmp}')\n",
    "\n",
    "tmp.clear()\n",
    "print(f' cleared: {tmp}')"
   ]
  },
  {
   "cell_type": "markdown",
   "metadata": {},
   "source": [
    "#### <a id=\"extend\"></a>Extend\n",
    "The `extend(iterable)` method also modifies the original list. It unpacks another iterable and appends its items at the end. The length of the list increases by the number of elements in the iterable.\n",
    "\n",
    "This is used when you want to merge another sequence into your list."
   ]
  },
  {
   "cell_type": "code",
   "execution_count": 22,
   "metadata": {},
   "outputs": [
    {
     "name": "stdout",
     "output_type": "stream",
     "text": [
      "['0', 1, 2.0, {3, 'four'}, [5, 6.0], (7,), range(0, 2), 'H', 'e', 'l', 'l', 'o', ' ', 'w', 'o', 'r', 'l', 'd', '!']\n",
      "['0', 1, 2.0, {3, 'four'}, [5, 6.0], (7,), range(0, 2), '0', '3', '2', '1', '2']\n",
      "['0', 1, 2.0, {3, 'four'}, [5, 6.0], (7,), range(0, 2), 'one', 'three', 'two']\n",
      "['0', 1, 2.0, {3, 'four'}, [5, 6.0], (7,), range(0, 2), '0', ['1', '2', '3', '4'], '4']\n",
      "['0', 1, 2.0, {3, 'four'}, [5, 6.0], (7,), range(0, 2), 0, 1, 2, 3, 4]\n"
     ]
    }
   ],
   "source": [
    "tmp = data.copy()\n",
    "tmp.extend(string_data)          # adds each item of str a to the end of the list tmp\n",
    "print(tmp)\n",
    "\n",
    "tmp = data.copy()\n",
    "tmp.extend(list_data)          # adds each item of list b to the end of the list tmp\n",
    "print(tmp)\n",
    "\n",
    "tmp = data.copy()\n",
    "tmp.extend(set_data)          # adds each item of set c to the end of the list tmp\n",
    "print(tmp)\n",
    "\n",
    "tmp = data.copy()\n",
    "tmp.extend(tuple_data)          # adds each item of tuple d to the end of the list tmp\n",
    "print(tmp)\n",
    "\n",
    "tmp = data.copy()\n",
    "tmp.extend(range_data)          # adds each item of range e to the end of the list tmp\n",
    "print(tmp)\n"
   ]
  },
  {
   "cell_type": "markdown",
   "metadata": {},
   "source": [
    "#### <a id=\"insert\"></a>Insert\n",
    "The `insert(position, item)` method adds the argument at the given position.\n",
    "  \n",
    "If the position is larger than the list, it is inserted at the end.  \n",
    "The list length increases by one."
   ]
  },
  {
   "cell_type": "code",
   "execution_count": 23,
   "metadata": {},
   "outputs": [
    {
     "name": "stdout",
     "output_type": "stream",
     "text": [
      "['Hello world!', '0', 1, 2.0, {3, 'four'}, [5, 6.0], (7,), range(0, 2)]\n",
      "['0', ['0', '3', '2', '1', '2'], 1, 2.0, {3, 'four'}, [5, 6.0], (7,), range(0, 2)]\n",
      "['0', 1, {'one', 'three', 'two'}, 2.0, {3, 'four'}, [5, 6.0], (7,), range(0, 2)]\n",
      "[<class 'tuple'>, '0', 1, 2.0, {3, 'four'}, [5, 6.0], (7,), range(0, 2)]\n",
      "['0', range(0, 5), 1, 2.0, {3, 'four'}, [5, 6.0], (7,), range(0, 2)]\n"
     ]
    }
   ],
   "source": [
    "tmp = data.copy()\n",
    "tmp.insert(0, string_data)          # adds the item in the first position of the list tmp\n",
    "print(tmp)\n",
    "\n",
    "tmp = data.copy()\n",
    "tmp.insert(1, list_data)          # adds the item in the second position of the list tmp\n",
    "print(tmp)\n",
    "\n",
    "tmp = data.copy()\n",
    "tmp.insert(2, set_data)          # adds the item in the third postion of the list tmp\n",
    "print(tmp)\n",
    "\n",
    "tmp = data.copy()\n",
    "tmp.insert(0, tuple)          # adds the item in the first postiion of the list tmp\n",
    "print(tmp)\n",
    "\n",
    "tmp = data.copy()\n",
    "tmp.insert(1, range_data)          # adds the item in the second position of the list tmp\n",
    "print(tmp)"
   ]
  },
  {
   "cell_type": "markdown",
   "metadata": {},
   "source": [
    "#### <a id=\"pop\"></a>Pop\n",
    "The `pop()` method removes the last item from the list.  If the optional argument is given, then the item is removed from that position.\n",
    "\n",
    "The list length will be one less."
   ]
  },
  {
   "cell_type": "code",
   "execution_count": null,
   "metadata": {},
   "outputs": [],
   "source": [
    "c = 'Mary has a little lamb. Its fleece was as white as snow.'.split()\n",
    "print(c)\n",
    "r = c.pop()                             # the last item is taken off\n",
    "print(f'removed: \"{r}\" result: {c}')\n",
    "\n",
    "r = c.pop(1)                            # the second item is taken off\n",
    "print(f'removed: \"{r}\" result: {c}')"
   ]
  },
  {
   "cell_type": "markdown",
   "metadata": {},
   "source": [
    "#### <a id=\"remove\"></a>Remove\n",
    "The `remove()` method removes the first occurence of a given value from the list.  \n",
    "\n",
    "A ValueError will be raised if the value in not found.\n",
    "\n",
    "The list length will be one less."
   ]
  },
  {
   "cell_type": "code",
   "execution_count": 14,
   "metadata": {},
   "outputs": [
    {
     "name": "stdout",
     "output_type": "stream",
     "text": [
      "  Original list -> ['apple', 'banana', 'cherry', 'banana', 'figs', 'grape', 'banana']\n",
      "Removing banana -> ['apple', 'cherry', 'banana', 'figs', 'grape', 'banana']\n"
     ]
    }
   ],
   "source": [
    "fruits = 'apple banana cherry banana figs grape banana'.split()\n",
    "print(f'  Original list -> {fruits}')\n",
    "to_remove = 'banana'\n",
    "print(f'Removing {to_remove} -> ', end='')\n",
    "fruits.remove(to_remove)\n",
    "print(fruits)\n",
    "\n",
    "# to_remove = 'plum'\n",
    "# fruits.remove(to_remove)        # this will raise a ValueError because the item is not present in the list"
   ]
  },
  {
   "cell_type": "markdown",
   "metadata": {},
   "source": [
    "#### <a id=\"reverse\"></a>Reverse\n",
    "The `reverse()` method reverse the order the item of the list.  \n",
    "The list length remains constant."
   ]
  },
  {
   "cell_type": "code",
   "execution_count": null,
   "metadata": {},
   "outputs": [],
   "source": [
    "a = list('Arben is evil!')\n",
    "print(f'original: {a}')\n",
    "\n",
    "a.reverse()\n",
    "print(f'reversed: {a}')\n"
   ]
  },
  {
   "cell_type": "markdown",
   "metadata": {},
   "source": [
    "#### <a id=\"sort\"></a>Sort\n",
    "The `sort()` method, orders the item of the current list.  \n",
    "The list length remains constant."
   ]
  },
  {
   "cell_type": "code",
   "execution_count": null,
   "metadata": {},
   "outputs": [],
   "source": [
    "a = list(tuple('Arben is evil!'))\n",
    "print(f'original: {a}')\n",
    "\n",
    "a.sort()\n",
    "print(f'  sorted: {a}')\n",
    "\n",
    "a.sort(reverse=True)\n",
    "print(f' reverse: {a}')"
   ]
  },
  {
   "cell_type": "markdown",
   "metadata": {},
   "source": [
    "### Non-mutating methods\n",
    "These methods do not change the original list.\n",
    "\n",
    "The `len()`, `index()`and the `count()` methods as well as slicing techniques will be covered in the notebook on Sequences."
   ]
  },
  {
   "cell_type": "markdown",
   "metadata": {},
   "source": [
    "#### <a id=\"copy\"></a>Copy\n",
    "The `copy()` method returns a new list containing all the items in the current list.  "
   ]
  },
  {
   "cell_type": "code",
   "execution_count": null,
   "metadata": {},
   "outputs": [],
   "source": [
    "a = [1, 2, 3]\n",
    "b = a.copy()    # makes a shallow copy\n",
    "\n",
    "b.append(4)\n",
    "\n",
    "print(a)        # [1, 2, 3]\n",
    "print(b)        # [1, 2, 3, 4]\n",
    "print(a is b)   # False (different objects)"
   ]
  },
  {
   "cell_type": "markdown",
   "metadata": {},
   "source": [
    "##### Difference between copy and assignment\n",
    "In an assignment, both identifier refers to the same object, so any change applied to one reference will affect the other one.\n"
   ]
  },
  {
   "cell_type": "code",
   "execution_count": null,
   "metadata": {},
   "outputs": [],
   "source": [
    "a = [1, 2]\n",
    "b = a\n",
    "\n",
    "print('original lists')\n",
    "print(a, '<->' , b)\n",
    "\n",
    "print('\\nchanging the first list')\n",
    "a.append(3)\n",
    "\n",
    "print('first list changed')\n",
    "print(a, '<->' , b)\n",
    "\n",
    "print('\\nchanging the second list')\n",
    "a.remove(1)\n",
    "\n",
    "print('second list changed')\n",
    "print(a, '<->' , b)"
   ]
  },
  {
   "cell_type": "markdown",
   "metadata": {},
   "source": [
    "##### Shallow copy vs. Deep copy\n",
    "\n",
    "-   copy() is shallow: it only duplicates the list itself, not the nested objects.\n",
    "-   If the list contains mutable elements (like other lists), both lists still share references to those inner objects.\n",
    "\n",
    "In an assignment, both identifier refers to the same object, so any change applied to one reference will affect the other one.\n"
   ]
  },
  {
   "cell_type": "code",
   "execution_count": null,
   "metadata": {},
   "outputs": [],
   "source": [
    "a = [[1, 2], [3, 4]]\n",
    "b = a.copy()\n",
    "print(a)  # [3, 4]]\n",
    "print(b)  # [3, 4]]\n",
    "\n",
    "print('\\nAfter append')\n",
    "b[0].append(99)\n",
    "\n",
    "print(a)  # [[1, 2, 99], [3, 4]]  ← inner list changed in both\n",
    "print(b)  # [[1, 2, 99], [3, 4]]"
   ]
  },
  {
   "cell_type": "markdown",
   "metadata": {},
   "source": [
    "If you need a true independent clone, use the copy module:"
   ]
  },
  {
   "cell_type": "code",
   "execution_count": null,
   "metadata": {},
   "outputs": [],
   "source": [
    "import copy\n",
    "\n",
    "a = [[1, 2], [3, 4]]\n",
    "b = copy.deepcopy(a)\n",
    "\n",
    "b[0].append(99)\n",
    "\n",
    "print(a)  # [[1, 2], [3, 4]]\n",
    "print(b)  # [[1, 2, 99], [3, 4]]"
   ]
  },
  {
   "cell_type": "markdown",
   "metadata": {},
   "source": [
    "#### Advanced ways of producing a list"
   ]
  },
  {
   "cell_type": "code",
   "execution_count": 7,
   "metadata": {},
   "outputs": [
    {
     "name": "stdout",
     "output_type": "stream",
     "text": [
      "[(0, 4), (1, 5)]\n",
      "[2, 3, 4]\n",
      "['00', '01', '02', '03', '04', '05', '06', '07', '08', '09']\n"
     ]
    }
   ],
   "source": [
    "a = list(zip(range(2), range(4, 6)))    #from multiple iterables\n",
    "print(a)\n",
    "b = list(range(10))[2:5]                #from slicing an existing list\n",
    "print(b)\n",
    "c = [f'0{x}' for x in range(10)]        #list comprehension\n",
    "print(c)"
   ]
  },
  {
   "cell_type": "markdown",
   "metadata": {},
   "source": [
    "### <a id='summary'></a>Summary\n",
    "-   A list is a mutable, ordered, heterogeneous collection of objects.\n",
    "-   It is similar to arrays in other languages, but more flexible.\n",
    "-   They support a wide range of operations: creation, indexing, slicing, comprehensions, and many mutating methods.\n",
    "\n",
    "-   Key differences:\n",
    "\n",
    "    -   append vs extend\n",
    "\n",
    "    -   shallow copy vs deep copy\n",
    "\n",
    "    -   sort (in place) vs sorted (new list)\n"
   ]
  }
 ],
 "metadata": {
  "kernelspec": {
   "display_name": "Python 3",
   "language": "python",
   "name": "python3"
  },
  "language_info": {
   "codemirror_mode": {
    "name": "ipython",
    "version": 3
   },
   "file_extension": ".py",
   "mimetype": "text/x-python",
   "name": "python",
   "nbconvert_exporter": "python",
   "pygments_lexer": "ipython3",
   "version": "3.13.2"
  }
 },
 "nbformat": 4,
 "nbformat_minor": 2
}
