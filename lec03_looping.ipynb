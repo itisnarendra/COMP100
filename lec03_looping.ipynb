{
 "cells": [
  {
   "cell_type": "markdown",
   "metadata": {},
   "source": [
    "# Looping/Iteration/Repitition\n",
    "Loops allow you to process a statement or block of statement zero or more times.\n",
    "It facilates the writing of shorter programs, hence less chance of making errors.\n",
    "\n",
    "\n",
    "Essentially, there are two loops \n",
    "\n",
    "## while loop \n",
    "It is easier to create indeterminate loops with this loop\n",
    "\n",
    "### Syntax\n",
    "while syntax\n",
    "```\n",
    "while <<boolean expression>>:\n",
    "    statements\n",
    "    <<updater statement>>\n",
    "```\n",
    "If the update statement is missing, then it will be an indeterminate loop (non terminating loop)\n",
    "\n",
    "## for loop\n",
    "This works really we with the range() function\n",
    "\n",
    "### syntax\n",
    "for syntax (basic example) works well with iterables like lists, string, tuples etc.\n",
    "```\n",
    "for <<iterator variable>> in <<iterables>>:\n",
    "    statements\n",
    "```\n",
    "\n",
    "### syntax\n",
    "for syntax (with range())\n",
    "```\n",
    "for <<iterator variable>> in range(<<arguments>>):\n",
    "    statements\n",
    "```\n",
    "\n",
    "### syntax\n",
    "for syntax with enumerate() (get index and value)\n",
    "```\n",
    "for index, value in enumarate(<<enumerable>>):\n",
    "    statements\n",
    "```"
   ]
  },
  {
   "cell_type": "code",
   "execution_count": 1,
   "metadata": {},
   "outputs": [
    {
     "name": "stdout",
     "output_type": "stream",
     "text": [
      "counter: 10\n",
      "counter: 9\n",
      "counter: 8\n",
      "counter: 7\n",
      "counter: 6\n",
      "counter: 5\n",
      "counter: 4\n",
      "counter: 3\n",
      "counter: 2\n",
      "counter: 1\n"
     ]
    }
   ],
   "source": [
    "#while loop\n",
    "counter = 10\n",
    "while counter > 0:\n",
    "    print(f'counter: {counter}')\n",
    "    counter -= 1"
   ]
  },
  {
   "cell_type": "code",
   "execution_count": 2,
   "metadata": {},
   "outputs": [
    {
     "name": "stdout",
     "output_type": "stream",
     "text": [
      "0 3 6 9 12 15 18 "
     ]
    }
   ],
   "source": [
    "#while example (2)\n",
    "start = 0\n",
    "stop = 20\n",
    "while start < stop:\n",
    "    print(f'{start}', end=' ')\n",
    "    start += 3"
   ]
  },
  {
   "cell_type": "code",
   "execution_count": 58,
   "metadata": {},
   "outputs": [
    {
     "name": "stdout",
     "output_type": "stream",
     "text": [
      "The sum of the non-even multiples of 5 less than 100 to 500\n"
     ]
    }
   ],
   "source": [
    "#while example using the and keyword\n",
    "start = 1\n",
    "stop = 100\n",
    "sum = 0\n",
    "while start < stop:\n",
    "    if start % 5 == 0 and start % 2 != 0:       #combining two conditions with the and keyword\n",
    "        sum += start\n",
    "    start += 1\n",
    "\n",
    "print(f'The sum of the non-even multiples of 5 less than 100 to {sum}')"
   ]
  },
  {
   "cell_type": "code",
   "execution_count": 9,
   "metadata": {},
   "outputs": [
    {
     "name": "stdout",
     "output_type": "stream",
     "text": [
      "The sum of the multiples of 3 from 1,000,000 to 2,000,000 is 499,999,500,000\n"
     ]
    }
   ],
   "source": [
    "#while example (3)\n",
    "start = 1_000_000\n",
    "stop = 2_000_000\n",
    "sum = 0\n",
    "while start < stop:\n",
    "    if start % 3 == 0:\n",
    "        sum += start\n",
    "    start += 1\n",
    "\n",
    "print(f'The sum of the multiples of 3 from 1,000,000 to {stop:,.0f} is {sum:,.0f}')\n",
    "# why can't you use the variable start in the print statement?"
   ]
  },
  {
   "cell_type": "code",
   "execution_count": null,
   "metadata": {},
   "outputs": [
    {
     "name": "stdout",
     "output_type": "stream",
     "text": [
      "The sum of your inputs is 40\n"
     ]
    }
   ],
   "source": [
    "#while to demonstrate the break keyword\n",
    "sum = 0\n",
    "while True:\n",
    "    value = int(input('Enter a positive number to sum: '))\n",
    "    if value < 0:\n",
    "        break\n",
    "    sum += value\n",
    "\n",
    "print(f'The sum of your inputs is {sum}')"
   ]
  },
  {
   "cell_type": "code",
   "execution_count": 12,
   "metadata": {},
   "outputs": [
    {
     "name": "stdout",
     "output_type": "stream",
     "text": [
      "x: 0\n",
      "x: 1\n",
      "x: 2\n",
      "x: 3\n",
      "x: 4\n",
      "x: 5\n",
      "x: 6\n",
      "x: 7\n",
      "x: 8\n",
      "x: 9\n"
     ]
    }
   ],
   "source": [
    "#for example\n",
    "for x in range(10):     #the value for the range funtion represent the end value\n",
    "    print(f'x: {x}')"
   ]
  },
  {
   "cell_type": "code",
   "execution_count": 1,
   "metadata": {},
   "outputs": [
    {
     "name": "stdout",
     "output_type": "stream",
     "text": [
      "Hello world\n",
      "Hello world\n",
      "Hello world\n",
      "Hello world\n"
     ]
    }
   ],
   "source": [
    "#for example\n",
    "for _ in range(4):     #the underscore is used to quite the linter\n",
    "    print('Hello world')"
   ]
  },
  {
   "cell_type": "code",
   "execution_count": 20,
   "metadata": {},
   "outputs": [
    {
     "name": "stdout",
     "output_type": "stream",
     "text": [
      "x: 10\n",
      "x: 11\n"
     ]
    }
   ],
   "source": [
    "#for example (2)\n",
    "for x in range(10, 12):     #the two values represent the start and end\n",
    "    print(f'x: {x}')"
   ]
  },
  {
   "cell_type": "code",
   "execution_count": 24,
   "metadata": {},
   "outputs": [
    {
     "name": "stdout",
     "output_type": "stream",
     "text": [
      "x: 10\n",
      "x: 15\n",
      "x: 20\n",
      "x: 25\n"
     ]
    }
   ],
   "source": [
    "#for example (3)\n",
    "for x in range(10, 30, 5):     #the three values represent the start, the end and the step\n",
    "    print(f'x: {x}')"
   ]
  },
  {
   "cell_type": "code",
   "execution_count": 3,
   "metadata": {},
   "outputs": [
    {
     "name": "stdout",
     "output_type": "stream",
     "text": [
      "x: 30\n",
      "x: 27\n",
      "x: 24\n",
      "x: 21\n",
      "x: 18\n",
      "x: 15\n",
      "x: 12\n"
     ]
    }
   ],
   "source": [
    "#for example (3)\n",
    "for x in range(30, 10, -3):     #a sequence that decreases\n",
    "    print(f'x: {x}')"
   ]
  },
  {
   "cell_type": "code",
   "execution_count": 4,
   "metadata": {},
   "outputs": [
    {
     "name": "stdout",
     "output_type": "stream",
     "text": [
      "x: 0\n",
      "x: -6\n",
      "x: -12\n",
      "x: -18\n"
     ]
    }
   ],
   "source": [
    "#for example (3)\n",
    "for x in range(0, -20, -6):     #the three values represent the start, the end and the step\n",
    "    print(f'x: {x}')"
   ]
  },
  {
   "cell_type": "code",
   "execution_count": 2,
   "metadata": {},
   "outputs": [
    {
     "name": "stdout",
     "output_type": "stream",
     "text": [
      "Sum of non-multiple of five less than 100: 4000\n"
     ]
    }
   ],
   "source": [
    "#using the continue keyword\n",
    "\n",
    "sum = 0\n",
    "for x in range(100):     #the value for the range funtion represent the end value\n",
    "    if x % 5 == 0:\n",
    "        continue\n",
    "    sum += x\n",
    "\n",
    "print(f'Sum of non-multiple of five less than 100: {sum}')"
   ]
  },
  {
   "cell_type": "code",
   "execution_count": 16,
   "metadata": {},
   "outputs": [
    {
     "name": "stdout",
     "output_type": "stream",
     "text": [
      " 1    1     1       1\n",
      " 2    4     8      16\n",
      " 3    9    27      81\n",
      " 4   16    64     256\n",
      " 5   25   125     625\n",
      " 6   36   216    1296\n",
      " 7   49   343    2401\n",
      " 8   64   512    4096\n",
      " 9   81   729    6561\n",
      "10  100  1000   10000\n"
     ]
    }
   ],
   "source": [
    "#formatting\n",
    "\n",
    "for x in range(1, 11):     \n",
    "    print(f'{x:>2}{x**2:>5}{x**3:>6}{x**4:>8}')     #> right aligns < left aligns"
   ]
  },
  {
   "cell_type": "code",
   "execution_count": 55,
   "metadata": {},
   "outputs": [
    {
     "name": "stdout",
     "output_type": "stream",
     "text": [
      "     x       x^2       x^3       x^4  \n",
      "======================================\n",
      "0.025000  0.000625  0.000016  0.000000\n",
      "0.050000  0.002500  0.000125  0.000006\n",
      "0.075000  0.005625  0.000422  0.000032\n",
      "0.100000  0.010000  0.001000  0.000100\n",
      "0.125000  0.015625  0.001953  0.000244\n",
      "0.150000  0.022500  0.003375  0.000506\n",
      "0.175000  0.030625  0.005359  0.000938\n",
      "0.200000  0.040000  0.008000  0.001600\n",
      "0.225000  0.050625  0.011391  0.002563\n",
      "0.250000  0.062500  0.015625  0.003906\n"
     ]
    }
   ],
   "source": [
    "#more formatting\n",
    "header = '     x       x^2       x^3       x^4  '\n",
    "print(header)\n",
    "print(f'{\"=\" * len(header)}')                                       #len() function give the number of items\n",
    "for raw in range(1, 11):\n",
    "    x = raw / 40     \n",
    "    print(f'{x:>8.6f}{x**2:>10.6f}{x**3:>10.6f}{x**4:>10.6f}')      #> right aligns < left aligns"
   ]
  },
  {
   "cell_type": "code",
   "execution_count": 37,
   "metadata": {},
   "outputs": [
    {
     "name": "stdout",
     "output_type": "stream",
     "text": [
      "Length     Weigth        Cost\n",
      "=================================\n",
      "   5       15.708      $19,634.38\n",
      "  10       31.415      $39,268.75\n",
      "  15       47.123      $58,903.12\n",
      "  20       62.830      $78,537.50\n",
      "  25       78.538      $98,171.88\n",
      "  30       94.245     $117,806.25\n",
      "  35      109.953     $137,440.62\n",
      "  40      125.660     $157,075.00\n"
     ]
    }
   ],
   "source": [
    "#more formatting\n",
    "\n",
    "print('Length     Weigth        Cost')\n",
    "print('=================================')\n",
    "for length in range(5, 41, 5):\n",
    "    weight = f'{length * 3.1415:.3f}'               #can also combine alignment with decimal places\n",
    "    cost = f'${length * 3.1415 * 1250:,.2f}'        #there is no easy way to do currency\n",
    "    print(f'{length:>4}{weight:>13}{cost:>16}')     #> right aligns < left aligns"
   ]
  }
 ],
 "metadata": {
  "kernelspec": {
   "display_name": "Python 3",
   "language": "python",
   "name": "python3"
  },
  "language_info": {
   "codemirror_mode": {
    "name": "ipython",
    "version": 3
   },
   "file_extension": ".py",
   "mimetype": "text/x-python",
   "name": "python",
   "nbconvert_exporter": "python",
   "pygments_lexer": "ipython3",
   "version": "3.12.1"
  }
 },
 "nbformat": 4,
 "nbformat_minor": 2
}
