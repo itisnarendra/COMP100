{
 "cells": [
  {
   "cell_type": "markdown",
   "id": "f341e688",
   "metadata": {},
   "source": [
    "In this notebook, we will examine all the collection datatype as one\n",
    "\n",
    "---\n",
    "\n",
    "# All the collection type\n",
    "\n",
    "It is possible to convert from one collection to another\n",
    "```\n",
    "Collection\n",
    " ├── Set-like (unordered, unique elements)\n",
    " │     ├── set, frozenset\n",
    " │\n",
    " ├── Sequence (ordered)\n",
    " │     ├── list, tuple, str, range\n",
    " │\n",
    " └── Mapping (key-value)\n",
    "       └── dict\n",
    "```\n",
    "\n",
    "\n",
    "Contents:\n",
    "1.  [Set](#set) to other collections\n",
    "1.  [String](#string) to other collections\n",
    "1.  [Tuples](#tuple) to other collections\n",
    "1.  [List](#list) to other collections\n",
    "1.  [Dictionary](#dictionary) to other collections\n",
    "1.  [Functions](#function) associated with collections\n",
    "    -   str.join()\n",
    "    -   dict.fromkeys()\n",
    "    -   eval()\n",
    "    -   join()\n",
    "    -   zip()\n",
    "1.  [Summary](#summary)"
   ]
  },
  {
   "cell_type": "markdown",
   "id": "a5761d9c",
   "metadata": {},
   "source": [
    "### <a id='set'></a>Sets to other types\n",
    "Since the set collection maintains uniqueness, duplicates are silently removed when converting from other collections to set."
   ]
  },
  {
   "cell_type": "code",
   "execution_count": null,
   "id": "4c954082",
   "metadata": {},
   "outputs": [],
   "source": [
    "s = {'one', 'two', 'three', 'one', 'four' }\n",
    "print(f'set (ORIG): {s}')               # notice the order changes and the duplicate 'one' is removed\n",
    "\n",
    "# to string\n",
    "a = str(s)\n",
    "print(f'       str: {a}')\n",
    "\n",
    "# to tuple\n",
    "a = tuple(s)\n",
    "print(f'     tuple: {a}')\n",
    "\n",
    "# to list\n",
    "a = list(s)\n",
    "print(f'      list: {a}')\n",
    "\n",
    "# to dictionary\n",
    "# direct conversion from set to dictionary is not possible\n",
    "# see the fromkey() method of the dict class\n",
    "print(f'      dict: direct conversion from set is not possible')"
   ]
  },
  {
   "cell_type": "markdown",
   "id": "fe579afc",
   "metadata": {},
   "source": [
    "### <a id='string'></a>String to other types"
   ]
  },
  {
   "cell_type": "code",
   "execution_count": null,
   "id": "b5b4648e",
   "metadata": {},
   "outputs": [],
   "source": [
    "s = 'one two three one four'\n",
    "print(f'     (ORIG)\\n    string: {s}')\n",
    "\n",
    "# to set\n",
    "b = set(s)\n",
    "print(f'       set: {b}')\n",
    "\n",
    "# to tuple\n",
    "b = tuple(s)\n",
    "print(f'     tuple: {b}')\n",
    "\n",
    "# to list\n",
    "a = list(s)\n",
    "print(f'      list: {a}')\n",
    "\n",
    "# to dict\n",
    "# see the fromkey() method of the dict class\n",
    "print('      dict: direct conversion from string is not possible')"
   ]
  },
  {
   "cell_type": "markdown",
   "id": "3254c536",
   "metadata": {},
   "source": [
    "### <a id='tuple'></a>Tuples to other types"
   ]
  },
  {
   "cell_type": "code",
   "execution_count": null,
   "id": "86c7c501",
   "metadata": {},
   "outputs": [],
   "source": [
    "tup = ('one', 'two', 'three', 'one', 'four' )\n",
    "print(f'tuple (ORIG): {tup}')\n",
    "\n",
    "# to set\n",
    "a = set(tup)\n",
    "print(f'         set: {a}')\n",
    "\n",
    "# to list\n",
    "a = list(tup)\n",
    "print(f'        list: {a}')\n",
    "\n",
    "\n",
    "# to string\n",
    "a = str(tup)\n",
    "print(f'         str: {a}')\n",
    "\n",
    "# to dictionary\n",
    "# direct conversion from tup to dictionary is not possible\n",
    "# see the fromkey() method of the dict class\n",
    "print('        dict: direct conversion from tuple is not possible')"
   ]
  },
  {
   "cell_type": "markdown",
   "id": "c711d597",
   "metadata": {},
   "source": [
    "### <a id='list'></a>List to other types"
   ]
  },
  {
   "cell_type": "code",
   "execution_count": null,
   "id": "50217bb4",
   "metadata": {},
   "outputs": [],
   "source": [
    "lst = ['one', 'two', 'three', 'one', 'four' ]\n",
    "print(f'      List: {lst}')\n",
    "\n",
    "# to set\n",
    "a = set(lst)\n",
    "print(f'       Set: {a}')\n",
    "\n",
    "# to tuple\n",
    "b = tuple(lst)\n",
    "print(f'     Tuple: {b}')\n",
    "\n",
    "\n",
    "# to string\n",
    "c = ' '.join(lst)\n",
    "print(f'    String: {c}')\n",
    "\n",
    "\n",
    "# to dictionary\n",
    "# direct conversion from list to dictionary is not possible\n",
    "# see the fromkey() method of the dict class\n",
    "print('      dict: direct conversion from list is not possible')"
   ]
  },
  {
   "cell_type": "markdown",
   "id": "26604f05",
   "metadata": {},
   "source": [
    "### <a id='dictionary'></a>Dictionary to other types\n",
    "Because a dict is a collection of key-value pairs, most conversions will only transfer the keys!"
   ]
  },
  {
   "cell_type": "code",
   "execution_count": null,
   "id": "9fea099e",
   "metadata": {},
   "outputs": [],
   "source": [
    "dic = {1: 'one', 2: 'two', 3: 'three', 4:'four' }\n",
    "print(f'(ORIG)\\nDictionary: {dic}')\n",
    "\n",
    "# to set\n",
    "# returns the keys of the dictionary as a set\n",
    "a = set(dic)\n",
    "print(f'       Set: {a}')\n",
    "\n",
    "# to string\n",
    "# returns the entire dictionary as a string\n",
    "c = str(dic)\n",
    "print(f'    String: {c}')\n",
    "\n",
    "# to tuple\n",
    "# returns the keys of the dictionary as a tuple\n",
    "b = tuple(dic)\n",
    "print(f'     Tuple: {b}')\n",
    "\n",
    "# to list\n",
    "# returns the keys of the dictionary as a list\n",
    "d = list(dic)  # using set elements as keys with a default value\n",
    "print(f'      List: {d}')"
   ]
  },
  {
   "cell_type": "markdown",
   "id": "93d2e8dd",
   "metadata": {},
   "source": [
    "### <a id='function'></a>Functions associated with collections"
   ]
  },
  {
   "cell_type": "code",
   "execution_count": null,
   "id": "9df4021e",
   "metadata": {},
   "outputs": [],
   "source": [
    "# collections definition for this section\n",
    "#set\n",
    "a = {'one', 'two', 'three', 'one', 'four' }\n",
    "\n",
    "# string\n",
    "b = 'one two three one four'\n",
    "\n",
    "# tuple\n",
    "c = ('one', 'two', 'three', 'one', 'four' )\n",
    "\n",
    "# list\n",
    "d = ['one', 'two', 'three', 'one', 'four' ] \n",
    "\n",
    "# dictionary\n",
    "e = {1: 'one', 2: 'two', 3: 'three', 4:'four' }"
   ]
  },
  {
   "cell_type": "markdown",
   "id": "b601e970",
   "metadata": {},
   "source": [
    "#### join() method from the string class"
   ]
  },
  {
   "cell_type": "code",
   "execution_count": null,
   "id": "5088db43",
   "metadata": {},
   "outputs": [],
   "source": [
    "# the str.join() function from the string class\n",
    "# joins elements of a collection into a string with a specified separator\n",
    "# the separator is a comma and a space\n",
    "# works with set, tuple, and list but not with dictionary directly\n",
    "print(f'       set: {\", \".join(a)}')\n",
    "print(f'       str: {\", \".join(b)}')\n",
    "print(f'     tuple: {\", \".join(c)}')\n",
    "print(f'      list: {\", \".join(d)}')\n",
    "\n",
    "# this join() function does not work with dictionaries directly\n",
    "# but we can join the keys or values separately if we choose\n",
    "print('      dict: join() does not work')"
   ]
  },
  {
   "cell_type": "markdown",
   "id": "0dd1aa02",
   "metadata": {},
   "source": [
    "#### fromkeys() method from the dict class"
   ]
  },
  {
   "cell_type": "code",
   "execution_count": null,
   "id": "a586fdea",
   "metadata": {},
   "outputs": [],
   "source": [
    "# the dict.fromkeys() method from the dict class\n",
    "# creates a new dictionary with keys from the given iterable and a default value\n",
    "# # the iterable can be a set, string, tuple, or list but not a dictionary\n",
    "# the default value is specified as the second argument, if not provided,    \n",
    "# the default value is None\n",
    "# \n",
    "print(f'       set: {dict.fromkeys(a, 0)}')\n",
    "print(f'       str: {dict.fromkeys(b, 1)}')\n",
    "print(f'     tuple: {dict.fromkeys(c, 2)}')\n",
    "print(f'      list: {dict.fromkeys(d, 3)}')\n",
    "print(f'      dict: {dict.fromkeys(e, 4)}')"
   ]
  },
  {
   "cell_type": "markdown",
   "id": "c0659905",
   "metadata": {},
   "source": [
    "#### eval() function\n",
    "This is a strange function, it takes a string and evaluates it like it would at the repl prompt"
   ]
  },
  {
   "cell_type": "code",
   "execution_count": null,
   "id": "9ce0a57e",
   "metadata": {},
   "outputs": [],
   "source": [
    "a = \"{'one', 'two', 'three', 'one', 'four' }\"\n",
    "\n",
    "# string\n",
    "b = \"'one two three one four'\"\n",
    "\n",
    "# tuple\n",
    "c = \"('one', 'two', 'three', 'one', 'four' )\"\n",
    "\n",
    "# list\n",
    "d = \"['one', 'two', 'three', 'one', 'four' ]\" \n",
    "\n",
    "# dictionary\n",
    "e = \"{1: 'one', 2: 'two', 3: 'three', 4:'four' }\"\n",
    "\n",
    "print(f'       set: {eval(a)}')\n",
    "print(f'       str: {eval(b)}')\n",
    "print(f'     tuple: {eval(c)}')\n",
    "print(f'      list: {eval(d)}')\n",
    "print(f'      dict: {eval(e)}')"
   ]
  },
  {
   "cell_type": "markdown",
   "id": "85cfeb0a",
   "metadata": {},
   "source": [
    "### The split() method of the str class"
   ]
  },
  {
   "cell_type": "code",
   "execution_count": null,
   "id": "31c2552b",
   "metadata": {},
   "outputs": [],
   "source": [
    "#the split() method from the string class\n",
    "# splits a string into a list of substrings based on a specified separator\n",
    "# the default separator is any whitespace\n",
    "# works only with strings\n",
    "\n",
    "s = 'one two three one four'\n",
    "print(f'(ORIG) string: {s}')\n",
    "\n",
    "print(f'         list: {s.split()}')"
   ]
  },
  {
   "cell_type": "markdown",
   "id": "00f4ecb3",
   "metadata": {},
   "source": [
    "#### The zip() function()   \n",
    "zip() pairs up elements from multiple iterables into tuples, stopping at the shortest and returns an iterator of the tuples"
   ]
  },
  {
   "cell_type": "code",
   "execution_count": null,
   "id": "c078c6ea",
   "metadata": {},
   "outputs": [],
   "source": [
    "a = [0, 1, 2]\n",
    "b = {'0', '1', '2', '3'}\n",
    "c = ('zero', 'one', 'two')\n",
    "\n",
    "# the zip() function pairs up elements from multiple iterables into tuples, stopping at the shortest and returns an iterator of the tuples\n",
    "zipped = zip(a, b, c)   \n",
    "print(f'      list: {list(zipped)}')  # convert the iterator to a list to see the result\n",
    "\n",
    "zipped = zip(a, b, c)   \n",
    "print(f'     tuple: {tuple(zipped)}')  # convert the iterator to a list to see the result\n",
    "\n",
    "zipped = zip(a, b, c)   \n",
    "print(f'       set: {set(zipped)}')  # convert the iterator to a list to see the result\n",
    "\n",
    "zipped = zip(b, c)   \n",
    "print(f'      dict: {dict(zipped)}')  # convert the iterator to a list to see the result\n",
    "\n"
   ]
  },
  {
   "cell_type": "markdown",
   "id": "0496ca6a",
   "metadata": {},
   "source": [
    "#### You can unzip with the *operator"
   ]
  },
  {
   "cell_type": "code",
   "execution_count": null,
   "id": "592c1916",
   "metadata": {},
   "outputs": [],
   "source": [
    "zipped = zip(a, b, c) \n",
    "a, b, c = zip(*zipped)  # unzip the zipped object back into individual iterables\n",
    "print(f'         a: {a}')\n",
    "print(f'         b: {b}')\n",
    "print(f'         c: {c}')  "
   ]
  },
  {
   "cell_type": "markdown",
   "id": "b2c0a14b",
   "metadata": {},
   "source": [
    "#### Comparison of the collections\n",
    "\n",
    "| Sequence | Methods directly associated with the class|\n",
    "|:--------:|:------------------------------------------|\n",
    "| set    | add, clear, copy, difference, difference_update, discard, intersection, intersection_update, isdisjoint, issubset, issuperset, pop, remove, symmetric_difference, symmetric_difference_update, union, update |\n",
    "| dict    | clear, copy, fromkeys, get, items, keys, pop, popitem, setdefault, update, values |\n",
    "\n",
    " \n",
    "\n"
   ]
  },
  {
   "cell_type": "markdown",
   "id": "f50afbfe",
   "metadata": {},
   "source": [
    "#### Comparison of the common non-primative built-in types\n",
    "\n",
    "|            | Iterable | Indexable | Collection | Sequence |\n",
    "|------------|:--------:|:---------:|:----------:|:--------:|\n",
    "| list       |  yes     |  yes      |  yes       |  yes     |\n",
    "| tuple      |  yes     |  yes      |  yes       |  yes     |\n",
    "| str        |  yes     |  yes      |  yes       |  yes     |\n",
    "| range      |  yes     |  yes      |  yes       |  yes     |\n",
    "| dict       |  yes     |  yes      |  yes       |  no      |\n",
    "| set        |  yes     |  no       |  no        |  no      |\n",
    "| file_obj   |  yes     |  no       |  no        |  no      |"
   ]
  },
  {
   "cell_type": "markdown",
   "id": "e403c8ff",
   "metadata": {},
   "source": [
    "### <a id='summary'></a>Summary\n",
    "-   Iterable → can be looped over (for x in ...).\n",
    "-   Sequence → an ordered iterable with indexing/slicing (list, tuple, str, range).\n",
    "-   Collection → general container data structures (including sequences, sets, dicts)."
   ]
  }
 ],
 "metadata": {
  "kernelspec": {
   "display_name": "Python 3",
   "language": "python",
   "name": "python3"
  },
  "language_info": {
   "codemirror_mode": {
    "name": "ipython",
    "version": 3
   },
   "file_extension": ".py",
   "mimetype": "text/x-python",
   "name": "python",
   "nbconvert_exporter": "python",
   "pygments_lexer": "ipython3",
   "version": "3.13.2"
  }
 },
 "nbformat": 4,
 "nbformat_minor": 5
}
