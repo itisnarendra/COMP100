{
 "cells": [
  {
   "cell_type": "markdown",
   "id": "f341e688",
   "metadata": {},
   "source": [
    "# All the collection type\n",
    "\n",
    "It is possible to convert from one collection to another\n",
    "```\n",
    "Collection\n",
    " ├── Sequence (ordered)\n",
    " │     ├── list, tuple, str, range\n",
    " │\n",
    " ├── Set-like (unordered, unique elements)\n",
    " │     ├── set, frozenset\n",
    " │\n",
    " └── Mapping (key-value)\n",
    "       └── dict\n",
    "```\n",
    "\n",
    "\n",
    "Contents:\n",
    "1.  [Set](#set) to other collections\n",
    "    - To list\n",
    "    - To tuples\n",
    "    - To string\n",
    "    - To dictionary\n",
    "1.  [Tuples](#tuple) to other collections\n",
    "    - functions\n",
    "    - expression\n",
    "1.  [Summary](#summary)"
   ]
  },
  {
   "cell_type": "markdown",
   "id": "a5761d9c",
   "metadata": {},
   "source": [
    "### Sets to other types"
   ]
  },
  {
   "cell_type": "code",
   "execution_count": null,
   "id": "4c954082",
   "metadata": {},
   "outputs": [
    {
     "name": "stdout",
     "output_type": "stream",
     "text": [
      "       Set: {'four', 'two', 'three', 'one'}\n",
      "      List: ['four', 'two', 'three', 'one']\n",
      "     Tuple: ('four', 'two', 'three', 'one')\n",
      "    String: four two three one\n",
      "Dictionary: {'four': 0, 'two': 0, 'three': 0, 'one': 0}\n"
     ]
    }
   ],
   "source": [
    "s = {'one', 'two', 'three', 'one', 'four' }\n",
    "print(f'       Set: {s}')\n",
    "\n",
    "# to list\n",
    "a = list(s)\n",
    "print(f'      List: {a}')\n",
    "\n",
    "# to tuple\n",
    "b = tuple(s)\n",
    "print(f'     Tuple: {b}')\n",
    "\n",
    "\n",
    "# to string\n",
    "c = ' '.join(a)\n",
    "print(f'    String: {c}')\n",
    "\n",
    "\n",
    "# to dictionary\n",
    "d = dict.fromkeys(s, 0)  # using set elements as keys with a default value\n",
    "print(f'Dictionary: {d}')"
   ]
  },
  {
   "cell_type": "markdown",
   "id": "3254c536",
   "metadata": {},
   "source": [
    "### Tuples to other types"
   ]
  },
  {
   "cell_type": "code",
   "execution_count": 15,
   "id": "86c7c501",
   "metadata": {},
   "outputs": [
    {
     "name": "stdout",
     "output_type": "stream",
     "text": [
      "     Tuple: ('one', 'two', 'three', 'one', 'four')\n",
      "       Set: {'four', 'two', 'three', 'one'}\n",
      "      List: ['one', 'two', 'three', 'one', 'four']\n",
      "    String: one two three one four\n",
      "Dictionary: {'one': 0, 'two': 0, 'three': 0, 'four': 0}\n"
     ]
    }
   ],
   "source": [
    "tup = ('one', 'two', 'three', 'one', 'four' )\n",
    "print(f'     Tuple: {tup}')\n",
    "\n",
    "# to set\n",
    "a = set(tup)\n",
    "print(f'       Set: {a}')\n",
    "\n",
    "# to list\n",
    "b = list(tup)\n",
    "print(f'      List: {b}')\n",
    "\n",
    "\n",
    "# to string\n",
    "c = ' '.join(tup)\n",
    "print(f'    String: {c}')\n",
    "\n",
    "\n",
    "# to dictionary\n",
    "d = dict.fromkeys(tup, 0)  # using set elements as keys with a default value\n",
    "print(f'Dictionary: {d}')\n"
   ]
  },
  {
   "cell_type": "markdown",
   "id": "c711d597",
   "metadata": {},
   "source": [
    "### List to other types"
   ]
  },
  {
   "cell_type": "code",
   "execution_count": null,
   "id": "50217bb4",
   "metadata": {},
   "outputs": [
    {
     "name": "stdout",
     "output_type": "stream",
     "text": [
      "      List: ['one', 'two', 'three', 'one', 'four']\n",
      "       Set: {'four', 'two', 'three', 'one'}\n",
      "     Tuple: ('one', 'two', 'three', 'one', 'four')\n",
      "    String: one two three one four\n",
      "Dictionary: {'one': 0, 'two': 0, 'three': 0, 'four': 0}\n"
     ]
    }
   ],
   "source": [
    "lst = ['one', 'two', 'three', 'one', 'four' ]\n",
    "print(f'      List: {lst}')\n",
    "\n",
    "# to set\n",
    "a = set(lst)\n",
    "print(f'       Set: {a}')\n",
    "\n",
    "# to tuple\n",
    "b = tuple(lst)\n",
    "print(f'     Tuple: {b}')\n",
    "\n",
    "\n",
    "# to string\n",
    "c = ' '.join(lst)\n",
    "print(f'    String: {c}')\n",
    "\n",
    "\n",
    "# to dictionary\n",
    "d = dict.fromkeys(lst, 0)  # using set elements as keys with a default value\n",
    "print(f'Dictionary: {d}')"
   ]
  },
  {
   "cell_type": "markdown",
   "id": "2115ea17",
   "metadata": {},
   "source": [
    "### String to other types"
   ]
  },
  {
   "cell_type": "code",
   "execution_count": 1,
   "id": "be277253",
   "metadata": {},
   "outputs": [
    {
     "name": "stdout",
     "output_type": "stream",
     "text": [
      "    String: one two three one four\n",
      "       Set: {'r', 'w', 'e', 'f', 'u', ' ', 'o', 't', 'h', 'n'}\n",
      "      List: ['one', 'two', 'three', 'one', 'four']\n",
      "       Set: {'three', 'four', 'two', 'one'}\n",
      "     Tuple: ('four', 'two', 'three', 'one')\n",
      "Dictionary: {'one': 0, 'two': 0, 'three': 0, 'four': 0}\n",
      "      List: ['one', 'two', 'three', 'one', 'four']\n"
     ]
    }
   ],
   "source": [
    "s = 'one two three one four'\n",
    "print(f'    String: {s}')\n",
    "\n",
    "# to set\n",
    "b = set(s)\n",
    "print(f'       Set: {b}')\n",
    "\n",
    "# to list\n",
    "a = s.split()\n",
    "print(f'      List: {a}')\n",
    "\n",
    "s = \"{'four', 'two', 'three', 'one'}\"\n",
    "\n",
    "# to set\n",
    "b = eval(s)\n",
    "print(f'       Set: {b}')\n",
    "\n",
    "s = \"('four', 'two', 'three', 'one')\"\n",
    "\n",
    "# to tuple\n",
    "b = eval(s)\n",
    "print(f'     Tuple: {b}')\n",
    "\n",
    "s = \"{'one': 0, 'two': 0, 'three': 0, 'four': 0}\"\n",
    "\n",
    "# to dict\n",
    "b = eval(s)\n",
    "print(f'Dictionary: {b}')\n",
    "\n",
    "s = \"['one', 'two', 'three', 'one', 'four']\"\n",
    "\n",
    "# again to list\n",
    "b = eval(s)\n",
    "print(f'      List: {b}')"
   ]
  },
  {
   "cell_type": "markdown",
   "id": "26604f05",
   "metadata": {},
   "source": [
    "### Dictionary to other types"
   ]
  },
  {
   "cell_type": "code",
   "execution_count": null,
   "id": "9fea099e",
   "metadata": {},
   "outputs": [
    {
     "name": "stdout",
     "output_type": "stream",
     "text": [
      "Dictionary: {1: 'one', 2: 'two', 3: 'three', 4: 'four'}\n",
      "       Set: {1, 2, 3, 4}\n",
      "     Tuple: (1, 2, 3, 4)\n",
      "      List: [1, 2, 3, 4]\n",
      "    String: {1: 'one', 2: 'two', 3: 'three', 4: 'four'}\n"
     ]
    }
   ],
   "source": [
    "dic = {1: 'one', 2: 'two', 3: 'three', 4:'four' }\n",
    "print(f'Dictionary: {dic}')\n",
    "\n",
    "# to set\n",
    "# returns the keys of the dictionary as a set\n",
    "a = set(dic)\n",
    "print(f'       Set: {a}')\n",
    "\n",
    "# to tuple\n",
    "# returns the keys of the dictionary as a tuple\n",
    "b = tuple(dic)\n",
    "print(f'     Tuple: {b}')\n",
    "\n",
    "\n",
    "# to list\n",
    "# returns the keys of the dictionary as a list\n",
    "d = list(dic)  # using set elements as keys with a default value\n",
    "print(f'      List: {d}')\n",
    "\n",
    "\n",
    "# to string\n",
    "# returns the entire dictionary as a string\n",
    "c = str(dic)\n",
    "print(f'    String: {c}')"
   ]
  },
  {
   "cell_type": "markdown",
   "id": "e403c8ff",
   "metadata": {},
   "source": [
    "### <a id='summary'></a>Summary\n",
    "-   Iterable → can be looped over (for x in ...).\n",
    "-   Sequence → an ordered iterable with indexing/slicing (list, tuple, str, range).\n",
    "-   Collection → general container data structures (including sequences, sets, dicts)."
   ]
  }
 ],
 "metadata": {
  "kernelspec": {
   "display_name": "Python 3",
   "language": "python",
   "name": "python3"
  },
  "language_info": {
   "codemirror_mode": {
    "name": "ipython",
    "version": 3
   },
   "file_extension": ".py",
   "mimetype": "text/x-python",
   "name": "python",
   "nbconvert_exporter": "python",
   "pygments_lexer": "ipython3",
   "version": "3.13.2"
  }
 },
 "nbformat": 4,
 "nbformat_minor": 5
}
