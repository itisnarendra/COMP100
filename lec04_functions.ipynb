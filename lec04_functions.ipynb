{
 "cells": [
  {
   "cell_type": "markdown",
   "metadata": {},
   "source": [
    "# Functions\n",
    "\n",
    "---  \n",
    "\n",
    "1. [What are Functions](#func)\n",
    "1. [Defining a Function](#defn)\n",
    "    - Header\n",
    "    - Body\n",
    "    - Arguments\n",
    "    - Return value\n",
    "1. [Calling a function](#calling)\n",
    "1. [More function definitions](#more-defn)\n",
    "    - Function does not take a value and does not return a value\n",
    "    - Function that takes one or more value and does not return a value\n",
    "    - Function that take one or more value and return a value\n",
    "1. [Variable Scope](#scope)\n",
    "1. [Docstring](#docstring)"
   ]
  },
  {
   "cell_type": "markdown",
   "metadata": {},
   "source": [
    "## What is a Function\n",
    "Functions are also called `proc`, `module`, `method` or `sub` in other languages\n",
    "\n",
    "Functions allows you to assign a name to a piece of logic, so whenever you need that logic, you can invoke via its name. This make a programmer more productive because you are able to reuse logic without re-writing it every time you need it.\n",
    "\n",
    "Functions may or may not take inputs (called arguments) and may or may not return a value. \n",
    "\n",
    "There is no rule that stipulates that a function must take arguments or must return a value, it is up to the developer and the particular situation that the function will be use in.\n",
    "\n",
    "Function may declare its own variable or use external/global variable\n",
    "\n",
    "The execution of a function introduces a new symbol table used for the local variables of the function. More precisely, all variable assignments in a function store the value in the local symbol table; whereas variable references first look in the local symbol table, then in the local symbol tables of enclosing functions, then in the global symbol table, and finally in the table of built-in names. Thus, global variables and variables of enclosing functions cannot be directly assigned a value within a function (unless, for global variables, named in a global statement, or, for variables of enclosing functions, named in a nonlocal statement), although they may be referenced. [see https://docs.python.org/3/tutorial/controlflow.html#function-annotations]"
   ]
  },
  {
   "cell_type": "markdown",
   "metadata": {},
   "source": [
    "## <a id=\"defn\"></a>Defining a function\n",
    "There are two parts of a function:  \n",
    "1. The header (the first line)  \n",
    "   There are atleast four parts in the header\n",
    "   - the keyword `def`. This signals that you are starting a function definition. \n",
    "   - the name of the function. You should choose a descriptive one.\n",
    "   - a pair of parenthesis. It is possible to have tokens within these brackets. These represents the input value to the function. \n",
    "     They are assigned to the named variables in the function body.\n",
    "   - a colon `:`. This signals that the header in completed and the body follows.\n",
    "1. The body which is the rest of the definition   \n",
    "   The body must contain atleast one python statement which must be indented one-level.\n",
    "\n",
    "The statements in the body is indented one-level"
   ]
  },
  {
   "cell_type": "code",
   "execution_count": 1,
   "metadata": {},
   "outputs": [],
   "source": [
    "#this function does not do anything\n",
    "def foo():         #the header\n",
    "    pass           #the body"
   ]
  },
  {
   "cell_type": "markdown",
   "metadata": {},
   "source": [
    "## <a id=\"calling\"></a>Calling the function\n",
    "To call or invoke a function, use the name followed by a pair of parenthesis."
   ]
  },
  {
   "cell_type": "code",
   "execution_count": 2,
   "metadata": {},
   "outputs": [],
   "source": [
    "foo()\n"
   ]
  },
  {
   "cell_type": "code",
   "execution_count": 3,
   "metadata": {},
   "outputs": [
    {
     "name": "stdout",
     "output_type": "stream",
     "text": [
      "None\n"
     ]
    }
   ],
   "source": [
    "print(foo())        # all function return a value, in this case the None \n",
    "                    # because the function does not have an explicit return statement"
   ]
  },
  {
   "cell_type": "code",
   "execution_count": 4,
   "metadata": {},
   "outputs": [
    {
     "name": "stdout",
     "output_type": "stream",
     "text": [
      "Hello world\n"
     ]
    }
   ],
   "source": [
    "#Function that does not take any input and does not return a value\n",
    "def foo():\n",
    "    print('Hello world')\n",
    "\n",
    "foo()  # Call the function to execute it"
   ]
  },
  {
   "cell_type": "markdown",
   "metadata": {},
   "source": [
    "### Functions that may or may not take an argument and does not return a value"
   ]
  },
  {
   "cell_type": "code",
   "execution_count": 5,
   "metadata": {},
   "outputs": [
    {
     "name": "stdout",
     "output_type": "stream",
     "text": [
      "Hello Hao\n",
      "Hao Lac\n",
      "Arben Tapia\n"
     ]
    }
   ],
   "source": [
    "#Function that takea a single argument and still does not return a value\n",
    "def foo(name):\n",
    "    print(f'Hello {name}')\n",
    "\n",
    "#to invoke the above method you must supply EXACTLY one argument\n",
    "foo('Hao')\n",
    "# foo()                   #this does not work\n",
    "# foo('arben', 'tapia')   #this does not work\n",
    "\n",
    "\n",
    "#Function that takes two arguments and does not return a value\n",
    "def foo(first, last):\n",
    "    print( f'{first} {last}')\n",
    "\n",
    "#to invoke the above method you must supply EXACTLY two arguments\n",
    "foo('Hao', 'Lac')\n",
    "foo('Arben', 'Tapia')\n",
    "# print(foo())          #this does not work, missing arguments"
   ]
  },
  {
   "cell_type": "markdown",
   "metadata": {},
   "source": [
    "### Functions that may or may not take an argument and return a value\n",
    "The return keyword is used to send a value back to the caller"
   ]
  },
  {
   "cell_type": "code",
   "execution_count": 6,
   "metadata": {},
   "outputs": [
    {
     "name": "stdout",
     "output_type": "stream",
     "text": [
      "Hao Lac\n",
      "arben tapia\n"
     ]
    }
   ],
   "source": [
    "#Function that takes two arguments and return a value\n",
    "def foo(first, last):\n",
    "    return f'{first} {last}'\n",
    "\n",
    "#to invoke the above method you must supply EXACTLY two arguments\n",
    "full = foo('Hao', 'Lac')\n",
    "print(full)\n",
    "print(foo('arben', 'tapia'))\n",
    "# print(foo())          #this does not work, missing arguments"
   ]
  },
  {
   "cell_type": "markdown",
   "metadata": {},
   "source": [
    "### <a id=\"scope\"></a>Variable scope"
   ]
  },
  {
   "cell_type": "code",
   "execution_count": 7,
   "metadata": {},
   "outputs": [
    {
     "name": "stdout",
     "output_type": "stream",
     "text": [
      "2 2 1\n",
      "2 1 1\n"
     ]
    }
   ],
   "source": [
    "a = b = c = 1\t\t\t#global scope\n",
    "def foo():\n",
    "    global a              #will use the global variable a\n",
    "    a, b = 2, 2\t\t\t#b is local\n",
    "    print(f'{a} {b} {c}')\n",
    "    #variable b is destroyed when the function is completed\n",
    "\n",
    "foo() \t\t\t        #Prints 2 2 1\n",
    "print(f'{a} {b} {c}') \t#Prints 2 1 1"
   ]
  },
  {
   "cell_type": "markdown",
   "metadata": {},
   "source": [
    "### Default arguments\n",
    "If the value of one of the arguments to a function is normally unchanged, then you can simplify the calling of the function by setting a default value for that particular argument. This default **MUST** positioned at the right of the list of arguments i.e. Default argument\n",
    "always follow non-default values.\n",
    "\n",
    "The `split()` and `print()` methods have default argument of `' '` and `'\\n'` respectively."
   ]
  },
  {
   "cell_type": "code",
   "execution_count": 8,
   "metadata": {},
   "outputs": [
    {
     "name": "stdout",
     "output_type": "stream",
     "text": [
      "Hi Ilia\n",
      "Hello Hao\n",
      "11.3\n",
      "12.0\n",
      "23.0\n"
     ]
    }
   ],
   "source": [
    "def greet(name, greeting = 'Hi'):\n",
    "    print(f'{greeting} {name}')\n",
    "  \n",
    "greet('Ilia')\t\t                    #second argument is not explicitly given, so use it default value\n",
    "greet('Hao', 'Hello')\t                #do not use the default second argument\n",
    "\n",
    "\n",
    "def calculate_cost(price, tax = 0.13):\n",
    "    return price + (price * tax)\n",
    "  \n",
    "print(calculate_cost(10))               #second argument is not explicitly given, so use it default value\n",
    "print(calculate_cost(10, 0.2))\t        #do not use the default second argument\n",
    "print(calculate_cost(tax=0.15, price=20))\t        # named arguments, order does not matter\n",
    "\n",
    "\n",
    "# def greet(name = 'Narendra', greeting):   # this does not work, default argument must be at the end\n",
    "#     print(f'{greeting} {name}')"
   ]
  },
  {
   "cell_type": "markdown",
   "metadata": {},
   "source": [
    "### Working with variable number of arguments"
   ]
  },
  {
   "cell_type": "code",
   "execution_count": 9,
   "metadata": {},
   "outputs": [
    {
     "name": "stdout",
     "output_type": "stream",
     "text": [
      "first call\n",
      "   var: 1\n",
      "  args: ()\n",
      "d_args: {'x': 3, 'y': 4}\n",
      "\n",
      "second call\n",
      "   var: 1\n",
      "  args: (2, 3, 4, 5)\n",
      "d_args: {'x': 6, 'y': 7, 'z': 8}\n"
     ]
    }
   ],
   "source": [
    "def bar(var, *args, **d_args):\n",
    "    print(f'   var: {var}')\n",
    "    print(f'  args: {args}')\n",
    "    print(f'd_args: {d_args}')\n",
    "print('first call')\n",
    "bar(1, x=3, y=4)\n",
    "\n",
    "print('\\nsecond call')\n",
    "bar(1, 2, 3, 4, 5, x = 6, y = 7, z = 8)"
   ]
  },
  {
   "cell_type": "markdown",
   "metadata": {},
   "source": [
    "### Using typing annotation in functions"
   ]
  },
  {
   "cell_type": "code",
   "execution_count": 10,
   "metadata": {},
   "outputs": [
    {
     "name": "stdout",
     "output_type": "stream",
     "text": [
      "A triangle of base 5 and height 3 will have an area of 7.5\n"
     ]
    }
   ],
   "source": [
    "def area_of_triangle(base: int, height: int) -> float:\n",
    "    return base * height * 0.5\n",
    "\n",
    "b, h = 5, 3\n",
    "a = area_of_triangle(b, h)\n",
    "print(f'A triangle of base {b} and height {h} will have an area of {a:.1f}')"
   ]
  },
  {
   "cell_type": "markdown",
   "metadata": {},
   "source": [
    "### Closure (Advance)"
   ]
  },
  {
   "cell_type": "code",
   "execution_count": 11,
   "metadata": {},
   "outputs": [],
   "source": [
    "def power(x):\n",
    "    def foo(y):\n",
    "        return y ** x\n",
    "    \n",
    "    return foo"
   ]
  },
  {
   "cell_type": "code",
   "execution_count": 12,
   "metadata": {},
   "outputs": [
    {
     "name": "stdout",
     "output_type": "stream",
     "text": [
      "25\n",
      "64\n"
     ]
    }
   ],
   "source": [
    "power_to_2 = power(2)\n",
    "power_to_3 = power(3)\n",
    "\n",
    "print(power_to_2(5))\n",
    "print(power_to_3(4))"
   ]
  },
  {
   "cell_type": "markdown",
   "metadata": {},
   "source": [
    "#### Parameter\n",
    "A parameter is named entity in a function (or method) definition that specifies an argument (or in some cases, arguments) that the function can accept. There are five kinds of parameter:\n",
    "1. Position-or-Keyword Parameters\n",
    "1. Position-Only Parameters\n",
    "1. Keyword-Only Parameters\n",
    "1. Var-Positional (*args)\n",
    "1. Var-Keyword (**kwargs)"
   ]
  },
  {
   "cell_type": "code",
   "execution_count": 13,
   "metadata": {},
   "outputs": [
    {
     "data": {
      "text/plain": [
       "'Hello Alice, you are 25 years old'"
      ]
     },
     "execution_count": 13,
     "metadata": {},
     "output_type": "execute_result"
    }
   ],
   "source": [
    "# 1. Position-or-Keyword Parameters\n",
    "# These can be passed either positionally or as keyword arguments:\n",
    "def greet(name, age):\n",
    "    return f'Hello {name}, you are {age} years old'\n",
    "\n",
    "# Both ways work:\n",
    "greet('Alice', 25)           # positional\n",
    "greet(name='Alice', age=25)  # keyword\n",
    "greet('Alice', age=25)       # mixed"
   ]
  },
  {
   "cell_type": "code",
   "execution_count": 14,
   "metadata": {},
   "outputs": [
    {
     "data": {
      "text/plain": [
       "5.0"
      ]
     },
     "execution_count": 14,
     "metadata": {},
     "output_type": "execute_result"
    }
   ],
   "source": [
    "# 2. Position-Only Parameters\n",
    "# Use / to mark parameters that can only be passed positionally:\n",
    "def divide(numerator, denominator, /):\n",
    "    return numerator / denominator\n",
    "\n",
    "# This works:\n",
    "divide(10, 2)\n",
    "\n",
    "# This would raise an error:\n",
    "# divide(numerator=10, denominator=2)  # TypeError!"
   ]
  },
  {
   "cell_type": "code",
   "execution_count": 15,
   "metadata": {},
   "outputs": [
    {
     "data": {
      "text/plain": [
       "'User: Bob, Email: bob@example.com, Admin: True'"
      ]
     },
     "execution_count": 15,
     "metadata": {},
     "output_type": "execute_result"
    }
   ],
   "source": [
    "# 3. Keyword-Only Parameters\n",
    "# Use * to mark parameters that can only be passed as keywords:\n",
    "def create_user(name, *, email, admin=False):\n",
    "    return f'User: {name}, Email: {email}, Admin: {admin}'\n",
    "\n",
    "# This works:\n",
    "create_user('Bob', email='bob@example.com')\n",
    "create_user('Bob', email='bob@example.com', admin=True)\n",
    "\n",
    "# This would raise an error:\n",
    "# create_user(\"Bob\", \"bob@example.com\")  # TypeError!"
   ]
  },
  {
   "cell_type": "code",
   "execution_count": 16,
   "metadata": {},
   "outputs": [
    {
     "name": "stdout",
     "output_type": "stream",
     "text": [
      "15\n",
      "0\n"
     ]
    }
   ],
   "source": [
    "# 4. Var-Positional (*args)\n",
    "# Collects extra positional arguments into a tuple:\n",
    "def sum_numbers(*numbers):\n",
    "    return sum(numbers)\n",
    "\n",
    "print(sum_numbers(1, 2, 3, 4, 5))  # Returns 15\n",
    "print(sum_numbers())               # Returns 0"
   ]
  },
  {
   "cell_type": "code",
   "execution_count": 17,
   "metadata": {},
   "outputs": [
    {
     "name": "stdout",
     "output_type": "stream",
     "text": [
      "name: Charlie\n",
      "age: 30\n",
      "city: New York\n"
     ]
    }
   ],
   "source": [
    "# 5. Var-Keyword (**kwargs)\n",
    "# Collects extra keyword arguments into a dictionary:\n",
    "def print_info(**info):\n",
    "    for key, value in info.items():\n",
    "        print(f\"{key}: {value}\")\n",
    "\n",
    "print_info(name='Charlie', age=30, city='New York')\n",
    "# Output:\n",
    "# name: Charlie\n",
    "# age: 30\n",
    "# city: New York"
   ]
  },
  {
   "cell_type": "code",
   "execution_count": 18,
   "metadata": {},
   "outputs": [
    {
     "name": "stdout",
     "output_type": "stream",
     "text": [
      "Position-only: 1\n",
      "Position-or-keyword: 2\n",
      "Extra positional args: (3, 4)\n",
      "Keyword-only: required\n",
      "Extra keyword args: {'extra': 'optional'}\n"
     ]
    }
   ],
   "source": [
    "# Complete Example\n",
    "# Here's a function using all parameter types:\n",
    "def complex_function(pos_only, /, pos_or_kw, *args, kw_only, **kwargs):\n",
    "    print(f\"Position-only: {pos_only}\")\n",
    "    print(f\"Position-or-keyword: {pos_or_kw}\")\n",
    "    print(f\"Extra positional args: {args}\")\n",
    "    print(f\"Keyword-only: {kw_only}\")\n",
    "    print(f\"Extra keyword args: {kwargs}\")\n",
    "\n",
    "# Usage:\n",
    "complex_function(1, 2, 3, 4, kw_only='required', extra='optional')"
   ]
  },
  {
   "cell_type": "markdown",
   "metadata": {},
   "source": [
    "#### Recursive Function\n",
    "Recursive functions are function that calls itself"
   ]
  },
  {
   "cell_type": "code",
   "execution_count": 19,
   "metadata": {},
   "outputs": [
    {
     "name": "stdout",
     "output_type": "stream",
     "text": [
      "120\n",
      "1\n",
      "olleh\n",
      "dlrow\n"
     ]
    }
   ],
   "source": [
    "def factorial(n: int) -> int:\n",
    "    \"\"\"Calculate the factorial of a number.\"\"\"\n",
    "    if n < 0:\n",
    "        raise ValueError(\"Factorial is not defined for negative numbers.\")\n",
    "    if n == 0 or n == 1:\n",
    "        return 1\n",
    "    return n * factorial(n - 1)\n",
    "\n",
    "print(factorial(5))  # Output: 120\n",
    "print(factorial(0))  # Output: 1\n",
    "\n",
    "def reverse_string(start: str, end='') -> str:\n",
    "    \"\"\"Reverse a given string.\"\"\"\n",
    "    if len(start) == 0:\n",
    "        return end\n",
    "    return reverse_string(start[:-1], end + start[-1])\n",
    "\n",
    "print(reverse_string('hello'))  # Output: 'olleh'\n",
    "print(reverse_string('world'))  # Output: 'dlrow'"
   ]
  }
 ],
 "metadata": {
  "kernelspec": {
   "display_name": "Python 3",
   "language": "python",
   "name": "python3"
  },
  "language_info": {
   "codemirror_mode": {
    "name": "ipython",
    "version": 3
   },
   "file_extension": ".py",
   "mimetype": "text/x-python",
   "name": "python",
   "nbconvert_exporter": "python",
   "pygments_lexer": "ipython3",
   "version": "3.13.2"
  }
 },
 "nbformat": 4,
 "nbformat_minor": 2
}
